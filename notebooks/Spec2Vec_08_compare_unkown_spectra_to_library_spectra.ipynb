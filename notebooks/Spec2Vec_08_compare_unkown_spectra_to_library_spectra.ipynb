{
 "cells": [
  {
   "cell_type": "markdown",
   "metadata": {},
   "source": [
    "# Spec2Vec - Find similar compounds for unknown substances\n",
    "One very important use case for a spectral similariy measure is libarary matching.  \n",
    "This means matching previously unseen/unknown spectra to known, annotated sepctra in a larger library."
   ]
  },
  {
   "cell_type": "code",
   "execution_count": 1,
   "metadata": {},
   "outputs": [],
   "source": [
    "import numpy as np\n",
    "from matplotlib import pyplot as plt\n",
    "import matplotlib\n",
    "import os\n",
    "import sys\n",
    "sys.path.insert(0, os.path.dirname(os.getcwd()))\n",
    "\n",
    "# Locations (import paths from config.py)\n",
    "from config import ROOT, PATH_SPEC2VEC, PATH_MS_DATA, PATH_SAVE_MODEL, PATH_COMPUTED, PATH_OUTPUT\n",
    "\n",
    "sys.path.insert(0, PATH_SPEC2VEC)\n",
    "\n",
    "import helper_functions as functions\n",
    "import MS_functions\n",
    "import MS_similarity_classical as MS_sim_classic"
   ]
  },
  {
   "cell_type": "code",
   "execution_count": 2,
   "metadata": {},
   "outputs": [],
   "source": [
    "from similarity_measure import SimilarityMeasures\n",
    "from plotting_functions import plot_precentile\n",
    "\n",
    "from scipy import spatial"
   ]
  },
  {
   "cell_type": "markdown",
   "metadata": {},
   "source": [
    "### Load filtered allGNPS_positive dataset OR:  Import& filter allGNPS_positive dataset"
   ]
  },
  {
   "cell_type": "code",
   "execution_count": 3,
   "metadata": {},
   "outputs": [
    {
     "name": "stdout",
     "output_type": "stream",
     "text": [
      "Spectra json file found and loaded.\n"
     ]
    }
   ],
   "source": [
    "file_json = PATH_MS_DATA + \"allGNPS_positive_minmax_10_1000_2dec_exp08_191115.json\"\n",
    "file_mgf = ROOT + \"\\\\Data\\\\GNPS_all\\\\\" + \"allGNPS_positive_191106.mgf\"\n",
    "\n",
    "spectra, spectra_dict, MS_documents, MS_documents_intensity, spectra_metadata = MS_functions.load_MGF_data(file_mgf = file_mgf,\n",
    "                                                           file_json = file_json,\n",
    "                                                           num_decimals = 2,\n",
    "                                                           min_frag = 0.0, max_frag = 1000.0,\n",
    "                                                           min_loss = 5.0, max_loss = 500.0,\n",
    "                                                           min_intensity_perc = 0,\n",
    "                                                           exp_intensity_filter = 0.8,\n",
    "                                                           min_keep_peaks_0 = 10,\n",
    "                                                           min_keep_peaks_per_mz = 20/200,\n",
    "                                                           min_peaks = 10,\n",
    "                                                           max_peaks = 1000,\n",
    "                                                           peak_loss_words = ['peak_', 'loss_'])"
   ]
  },
  {
   "cell_type": "markdown",
   "metadata": {},
   "source": [
    "### Inspect spectra metadata"
   ]
  },
  {
   "cell_type": "code",
   "execution_count": 4,
   "metadata": {},
   "outputs": [
    {
     "data": {
      "text/html": [
       "<div>\n",
       "<style scoped>\n",
       "    .dataframe tbody tr th:only-of-type {\n",
       "        vertical-align: middle;\n",
       "    }\n",
       "\n",
       "    .dataframe tbody tr th {\n",
       "        vertical-align: top;\n",
       "    }\n",
       "\n",
       "    .dataframe thead th {\n",
       "        text-align: right;\n",
       "    }\n",
       "</style>\n",
       "<table border=\"1\" class=\"dataframe\">\n",
       "  <thead>\n",
       "    <tr style=\"text-align: right;\">\n",
       "      <th></th>\n",
       "      <th>doc_ID</th>\n",
       "      <th>gnps_ID</th>\n",
       "      <th>name</th>\n",
       "      <th>title</th>\n",
       "      <th>precursor_mz</th>\n",
       "      <th>num_peaks_losses</th>\n",
       "      <th>inchi</th>\n",
       "      <th>inchikey</th>\n",
       "      <th>smiles</th>\n",
       "      <th>charge</th>\n",
       "    </tr>\n",
       "  </thead>\n",
       "  <tbody>\n",
       "    <tr>\n",
       "      <th>0</th>\n",
       "      <td>0</td>\n",
       "      <td>CCMSLIB00005435503</td>\n",
       "      <td>chenodeoxycholic acid M-H2O+H</td>\n",
       "      <td>NaN</td>\n",
       "      <td>375.290</td>\n",
       "      <td>93</td>\n",
       "      <td>\"InChI=1S/C24H40O4/c1-14(4-7-21(27)28)17-5-6-1...</td>\n",
       "      <td>RUDATBOHQWOJDD-GYHJSIKNSA-N</td>\n",
       "      <td>C[C@H](CCC(=O)O)[C@H]1CC[C@@H]2[C@@]1(CC[C@H]3...</td>\n",
       "      <td>1</td>\n",
       "    </tr>\n",
       "    <tr>\n",
       "      <th>1</th>\n",
       "      <td>1</td>\n",
       "      <td>CCMSLIB00005435504</td>\n",
       "      <td>chenodeoxycholic acid 2M+H</td>\n",
       "      <td>NaN</td>\n",
       "      <td>785.593</td>\n",
       "      <td>101</td>\n",
       "      <td>\"InChI=1S/C24H40O4/c1-14(4-7-21(27)28)17-5-6-1...</td>\n",
       "      <td>RUDATBOHQWOJDD-PODLAYBOSA-N</td>\n",
       "      <td>C[C@H](CCC(=O)O)[C@H]1CC[C@@H]2[C@@]1(CC[C@H]3...</td>\n",
       "      <td>1</td>\n",
       "    </tr>\n",
       "    <tr>\n",
       "      <th>2</th>\n",
       "      <td>2</td>\n",
       "      <td>CCMSLIB00005435505</td>\n",
       "      <td>chenodeoxycholic acid 2M+Na</td>\n",
       "      <td>NaN</td>\n",
       "      <td>807.575</td>\n",
       "      <td>21</td>\n",
       "      <td>\"InChI=1S/C24H40O4/c1-14(4-7-21(27)28)17-5-6-1...</td>\n",
       "      <td>RUDATBOHQWOJDD-PODLAYBOSA-N</td>\n",
       "      <td>C[C@H](CCC(=O)O)[C@H]1CC[C@@H]2[C@@]1(CC[C@H]3...</td>\n",
       "      <td>1</td>\n",
       "    </tr>\n",
       "    <tr>\n",
       "      <th>3</th>\n",
       "      <td>3</td>\n",
       "      <td>CCMSLIB00005435506</td>\n",
       "      <td>cholic acid M+Na</td>\n",
       "      <td>NaN</td>\n",
       "      <td>431.277</td>\n",
       "      <td>35</td>\n",
       "      <td>\"InChI=1S/C24H40O5/c1-13(4-7-21(28)29)16-5-6-1...</td>\n",
       "      <td>BHQCQFFYRZLCQQ-IHELEQLESA-N</td>\n",
       "      <td>C[C@H](CCC(=O)O)[C@H]1CC[C@@H]2[C@@]1([C@H](C[...</td>\n",
       "      <td>1</td>\n",
       "    </tr>\n",
       "    <tr>\n",
       "      <th>4</th>\n",
       "      <td>4</td>\n",
       "      <td>CCMSLIB00005435507</td>\n",
       "      <td>deoxycholic acid M-H2O+H</td>\n",
       "      <td>NaN</td>\n",
       "      <td>375.289</td>\n",
       "      <td>157</td>\n",
       "      <td>\"InChI=1S/C24H40O4/c1-14(4-9-22(27)28)18-7-8-1...</td>\n",
       "      <td>KXGVEGMKQFWNSR-BKAWJTANSA-N</td>\n",
       "      <td>C[C@H](CCC(=O)O)[C@H]1CC[C@@H]2[C@@]1([C@H](C[...</td>\n",
       "      <td>1</td>\n",
       "    </tr>\n",
       "  </tbody>\n",
       "</table>\n",
       "</div>"
      ],
      "text/plain": [
       "   doc_ID             gnps_ID                           name title  \\\n",
       "0       0  CCMSLIB00005435503  chenodeoxycholic acid M-H2O+H   NaN   \n",
       "1       1  CCMSLIB00005435504     chenodeoxycholic acid 2M+H   NaN   \n",
       "2       2  CCMSLIB00005435505    chenodeoxycholic acid 2M+Na   NaN   \n",
       "3       3  CCMSLIB00005435506               cholic acid M+Na   NaN   \n",
       "4       4  CCMSLIB00005435507       deoxycholic acid M-H2O+H   NaN   \n",
       "\n",
       "   precursor_mz  num_peaks_losses  \\\n",
       "0       375.290                93   \n",
       "1       785.593               101   \n",
       "2       807.575                21   \n",
       "3       431.277                35   \n",
       "4       375.289               157   \n",
       "\n",
       "                                               inchi  \\\n",
       "0  \"InChI=1S/C24H40O4/c1-14(4-7-21(27)28)17-5-6-1...   \n",
       "1  \"InChI=1S/C24H40O4/c1-14(4-7-21(27)28)17-5-6-1...   \n",
       "2  \"InChI=1S/C24H40O4/c1-14(4-7-21(27)28)17-5-6-1...   \n",
       "3  \"InChI=1S/C24H40O5/c1-13(4-7-21(28)29)16-5-6-1...   \n",
       "4  \"InChI=1S/C24H40O4/c1-14(4-9-22(27)28)18-7-8-1...   \n",
       "\n",
       "                      inchikey  \\\n",
       "0  RUDATBOHQWOJDD-GYHJSIKNSA-N   \n",
       "1  RUDATBOHQWOJDD-PODLAYBOSA-N   \n",
       "2  RUDATBOHQWOJDD-PODLAYBOSA-N   \n",
       "3  BHQCQFFYRZLCQQ-IHELEQLESA-N   \n",
       "4  KXGVEGMKQFWNSR-BKAWJTANSA-N   \n",
       "\n",
       "                                              smiles  charge  \n",
       "0  C[C@H](CCC(=O)O)[C@H]1CC[C@@H]2[C@@]1(CC[C@H]3...       1  \n",
       "1  C[C@H](CCC(=O)O)[C@H]1CC[C@@H]2[C@@]1(CC[C@H]3...       1  \n",
       "2  C[C@H](CCC(=O)O)[C@H]1CC[C@@H]2[C@@]1(CC[C@H]3...       1  \n",
       "3  C[C@H](CCC(=O)O)[C@H]1CC[C@@H]2[C@@]1([C@H](C[...       1  \n",
       "4  C[C@H](CCC(=O)O)[C@H]1CC[C@@H]2[C@@]1([C@H](C[...       1  "
      ]
     },
     "execution_count": 4,
     "metadata": {},
     "output_type": "execute_result"
    }
   ],
   "source": [
    "spectra_metadata.head()"
   ]
  },
  {
   "cell_type": "markdown",
   "metadata": {},
   "source": [
    "### Count inchikey occurences"
   ]
  },
  {
   "cell_type": "code",
   "execution_count": 5,
   "metadata": {},
   "outputs": [
    {
     "data": {
      "text/plain": [
       "(50195,)"
      ]
     },
     "execution_count": 5,
     "metadata": {},
     "output_type": "execute_result"
    }
   ],
   "source": [
    "inchikeys_pd = spectra_metadata['inchikey'][spectra_metadata['inchikey'].notnull()]\n",
    "inchikeys_pd.shape"
   ]
  },
  {
   "cell_type": "code",
   "execution_count": 6,
   "metadata": {},
   "outputs": [
    {
     "data": {
      "text/plain": [
       "90216    CCQDWIRWKWIUKK\n",
       "90217    RPVIQWDFJPYNJM\n",
       "90218    BXEZTCOKOLHMKY\n",
       "90219    BXEZTCOKOLHMKY\n",
       "90220    PVXPPJIGRGXGCY\n",
       "90221    ATEFPOUAMCWAQS\n",
       "90222    ILEDWLMCKZNDJK\n",
       "90223    ILEDWLMCKZNDJK\n",
       "90224    NCJNNMWJQIKYLO\n",
       "90225    LNCLTICCQWMCNS\n",
       "Name: inchikey, dtype: object"
      ]
     },
     "execution_count": 6,
     "metadata": {},
     "output_type": "execute_result"
    }
   ],
   "source": [
    "inchikeys_pd.str[:14][-10:]"
   ]
  },
  {
   "cell_type": "markdown",
   "metadata": {},
   "source": [
    "### Get unique inchikeys (first 14 letters)"
   ]
  },
  {
   "cell_type": "code",
   "execution_count": 7,
   "metadata": {},
   "outputs": [
    {
     "data": {
      "text/plain": [
       "(11011,)"
      ]
     },
     "execution_count": 7,
     "metadata": {},
     "output_type": "execute_result"
    }
   ],
   "source": [
    "unique_inchikeys = inchikeys_pd.str[:14].unique()\n",
    "unique_inchikeys.shape"
   ]
  },
  {
   "cell_type": "code",
   "execution_count": 8,
   "metadata": {},
   "outputs": [
    {
     "data": {
      "text/plain": [
       "0    RUDATBOHQWOJDD\n",
       "1    RUDATBOHQWOJDD\n",
       "2    RUDATBOHQWOJDD\n",
       "3    BHQCQFFYRZLCQQ\n",
       "4    KXGVEGMKQFWNSR\n",
       "Name: inchikey, dtype: object"
      ]
     },
     "execution_count": 8,
     "metadata": {},
     "output_type": "execute_result"
    }
   ],
   "source": [
    "inchikeys_pd.str[:14].head()"
   ]
  },
  {
   "cell_type": "markdown",
   "metadata": {},
   "source": [
    "### Randomly select 500 different inchikeys"
   ]
  },
  {
   "cell_type": "code",
   "execution_count": 9,
   "metadata": {},
   "outputs": [
    {
     "data": {
      "text/plain": [
       "array(['BQYJATMQXGBDHF', 'LOVMOOUQHWMIHZ', 'VAFNMNRKDDAKRM',\n",
       "       'VQQVWGVXDIPORV', 'LUJVUUWNAPIQQI', 'HJBUYKZTEBZNSH',\n",
       "       'ZSJOCPIPUNPVFO', 'YXTROGRGRSPWKL', 'UOUFYEQUUCSLPP',\n",
       "       'XOXHILFPRYWFOD', 'QFWCWMZSCXWBAK', 'QKEXQELISPDIMT',\n",
       "       'OTXNTMVVOOBZCV', 'CUKXSBOAIJILRY', 'RSGRSUVVCYUKLM',\n",
       "       'GSDSWSVVBLHKDQ', 'SITDJJDXDVFCAP', 'ZWJINEZUASEZBH',\n",
       "       'RAGFPHFDFVNLCG', 'LETBAZLAGJPEIM', 'PJSKCCANFAFYHW',\n",
       "       'VARCUXZWTHLZBR', 'TYNBQERPUSLOCV', 'VUFDXOACUHDTLI',\n",
       "       'JDVVGAQPNNXQDW'], dtype=object)"
      ]
     },
     "execution_count": 9,
     "metadata": {},
     "output_type": "execute_result"
    }
   ],
   "source": [
    "num_spectra = 200\n",
    "\n",
    "np.random.seed(42) # to make it reproducible\n",
    "selected_inchikeys = np.random.choice(unique_inchikeys, num_spectra, replace=False)\n",
    "selected_inchikeys[:25]"
   ]
  },
  {
   "cell_type": "markdown",
   "metadata": {},
   "source": [
    "### Pick ALL spectra for each of the chosen inchikeys"
   ]
  },
  {
   "cell_type": "code",
   "execution_count": 14,
   "metadata": {},
   "outputs": [],
   "source": [
    "selected_spectra = []\n",
    "\n",
    "for inchikey in selected_inchikeys:\n",
    "    matches = inchikeys_pd[inchikeys_pd.str[:14] == inchikey].index.values\n",
    "    selected_spectra.extend(matches)"
   ]
  },
  {
   "cell_type": "code",
   "execution_count": 11,
   "metadata": {},
   "outputs": [
    {
     "name": "stdout",
     "output_type": "stream",
     "text": [
      "994 spectra were found with inchikeys from selected_inchikeys list.\n"
     ]
    }
   ],
   "source": [
    "print(len(selected_spectra), \"spectra were found with inchikeys from selected_inchikeys list.\")"
   ]
  },
  {
   "cell_type": "code",
   "execution_count": 12,
   "metadata": {
    "scrolled": true
   },
   "outputs": [
    {
     "data": {
      "text/html": [
       "<div>\n",
       "<style scoped>\n",
       "    .dataframe tbody tr th:only-of-type {\n",
       "        vertical-align: middle;\n",
       "    }\n",
       "\n",
       "    .dataframe tbody tr th {\n",
       "        vertical-align: top;\n",
       "    }\n",
       "\n",
       "    .dataframe thead th {\n",
       "        text-align: right;\n",
       "    }\n",
       "</style>\n",
       "<table border=\"1\" class=\"dataframe\">\n",
       "  <thead>\n",
       "    <tr style=\"text-align: right;\">\n",
       "      <th></th>\n",
       "      <th>gnps_ID</th>\n",
       "      <th>inchikey</th>\n",
       "    </tr>\n",
       "  </thead>\n",
       "  <tbody>\n",
       "    <tr>\n",
       "      <th>403</th>\n",
       "      <td>CCMSLIB00000579905</td>\n",
       "      <td>BQYJATMQXGBDHF-UHFFFAOYSA-N</td>\n",
       "    </tr>\n",
       "    <tr>\n",
       "      <th>1095</th>\n",
       "      <td>CCMSLIB00001058615</td>\n",
       "      <td>BQYJATMQXGBDHF-UHFFFAOYSA-N</td>\n",
       "    </tr>\n",
       "    <tr>\n",
       "      <th>1349</th>\n",
       "      <td>CCMSLIB00001058900</td>\n",
       "      <td>BQYJATMQXGBDHF-UHFFFAOYSA-N</td>\n",
       "    </tr>\n",
       "    <tr>\n",
       "      <th>1484</th>\n",
       "      <td>CCMSLIB00001059051</td>\n",
       "      <td>BQYJATMQXGBDHF-UHFFFAOYSA-N</td>\n",
       "    </tr>\n",
       "    <tr>\n",
       "      <th>26777</th>\n",
       "      <td>CCMSLIB00000212313</td>\n",
       "      <td>BQYJATMQXGBDHF-UHFFFAOYSA-N</td>\n",
       "    </tr>\n",
       "    <tr>\n",
       "      <th>26778</th>\n",
       "      <td>CCMSLIB00000212317</td>\n",
       "      <td>BQYJATMQXGBDHF-UHFFFAOYSA-N</td>\n",
       "    </tr>\n",
       "    <tr>\n",
       "      <th>26779</th>\n",
       "      <td>CCMSLIB00000212319</td>\n",
       "      <td>BQYJATMQXGBDHF-UHFFFAOYSA-N</td>\n",
       "    </tr>\n",
       "    <tr>\n",
       "      <th>26780</th>\n",
       "      <td>CCMSLIB00000212321</td>\n",
       "      <td>BQYJATMQXGBDHF-UHFFFAOYSA-N</td>\n",
       "    </tr>\n",
       "    <tr>\n",
       "      <th>26781</th>\n",
       "      <td>CCMSLIB00000212323</td>\n",
       "      <td>BQYJATMQXGBDHF-UHFFFAOYSA-N</td>\n",
       "    </tr>\n",
       "    <tr>\n",
       "      <th>26782</th>\n",
       "      <td>CCMSLIB00000212325</td>\n",
       "      <td>BQYJATMQXGBDHF-UHFFFAOYSA-N</td>\n",
       "    </tr>\n",
       "  </tbody>\n",
       "</table>\n",
       "</div>"
      ],
      "text/plain": [
       "                  gnps_ID                     inchikey\n",
       "403    CCMSLIB00000579905  BQYJATMQXGBDHF-UHFFFAOYSA-N\n",
       "1095   CCMSLIB00001058615  BQYJATMQXGBDHF-UHFFFAOYSA-N\n",
       "1349   CCMSLIB00001058900  BQYJATMQXGBDHF-UHFFFAOYSA-N\n",
       "1484   CCMSLIB00001059051  BQYJATMQXGBDHF-UHFFFAOYSA-N\n",
       "26777  CCMSLIB00000212313  BQYJATMQXGBDHF-UHFFFAOYSA-N\n",
       "26778  CCMSLIB00000212317  BQYJATMQXGBDHF-UHFFFAOYSA-N\n",
       "26779  CCMSLIB00000212319  BQYJATMQXGBDHF-UHFFFAOYSA-N\n",
       "26780  CCMSLIB00000212321  BQYJATMQXGBDHF-UHFFFAOYSA-N\n",
       "26781  CCMSLIB00000212323  BQYJATMQXGBDHF-UHFFFAOYSA-N\n",
       "26782  CCMSLIB00000212325  BQYJATMQXGBDHF-UHFFFAOYSA-N"
      ]
     },
     "execution_count": 12,
     "metadata": {},
     "output_type": "execute_result"
    }
   ],
   "source": [
    "# Show gnps IDs for selected spectra\n",
    "spectra_metadata[[\"gnps_ID\", \"inchikey\"]].loc[selected_spectra][:10]"
   ]
  },
  {
   "cell_type": "markdown",
   "metadata": {},
   "source": [
    "### Show number of occurences of all selected inchikeys"
   ]
  },
  {
   "cell_type": "code",
   "execution_count": 15,
   "metadata": {},
   "outputs": [
    {
     "data": {
      "text/plain": [
       "Text(0, 0.5, 'Number of inchikeys with respective number of occurences')"
      ]
     },
     "execution_count": 15,
     "metadata": {},
     "output_type": "execute_result"
    },
    {
     "data": {
      "image/png": "[encoded data removed]",
      "text/plain": [
       "<Figure size 864x432 with 1 Axes>"
      ]
     },
     "metadata": {
      "needs_background": "light"
     },
     "output_type": "display_data"
    }
   ],
   "source": [
    "from matplotlib import pyplot as plt\n",
    "plt.figure(figsize=(12,6))\n",
    "plt.hist(inchikeys_pd.str[:14][selected_spectra].value_counts(), 45)\n",
    "plt.xlabel('Number of occurences of inchikey')\n",
    "plt.ylabel('Number of inchikeys with respective number of occurences')"
   ]
  },
  {
   "cell_type": "markdown",
   "metadata": {},
   "source": [
    "## Train new Spec2Vec model on dataset without the selected spectra\n",
    "The aim here is to test how much Spec2Vec can potentially reveal about entirely unknown compounds. This means all spectra with identical inchikeys were removed, and the Spec2Vec model does not see them during training."
   ]
  },
  {
   "cell_type": "code",
   "execution_count": 36,
   "metadata": {},
   "outputs": [
    {
     "name": "stdout",
     "output_type": "stream",
     "text": [
      "Modified corpus consists of 89232 documents.\n",
      "\n",
      "\n",
      "Preprocess documents...\n",
      "Number of unique words:  145568\n",
      "\n",
      "\n",
      "No saved word2vec model found with given filename!\n",
      "Calculating new word2vec model...\n",
      " Epoch 1 of 15.Change in loss after epoch 1: 6965052.0\n",
      " Epoch 2 of 15.Change in loss after epoch 2: 4970318.0\n",
      " Epoch 3 of 15.Change in loss after epoch 3: 4495444.0\n",
      " Epoch 4 of 15.Change in loss after epoch 4: 3737214.0\n",
      " Epoch 5 of 15.Change in loss after epoch 5: 3556258.0\n",
      " Epoch 6 of 15.Change in loss after epoch 6: 3440130.0\n",
      " Epoch 7 of 15.Change in loss after epoch 7: 3270988.0\n",
      " Epoch 8 of 15.Change in loss after epoch 8: 3154664.0\n",
      " Epoch 9 of 15.Change in loss after epoch 9: 1914572.0\n",
      " Epoch 10 of 15.Change in loss after epoch 10: 1871908.0\n",
      "Saving model with name: C:\\OneDrive - Netherlands eScience Center\\Project_Wageningen_iOMEGA\\Spec2Vec\\models_trained\\S2V_allGNPS_pos_unknownmatching_d300_w500_neg5_minmax10_1000_dec2_exp08_iter_10.model\n",
      " Epoch 11 of 15.Change in loss after epoch 11: 1832752.0\n",
      " Epoch 12 of 15.Change in loss after epoch 12: 1796928.0\n",
      " Epoch 13 of 15.Change in loss after epoch 13: 1785484.0\n",
      " Epoch 14 of 15.Change in loss after epoch 14: 1759572.0\n",
      " Epoch 15 of 15.Change in loss after epoch 15: 1695748.0\n",
      "Saving model with name: C:\\OneDrive - Netherlands eScience Center\\Project_Wageningen_iOMEGA\\Spec2Vec\\models_trained\\S2V_allGNPS_pos_unknownmatching_d300_w500_neg5_minmax10_1000_dec2_exp08_iter_15.model\n",
      "\n",
      "\n",
      "Learning rate droped from 0.025 to 0.021250703223058994\n"
     ]
    }
   ],
   "source": [
    "# Remove selected spectra from corpus\n",
    "MS_docs_removedpart = [MS_documents[x] for x in range(len(MS_documents)) if x not in selected_spectra]\n",
    "MS_docs_intensity_removedpart = [MS_documents_intensity[x] for x in range(len(MS_documents)) if x not in selected_spectra]   \n",
    "print(\"Modified corpus consists of\", len(MS_docs_removedpart), \"documents.\")\n",
    "\n",
    "MS_library = SimilarityMeasures(MS_docs_removedpart, MS_docs_intensity_removedpart)\n",
    "MS_library.preprocess_documents(1, min_frequency = 2, create_stopwords = False)\n",
    "print(\"Number of unique words: \", len(MS_library.dictionary))\n",
    "\n",
    "# Train new model based on reduced corpus\n",
    "file_model_word2vec = PATH_SAVE_MODEL + 'S2V_allGNPS_pos_unknownmatching_d300_w500_neg5_minmax10_1000_dec2_exp08.model'\n",
    "MS_library.build_model_word2vec(file_model_word2vec, sg=0, negative=5, size=300, window=500, \n",
    "                             min_count=1, workers=4, iterations= [10,5], \n",
    "                             use_stored_model=True)\n",
    "print(\"Learning rate droped from\", MS_measure.model_word2vec.alpha, \"to\", MS_measure.model_word2vec.min_alpha_yet_reached)"
   ]
  },
  {
   "cell_type": "code",
   "execution_count": 14,
   "metadata": {},
   "outputs": [
    {
     "name": "stdout",
     "output_type": "stream",
     "text": [
      "Modified corpus consists of 89232 documents.\n",
      "Preprocess documents...\n",
      "Number of unique words:  145568\n",
      "Load stored word2vec model ...\n"
     ]
    }
   ],
   "source": [
    "# or load pretrained\n",
    "MS_docs_removedpart = [MS_documents[x] for x in range(len(MS_documents)) if x not in selected_spectra]\n",
    "MS_docs_intensity_removedpart = [MS_documents_intensity[x] for x in range(len(MS_documents)) if x not in selected_spectra]   \n",
    "print(\"Modified corpus consists of\", len(MS_docs_removedpart), \"documents.\")\n",
    "\n",
    "MS_library = SimilarityMeasures(MS_docs_removedpart, MS_docs_intensity_removedpart)\n",
    "MS_library.preprocess_documents(1, min_frequency = 2, create_stopwords = False)\n",
    "print(\"Number of unique words: \", len(MS_library.dictionary))\n",
    "\n",
    "# Train new model based on reduced corpus\n",
    "file_model_word2vec = PATH_SAVE_MODEL + 'S2V_allGNPS_pos_unknownmatching_d300_w500_neg5_minmax10_1000_dec2_exp08_iter_15.model'\n",
    "MS_library.build_model_word2vec(file_model_word2vec, sg=0, negative=5, size=300, window=500, \n",
    "                             min_count=1, workers=4, iterations= [10,5], \n",
    "                             use_stored_model=True)"
   ]
  },
  {
   "cell_type": "markdown",
   "metadata": {},
   "source": [
    "## Calculate Spec2Vec spectra vectors for all library spectra\n",
    "This step will calculate the Spec2Vec vectors for all library spectra to later do comparisons with."
   ]
  },
  {
   "cell_type": "code",
   "execution_count": 16,
   "metadata": {},
   "outputs": [
    {
     "name": "stdout",
     "output_type": "stream",
     "text": [
      "All 'words' of the given documents were found in the trained word2vec model.\n",
      "  Calculated centroid vectors for  89232  of  89232  documents.ocuments. 89232  documents. 89232  documents. Calculated centroid vectors for  3380  of  89232  documents. 89232  documents.4280  of  89232  documents.  documents.5540  of  89232  documents. of  89232  documents.6150  of  89232  documents. 89232  documents.8380  of  89232  documents. of  89232  documents. Calculated centroid vectors for  8710  of  89232  documents.  of  89232  documents. 89232  documents.89232  documents.  of  89232  documents.10580  of  89232  documents.11450  of  89232  documents.  of  89232  documents. Calculated centroid vectors for  11730  of  89232  documents.13450  of  89232  documents.89232  documents. of  89232  documents. documents. of  89232  documents. 89232  documents.17610  of  89232  documents. 89232  documents.  of  89232  documents. 89232  documents. Calculated centroid vectors for  20550  of  89232  documents. of  89232  documents. 89232  documents.  documents.27590  of  89232  documents. of  89232  documents. of  89232  documents.35970  of  89232  documents.36130  of  89232  documents.  of  89232  documents.36360  of  89232  documents. of  89232  documents.89232  documents. 89232  documents.  of  89232  documents.  documents. 89232  documents.  of  89232  documents. of  89232  documents.  documents. 89232  documents.40540  of  89232  documents. of  89232  documents.40890  of  89232  documents.41930  of  89232  documents.  documents.  documents. 89232  documents. documents. 44170  of  89232  documents. Calculated centroid vectors for  45040  of  89232  documents.  of  89232  documents.  documents.46020  of  89232  documents. 89232  documents. Calculated centroid vectors for  47970  of  89232  documents. Calculated centroid vectors for  48110  of  89232  documents.48380  of  89232  documents.  of  89232  documents.89232  documents.89232  documents.  documents.89232  documents. Calculated centroid vectors for  50490  of  89232  documents. of  89232  documents. Calculated centroid vectors for  50560  of  89232  documents.89232  documents. documents.  documents. Calculated centroid vectors for  51950  of  89232  documents. of  89232  documents. Calculated centroid vectors for  52270  of  89232  documents. of  89232  documents. Calculated centroid vectors for  52600  of  89232  documents. Calculated centroid vectors for  53480  of  89232  documents. Calculated centroid vectors for  53700  of  89232  documents. Calculated centroid vectors for  53890  of  89232  documents.  documents. documents. documents. Calculated centroid vectors for  54620  of  89232  documents. of  89232  documents.  of  89232  documents. documents.89232  documents. of  89232  documents. of  89232  documents. documents. of  89232  documents.89232  documents.89232  documents.58830  of  89232  documents. of  89232  documents.  of  89232  documents. Calculated centroid vectors for  59660  of  89232  documents.60060  of  89232  documents. 89232  documents. Calculated centroid vectors for  60570  of  89232  documents. documents. documents. 89232  documents.  documents. Calculated centroid vectors for  65510  of  89232  documents. of  89232  documents. of  89232  documents. documents.  of  89232  documents. of  89232  documents.  documents. documents.  of  89232  documents.  documents.  of  89232  documents. Calculated centroid vectors for  69940  of  89232  documents. 70420  of  89232  documents.89232  documents. Calculated centroid vectors for  71020  of  89232  documents. Calculated centroid vectors for  71330  of  89232  documents. Calculated centroid vectors for  71560  of  89232  documents. Calculated centroid vectors for  73280  of  89232  documents. documents. documents. 89232  documents. of  89232  documents. of  89232  documents. Calculated centroid vectors for  76180  of  89232  documents. documents. Calculated centroid vectors for  79290  of  89232  documents. Calculated centroid vectors for  79520  of  89232  documents.  of  89232  documents. of  89232  documents. Calculated centroid vectors for  80650  of  89232  documents.81080  of  89232  documents. Calculated centroid vectors for  81180  of  89232  documents. of  89232  documents. 89232  documents.81760  of  89232  documents. Calculated centroid vectors for  82350  of  89232  documents. Calculated centroid vectors for  82630  of  89232  documents.  of  89232  documents. of  89232  documents. 89232  documents.84320  of  89232  documents. Calculated centroid vectors for  85380  of  89232  documents.85480  of  89232  documents. Calculated centroid vectors for  86770  of  89232  documents.87180  of  89232  documents. of  89232  documents."
     ]
    }
   ],
   "source": [
    "MS_library.get_vectors_centroid(method = 'ignore', \n",
    "                                 tfidf_weighted = False, \n",
    "                                 weighting_power = 0.5, \n",
    "                                 tfidf_model = None,\n",
    "                                 extra_epochs = 1)"
   ]
  },
  {
   "cell_type": "code",
   "execution_count": 17,
   "metadata": {},
   "outputs": [
    {
     "data": {
      "text/plain": [
       "89232"
      ]
     },
     "execution_count": 17,
     "metadata": {},
     "output_type": "execute_result"
    }
   ],
   "source": [
    "MS_library.vectors_centroid.shape[0]"
   ]
  },
  {
   "cell_type": "markdown",
   "metadata": {},
   "source": [
    "### Save MS_library object (including all computed S2V spectra vectors)"
   ]
  },
  {
   "cell_type": "code",
   "execution_count": 18,
   "metadata": {},
   "outputs": [],
   "source": [
    "MS_library.save(PATH_COMPUTED + 'unkown_spectra_search_191202.obj')"
   ]
  },
  {
   "cell_type": "markdown",
   "metadata": {},
   "source": [
    "### ... or load already built MS_library object:"
   ]
  },
  {
   "cell_type": "code",
   "execution_count": 16,
   "metadata": {},
   "outputs": [],
   "source": [
    "MS_library = SimilarityMeasures([])\n",
    "MS_library.load(PATH_COMPUTED + 'unkown_spectra_search_191202.obj')"
   ]
  },
  {
   "cell_type": "markdown",
   "metadata": {},
   "source": [
    "### Select metadata for library spectra"
   ]
  },
  {
   "cell_type": "code",
   "execution_count": 17,
   "metadata": {},
   "outputs": [
    {
     "data": {
      "text/plain": [
       "(89232, 10)"
      ]
     },
     "execution_count": 17,
     "metadata": {},
     "output_type": "execute_result"
    }
   ],
   "source": [
    "library_spectra_IDs = [x for x in range(len(spectra)) if x not in selected_spectra]\n",
    "library_spectra_metadata = spectra_metadata.loc[library_spectra_IDs]\n",
    "\n",
    "library_spectra_metadata.shape"
   ]
  },
  {
   "cell_type": "code",
   "execution_count": 18,
   "metadata": {},
   "outputs": [
    {
     "data": {
      "text/plain": [
       "(994, 89232)"
      ]
     },
     "execution_count": 18,
     "metadata": {},
     "output_type": "execute_result"
    }
   ],
   "source": [
    "spectra_unknown = [spectra[x] for x in selected_spectra]\n",
    "spectra_library = [spectra[x] for x in range(len(spectra)) if x not in selected_spectra]\n",
    "len(spectra_unknown), len(spectra_library)"
   ]
  },
  {
   "cell_type": "code",
   "execution_count": 19,
   "metadata": {},
   "outputs": [],
   "source": [
    "from MS_library_search import library_matching, vectorize_spectra"
   ]
  },
  {
   "cell_type": "markdown",
   "metadata": {},
   "source": [
    "### Create spectrum vectors for the unkown spectra"
   ]
  },
  {
   "cell_type": "code",
   "execution_count": 20,
   "metadata": {},
   "outputs": [
    {
     "name": "stdout",
     "output_type": "stream",
     "text": [
      "  Created documents for  994  of  994  spectra.\n",
      " ----------------------------------------\n",
      "Not all 'words' of the given documents are present in the trained word2vec model!\n",
      "33  out of  55496  'words' were not found in the word2vec model.\n",
      "'Words'missing in the pretrained word2vec model will be ignored.\n",
      "Removing missing 'words' from corpus...\n",
      "----- Deriving Spec2Vec spectra vectors -----\n",
      "  Calculated Spec2Vec spectra vectors for  994  of  994  documents. of  994  documents. of  994  documents."
     ]
    }
   ],
   "source": [
    "spectra_vectors = vectorize_spectra(spectra_unknown,\n",
    "                                      MS_library,\n",
    "                                      num_decimals = 2,\n",
    "                                      min_loss = 5.0, \n",
    "                                      max_loss = 500.0,\n",
    "                                      peak_loss_words = ['peak_', 'loss_'],\n",
    "                                      weighting_power = 0.5)"
   ]
  },
  {
   "cell_type": "code",
   "execution_count": 21,
   "metadata": {},
   "outputs": [
    {
     "data": {
      "text/plain": [
       "((994, 300), (89232, 300))"
      ]
     },
     "execution_count": 21,
     "metadata": {},
     "output_type": "execute_result"
    }
   ],
   "source": [
    "spectra_vectors[:,:].shape, MS_library.vectors_centroid.shape"
   ]
  },
  {
   "cell_type": "markdown",
   "metadata": {},
   "source": [
    "## Search for potential spectra matches\n",
    "This will create a table with potential matches based on precursor mass (using different m/z tolerances as given in mz_ppm), and based on Spec2Vec."
   ]
  },
  {
   "cell_type": "code",
   "execution_count": 22,
   "metadata": {},
   "outputs": [
    {
     "name": "stdout",
     "output_type": "stream",
     "text": [
      "Spec2Vec spectra vectors found for library data.\n"
     ]
    }
   ],
   "source": [
    "found_matches = library_matching(spectra_unknown, \n",
    "                                  spectra_library,\n",
    "                                  library_spectra_metadata, \n",
    "                                  MS_library, \n",
    "                                  top_n = 10,\n",
    "                                  mz_ppm = [2, 10, 20],\n",
    "                                  spectra_vectors = spectra_vectors,\n",
    "                                  ignore_non_annotated = True,\n",
    "                                  cosine_tol = 0.05)"
   ]
  },
  {
   "cell_type": "code",
   "execution_count": 23,
   "metadata": {},
   "outputs": [
    {
     "data": {
      "text/html": [
       "<div>\n",
       "<style scoped>\n",
       "    .dataframe tbody tr th:only-of-type {\n",
       "        vertical-align: middle;\n",
       "    }\n",
       "\n",
       "    .dataframe tbody tr th {\n",
       "        vertical-align: top;\n",
       "    }\n",
       "\n",
       "    .dataframe thead th {\n",
       "        text-align: right;\n",
       "    }\n",
       "</style>\n",
       "<table border=\"1\" class=\"dataframe\">\n",
       "  <thead>\n",
       "    <tr style=\"text-align: right;\">\n",
       "      <th></th>\n",
       "      <th>spectra_ID</th>\n",
       "      <th>inchikey_copies</th>\n",
       "      <th>mass_match_20ppm</th>\n",
       "      <th>S2V_top_n</th>\n",
       "      <th>S2V_similarity</th>\n",
       "      <th>inchikey_match</th>\n",
       "      <th>mass_match_10ppm</th>\n",
       "      <th>mass_match_2ppm</th>\n",
       "      <th>cosine_score</th>\n",
       "      <th>cosine_matches</th>\n",
       "      <th>modcosine_score</th>\n",
       "      <th>modcosine_matches</th>\n",
       "    </tr>\n",
       "  </thead>\n",
       "  <tbody>\n",
       "    <tr>\n",
       "      <th>0</th>\n",
       "      <td>23340</td>\n",
       "      <td>1</td>\n",
       "      <td>1</td>\n",
       "      <td>0</td>\n",
       "      <td>0.051690</td>\n",
       "      <td>0</td>\n",
       "      <td>0</td>\n",
       "      <td>0</td>\n",
       "      <td>0.002875</td>\n",
       "      <td>4</td>\n",
       "      <td>0.002875</td>\n",
       "      <td>4</td>\n",
       "    </tr>\n",
       "    <tr>\n",
       "      <th>1</th>\n",
       "      <td>23343</td>\n",
       "      <td>1</td>\n",
       "      <td>1</td>\n",
       "      <td>0</td>\n",
       "      <td>0.019012</td>\n",
       "      <td>0</td>\n",
       "      <td>0</td>\n",
       "      <td>0</td>\n",
       "      <td>0.002822</td>\n",
       "      <td>1</td>\n",
       "      <td>0.002822</td>\n",
       "      <td>2</td>\n",
       "    </tr>\n",
       "    <tr>\n",
       "      <th>2</th>\n",
       "      <td>41399</td>\n",
       "      <td>12</td>\n",
       "      <td>1</td>\n",
       "      <td>0</td>\n",
       "      <td>0.325432</td>\n",
       "      <td>0</td>\n",
       "      <td>1</td>\n",
       "      <td>1</td>\n",
       "      <td>0.448070</td>\n",
       "      <td>62</td>\n",
       "      <td>0.448070</td>\n",
       "      <td>62</td>\n",
       "    </tr>\n",
       "    <tr>\n",
       "      <th>3</th>\n",
       "      <td>41400</td>\n",
       "      <td>12</td>\n",
       "      <td>1</td>\n",
       "      <td>0</td>\n",
       "      <td>0.287618</td>\n",
       "      <td>0</td>\n",
       "      <td>1</td>\n",
       "      <td>1</td>\n",
       "      <td>0.226859</td>\n",
       "      <td>53</td>\n",
       "      <td>0.226859</td>\n",
       "      <td>53</td>\n",
       "    </tr>\n",
       "    <tr>\n",
       "      <th>4</th>\n",
       "      <td>41401</td>\n",
       "      <td>12</td>\n",
       "      <td>1</td>\n",
       "      <td>0</td>\n",
       "      <td>0.154804</td>\n",
       "      <td>0</td>\n",
       "      <td>1</td>\n",
       "      <td>1</td>\n",
       "      <td>0.017466</td>\n",
       "      <td>40</td>\n",
       "      <td>0.017466</td>\n",
       "      <td>40</td>\n",
       "    </tr>\n",
       "    <tr>\n",
       "      <th>5</th>\n",
       "      <td>45803</td>\n",
       "      <td>10</td>\n",
       "      <td>1</td>\n",
       "      <td>0</td>\n",
       "      <td>0.113358</td>\n",
       "      <td>0</td>\n",
       "      <td>1</td>\n",
       "      <td>1</td>\n",
       "      <td>0.003076</td>\n",
       "      <td>14</td>\n",
       "      <td>0.003076</td>\n",
       "      <td>14</td>\n",
       "    </tr>\n",
       "    <tr>\n",
       "      <th>6</th>\n",
       "      <td>45804</td>\n",
       "      <td>10</td>\n",
       "      <td>1</td>\n",
       "      <td>0</td>\n",
       "      <td>0.141269</td>\n",
       "      <td>0</td>\n",
       "      <td>1</td>\n",
       "      <td>1</td>\n",
       "      <td>0.000650</td>\n",
       "      <td>9</td>\n",
       "      <td>0.000650</td>\n",
       "      <td>9</td>\n",
       "    </tr>\n",
       "    <tr>\n",
       "      <th>7</th>\n",
       "      <td>45805</td>\n",
       "      <td>10</td>\n",
       "      <td>1</td>\n",
       "      <td>0</td>\n",
       "      <td>0.119852</td>\n",
       "      <td>0</td>\n",
       "      <td>1</td>\n",
       "      <td>1</td>\n",
       "      <td>0.000212</td>\n",
       "      <td>7</td>\n",
       "      <td>0.000212</td>\n",
       "      <td>7</td>\n",
       "    </tr>\n",
       "    <tr>\n",
       "      <th>8</th>\n",
       "      <td>36270</td>\n",
       "      <td>3</td>\n",
       "      <td>0</td>\n",
       "      <td>1</td>\n",
       "      <td>0.827930</td>\n",
       "      <td>0</td>\n",
       "      <td>0</td>\n",
       "      <td>0</td>\n",
       "      <td>0.944868</td>\n",
       "      <td>56</td>\n",
       "      <td>0.950152</td>\n",
       "      <td>56</td>\n",
       "    </tr>\n",
       "    <tr>\n",
       "      <th>9</th>\n",
       "      <td>36517</td>\n",
       "      <td>10</td>\n",
       "      <td>0</td>\n",
       "      <td>1</td>\n",
       "      <td>0.698194</td>\n",
       "      <td>0</td>\n",
       "      <td>0</td>\n",
       "      <td>0</td>\n",
       "      <td>0.528813</td>\n",
       "      <td>48</td>\n",
       "      <td>0.532418</td>\n",
       "      <td>48</td>\n",
       "    </tr>\n",
       "    <tr>\n",
       "      <th>10</th>\n",
       "      <td>36516</td>\n",
       "      <td>10</td>\n",
       "      <td>0</td>\n",
       "      <td>1</td>\n",
       "      <td>0.694853</td>\n",
       "      <td>0</td>\n",
       "      <td>0</td>\n",
       "      <td>0</td>\n",
       "      <td>0.259796</td>\n",
       "      <td>57</td>\n",
       "      <td>0.267454</td>\n",
       "      <td>55</td>\n",
       "    </tr>\n",
       "    <tr>\n",
       "      <th>11</th>\n",
       "      <td>26717</td>\n",
       "      <td>27</td>\n",
       "      <td>0</td>\n",
       "      <td>1</td>\n",
       "      <td>0.694844</td>\n",
       "      <td>0</td>\n",
       "      <td>0</td>\n",
       "      <td>0</td>\n",
       "      <td>0.250864</td>\n",
       "      <td>9</td>\n",
       "      <td>0.250869</td>\n",
       "      <td>10</td>\n",
       "    </tr>\n",
       "    <tr>\n",
       "      <th>12</th>\n",
       "      <td>36271</td>\n",
       "      <td>3</td>\n",
       "      <td>0</td>\n",
       "      <td>1</td>\n",
       "      <td>0.674495</td>\n",
       "      <td>0</td>\n",
       "      <td>0</td>\n",
       "      <td>0</td>\n",
       "      <td>0.886707</td>\n",
       "      <td>50</td>\n",
       "      <td>0.889867</td>\n",
       "      <td>51</td>\n",
       "    </tr>\n",
       "    <tr>\n",
       "      <th>13</th>\n",
       "      <td>37974</td>\n",
       "      <td>18</td>\n",
       "      <td>0</td>\n",
       "      <td>1</td>\n",
       "      <td>0.671116</td>\n",
       "      <td>0</td>\n",
       "      <td>0</td>\n",
       "      <td>0</td>\n",
       "      <td>0.838042</td>\n",
       "      <td>59</td>\n",
       "      <td>0.838171</td>\n",
       "      <td>62</td>\n",
       "    </tr>\n",
       "    <tr>\n",
       "      <th>14</th>\n",
       "      <td>42743</td>\n",
       "      <td>17</td>\n",
       "      <td>0</td>\n",
       "      <td>1</td>\n",
       "      <td>0.665020</td>\n",
       "      <td>0</td>\n",
       "      <td>0</td>\n",
       "      <td>0</td>\n",
       "      <td>0.743246</td>\n",
       "      <td>50</td>\n",
       "      <td>0.743400</td>\n",
       "      <td>55</td>\n",
       "    </tr>\n",
       "    <tr>\n",
       "      <th>15</th>\n",
       "      <td>49820</td>\n",
       "      <td>12</td>\n",
       "      <td>0</td>\n",
       "      <td>1</td>\n",
       "      <td>0.641607</td>\n",
       "      <td>0</td>\n",
       "      <td>0</td>\n",
       "      <td>0</td>\n",
       "      <td>0.915568</td>\n",
       "      <td>23</td>\n",
       "      <td>0.915608</td>\n",
       "      <td>23</td>\n",
       "    </tr>\n",
       "    <tr>\n",
       "      <th>16</th>\n",
       "      <td>49261</td>\n",
       "      <td>15</td>\n",
       "      <td>0</td>\n",
       "      <td>1</td>\n",
       "      <td>0.637612</td>\n",
       "      <td>0</td>\n",
       "      <td>0</td>\n",
       "      <td>0</td>\n",
       "      <td>0.392606</td>\n",
       "      <td>33</td>\n",
       "      <td>0.396667</td>\n",
       "      <td>37</td>\n",
       "    </tr>\n",
       "    <tr>\n",
       "      <th>17</th>\n",
       "      <td>40202</td>\n",
       "      <td>14</td>\n",
       "      <td>0</td>\n",
       "      <td>1</td>\n",
       "      <td>0.634272</td>\n",
       "      <td>0</td>\n",
       "      <td>0</td>\n",
       "      <td>0</td>\n",
       "      <td>0.486075</td>\n",
       "      <td>56</td>\n",
       "      <td>0.486858</td>\n",
       "      <td>63</td>\n",
       "    </tr>\n",
       "  </tbody>\n",
       "</table>\n",
       "</div>"
      ],
      "text/plain": [
       "    spectra_ID  inchikey_copies  mass_match_20ppm  S2V_top_n  S2V_similarity  \\\n",
       "0        23340                1                 1          0        0.051690   \n",
       "1        23343                1                 1          0        0.019012   \n",
       "2        41399               12                 1          0        0.325432   \n",
       "3        41400               12                 1          0        0.287618   \n",
       "4        41401               12                 1          0        0.154804   \n",
       "5        45803               10                 1          0        0.113358   \n",
       "6        45804               10                 1          0        0.141269   \n",
       "7        45805               10                 1          0        0.119852   \n",
       "8        36270                3                 0          1        0.827930   \n",
       "9        36517               10                 0          1        0.698194   \n",
       "10       36516               10                 0          1        0.694853   \n",
       "11       26717               27                 0          1        0.694844   \n",
       "12       36271                3                 0          1        0.674495   \n",
       "13       37974               18                 0          1        0.671116   \n",
       "14       42743               17                 0          1        0.665020   \n",
       "15       49820               12                 0          1        0.641607   \n",
       "16       49261               15                 0          1        0.637612   \n",
       "17       40202               14                 0          1        0.634272   \n",
       "\n",
       "    inchikey_match  mass_match_10ppm  mass_match_2ppm  cosine_score  \\\n",
       "0                0                 0                0      0.002875   \n",
       "1                0                 0                0      0.002822   \n",
       "2                0                 1                1      0.448070   \n",
       "3                0                 1                1      0.226859   \n",
       "4                0                 1                1      0.017466   \n",
       "5                0                 1                1      0.003076   \n",
       "6                0                 1                1      0.000650   \n",
       "7                0                 1                1      0.000212   \n",
       "8                0                 0                0      0.944868   \n",
       "9                0                 0                0      0.528813   \n",
       "10               0                 0                0      0.259796   \n",
       "11               0                 0                0      0.250864   \n",
       "12               0                 0                0      0.886707   \n",
       "13               0                 0                0      0.838042   \n",
       "14               0                 0                0      0.743246   \n",
       "15               0                 0                0      0.915568   \n",
       "16               0                 0                0      0.392606   \n",
       "17               0                 0                0      0.486075   \n",
       "\n",
       "    cosine_matches  modcosine_score  modcosine_matches  \n",
       "0                4         0.002875                  4  \n",
       "1                1         0.002822                  2  \n",
       "2               62         0.448070                 62  \n",
       "3               53         0.226859                 53  \n",
       "4               40         0.017466                 40  \n",
       "5               14         0.003076                 14  \n",
       "6                9         0.000650                  9  \n",
       "7                7         0.000212                  7  \n",
       "8               56         0.950152                 56  \n",
       "9               48         0.532418                 48  \n",
       "10              57         0.267454                 55  \n",
       "11               9         0.250869                 10  \n",
       "12              50         0.889867                 51  \n",
       "13              59         0.838171                 62  \n",
       "14              50         0.743400                 55  \n",
       "15              23         0.915608                 23  \n",
       "16              33         0.396667                 37  \n",
       "17              56         0.486858                 63  "
      ]
     },
     "execution_count": 23,
     "metadata": {},
     "output_type": "execute_result"
    }
   ],
   "source": [
    "found_matches[20]"
   ]
  },
  {
   "cell_type": "code",
   "execution_count": 24,
   "metadata": {},
   "outputs": [
    {
     "data": {
      "text/plain": [
       "['BMKQPAJRQUUYGC-UHFFFAOYSA-N',\n",
       " 'BMKQPAJRQUUYGC-UHFFFAOYSA-N',\n",
       " 'BMKQPAJRQUUYGC-UHFFFAOYSA-N',\n",
       " 'DDNPCXHBFYJXBJ-UHFFFAOYSA-N',\n",
       " 'DDNPCXHBFYJXBJ-UHFFFAOYSA-N',\n",
       " 'DDNPCXHBFYJXBJ-UHFFFAOYSA-N']"
      ]
     },
     "execution_count": 24,
     "metadata": {},
     "output_type": "execute_result"
    }
   ],
   "source": [
    "ID = 20#80\n",
    "\n",
    "match_IDs = found_matches[ID][found_matches[ID]['mass_match_10ppm']==1]['spectra_ID'].values.tolist()\n",
    "[spectra_library[x].inchikey for x in match_IDs]"
   ]
  },
  {
   "cell_type": "markdown",
   "metadata": {},
   "source": [
    "## Collect all top-10 matches based on Spec2Vec similarity"
   ]
  },
  {
   "cell_type": "code",
   "execution_count": 25,
   "metadata": {},
   "outputs": [
    {
     "name": "stdout",
     "output_type": "stream",
     "text": [
      "No proper molecule generated for spectrum 4\n",
      "Problem with molecule from spectrum 4\n",
      "No proper molecule generated for spectrum 0\n",
      "No proper molecule generated for spectrum 1\n",
      "No proper molecule generated for spectrum 2\n",
      "Problem with molecule from spectrum 0\n",
      "Problem with molecule from spectrum 1\n",
      "Problem with molecule from spectrum 2\n",
      "No proper molecule generated for spectrum 2\n",
      "No proper molecule generated for spectrum 3\n",
      "Problem with molecule from spectrum 2\n",
      "Problem with molecule from spectrum 3\n",
      "No proper molecule generated for spectrum 7\n",
      "No proper molecule generated for spectrum 9\n",
      "Problem with molecule from spectrum 7\n",
      "Problem with molecule from spectrum 9\n"
     ]
    }
   ],
   "source": [
    "mol_sim_matches = []\n",
    "list_sv2 = []\n",
    "list_modcos = []\n",
    "list_copies = []\n",
    "\n",
    "for ID in range(len(spectra_unknown)):\n",
    "    idx = found_matches[ID][(found_matches[ID]['S2V_top_n']==1)].index.tolist()\n",
    "\n",
    "    match_IDs = found_matches[ID].loc[idx]['spectra_ID'].values.tolist()\n",
    "    \n",
    "    if len(match_IDs) > 0:\n",
    "        fingerprint_query, _ = MS_functions.get_mol_fingerprints([spectra_unknown[ID]], \n",
    "                                                                 method = \"daylight\", #morgan3\", \n",
    "                                                                 nBits = 2048,\n",
    "                                                                 print_progress = False)\n",
    "        fingerprint_matches, _ = MS_functions.get_mol_fingerprints([spectra_library[x] for x in match_IDs], \n",
    "                                                                 method = \"daylight\", #morgan3\",  \n",
    "                                                                 nBits = 2048,\n",
    "                                                                 print_progress = False)\n",
    "\n",
    "        # calculate similarities\n",
    "        Mtest = MS_sim_classic.mol_sim_matrix(fingerprint_query,\n",
    "                                               fingerprint_matches,\n",
    "                                               method = 'jaccard',\n",
    "                                               filename = None,\n",
    "                                               max_size = 1000,\n",
    "                                               print_progress = False)\n",
    "\n",
    "        mol_sim_matches.append(Mtest)\n",
    "\n",
    "        list_sv2.append(found_matches[ID].loc[idx]['S2V_similarity'].values.tolist())\n",
    "        list_modcos.append(found_matches[ID].loc[idx]['modcosine_score'].values.tolist())\n",
    "        list_copies.append(found_matches[ID].loc[idx]['inchikey_copies'].values.tolist())"
   ]
  },
  {
   "cell_type": "code",
   "execution_count": 26,
   "metadata": {},
   "outputs": [
    {
     "data": {
      "text/plain": [
       "array([[0.51729461, 0.50599717, 0.47731045, 0.47588897, 0.46183964,\n",
       "        0.45303783, 0.45209716, 0.43545794, 0.4270291 , 0.43646117]])"
      ]
     },
     "execution_count": 26,
     "metadata": {},
     "output_type": "execute_result"
    }
   ],
   "source": [
    "mol_sim_matches_s2v_arr = np.array(mol_sim_matches)\n",
    "np.mean(np.nan_to_num(mol_sim_matches_s2v_arr), axis = 0)"
   ]
  },
  {
   "cell_type": "code",
   "execution_count": 27,
   "metadata": {},
   "outputs": [
    {
     "data": {
      "text/plain": [
       "(994, 1, 10)"
      ]
     },
     "execution_count": 27,
     "metadata": {},
     "output_type": "execute_result"
    }
   ],
   "source": [
    "mol_sim_matches_s2v_arr.shape"
   ]
  },
  {
   "cell_type": "markdown",
   "metadata": {},
   "source": [
    "## Plot molecular similarities of \"best Spec2Vec pick\" for all found candidates"
   ]
  },
  {
   "cell_type": "code",
   "execution_count": 80,
   "metadata": {},
   "outputs": [],
   "source": [
    "def histogram_found_matches(matches,\n",
    "                            n_bins,\n",
    "                            method = \"ideal_pick\",\n",
    "                            sort_by_lst = None,\n",
    "                            filename = None):\n",
    "    \"\"\" Create histogram and plot it.\n",
    "    \"\"\"\n",
    "    bins_lst = np.linspace(0,1,n_bins+1) \n",
    "    plt.style.use('default') #('ggplot')\n",
    "    plt.figure(figsize=(6,5))\n",
    "    \n",
    "    if method == \"ideal_pick\": \n",
    "        # Chose best pick from condidate suggestions\n",
    "        hist, bin_edges = np.histogram(np.max(matches, axis=2), bins_lst)\n",
    "    elif method == 'argmax':\n",
    "        if sort_by_lst is None:\n",
    "            print(\"sort_by_lst list expected.\")\n",
    "        nums = len(matches)\n",
    "        pick = []\n",
    "        for i in range(nums):\n",
    "            pick += [np.array(sort_by_lst[i]).argmax()]\n",
    "        hist, bin_edges = np.histogram(np.array([matches[i][0][pick[i]] for i in range(nums)]), bins_lst)\n",
    "    \n",
    "    bar_width = 0.8 * 1/n_bins\n",
    "    plt.bar(bin_edges[:-1], 100*hist/np.sum(hist), width = bar_width, color='none', edgecolor='gray', hatch=\"///\", lw=2., zorder = 0)\n",
    "    plt.bar(bin_edges[:-1], 100*hist/np.sum(hist), width = bar_width, edgecolor='black', linewidth=3, color='none',alpha=1)\n",
    "    #plt.xlabel('best found molecular similarity among Spec2Vec top-10 suggestions \\n (rdkit-2048 fingerprint --> jaccard score)')\n",
    "    plt.yticks(10*np.arange(4), ('0', '10', '20', '30'), fontsize=12)\n",
    "    \n",
    "    bar_labels = ['{:03.1f} - {:03.1f}'.format(bins_lst[i], bins_lst[i+1]) for i in range(n_bins)]\n",
    "    plt.xticks(bins_lst[:-1], bar_labels, fontsize=12, rotation='vertical')\n",
    "    plt.xlabel('molecular similarity (Tanimoto)', fontsize=16)\n",
    "    plt.ylabel('fraction of matches [%]', fontsize=16)\n",
    "    \n",
    "    if filename is not None:\n",
    "        plt.savefig(filename)\n",
    "        \n",
    "    return hist, bin_edges"
   ]
  },
  {
   "cell_type": "code",
   "execution_count": 36,
   "metadata": {},
   "outputs": [
    {
     "name": "stdout",
     "output_type": "stream",
     "text": [
      "[193 247 144 135 275]\n"
     ]
    },
    {
     "data": {
      "image/png": "[encoded data removed]",
      "text/plain": [
       "<Figure size 600x500 with 1 Axes>"
      ]
     },
     "metadata": {},
     "output_type": "display_data"
    }
   ],
   "source": [
    "hist, bin_edges = histogram_found_matches(mol_sim_matches, \n",
    "                                          5,\n",
    "                                           'argmax',\n",
    "                                           list_modcos)\n",
    "print(hist)"
   ]
  },
  {
   "cell_type": "code",
   "execution_count": null,
   "metadata": {},
   "outputs": [],
   "source": [
    "mol_sim_matches_s2v_arr"
   ]
  },
  {
   "cell_type": "markdown",
   "metadata": {},
   "source": [
    "## Plot molecular similarities of only the actual best of the top-10 found candidates\n",
    "This is not reflecting a real-case scenario where the molecular similarities are unkown.  \n",
    "However, it represents what a manual inspection of the top-10 candidates might be able to reveal."
   ]
  },
  {
   "cell_type": "code",
   "execution_count": 38,
   "metadata": {},
   "outputs": [
    {
     "name": "stdout",
     "output_type": "stream",
     "text": [
      "[ 60 207 162 160 405]\n"
     ]
    },
    {
     "data": {
      "image/png": "[encoded data removed]",
      "text/plain": [
       "<Figure size 600x500 with 1 Axes>"
      ]
     },
     "metadata": {},
     "output_type": "display_data"
    }
   ],
   "source": [
    "hist, bin_edges = histogram_found_matches(mol_sim_matches, 5,\n",
    "                                          'ideal_pick',\n",
    "                                          sort_by_lst = None,\n",
    "                                          filename = 'histogram_quality_of_found_matches.pdf')\n",
    "print(hist)"
   ]
  },
  {
   "cell_type": "code",
   "execution_count": 56,
   "metadata": {},
   "outputs": [
    {
     "name": "stdout",
     "output_type": "stream",
     "text": [
      "[ 11  49  86 121  79  84  60  99  80 325] [0.  0.1 0.2 0.3 0.4 0.5 0.6 0.7 0.8 0.9 1. ]\n"
     ]
    },
    {
     "data": {
      "image/png": "[encoded data removed]",
      "text/plain": [
       "<Figure size 600x500 with 1 Axes>"
      ]
     },
     "metadata": {},
     "output_type": "display_data"
    }
   ],
   "source": [
    "hist, bin_edges = histogram_found_matches(mol_sim_matches, 10,\n",
    "                                          'ideal_pick',\n",
    "                                          sort_by_lst = None)\n",
    "print(hist, bin_edges)"
   ]
  },
  {
   "cell_type": "code",
   "execution_count": 65,
   "metadata": {},
   "outputs": [
    {
     "name": "stdout",
     "output_type": "stream",
     "text": [
      "Good matches found (>0.4): 727\n",
      "Poor matches found (<=0.4): 267\n"
     ]
    }
   ],
   "source": [
    "good_bad = 0.4\n",
    "idx = np.where(bin_edges[1:] > good_bad)[0]\n",
    "print(\"Good matches found (>\"+str(good_bad)+\"):\", np.sum(np.array(hist)[idx]))\n",
    "idx = np.where(bin_edges[1:] <= good_bad)[0]     \n",
    "print(\"Poor matches found (<=\"+str(good_bad)+\"):\", np.sum(np.array(hist)[idx]))"
   ]
  },
  {
   "cell_type": "markdown",
   "metadata": {},
   "source": [
    "## Search based on S2V only"
   ]
  },
  {
   "cell_type": "code",
   "execution_count": 84,
   "metadata": {},
   "outputs": [
    {
     "name": "stdout",
     "output_type": "stream",
     "text": [
      "No proper molecule generated for spectrum 0\n",
      "No proper molecule generated for spectrum 1\n",
      "No proper molecule generated for spectrum 2\n",
      "Problem with molecule from spectrum 0\n",
      "Problem with molecule from spectrum 1\n",
      "Problem with molecule from spectrum 2\n"
     ]
    }
   ],
   "source": [
    "# parameter:\n",
    "acceptable_s2v = 0.6\n",
    "\n",
    "mol_sim_matches_s2v_thres = []\n",
    "\n",
    "for ID in range(len(spectra_unknown)):\n",
    "    match_IDs = found_matches[ID][(found_matches[ID]['S2V_top_n']==1)\n",
    "                                  & (found_matches[ID]['S2V_similarity'] > acceptable_s2v)]['spectra_ID'].values.tolist()\n",
    "    if len(match_IDs) > 0:\n",
    "        fingerprint_query, _ = MS_functions.get_mol_fingerprints([spectra_unknown[ID]], \n",
    "                                                                 method = \"daylight\", #morgan3\", \n",
    "                                                                 nBits = 2048,\n",
    "                                                                 print_progress = False)\n",
    "        fingerprint_matches, _ = MS_functions.get_mol_fingerprints([spectra_library[x] for x in match_IDs], \n",
    "                                                                 method = \"daylight\", #morgan3\",  \n",
    "                                                                 nBits = 2048,\n",
    "                                                                 print_progress = False)\n",
    "\n",
    "        # calculate similarities\n",
    "        Mtest = MS_sim_classic.mol_sim_matrix(fingerprint_query,\n",
    "                                               fingerprint_matches,\n",
    "                                               method = 'jaccard',\n",
    "                                               filename = None,\n",
    "                                               max_size = 1000,\n",
    "                                               print_progress = False)\n",
    "\n",
    "        mol_sim_matches_s2v_thres.append(Mtest)"
   ]
  },
  {
   "cell_type": "code",
   "execution_count": 85,
   "metadata": {},
   "outputs": [
    {
     "data": {
      "text/plain": [
       "2"
      ]
     },
     "execution_count": 85,
     "metadata": {},
     "output_type": "execute_result"
    }
   ],
   "source": [
    "mol_sim_matches_s2v_thres[1].argmax()"
   ]
  },
  {
   "cell_type": "code",
   "execution_count": 86,
   "metadata": {},
   "outputs": [
    {
     "data": {
      "text/plain": [
       "(699,)"
      ]
     },
     "execution_count": 86,
     "metadata": {},
     "output_type": "execute_result"
    }
   ],
   "source": [
    "np.array([x[0][0] for x in mol_sim_matches_s2v_thres]).shape"
   ]
  },
  {
   "cell_type": "code",
   "execution_count": 87,
   "metadata": {},
   "outputs": [
    {
     "name": "stdout",
     "output_type": "stream",
     "text": [
      "Found matches for 699 spectra out of 994 spectra in total.\n",
      "Good matches found (>0.5): 361\n",
      "Poor matches found (<=0.5): 338\n"
     ]
    }
   ],
   "source": [
    "print(\"Found matches for\", len(mol_sim_matches_s2v_thres), \n",
    "      \"spectra out of\", len(spectra_unknown), \"spectra in total.\")\n",
    "\n",
    "print(\"Good matches found (>0.5):\", np.sum(np.array([x[0][0] for x in mol_sim_matches_s2v_thres]) > 0.5))\n",
    "print(\"Poor matches found (<=0.5):\", np.sum(np.array([x[0][0] for x in mol_sim_matches_s2v_thres]) <= 0.5))"
   ]
  },
  {
   "cell_type": "code",
   "execution_count": 88,
   "metadata": {},
   "outputs": [
    {
     "name": "stdout",
     "output_type": "stream",
     "text": [
      "Mean molecular similarity: 0.5494145527725738\n"
     ]
    }
   ],
   "source": [
    "print(\"Mean molecular similarity:\", np.mean([x[0][0] for x in mol_sim_matches_s2v_thres]))"
   ]
  },
  {
   "cell_type": "code",
   "execution_count": 89,
   "metadata": {},
   "outputs": [
    {
     "name": "stdout",
     "output_type": "stream",
     "text": [
      "[ 14  53  56  74  44  48  49  76  52 233] [0.  0.1 0.2 0.3 0.4 0.5 0.6 0.7 0.8 0.9 1. ]\n"
     ]
    },
    {
     "data": {
      "image/png": "[encoded data removed]",
      "text/plain": [
       "<Figure size 600x500 with 1 Axes>"
      ]
     },
     "metadata": {},
     "output_type": "display_data"
    }
   ],
   "source": [
    "hist, bin_edges = histogram_found_matches(mol_sim_matches_s2v_thres, 10,\n",
    "                                          'argmax',\n",
    "                                          sort_by_lst = mol_sim_matches_s2v_thres)\n",
    "print(hist, bin_edges)"
   ]
  },
  {
   "cell_type": "code",
   "execution_count": 90,
   "metadata": {},
   "outputs": [
    {
     "name": "stdout",
     "output_type": "stream",
     "text": [
      "Good matches found (>0.4): 502\n",
      "Poor matches found (<=0.4): 197\n"
     ]
    }
   ],
   "source": [
    "good_bad = 0.4\n",
    "idx = np.where(bin_edges[1:] > good_bad)[0]\n",
    "print(\"Good matches found (>\"+str(good_bad)+\"):\", np.sum(np.array(hist)[idx]))\n",
    "idx = np.where(bin_edges[1:] <= good_bad)[0]     \n",
    "print(\"Poor matches found (<=\"+str(good_bad)+\"):\", np.sum(np.array(hist)[idx]))"
   ]
  },
  {
   "cell_type": "code",
   "execution_count": 70,
   "metadata": {},
   "outputs": [
    {
     "data": {
      "text/plain": [
       "Text(0, 0.5, 'number of matches')"
      ]
     },
     "execution_count": 70,
     "metadata": {},
     "output_type": "execute_result"
    },
    {
     "data": {
      "image/png": "[encoded data removed]",
      "text/plain": [
       "<Figure size 648x432 with 1 Axes>"
      ]
     },
     "metadata": {},
     "output_type": "display_data"
    }
   ],
   "source": [
    "plt.style.use('ggplot')\n",
    "plt.figure(figsize=(9,6))\n",
    "plt.hist(np.array([max(x[0]) for x in mol_sim_matches_s2v_thres]), 25)\n",
    "plt.xlabel('best found molecular similarity among Spec2Vec (rdkit-2048 fingerprint --> jaccard score)')\n",
    "plt.ylabel('number of matches')"
   ]
  },
  {
   "cell_type": "code",
   "execution_count": 157,
   "metadata": {},
   "outputs": [
    {
     "name": "stdout",
     "output_type": "stream",
     "text": [
      "Good matches found (>0.5): 454\n",
      "Poor matches found (<=0.5): 245\n"
     ]
    }
   ],
   "source": [
    "print(\"Good matches found (>0.5):\", np.sum(np.array([max(x[0]) for x in mol_sim_matches_s2v_thres]) > 0.5))\n",
    "print(\"Poor matches found (<=0.5):\", np.sum(np.array([max(x[0]) for x in mol_sim_matches_s2v_thres]) <= 0.5))"
   ]
  },
  {
   "cell_type": "markdown",
   "metadata": {},
   "source": [
    "## Search based on S2V and other factors...\n",
    "\n",
    "### Search including S2V and mod.cosine scores (both must be high...)"
   ]
  },
  {
   "cell_type": "code",
   "execution_count": 180,
   "metadata": {},
   "outputs": [],
   "source": [
    "# parameter:\n",
    "acceptable_s2v = 0.7\n",
    "acceptable_modcos = 0.7\n",
    "\n",
    "mol_sim_matches = []\n",
    "\n",
    "for ID in range(len(spectra_unknown)):\n",
    "    match_IDs = found_matches[ID][(found_matches[ID]['S2V_top_n']==1)\n",
    "                                  & (found_matches[ID]['S2V_similarity'] > acceptable_s2v)\n",
    "                                  & (found_matches[ID]['modcosine_score'] > acceptable_modcos)]['spectra_ID'].values.tolist()\n",
    "                                  #& (found_matches[ID]['inchikey_copies'] > 5)]['spectra_ID'].values.tolist()\n",
    "    if len(match_IDs) > 0:\n",
    "        fingerprint_query, _ = MS_functions.get_mol_fingerprints([spectra_unknown[ID]], \n",
    "                                                                 method = \"daylight\", #morgan3\", \n",
    "                                                                 nBits = 2048,\n",
    "                                                                 print_progress = False)\n",
    "        fingerprint_matches, _ = MS_functions.get_mol_fingerprints([spectra_library[x] for x in match_IDs], \n",
    "                                                                 method = \"daylight\", #morgan3\",  \n",
    "                                                                 nBits = 2048,\n",
    "                                                                 print_progress = False)\n",
    "\n",
    "        # calculate similarities\n",
    "        Mtest = MS_sim_classic.mol_sim_matrix(fingerprint_query,\n",
    "                                               fingerprint_matches,\n",
    "                                               method = 'jaccard',\n",
    "                                               filename = None,\n",
    "                                               max_size = 1000,\n",
    "                                               print_progress = False)\n",
    "\n",
    "        mol_sim_matches.append(Mtest)"
   ]
  },
  {
   "cell_type": "code",
   "execution_count": 181,
   "metadata": {},
   "outputs": [
    {
     "name": "stdout",
     "output_type": "stream",
     "text": [
      "Found matches for 373 spectra out of 994 spectra in total.\n",
      "Good matches found (>0.5): 221\n",
      "Poor matches found (<=0.5): 152\n"
     ]
    }
   ],
   "source": [
    "print(\"Found matches for\", len(mol_sim_matches), \n",
    "      \"spectra out of\", len(spectra_unknown), \"spectra in total.\")\n",
    "\n",
    "print(\"Good matches found (>0.5):\", np.sum(np.array([x[0][0] for x in mol_sim_matches]) > 0.5))\n",
    "print(\"Poor matches found (<=0.5):\", np.sum(np.array([x[0][0] for x in mol_sim_matches]) <= 0.5))"
   ]
  },
  {
   "cell_type": "code",
   "execution_count": 182,
   "metadata": {},
   "outputs": [
    {
     "name": "stdout",
     "output_type": "stream",
     "text": [
      "Mean molecular similarity: 0.6062970814464564\n"
     ]
    }
   ],
   "source": [
    "print(\"Mean molecular similarity:\", np.mean([x[0][0] for x in mol_sim_matches]))"
   ]
  },
  {
   "cell_type": "code",
   "execution_count": 183,
   "metadata": {},
   "outputs": [
    {
     "data": {
      "text/plain": [
       "Text(0, 0.5, 'number of matches')"
      ]
     },
     "execution_count": 183,
     "metadata": {},
     "output_type": "execute_result"
    },
    {
     "data": {
      "image/png": "[encoded data removed]",
      "text/plain": [
       "<Figure size 648x432 with 1 Axes>"
      ]
     },
     "metadata": {},
     "output_type": "display_data"
    }
   ],
   "source": [
    "plt.style.use('ggplot')\n",
    "plt.figure(figsize=(9,6))\n",
    "plt.hist(np.array([x[0][0] for x in mol_sim_matches]), 25)\n",
    "plt.xlabel('molecular similarity (rdkit-2048 fingerprint --> jaccard score)')\n",
    "plt.ylabel('number of matches')"
   ]
  },
  {
   "cell_type": "markdown",
   "metadata": {},
   "source": [
    "### Pick best actual candidate from top-10 suggestions"
   ]
  },
  {
   "cell_type": "code",
   "execution_count": 184,
   "metadata": {
    "scrolled": false
   },
   "outputs": [
    {
     "data": {
      "text/plain": [
       "Text(0, 0.5, 'number of matches')"
      ]
     },
     "execution_count": 184,
     "metadata": {},
     "output_type": "execute_result"
    },
    {
     "data": {
      "image/png": "[encoded data removed]",
      "text/plain": [
       "<Figure size 648x432 with 1 Axes>"
      ]
     },
     "metadata": {},
     "output_type": "display_data"
    }
   ],
   "source": [
    "plt.style.use('ggplot')\n",
    "plt.figure(figsize=(9,6))\n",
    "plt.hist(np.array([max(x[0]) for x in mol_sim_matches]), 25)\n",
    "plt.xlabel('best found molecular similarity among Spec2Vec (rdkit-2048 fingerprint --> jaccard score)')\n",
    "plt.ylabel('number of matches')"
   ]
  },
  {
   "cell_type": "code",
   "execution_count": 185,
   "metadata": {
    "scrolled": true
   },
   "outputs": [
    {
     "name": "stdout",
     "output_type": "stream",
     "text": [
      "Good matches found (>0.5): 271\n",
      "Poor matches found (<=0.5): 102\n"
     ]
    }
   ],
   "source": [
    "print(\"Good matches found (>0.5):\", np.sum(np.array([max(x[0]) for x in mol_sim_matches]) > 0.5))\n",
    "print(\"Poor matches found (<=0.5):\", np.sum(np.array([max(x[0]) for x in mol_sim_matches]) <= 0.5))"
   ]
  },
  {
   "cell_type": "markdown",
   "metadata": {},
   "source": [
    "## For comparison: what are mol.simularities for random selection?"
   ]
  },
  {
   "cell_type": "code",
   "execution_count": 325,
   "metadata": {},
   "outputs": [
    {
     "name": "stdout",
     "output_type": "stream",
     "text": [
      "No proper molecule generated for spectrum 0\n",
      "No proper molecule generated for spectrum 1\n",
      "Problem with molecule from spectrum 0\n",
      "Problem with molecule from spectrum 1\n",
      "No proper molecule generated for spectrum 0\n",
      "No proper molecule generated for spectrum 1\n",
      "No proper molecule generated for spectrum 3\n",
      "No proper molecule generated for spectrum 5\n",
      "No proper molecule generated for spectrum 6\n",
      "Problem with molecule from spectrum 0\n",
      "Problem with molecule from spectrum 1\n",
      "Problem with molecule from spectrum 3\n",
      "Problem with molecule from spectrum 5\n",
      "Problem with molecule from spectrum 6\n",
      "No proper molecule generated for spectrum 1\n",
      "No proper molecule generated for spectrum 5\n",
      "No proper molecule generated for spectrum 6\n",
      "No proper molecule generated for spectrum 7\n",
      "No proper molecule generated for spectrum 9\n",
      "Problem with molecule from spectrum 1\n",
      "Problem with molecule from spectrum 5\n",
      "Problem with molecule from spectrum 6\n",
      "Problem with molecule from spectrum 7\n",
      "Problem with molecule from spectrum 9\n",
      "No proper molecule generated for spectrum 0\n",
      "No proper molecule generated for spectrum 4\n",
      "No proper molecule generated for spectrum 7\n",
      "No proper molecule generated for spectrum 9\n",
      "Problem with molecule from spectrum 0\n",
      "Problem with molecule from spectrum 4\n",
      "Problem with molecule from spectrum 7\n",
      "Problem with molecule from spectrum 9\n",
      "No proper molecule generated for spectrum 4\n",
      "No proper molecule generated for spectrum 8\n",
      "No proper molecule generated for spectrum 9\n",
      "Problem with molecule from spectrum 4\n",
      "Problem with molecule from spectrum 8\n",
      "Problem with molecule from spectrum 9\n",
      "No proper molecule generated for spectrum 0\n",
      "No proper molecule generated for spectrum 1\n",
      "No proper molecule generated for spectrum 4\n",
      "No proper molecule generated for spectrum 6\n",
      "No proper molecule generated for spectrum 9\n",
      "Problem with molecule from spectrum 0\n",
      "Problem with molecule from spectrum 1\n",
      "Problem with molecule from spectrum 4\n",
      "Problem with molecule from spectrum 6\n",
      "Problem with molecule from spectrum 9\n",
      "No proper molecule generated for spectrum 2\n",
      "No proper molecule generated for spectrum 3\n",
      "No proper molecule generated for spectrum 8\n",
      "No proper molecule generated for spectrum 9\n",
      "Problem with molecule from spectrum 2\n",
      "Problem with molecule from spectrum 3\n",
      "Problem with molecule from spectrum 8\n",
      "Problem with molecule from spectrum 9\n",
      "No proper molecule generated for spectrum 0\n",
      "No proper molecule generated for spectrum 1\n",
      "No proper molecule generated for spectrum 3\n",
      "No proper molecule generated for spectrum 6\n",
      "No proper molecule generated for spectrum 7\n",
      "No proper molecule generated for spectrum 8\n",
      "Problem with molecule from spectrum 0\n",
      "Problem with molecule from spectrum 1\n",
      "Problem with molecule from spectrum 3\n",
      "Problem with molecule from spectrum 6\n",
      "Problem with molecule from spectrum 7\n",
      "Problem with molecule from spectrum 8\n",
      "No proper molecule generated for spectrum 1\n",
      "No proper molecule generated for spectrum 4\n",
      "No proper molecule generated for spectrum 5\n",
      "No proper molecule generated for spectrum 9\n",
      "Problem with molecule from spectrum 1\n",
      "Problem with molecule from spectrum 4\n",
      "Problem with molecule from spectrum 5\n",
      "Problem with molecule from spectrum 9\n",
      "No proper molecule generated for spectrum 0\n",
      "No proper molecule generated for spectrum 2\n",
      "No proper molecule generated for spectrum 3\n",
      "No proper molecule generated for spectrum 8\n",
      "No proper molecule generated for spectrum 9\n",
      "Problem with molecule from spectrum 0\n",
      "Problem with molecule from spectrum 2\n",
      "Problem with molecule from spectrum 3\n",
      "Problem with molecule from spectrum 8\n",
      "Problem with molecule from spectrum 9\n",
      "No proper molecule generated for spectrum 3\n",
      "No proper molecule generated for spectrum 4\n",
      "No proper molecule generated for spectrum 8\n",
      "Problem with molecule from spectrum 3\n",
      "Problem with molecule from spectrum 4\n",
      "Problem with molecule from spectrum 8\n",
      "No proper molecule generated for spectrum 0\n",
      "No proper molecule generated for spectrum 1\n",
      "No proper molecule generated for spectrum 2\n",
      "No proper molecule generated for spectrum 7\n",
      "No proper molecule generated for spectrum 8\n",
      "Problem with molecule from spectrum 0\n",
      "Problem with molecule from spectrum 1\n",
      "Problem with molecule from spectrum 2\n",
      "Problem with molecule from spectrum 7\n",
      "Problem with molecule from spectrum 8\n",
      "No proper molecule generated for spectrum 0\n",
      "No proper molecule generated for spectrum 2\n",
      "No proper molecule generated for spectrum 3\n",
      "Problem with molecule from spectrum 0\n",
      "Problem with molecule from spectrum 2\n",
      "Problem with molecule from spectrum 3\n",
      "No proper molecule generated for spectrum 0\n",
      "No proper molecule generated for spectrum 3\n",
      "No proper molecule generated for spectrum 4\n",
      "No proper molecule generated for spectrum 5\n",
      "Problem with molecule from spectrum 0\n",
      "Problem with molecule from spectrum 3\n",
      "Problem with molecule from spectrum 4\n",
      "Problem with molecule from spectrum 5\n",
      "No proper molecule generated for spectrum 0\n",
      "No proper molecule generated for spectrum 2\n",
      "No proper molecule generated for spectrum 3\n",
      "No proper molecule generated for spectrum 5\n",
      "No proper molecule generated for spectrum 9\n",
      "Problem with molecule from spectrum 0\n",
      "Problem with molecule from spectrum 2\n",
      "Problem with molecule from spectrum 3\n",
      "Problem with molecule from spectrum 5\n",
      "Problem with molecule from spectrum 9\n",
      "No proper molecule generated for spectrum 1\n",
      "No proper molecule generated for spectrum 5\n",
      "No proper molecule generated for spectrum 8\n",
      "No proper molecule generated for spectrum 9\n",
      "Problem with molecule from spectrum 1\n",
      "Problem with molecule from spectrum 5\n",
      "Problem with molecule from spectrum 8\n",
      "Problem with molecule from spectrum 9\n",
      "No proper molecule generated for spectrum 0\n",
      "No proper molecule generated for spectrum 2\n",
      "No proper molecule generated for spectrum 3\n",
      "No proper molecule generated for spectrum 4\n",
      "No proper molecule generated for spectrum 8\n",
      "Problem with molecule from spectrum 0\n",
      "Problem with molecule from spectrum 2\n",
      "Problem with molecule from spectrum 3\n",
      "Problem with molecule from spectrum 4\n",
      "Problem with molecule from spectrum 8\n",
      "No proper molecule generated for spectrum 0\n",
      "No proper molecule generated for spectrum 3\n",
      "No proper molecule generated for spectrum 4\n",
      "No proper molecule generated for spectrum 5\n",
      "No proper molecule generated for spectrum 7\n",
      "No proper molecule generated for spectrum 9\n",
      "Problem with molecule from spectrum 0\n",
      "Problem with molecule from spectrum 3\n",
      "Problem with molecule from spectrum 4\n",
      "Problem with molecule from spectrum 5\n",
      "Problem with molecule from spectrum 7\n",
      "Problem with molecule from spectrum 9\n",
      "No proper molecule generated for spectrum 0\n",
      "No proper molecule generated for spectrum 1\n",
      "No proper molecule generated for spectrum 3\n",
      "No proper molecule generated for spectrum 5\n",
      "No proper molecule generated for spectrum 6\n",
      "Problem with molecule from spectrum 0\n",
      "Problem with molecule from spectrum 1\n",
      "Problem with molecule from spectrum 3\n",
      "Problem with molecule from spectrum 5\n",
      "Problem with molecule from spectrum 6\n",
      "No proper molecule generated for spectrum 0\n",
      "No proper molecule generated for spectrum 2\n",
      "No proper molecule generated for spectrum 3\n",
      "No proper molecule generated for spectrum 5\n",
      "Problem with molecule from spectrum 0\n",
      "Problem with molecule from spectrum 2\n",
      "Problem with molecule from spectrum 3\n",
      "Problem with molecule from spectrum 5\n",
      "No proper molecule generated for spectrum 2\n",
      "No proper molecule generated for spectrum 4\n",
      "No proper molecule generated for spectrum 6\n",
      "No proper molecule generated for spectrum 7\n",
      "No proper molecule generated for spectrum 8\n",
      "Problem with molecule from spectrum 2\n",
      "Problem with molecule from spectrum 4\n",
      "Problem with molecule from spectrum 6\n",
      "Problem with molecule from spectrum 7\n",
      "Problem with molecule from spectrum 8\n",
      "No proper molecule generated for spectrum 0\n",
      "No proper molecule generated for spectrum 1\n",
      "No proper molecule generated for spectrum 2\n",
      "No proper molecule generated for spectrum 3\n",
      "No proper molecule generated for spectrum 7\n",
      "No proper molecule generated for spectrum 8\n",
      "No proper molecule generated for spectrum 9\n",
      "Problem with molecule from spectrum 0\n",
      "Problem with molecule from spectrum 1\n",
      "Problem with molecule from spectrum 2\n",
      "Problem with molecule from spectrum 3\n",
      "Problem with molecule from spectrum 7\n",
      "Problem with molecule from spectrum 8\n",
      "Problem with molecule from spectrum 9\n",
      "No proper molecule generated for spectrum 2\n",
      "No proper molecule generated for spectrum 3\n",
      "No proper molecule generated for spectrum 5\n",
      "No proper molecule generated for spectrum 9\n",
      "Problem with molecule from spectrum 2\n",
      "Problem with molecule from spectrum 3\n",
      "Problem with molecule from spectrum 5\n",
      "Problem with molecule from spectrum 9\n",
      "No proper molecule generated for spectrum 1\n",
      "No proper molecule generated for spectrum 4\n",
      "No proper molecule generated for spectrum 5\n",
      "No proper molecule generated for spectrum 7\n"
     ]
    },
    {
     "name": "stdout",
     "output_type": "stream",
     "text": [
      "Problem with molecule from spectrum 1\n",
      "Problem with molecule from spectrum 4\n",
      "Problem with molecule from spectrum 5\n",
      "Problem with molecule from spectrum 7\n",
      "No proper molecule generated for spectrum 5\n",
      "No proper molecule generated for spectrum 8\n",
      "Problem with molecule from spectrum 5\n",
      "Problem with molecule from spectrum 8\n",
      "No proper molecule generated for spectrum 0\n",
      "No proper molecule generated for spectrum 2\n",
      "No proper molecule generated for spectrum 7\n",
      "No proper molecule generated for spectrum 9\n",
      "Problem with molecule from spectrum 0\n",
      "Problem with molecule from spectrum 2\n",
      "Problem with molecule from spectrum 7\n",
      "Problem with molecule from spectrum 9\n",
      "No proper molecule generated for spectrum 3\n",
      "No proper molecule generated for spectrum 5\n",
      "No proper molecule generated for spectrum 9\n",
      "Problem with molecule from spectrum 3\n",
      "Problem with molecule from spectrum 5\n",
      "Problem with molecule from spectrum 9\n",
      "No proper molecule generated for spectrum 4\n",
      "No proper molecule generated for spectrum 7\n",
      "No proper molecule generated for spectrum 8\n",
      "Problem with molecule from spectrum 4\n",
      "Problem with molecule from spectrum 7\n",
      "Problem with molecule from spectrum 8\n",
      "No proper molecule generated for spectrum 0\n",
      "No proper molecule generated for spectrum 3\n",
      "No proper molecule generated for spectrum 6\n",
      "No proper molecule generated for spectrum 8\n",
      "Problem with molecule from spectrum 0\n",
      "Problem with molecule from spectrum 3\n",
      "Problem with molecule from spectrum 6\n",
      "Problem with molecule from spectrum 8\n",
      "No proper molecule generated for spectrum 1\n",
      "No proper molecule generated for spectrum 8\n",
      "No proper molecule generated for spectrum 9\n",
      "Problem with molecule from spectrum 1\n",
      "Problem with molecule from spectrum 8\n",
      "Problem with molecule from spectrum 9\n",
      "No proper molecule generated for spectrum 0\n",
      "No proper molecule generated for spectrum 1\n",
      "No proper molecule generated for spectrum 3\n",
      "No proper molecule generated for spectrum 4\n",
      "No proper molecule generated for spectrum 5\n",
      "No proper molecule generated for spectrum 9\n",
      "Problem with molecule from spectrum 0\n",
      "Problem with molecule from spectrum 1\n",
      "Problem with molecule from spectrum 3\n",
      "Problem with molecule from spectrum 4\n",
      "Problem with molecule from spectrum 5\n",
      "Problem with molecule from spectrum 9\n",
      "No proper molecule generated for spectrum 8\n",
      "Problem with molecule from spectrum 8\n",
      "No proper molecule generated for spectrum 0\n",
      "No proper molecule generated for spectrum 1\n",
      "No proper molecule generated for spectrum 2\n",
      "No proper molecule generated for spectrum 3\n",
      "No proper molecule generated for spectrum 6\n",
      "No proper molecule generated for spectrum 7\n",
      "No proper molecule generated for spectrum 9\n",
      "Problem with molecule from spectrum 0\n",
      "Problem with molecule from spectrum 1\n",
      "Problem with molecule from spectrum 2\n",
      "Problem with molecule from spectrum 3\n",
      "Problem with molecule from spectrum 6\n",
      "Problem with molecule from spectrum 7\n",
      "Problem with molecule from spectrum 9\n",
      "No proper molecule generated for spectrum 0\n",
      "No proper molecule generated for spectrum 3\n",
      "No proper molecule generated for spectrum 4\n",
      "No proper molecule generated for spectrum 6\n",
      "No proper molecule generated for spectrum 7\n",
      "No proper molecule generated for spectrum 8\n",
      "No proper molecule generated for spectrum 9\n",
      "Problem with molecule from spectrum 0\n",
      "Problem with molecule from spectrum 3\n",
      "Problem with molecule from spectrum 4\n",
      "Problem with molecule from spectrum 6\n",
      "Problem with molecule from spectrum 7\n",
      "Problem with molecule from spectrum 8\n",
      "Problem with molecule from spectrum 9\n",
      "No proper molecule generated for spectrum 0\n",
      "No proper molecule generated for spectrum 1\n",
      "No proper molecule generated for spectrum 2\n",
      "No proper molecule generated for spectrum 3\n",
      "Problem with molecule from spectrum 0\n",
      "Problem with molecule from spectrum 1\n",
      "Problem with molecule from spectrum 2\n",
      "Problem with molecule from spectrum 3\n",
      "No proper molecule generated for spectrum 1\n",
      "No proper molecule generated for spectrum 2\n",
      "No proper molecule generated for spectrum 3\n",
      "No proper molecule generated for spectrum 6\n",
      "No proper molecule generated for spectrum 7\n",
      "Problem with molecule from spectrum 1\n",
      "Problem with molecule from spectrum 2\n",
      "Problem with molecule from spectrum 3\n",
      "Problem with molecule from spectrum 6\n",
      "Problem with molecule from spectrum 7\n",
      "No proper molecule generated for spectrum 5\n",
      "No proper molecule generated for spectrum 6\n",
      "No proper molecule generated for spectrum 7\n",
      "No proper molecule generated for spectrum 8\n",
      "No proper molecule generated for spectrum 9\n",
      "Problem with molecule from spectrum 5\n",
      "Problem with molecule from spectrum 6\n",
      "Problem with molecule from spectrum 7\n",
      "Problem with molecule from spectrum 8\n",
      "Problem with molecule from spectrum 9\n",
      "No proper molecule generated for spectrum 0\n",
      "No proper molecule generated for spectrum 2\n",
      "No proper molecule generated for spectrum 3\n",
      "No proper molecule generated for spectrum 4\n",
      "No proper molecule generated for spectrum 8\n",
      "Problem with molecule from spectrum 0\n",
      "Problem with molecule from spectrum 2\n",
      "Problem with molecule from spectrum 3\n",
      "Problem with molecule from spectrum 4\n",
      "Problem with molecule from spectrum 8\n",
      "No proper molecule generated for spectrum 0\n",
      "No proper molecule generated for spectrum 1\n",
      "No proper molecule generated for spectrum 5\n",
      "No proper molecule generated for spectrum 7\n",
      "Problem with molecule from spectrum 0\n",
      "Problem with molecule from spectrum 1\n",
      "Problem with molecule from spectrum 5\n",
      "Problem with molecule from spectrum 7\n",
      "No proper molecule generated for spectrum 0\n",
      "No proper molecule generated for spectrum 1\n",
      "No proper molecule generated for spectrum 3\n",
      "No proper molecule generated for spectrum 6\n",
      "No proper molecule generated for spectrum 9\n",
      "Problem with molecule from spectrum 0\n",
      "Problem with molecule from spectrum 1\n",
      "Problem with molecule from spectrum 3\n",
      "Problem with molecule from spectrum 6\n",
      "Problem with molecule from spectrum 9\n",
      "No proper molecule generated for spectrum 6\n",
      "No proper molecule generated for spectrum 7\n",
      "No proper molecule generated for spectrum 8\n",
      "No proper molecule generated for spectrum 9\n",
      "Problem with molecule from spectrum 6\n",
      "Problem with molecule from spectrum 7\n",
      "Problem with molecule from spectrum 8\n",
      "Problem with molecule from spectrum 9\n",
      "No proper molecule generated for spectrum 0\n",
      "No proper molecule generated for spectrum 1\n",
      "No proper molecule generated for spectrum 5\n",
      "No proper molecule generated for spectrum 7\n",
      "No proper molecule generated for spectrum 8\n",
      "No proper molecule generated for spectrum 9\n",
      "Problem with molecule from spectrum 0\n",
      "Problem with molecule from spectrum 1\n",
      "Problem with molecule from spectrum 5\n",
      "Problem with molecule from spectrum 7\n",
      "Problem with molecule from spectrum 8\n",
      "Problem with molecule from spectrum 9\n",
      "No proper molecule generated for spectrum 0\n",
      "No proper molecule generated for spectrum 7\n",
      "No proper molecule generated for spectrum 8\n",
      "No proper molecule generated for spectrum 9\n",
      "Problem with molecule from spectrum 0\n",
      "Problem with molecule from spectrum 7\n",
      "Problem with molecule from spectrum 8\n",
      "Problem with molecule from spectrum 9\n",
      "No proper molecule generated for spectrum 0\n",
      "No proper molecule generated for spectrum 2\n",
      "No proper molecule generated for spectrum 3\n",
      "No proper molecule generated for spectrum 4\n",
      "Problem with molecule from spectrum 0\n",
      "Problem with molecule from spectrum 2\n",
      "Problem with molecule from spectrum 3\n",
      "Problem with molecule from spectrum 4\n",
      "No proper molecule generated for spectrum 1\n",
      "No proper molecule generated for spectrum 5\n",
      "No proper molecule generated for spectrum 8\n",
      "No proper molecule generated for spectrum 9\n",
      "Problem with molecule from spectrum 1\n",
      "Problem with molecule from spectrum 5\n",
      "Problem with molecule from spectrum 8\n",
      "Problem with molecule from spectrum 9\n",
      "No proper molecule generated for spectrum 0\n",
      "No proper molecule generated for spectrum 2\n",
      "No proper molecule generated for spectrum 3\n",
      "No proper molecule generated for spectrum 5\n",
      "No proper molecule generated for spectrum 6\n",
      "No proper molecule generated for spectrum 9\n",
      "Problem with molecule from spectrum 0\n",
      "Problem with molecule from spectrum 2\n",
      "Problem with molecule from spectrum 3\n",
      "Problem with molecule from spectrum 5\n",
      "Problem with molecule from spectrum 6\n",
      "Problem with molecule from spectrum 9\n",
      "No proper molecule generated for spectrum 2\n",
      "No proper molecule generated for spectrum 3\n",
      "No proper molecule generated for spectrum 5\n",
      "No proper molecule generated for spectrum 6\n",
      "Problem with molecule from spectrum 2\n",
      "Problem with molecule from spectrum 3\n",
      "Problem with molecule from spectrum 5\n",
      "Problem with molecule from spectrum 6\n",
      "No proper molecule generated for spectrum 3\n",
      "No proper molecule generated for spectrum 6\n",
      "No proper molecule generated for spectrum 7\n",
      "No proper molecule generated for spectrum 8\n",
      "No proper molecule generated for spectrum 9\n",
      "Problem with molecule from spectrum 3\n"
     ]
    },
    {
     "name": "stdout",
     "output_type": "stream",
     "text": [
      "Problem with molecule from spectrum 6\n",
      "Problem with molecule from spectrum 7\n",
      "Problem with molecule from spectrum 8\n",
      "Problem with molecule from spectrum 9\n",
      "No proper molecule generated for spectrum 2\n",
      "No proper molecule generated for spectrum 4\n",
      "No proper molecule generated for spectrum 5\n",
      "No proper molecule generated for spectrum 7\n",
      "Problem with molecule from spectrum 2\n",
      "Problem with molecule from spectrum 4\n",
      "Problem with molecule from spectrum 5\n",
      "Problem with molecule from spectrum 7\n",
      "No proper molecule generated for spectrum 0\n",
      "No proper molecule generated for spectrum 1\n",
      "No proper molecule generated for spectrum 3\n",
      "No proper molecule generated for spectrum 6\n",
      "No proper molecule generated for spectrum 7\n",
      "No proper molecule generated for spectrum 8\n",
      "Problem with molecule from spectrum 0\n",
      "Problem with molecule from spectrum 1\n",
      "Problem with molecule from spectrum 3\n",
      "Problem with molecule from spectrum 6\n",
      "Problem with molecule from spectrum 7\n",
      "Problem with molecule from spectrum 8\n",
      "No proper molecule generated for spectrum 1\n",
      "No proper molecule generated for spectrum 2\n",
      "No proper molecule generated for spectrum 3\n",
      "No proper molecule generated for spectrum 9\n",
      "Problem with molecule from spectrum 1\n",
      "Problem with molecule from spectrum 2\n",
      "Problem with molecule from spectrum 3\n",
      "Problem with molecule from spectrum 9\n",
      "No proper molecule generated for spectrum 1\n",
      "No proper molecule generated for spectrum 4\n",
      "No proper molecule generated for spectrum 5\n",
      "No proper molecule generated for spectrum 6\n",
      "No proper molecule generated for spectrum 9\n",
      "Problem with molecule from spectrum 1\n",
      "Problem with molecule from spectrum 4\n",
      "Problem with molecule from spectrum 5\n",
      "Problem with molecule from spectrum 6\n",
      "Problem with molecule from spectrum 9\n",
      "No proper molecule generated for spectrum 3\n",
      "No proper molecule generated for spectrum 4\n",
      "No proper molecule generated for spectrum 5\n",
      "No proper molecule generated for spectrum 6\n",
      "No proper molecule generated for spectrum 7\n",
      "Problem with molecule from spectrum 3\n",
      "Problem with molecule from spectrum 4\n",
      "Problem with molecule from spectrum 5\n",
      "Problem with molecule from spectrum 6\n",
      "Problem with molecule from spectrum 7\n",
      "No proper molecule generated for spectrum 4\n",
      "No proper molecule generated for spectrum 5\n",
      "Problem with molecule from spectrum 4\n",
      "Problem with molecule from spectrum 5\n",
      "No proper molecule generated for spectrum 2\n",
      "No proper molecule generated for spectrum 6\n",
      "No proper molecule generated for spectrum 8\n",
      "No proper molecule generated for spectrum 9\n",
      "Problem with molecule from spectrum 2\n",
      "Problem with molecule from spectrum 6\n",
      "Problem with molecule from spectrum 8\n",
      "Problem with molecule from spectrum 9\n",
      "No proper molecule generated for spectrum 0\n",
      "No proper molecule generated for spectrum 5\n",
      "Problem with molecule from spectrum 0\n",
      "Problem with molecule from spectrum 5\n",
      "No proper molecule generated for spectrum 2\n",
      "No proper molecule generated for spectrum 3\n",
      "No proper molecule generated for spectrum 4\n",
      "No proper molecule generated for spectrum 8\n",
      "No proper molecule generated for spectrum 9\n",
      "Problem with molecule from spectrum 2\n",
      "Problem with molecule from spectrum 3\n",
      "Problem with molecule from spectrum 4\n",
      "Problem with molecule from spectrum 8\n",
      "Problem with molecule from spectrum 9\n",
      "No proper molecule generated for spectrum 3\n",
      "No proper molecule generated for spectrum 4\n",
      "No proper molecule generated for spectrum 5\n",
      "No proper molecule generated for spectrum 6\n",
      "No proper molecule generated for spectrum 9\n",
      "Problem with molecule from spectrum 3\n",
      "Problem with molecule from spectrum 4\n",
      "Problem with molecule from spectrum 5\n",
      "Problem with molecule from spectrum 6\n",
      "Problem with molecule from spectrum 9\n",
      "No proper molecule generated for spectrum 0\n",
      "No proper molecule generated for spectrum 5\n",
      "No proper molecule generated for spectrum 6\n",
      "Problem with molecule from spectrum 0\n",
      "Problem with molecule from spectrum 5\n",
      "Problem with molecule from spectrum 6\n",
      "No proper molecule generated for spectrum 0\n",
      "No proper molecule generated for spectrum 3\n",
      "No proper molecule generated for spectrum 5\n",
      "No proper molecule generated for spectrum 9\n",
      "Problem with molecule from spectrum 0\n",
      "Problem with molecule from spectrum 3\n",
      "Problem with molecule from spectrum 5\n",
      "Problem with molecule from spectrum 9\n",
      "No proper molecule generated for spectrum 0\n",
      "No proper molecule generated for spectrum 4\n",
      "No proper molecule generated for spectrum 5\n",
      "No proper molecule generated for spectrum 8\n",
      "Problem with molecule from spectrum 0\n",
      "Problem with molecule from spectrum 4\n",
      "Problem with molecule from spectrum 5\n",
      "Problem with molecule from spectrum 8\n",
      "No proper molecule generated for spectrum 2\n",
      "No proper molecule generated for spectrum 6\n",
      "No proper molecule generated for spectrum 9\n",
      "Problem with molecule from spectrum 2\n",
      "Problem with molecule from spectrum 6\n",
      "Problem with molecule from spectrum 9\n",
      "No proper molecule generated for spectrum 1\n",
      "No proper molecule generated for spectrum 2\n",
      "No proper molecule generated for spectrum 3\n",
      "No proper molecule generated for spectrum 4\n",
      "No proper molecule generated for spectrum 9\n",
      "Problem with molecule from spectrum 1\n",
      "Problem with molecule from spectrum 2\n",
      "Problem with molecule from spectrum 3\n",
      "Problem with molecule from spectrum 4\n",
      "Problem with molecule from spectrum 9\n",
      "No proper molecule generated for spectrum 2\n",
      "No proper molecule generated for spectrum 5\n",
      "No proper molecule generated for spectrum 6\n",
      "No proper molecule generated for spectrum 8\n",
      "No proper molecule generated for spectrum 9\n",
      "Problem with molecule from spectrum 2\n",
      "Problem with molecule from spectrum 5\n",
      "Problem with molecule from spectrum 6\n",
      "Problem with molecule from spectrum 8\n",
      "Problem with molecule from spectrum 9\n",
      "No proper molecule generated for spectrum 1\n",
      "No proper molecule generated for spectrum 2\n",
      "No proper molecule generated for spectrum 3\n",
      "Problem with molecule from spectrum 1\n",
      "Problem with molecule from spectrum 2\n",
      "Problem with molecule from spectrum 3\n",
      "No proper molecule generated for spectrum 1\n",
      "No proper molecule generated for spectrum 2\n",
      "No proper molecule generated for spectrum 4\n",
      "No proper molecule generated for spectrum 8\n",
      "Problem with molecule from spectrum 1\n",
      "Problem with molecule from spectrum 2\n",
      "Problem with molecule from spectrum 4\n",
      "Problem with molecule from spectrum 8\n",
      "No proper molecule generated for spectrum 0\n",
      "No proper molecule generated for spectrum 9\n",
      "Problem with molecule from spectrum 0\n",
      "Problem with molecule from spectrum 9\n",
      "No proper molecule generated for spectrum 1\n",
      "No proper molecule generated for spectrum 2\n",
      "No proper molecule generated for spectrum 8\n",
      "No proper molecule generated for spectrum 9\n",
      "Problem with molecule from spectrum 1\n",
      "Problem with molecule from spectrum 2\n",
      "Problem with molecule from spectrum 8\n",
      "Problem with molecule from spectrum 9\n",
      "No proper molecule generated for spectrum 5\n",
      "Problem with molecule from spectrum 5\n",
      "No proper molecule generated for spectrum 1\n",
      "No proper molecule generated for spectrum 3\n",
      "No proper molecule generated for spectrum 7\n",
      "Problem with molecule from spectrum 1\n",
      "Problem with molecule from spectrum 3\n",
      "Problem with molecule from spectrum 7\n",
      "No proper molecule generated for spectrum 0\n",
      "No proper molecule generated for spectrum 1\n",
      "No proper molecule generated for spectrum 2\n",
      "No proper molecule generated for spectrum 3\n",
      "No proper molecule generated for spectrum 6\n",
      "Problem with molecule from spectrum 0\n",
      "Problem with molecule from spectrum 1\n",
      "Problem with molecule from spectrum 2\n",
      "Problem with molecule from spectrum 3\n",
      "Problem with molecule from spectrum 6\n",
      "No proper molecule generated for spectrum 0\n",
      "No proper molecule generated for spectrum 1\n",
      "No proper molecule generated for spectrum 2\n",
      "No proper molecule generated for spectrum 6\n",
      "No proper molecule generated for spectrum 7\n",
      "Problem with molecule from spectrum 0\n",
      "Problem with molecule from spectrum 1\n",
      "Problem with molecule from spectrum 2\n",
      "Problem with molecule from spectrum 6\n",
      "Problem with molecule from spectrum 7\n",
      "No proper molecule generated for spectrum 2\n",
      "No proper molecule generated for spectrum 3\n",
      "No proper molecule generated for spectrum 4\n",
      "No proper molecule generated for spectrum 6\n",
      "No proper molecule generated for spectrum 9\n",
      "Problem with molecule from spectrum 2\n",
      "Problem with molecule from spectrum 3\n",
      "Problem with molecule from spectrum 4\n",
      "Problem with molecule from spectrum 6\n",
      "Problem with molecule from spectrum 9\n",
      "No proper molecule generated for spectrum 4\n",
      "No proper molecule generated for spectrum 6\n",
      "No proper molecule generated for spectrum 7\n",
      "Problem with molecule from spectrum 4\n",
      "Problem with molecule from spectrum 6\n",
      "Problem with molecule from spectrum 7\n",
      "No proper molecule generated for spectrum 2\n",
      "No proper molecule generated for spectrum 4\n",
      "No proper molecule generated for spectrum 6\n",
      "No proper molecule generated for spectrum 7\n",
      "Problem with molecule from spectrum 2\n",
      "Problem with molecule from spectrum 4\n",
      "Problem with molecule from spectrum 6\n",
      "Problem with molecule from spectrum 7\n",
      "No proper molecule generated for spectrum 2\n",
      "No proper molecule generated for spectrum 3\n",
      "No proper molecule generated for spectrum 6\n",
      "No proper molecule generated for spectrum 8\n",
      "No proper molecule generated for spectrum 9\n"
     ]
    },
    {
     "name": "stdout",
     "output_type": "stream",
     "text": [
      "Problem with molecule from spectrum 2\n",
      "Problem with molecule from spectrum 3\n",
      "Problem with molecule from spectrum 6\n",
      "Problem with molecule from spectrum 8\n",
      "Problem with molecule from spectrum 9\n",
      "No proper molecule generated for spectrum 1\n",
      "Problem with molecule from spectrum 1\n",
      "No proper molecule generated for spectrum 0\n",
      "No proper molecule generated for spectrum 2\n",
      "No proper molecule generated for spectrum 3\n",
      "No proper molecule generated for spectrum 4\n",
      "No proper molecule generated for spectrum 5\n",
      "No proper molecule generated for spectrum 6\n",
      "No proper molecule generated for spectrum 8\n",
      "Problem with molecule from spectrum 0\n",
      "Problem with molecule from spectrum 2\n",
      "Problem with molecule from spectrum 3\n",
      "Problem with molecule from spectrum 4\n",
      "Problem with molecule from spectrum 5\n",
      "Problem with molecule from spectrum 6\n",
      "Problem with molecule from spectrum 8\n",
      "No proper molecule generated for spectrum 0\n",
      "No proper molecule generated for spectrum 4\n",
      "No proper molecule generated for spectrum 5\n",
      "No proper molecule generated for spectrum 7\n",
      "No proper molecule generated for spectrum 9\n",
      "Problem with molecule from spectrum 0\n",
      "Problem with molecule from spectrum 4\n",
      "Problem with molecule from spectrum 5\n",
      "Problem with molecule from spectrum 7\n",
      "Problem with molecule from spectrum 9\n",
      "No proper molecule generated for spectrum 1\n",
      "No proper molecule generated for spectrum 2\n",
      "No proper molecule generated for spectrum 3\n",
      "No proper molecule generated for spectrum 4\n",
      "No proper molecule generated for spectrum 7\n",
      "Problem with molecule from spectrum 1\n",
      "Problem with molecule from spectrum 2\n",
      "Problem with molecule from spectrum 3\n",
      "Problem with molecule from spectrum 4\n",
      "Problem with molecule from spectrum 7\n",
      "No proper molecule generated for spectrum 2\n",
      "Problem with molecule from spectrum 2\n",
      "No proper molecule generated for spectrum 4\n",
      "No proper molecule generated for spectrum 5\n",
      "No proper molecule generated for spectrum 9\n",
      "Problem with molecule from spectrum 4\n",
      "Problem with molecule from spectrum 5\n",
      "Problem with molecule from spectrum 9\n",
      "No proper molecule generated for spectrum 1\n",
      "No proper molecule generated for spectrum 2\n",
      "No proper molecule generated for spectrum 3\n",
      "No proper molecule generated for spectrum 5\n",
      "No proper molecule generated for spectrum 6\n",
      "No proper molecule generated for spectrum 7\n",
      "No proper molecule generated for spectrum 8\n",
      "No proper molecule generated for spectrum 9\n",
      "Problem with molecule from spectrum 1\n",
      "Problem with molecule from spectrum 2\n",
      "Problem with molecule from spectrum 3\n",
      "Problem with molecule from spectrum 5\n",
      "Problem with molecule from spectrum 6\n",
      "Problem with molecule from spectrum 7\n",
      "Problem with molecule from spectrum 8\n",
      "Problem with molecule from spectrum 9\n",
      "No proper molecule generated for spectrum 3\n",
      "No proper molecule generated for spectrum 4\n",
      "No proper molecule generated for spectrum 5\n",
      "No proper molecule generated for spectrum 8\n",
      "Problem with molecule from spectrum 3\n",
      "Problem with molecule from spectrum 4\n",
      "Problem with molecule from spectrum 5\n",
      "Problem with molecule from spectrum 8\n",
      "No proper molecule generated for spectrum 1\n",
      "No proper molecule generated for spectrum 2\n",
      "No proper molecule generated for spectrum 4\n",
      "No proper molecule generated for spectrum 6\n",
      "No proper molecule generated for spectrum 8\n",
      "Problem with molecule from spectrum 1\n",
      "Problem with molecule from spectrum 2\n",
      "Problem with molecule from spectrum 4\n",
      "Problem with molecule from spectrum 6\n",
      "Problem with molecule from spectrum 8\n",
      "No proper molecule generated for spectrum 2\n",
      "No proper molecule generated for spectrum 3\n",
      "No proper molecule generated for spectrum 6\n",
      "No proper molecule generated for spectrum 8\n",
      "Problem with molecule from spectrum 2\n",
      "Problem with molecule from spectrum 3\n",
      "Problem with molecule from spectrum 6\n",
      "Problem with molecule from spectrum 8\n",
      "No proper molecule generated for spectrum 0\n",
      "No proper molecule generated for spectrum 2\n",
      "No proper molecule generated for spectrum 7\n",
      "No proper molecule generated for spectrum 9\n",
      "Problem with molecule from spectrum 0\n",
      "Problem with molecule from spectrum 2\n",
      "Problem with molecule from spectrum 7\n",
      "Problem with molecule from spectrum 9\n",
      "No proper molecule generated for spectrum 3\n",
      "No proper molecule generated for spectrum 4\n",
      "No proper molecule generated for spectrum 8\n",
      "No proper molecule generated for spectrum 9\n",
      "Problem with molecule from spectrum 3\n",
      "Problem with molecule from spectrum 4\n",
      "Problem with molecule from spectrum 8\n",
      "Problem with molecule from spectrum 9\n",
      "No proper molecule generated for spectrum 1\n",
      "No proper molecule generated for spectrum 2\n",
      "No proper molecule generated for spectrum 3\n",
      "No proper molecule generated for spectrum 6\n",
      "No proper molecule generated for spectrum 7\n",
      "No proper molecule generated for spectrum 8\n",
      "No proper molecule generated for spectrum 9\n",
      "Problem with molecule from spectrum 1\n",
      "Problem with molecule from spectrum 2\n",
      "Problem with molecule from spectrum 3\n",
      "Problem with molecule from spectrum 6\n",
      "Problem with molecule from spectrum 7\n",
      "Problem with molecule from spectrum 8\n",
      "Problem with molecule from spectrum 9\n",
      "No proper molecule generated for spectrum 0\n",
      "No proper molecule generated for spectrum 2\n",
      "No proper molecule generated for spectrum 8\n",
      "No proper molecule generated for spectrum 9\n",
      "Problem with molecule from spectrum 0\n",
      "Problem with molecule from spectrum 2\n",
      "Problem with molecule from spectrum 8\n",
      "Problem with molecule from spectrum 9\n",
      "No proper molecule generated for spectrum 0\n",
      "No proper molecule generated for spectrum 4\n",
      "No proper molecule generated for spectrum 8\n",
      "Problem with molecule from spectrum 0\n",
      "Problem with molecule from spectrum 4\n",
      "Problem with molecule from spectrum 8\n",
      "No proper molecule generated for spectrum 0\n",
      "No proper molecule generated for spectrum 1\n",
      "No proper molecule generated for spectrum 2\n",
      "No proper molecule generated for spectrum 3\n",
      "No proper molecule generated for spectrum 8\n",
      "Problem with molecule from spectrum 0\n",
      "Problem with molecule from spectrum 1\n",
      "Problem with molecule from spectrum 2\n",
      "Problem with molecule from spectrum 3\n",
      "Problem with molecule from spectrum 8\n",
      "No proper molecule generated for spectrum 1\n",
      "No proper molecule generated for spectrum 3\n",
      "No proper molecule generated for spectrum 4\n",
      "No proper molecule generated for spectrum 5\n",
      "No proper molecule generated for spectrum 6\n",
      "No proper molecule generated for spectrum 9\n",
      "Problem with molecule from spectrum 1\n",
      "Problem with molecule from spectrum 3\n",
      "Problem with molecule from spectrum 4\n",
      "Problem with molecule from spectrum 5\n",
      "Problem with molecule from spectrum 6\n",
      "Problem with molecule from spectrum 9\n",
      "No proper molecule generated for spectrum 0\n",
      "No proper molecule generated for spectrum 2\n",
      "No proper molecule generated for spectrum 3\n",
      "No proper molecule generated for spectrum 5\n",
      "No proper molecule generated for spectrum 6\n",
      "Problem with molecule from spectrum 0\n",
      "Problem with molecule from spectrum 2\n",
      "Problem with molecule from spectrum 3\n",
      "Problem with molecule from spectrum 5\n",
      "Problem with molecule from spectrum 6\n",
      "No proper molecule generated for spectrum 0\n",
      "No proper molecule generated for spectrum 1\n",
      "No proper molecule generated for spectrum 2\n",
      "No proper molecule generated for spectrum 3\n",
      "No proper molecule generated for spectrum 4\n",
      "No proper molecule generated for spectrum 6\n",
      "No proper molecule generated for spectrum 7\n",
      "Problem with molecule from spectrum 0\n",
      "Problem with molecule from spectrum 1\n",
      "Problem with molecule from spectrum 2\n",
      "Problem with molecule from spectrum 3\n",
      "Problem with molecule from spectrum 4\n",
      "Problem with molecule from spectrum 6\n",
      "Problem with molecule from spectrum 7\n",
      "No proper molecule generated for spectrum 1\n",
      "No proper molecule generated for spectrum 3\n",
      "No proper molecule generated for spectrum 5\n",
      "No proper molecule generated for spectrum 8\n",
      "Problem with molecule from spectrum 1\n",
      "Problem with molecule from spectrum 3\n",
      "Problem with molecule from spectrum 5\n",
      "Problem with molecule from spectrum 8\n",
      "No proper molecule generated for spectrum 0\n",
      "No proper molecule generated for spectrum 2\n",
      "No proper molecule generated for spectrum 3\n",
      "No proper molecule generated for spectrum 4\n",
      "No proper molecule generated for spectrum 5\n",
      "Problem with molecule from spectrum 0\n",
      "Problem with molecule from spectrum 2\n",
      "Problem with molecule from spectrum 3\n",
      "Problem with molecule from spectrum 4\n",
      "Problem with molecule from spectrum 5\n",
      "No proper molecule generated for spectrum 1\n",
      "No proper molecule generated for spectrum 3\n",
      "No proper molecule generated for spectrum 5\n",
      "No proper molecule generated for spectrum 7\n",
      "No proper molecule generated for spectrum 8\n",
      "No proper molecule generated for spectrum 9\n",
      "Problem with molecule from spectrum 1\n",
      "Problem with molecule from spectrum 3\n",
      "Problem with molecule from spectrum 5\n",
      "Problem with molecule from spectrum 7\n",
      "Problem with molecule from spectrum 8\n",
      "Problem with molecule from spectrum 9\n",
      "No proper molecule generated for spectrum 6\n",
      "No proper molecule generated for spectrum 7\n"
     ]
    },
    {
     "name": "stdout",
     "output_type": "stream",
     "text": [
      "No proper molecule generated for spectrum 8\n",
      "Problem with molecule from spectrum 6\n",
      "Problem with molecule from spectrum 7\n",
      "Problem with molecule from spectrum 8\n",
      "No proper molecule generated for spectrum 0\n",
      "No proper molecule generated for spectrum 1\n",
      "No proper molecule generated for spectrum 3\n",
      "No proper molecule generated for spectrum 5\n",
      "No proper molecule generated for spectrum 6\n",
      "No proper molecule generated for spectrum 8\n",
      "No proper molecule generated for spectrum 9\n",
      "Problem with molecule from spectrum 0\n",
      "Problem with molecule from spectrum 1\n",
      "Problem with molecule from spectrum 3\n",
      "Problem with molecule from spectrum 5\n",
      "Problem with molecule from spectrum 6\n",
      "Problem with molecule from spectrum 8\n",
      "Problem with molecule from spectrum 9\n"
     ]
    }
   ],
   "source": [
    "\n",
    "np.random.seed(42)\n",
    "random_ID = np.random.choice(np.arange(len(spectra_unknown)),100)\n",
    "random_ID_2 = np.random.choice(np.arange(len(spectra_library)),10 * 100)\n",
    "\n",
    "mol_sim_matches = []\n",
    "\n",
    "for i in range(100):\n",
    "    match_IDs = random_ID_2[i*10:(i*10+10)]\n",
    "    ID = random_ID[i]\n",
    "    \n",
    "    if len(match_IDs) > 0:\n",
    "        fingerprint_query, _ = MS_functions.get_mol_fingerprints([spectra_unknown[ID]], \n",
    "                                                                 method = \"daylight\", #morgan3\", \n",
    "                                                                 nBits = 2048,\n",
    "                                                                 print_progress = False)\n",
    "        fingerprint_matches, _ = MS_functions.get_mol_fingerprints([spectra_library[x] for x in match_IDs], \n",
    "                                                                 method = \"daylight\", #morgan3\",  \n",
    "                                                                 nBits = 2048,\n",
    "                                                                 print_progress = False)\n",
    "\n",
    "        # calculate similarities\n",
    "        Mtest = MS_sim_classic.mol_sim_matrix(fingerprint_query,\n",
    "                                               fingerprint_matches,\n",
    "                                               method = 'jaccard',\n",
    "                                               filename = None,\n",
    "                                               max_size = 1000,\n",
    "                                               print_progress = False)\n",
    "\n",
    "        mol_sim_matches.append(Mtest)"
   ]
  },
  {
   "cell_type": "code",
   "execution_count": 329,
   "metadata": {},
   "outputs": [
    {
     "data": {
      "text/plain": [
       "[array([[0.        , 0.        , 0.13891726, 0.05349794, 0.18943089,\n",
       "         0.2217484 , 0.2738676 , 0.27395412, 0.27296417, 0.28678118]]),\n",
       " array([[0.        , 0.        , 0.11969697, 0.        , 0.13126761,\n",
       "         0.        , 0.        , 0.12215321, 0.10433884, 0.35483871]])]"
      ]
     },
     "execution_count": 329,
     "metadata": {},
     "output_type": "execute_result"
    }
   ],
   "source": [
    "mol_sim_matches[:2]"
   ]
  },
  {
   "cell_type": "code",
   "execution_count": 355,
   "metadata": {},
   "outputs": [
    {
     "data": {
      "text/plain": [
       "array([0.13891726, 0.05349794, 0.18943089, 0.2217484 , 0.2738676 ,\n",
       "       0.27395412, 0.27296417, 0.28678118, 0.11969697, 0.13126761,\n",
       "       0.12215321, 0.10433884, 0.35483871, 0.15384615, 0.52958153,\n",
       "       0.11245675, 0.23003195, 0.10692771, 0.24435484, 0.12758621,\n",
       "       0.08944544, 0.28343313, 0.18998273, 0.1826087 , 0.44969819,\n",
       "       0.15894737, 0.22103004, 0.07564103, 0.13340807, 0.19727891,\n",
       "       0.36178344, 0.11042184, 0.1302682 , 0.19625   , 0.15420561,\n",
       "       0.09577922, 0.39988152, 0.26974952, 0.38127295, 0.33639144,\n",
       "       0.35392921, 0.05527994, 0.35289515, 0.27556512, 0.26770538,\n",
       "       0.24849095, 0.33431373, 0.69936709, 0.4162473 , 0.18575293,\n",
       "       0.35545024, 0.48348348, 0.16393443, 0.16895874, 0.17230769,\n",
       "       0.16782407, 0.05894309, 0.25      , 0.12864078, 0.22873194,\n",
       "       0.25503778, 0.25378788, 0.17576318, 0.25235849, 0.32728495,\n",
       "       0.24206642, 0.4594438 , 0.30996564, 0.1876466 , 0.33377483,\n",
       "       0.14895947, 0.09162717, 0.5032538 , 0.18655589, 0.2363765 ,\n",
       "       0.38771186, 0.18307692, 0.07238883, 0.06692913, 0.08154506,\n",
       "       0.07093023, 0.16163142, 0.30357143, 0.28711656, 0.02677942,\n",
       "       0.1598916 , 0.31405965, 0.58959196, 0.27106742, 0.44866469,\n",
       "       0.42943305, 0.35862516, 0.41475645, 0.18008949, 0.14112903,\n",
       "       0.15789474, 0.18049491, 0.16517286, 0.26536585, 0.3747646 ])"
      ]
     },
     "execution_count": 355,
     "metadata": {},
     "output_type": "execute_result"
    }
   ],
   "source": [
    "test = np.array([x[0,:] for x in mol_sim_matches])\n",
    "test[test>0][:100]"
   ]
  },
  {
   "cell_type": "code",
   "execution_count": 363,
   "metadata": {},
   "outputs": [
    {
     "data": {
      "text/plain": [
       "Text(0, 0.5, 'number of matches')"
      ]
     },
     "execution_count": 363,
     "metadata": {},
     "output_type": "execute_result"
    },
    {
     "data": {
      "image/png": "[encoded data removed]",
      "text/plain": [
       "<Figure size 648x432 with 1 Axes>"
      ]
     },
     "metadata": {},
     "output_type": "display_data"
    }
   ],
   "source": [
    "plt.style.use('ggplot')\n",
    "plt.figure(figsize=(9,6))\n",
    "plt.hist(test[test>0], 25)\n",
    "plt.xlabel('molecular similarity for random pairs \\n (rdkit-2048 fingerprint --> jaccard score)')\n",
    "plt.ylabel('number of matches')"
   ]
  },
  {
   "cell_type": "markdown",
   "metadata": {},
   "source": [
    "## Search including S2V and mod.cosine scores (at least one must be high...)"
   ]
  },
  {
   "cell_type": "code",
   "execution_count": 292,
   "metadata": {},
   "outputs": [
    {
     "name": "stdout",
     "output_type": "stream",
     "text": [
      "No proper molecule generated for spectrum 0\n",
      "No proper molecule generated for spectrum 1\n",
      "No proper molecule generated for spectrum 2\n",
      "Problem with molecule from spectrum 0\n",
      "Problem with molecule from spectrum 1\n",
      "Problem with molecule from spectrum 2\n"
     ]
    }
   ],
   "source": [
    "# parameter:\n",
    "acceptable_s2v = 0.6\n",
    "acceptable_modcos = 0.8\n",
    "\n",
    "mol_sim_matches = []\n",
    "list_sv2 = []\n",
    "list_modcos = []\n",
    "list_copies = []\n",
    "\n",
    "for ID in range(len(spectra_unknown)):\n",
    "    idx = found_matches[ID][(found_matches[ID]['S2V_top_n']==1)\n",
    "                                  & ((found_matches[ID]['S2V_similarity'] > acceptable_s2v)\n",
    "                                  | (found_matches[ID]['modcosine_score'] > acceptable_modcos))].index.tolist()\n",
    "                                  #& (found_matches[ID]['inchikey_copies'] >= min_copies)].index.tolist()\n",
    "    match_IDs = found_matches[ID].loc[idx]['spectra_ID'].values.tolist()\n",
    "    \n",
    "    if len(match_IDs) > 0:\n",
    "        fingerprint_query, _ = MS_functions.get_mol_fingerprints([spectra_unknown[ID]], \n",
    "                                                                 method = \"daylight\", #morgan3\", \n",
    "                                                                 nBits = 2048,\n",
    "                                                                 print_progress = False)\n",
    "        fingerprint_matches, _ = MS_functions.get_mol_fingerprints([spectra_library[x] for x in match_IDs], \n",
    "                                                                 method = \"daylight\", #morgan3\",  \n",
    "                                                                 nBits = 2048,\n",
    "                                                                 print_progress = False)\n",
    "\n",
    "        # calculate similarities\n",
    "        Mtest = MS_sim_classic.mol_sim_matrix(fingerprint_query,\n",
    "                                               fingerprint_matches,\n",
    "                                               method = 'jaccard',\n",
    "                                               filename = None,\n",
    "                                               max_size = 1000,\n",
    "                                               print_progress = False)\n",
    "\n",
    "        mol_sim_matches.append(Mtest)\n",
    "\n",
    "        list_sv2.append(found_matches[ID].loc[idx]['S2V_similarity'].values.tolist())\n",
    "        list_modcos.append(found_matches[ID].loc[idx]['modcosine_score'].values.tolist())\n",
    "        list_copies.append(found_matches[ID].loc[idx]['inchikey_copies'].values.tolist())"
   ]
  },
  {
   "cell_type": "markdown",
   "metadata": {},
   "source": [
    "### select from top-1o list, e.g. based on modcos"
   ]
  },
  {
   "cell_type": "code",
   "execution_count": 299,
   "metadata": {},
   "outputs": [],
   "source": [
    "best_pick = []\n",
    "for i, sv2 in enumerate(list_sv2):\n",
    "    #best_pick += [(np.array(sv2) * np.array(list_modcos[i]) * np.log(np.array([list_copies[i]])+1)).argmax()]\n",
    "    best_pick += [(0*np.array(sv2) + np.array(list_modcos[i])).argmax()]"
   ]
  },
  {
   "cell_type": "code",
   "execution_count": 300,
   "metadata": {},
   "outputs": [
    {
     "name": "stdout",
     "output_type": "stream",
     "text": [
      "Found matches for 775 spectra out of 994 spectra in total.\n",
      "Sort top10 by s2v + modcos:\n",
      "Good matches found (>0.5): 429\n",
      "Poor matches found (<=0.5): 346\n",
      "Mean molecular similarity: 0.5701088156179014\n",
      "\n",
      " Sort top10 by s2v only:\n",
      "Good matches found (>0.5): 392\n",
      "Poor matches found (<=0.5): 383\n",
      "Mean molecular similarity: 0.5447613701466203\n"
     ]
    }
   ],
   "source": [
    "good_bad = 0.4\n",
    "\n",
    "print(\"Found matches for\", len(mol_sim_matches), \n",
    "      \"spectra out of\", len(spectra_unknown), \"spectra in total.\")\n",
    "\n",
    "nums = len(mol_sim_matches)\n",
    "print(\"Sort top10 by s2v + modcos:\")\n",
    "print(\"Good matches found (>\"+str(good_bad)+\":\", np.sum(np.array([mol_sim_matches[i][0][best_pick[i]] for i in range(nums)]) > good_bad))\n",
    "print(\"Poor matches found (<=\"+str(good_bad)+\":\", np.sum(np.array([mol_sim_matches[i][0][best_pick[i]] for i in range(nums)]) <= good_bad))\n",
    "print(\"Mean molecular similarity:\", np.mean([mol_sim_matches[i][0][best_pick[i]] for i in range(nums)]))\n",
    "print(\"\\n Sort top10 by s2v only:\")\n",
    "print(\"Good matches found (>\"+str(good_bad)+\":\", np.sum(np.array([x[0][0] for x in mol_sim_matches]) > good_bad))\n",
    "print(\"Poor matches found (<=\"+str(good_bad)+\":\", np.sum(np.array([x[0][0] for x in mol_sim_matches]) <= good_bad))\n",
    "print(\"Mean molecular similarity:\", np.mean([x[0][0] for x in mol_sim_matches]))"
   ]
  },
  {
   "cell_type": "code",
   "execution_count": 302,
   "metadata": {},
   "outputs": [
    {
     "data": {
      "text/plain": [
       "Text(0, 0.5, 'number of matches')"
      ]
     },
     "execution_count": 302,
     "metadata": {},
     "output_type": "execute_result"
    },
    {
     "data": {
      "image/png": "[encoded data removed]",
      "text/plain": [
       "<Figure size 576x360 with 1 Axes>"
      ]
     },
     "metadata": {},
     "output_type": "display_data"
    }
   ],
   "source": [
    "plt.style.use('ggplot')\n",
    "plt.figure(figsize=(8,5))\n",
    "plt.hist(np.array([mol_sim_matches[i][0][best_pick[i]] for i in range(nums)]), 25)\n",
    "plt.xlabel('molecular similarity (rdkit-2048 fingerprint --> jaccard score)')\n",
    "plt.ylabel('number of matches')"
   ]
  },
  {
   "cell_type": "markdown",
   "metadata": {},
   "source": [
    "### Pick best actual candidate from top-10 suggestions"
   ]
  },
  {
   "cell_type": "code",
   "execution_count": 303,
   "metadata": {
    "scrolled": false
   },
   "outputs": [
    {
     "data": {
      "text/plain": [
       "Text(0, 0.5, 'number of matches')"
      ]
     },
     "execution_count": 303,
     "metadata": {},
     "output_type": "execute_result"
    },
    {
     "data": {
      "image/png": "[encoded data removed]",
      "text/plain": [
       "<Figure size 576x360 with 1 Axes>"
      ]
     },
     "metadata": {},
     "output_type": "display_data"
    }
   ],
   "source": [
    "plt.style.use('ggplot')\n",
    "plt.figure(figsize=(8,5))\n",
    "plt.hist(np.array([max(x[0]) for x in mol_sim_matches]), 25)\n",
    "plt.xlabel('best found molecular similarity among Spec2Vec (rdkit-2048 fingerprint --> jaccard score)')\n",
    "plt.ylabel('number of matches')"
   ]
  },
  {
   "cell_type": "code",
   "execution_count": 304,
   "metadata": {},
   "outputs": [
    {
     "name": "stdout",
     "output_type": "stream",
     "text": [
      "Good matches found (>0.5): 497\n",
      "Poor matches found (<=0.5): 278\n"
     ]
    }
   ],
   "source": [
    "print(\"Good matches found (>0.5):\", np.sum(np.array([max(x[0]) for x in mol_sim_matches]) > 0.5))\n",
    "print(\"Poor matches found (<=0.5):\", np.sum(np.array([max(x[0]) for x in mol_sim_matches]) <= 0.5))"
   ]
  },
  {
   "cell_type": "markdown",
   "metadata": {},
   "source": [
    "## Search including S2V and mod.cosine scores (at least one must be very high...)"
   ]
  },
  {
   "cell_type": "code",
   "execution_count": 392,
   "metadata": {},
   "outputs": [
    {
     "name": "stdout",
     "output_type": "stream",
     "text": [
      "No proper molecule generated for spectrum 0\n",
      "Problem with molecule from spectrum 0\n"
     ]
    }
   ],
   "source": [
    "# parameter:\n",
    "acceptable_s2v = 0.7\n",
    "acceptable_modcos = 0.85\n",
    "\n",
    "mol_sim_matches = []\n",
    "list_sv2 = []\n",
    "list_modcos = []\n",
    "list_copies = []\n",
    "\n",
    "for ID in range(len(spectra_unknown)):\n",
    "    idx = found_matches[ID][(found_matches[ID]['S2V_top_n']==1)\n",
    "                                  & ((found_matches[ID]['S2V_similarity'] > acceptable_s2v)\n",
    "                                  | (found_matches[ID]['modcosine_score'] > acceptable_modcos))].index.tolist()\n",
    "                                  #& (found_matches[ID]['inchikey_copies'] >= min_copies)].index.tolist()\n",
    "    match_IDs = found_matches[ID].loc[idx]['spectra_ID'].values.tolist()\n",
    "    \n",
    "    if len(match_IDs) > 0:\n",
    "        fingerprint_query, _ = MS_functions.get_mol_fingerprints([spectra_unknown[ID]], \n",
    "                                                                 method = \"daylight\", #morgan3\", \n",
    "                                                                 nBits = 2048,\n",
    "                                                                 print_progress = False)\n",
    "        fingerprint_matches, _ = MS_functions.get_mol_fingerprints([spectra_library[x] for x in match_IDs], \n",
    "                                                                 method = \"daylight\", #morgan3\",  \n",
    "                                                                 nBits = 2048,\n",
    "                                                                 print_progress = False)\n",
    "\n",
    "        # calculate similarities\n",
    "        Mtest = MS_sim_classic.mol_sim_matrix(fingerprint_query,\n",
    "                                               fingerprint_matches,\n",
    "                                               method = 'jaccard',\n",
    "                                               filename = None,\n",
    "                                               max_size = 1000,\n",
    "                                               print_progress = False)\n",
    "\n",
    "        mol_sim_matches.append(Mtest)\n",
    "\n",
    "        list_sv2.append(found_matches[ID].loc[idx]['S2V_similarity'].values.tolist())\n",
    "        list_modcos.append(found_matches[ID].loc[idx]['modcosine_score'].values.tolist())\n",
    "        list_copies.append(found_matches[ID].loc[idx]['inchikey_copies'].values.tolist())"
   ]
  },
  {
   "cell_type": "markdown",
   "metadata": {},
   "source": [
    "### select from top-1o list, e.g. based on modcos"
   ]
  },
  {
   "cell_type": "code",
   "execution_count": 393,
   "metadata": {},
   "outputs": [],
   "source": [
    "best_pick = []\n",
    "for i, sv2 in enumerate(list_sv2):\n",
    "    best_pick += [np.array(list_modcos[i]).argmax()]"
   ]
  },
  {
   "cell_type": "code",
   "execution_count": 403,
   "metadata": {},
   "outputs": [
    {
     "name": "stdout",
     "output_type": "stream",
     "text": [
      "Found matches for 607 spectra out of 994 spectra in total.\n",
      "Sort top10 by s2v + modcos:\n",
      "Good matches found (>0.4: 391\n",
      "Poor matches found (<=0.4: 216\n",
      "Mean molecular similarity: 0.5896905432190563\n",
      "\n",
      " Sort top10 by s2v only:\n",
      "Good matches found (>0.4: 361\n",
      "Poor matches found (<=0.4: 246\n",
      "Mean molecular similarity: 0.5579333715615429\n"
     ]
    }
   ],
   "source": [
    "good_bad = 0.4\n",
    "\n",
    "print(\"Found matches for\", len(mol_sim_matches), \n",
    "      \"spectra out of\", len(spectra_unknown), \"spectra in total.\")\n",
    "\n",
    "nums = len(mol_sim_matches)\n",
    "print(\"Sort top10 by s2v + modcos:\")\n",
    "print(\"Good matches found (>\"+str(good_bad)+\":\", np.sum(np.array([mol_sim_matches[i][0][best_pick[i]] for i in range(nums)]) > good_bad))\n",
    "print(\"Poor matches found (<=\"+str(good_bad)+\":\", np.sum(np.array([mol_sim_matches[i][0][best_pick[i]] for i in range(nums)]) <= good_bad))\n",
    "print(\"Mean molecular similarity:\", np.mean([mol_sim_matches[i][0][best_pick[i]] for i in range(nums)]))\n",
    "print(\"\\n Sort top10 by s2v only:\")\n",
    "print(\"Good matches found (>\"+str(good_bad)+\":\", np.sum(np.array([x[0][0] for x in mol_sim_matches]) > good_bad))\n",
    "print(\"Poor matches found (<=\"+str(good_bad)+\":\", np.sum(np.array([x[0][0] for x in mol_sim_matches]) <= good_bad))\n",
    "print(\"Mean molecular similarity:\", np.mean([x[0][0] for x in mol_sim_matches]))"
   ]
  },
  {
   "cell_type": "code",
   "execution_count": 400,
   "metadata": {},
   "outputs": [
    {
     "data": {
      "text/plain": [
       "Text(0, 0.5, 'number of matches')"
      ]
     },
     "execution_count": 400,
     "metadata": {},
     "output_type": "execute_result"
    },
    {
     "data": {
      "image/png": "[encoded data removed]",
      "text/plain": [
       "<Figure size 576x360 with 1 Axes>"
      ]
     },
     "metadata": {},
     "output_type": "display_data"
    }
   ],
   "source": [
    "plt.style.use('ggplot')\n",
    "plt.figure(figsize=(8,5))\n",
    "plt.hist(np.array([mol_sim_matches[i][0][best_pick[i]] for i in range(nums)]), 20)\n",
    "plt.xlabel('molecular similarity (rdkit-2048 fingerprint --> jaccard score)')\n",
    "plt.ylabel('number of matches')"
   ]
  },
  {
   "cell_type": "markdown",
   "metadata": {},
   "source": [
    "### Pick best actual candidate from top-10 suggestions"
   ]
  },
  {
   "cell_type": "code",
   "execution_count": 397,
   "metadata": {
    "scrolled": false
   },
   "outputs": [
    {
     "data": {
      "text/plain": [
       "Text(0, 0.5, 'number of matches')"
      ]
     },
     "execution_count": 397,
     "metadata": {},
     "output_type": "execute_result"
    },
    {
     "data": {
      "image/png": "[encoded data removed]",
      "text/plain": [
       "<Figure size 576x360 with 1 Axes>"
      ]
     },
     "metadata": {},
     "output_type": "display_data"
    }
   ],
   "source": [
    "plt.style.use('ggplot')\n",
    "plt.figure(figsize=(8,5))\n",
    "plt.hist(np.array([max(x[0]) for x in mol_sim_matches]), 20)\n",
    "plt.xlabel('best found molecular similarity among Spec2Vec (rdkit-2048 fingerprint --> jaccard score)')\n",
    "plt.ylabel('number of matches')"
   ]
  },
  {
   "cell_type": "code",
   "execution_count": 404,
   "metadata": {},
   "outputs": [
    {
     "name": "stdout",
     "output_type": "stream",
     "text": [
      "Good matches found (>0.4: 447\n",
      "Poor matches found (<=0.4: 160\n"
     ]
    }
   ],
   "source": [
    "print(\"Good matches found (>\"+str(good_bad)+\":\", np.sum(np.array([max(x[0]) for x in mol_sim_matches]) > good_bad))\n",
    "print(\"Poor matches found (<=\"+str(good_bad)+\":\", np.sum(np.array([max(x[0]) for x in mol_sim_matches]) <= good_bad))"
   ]
  },
  {
   "cell_type": "code",
   "execution_count": null,
   "metadata": {},
   "outputs": [],
   "source": []
  },
  {
   "cell_type": "code",
   "execution_count": null,
   "metadata": {},
   "outputs": [],
   "source": []
  },
  {
   "cell_type": "markdown",
   "metadata": {},
   "source": [
    "## Use precursor mz to search similar spectra"
   ]
  },
  {
   "cell_type": "code",
   "execution_count": 101,
   "metadata": {},
   "outputs": [
    {
     "name": "stdout",
     "output_type": "stream",
     "text": [
      "No proper molecule generated for spectrum 3\n",
      "No proper molecule generated for spectrum 4\n",
      "No proper molecule generated for spectrum 5\n",
      "No proper molecule generated for spectrum 6\n",
      "Problem with molecule from spectrum 3\n",
      "Problem with molecule from spectrum 4\n",
      "Problem with molecule from spectrum 5\n",
      "Problem with molecule from spectrum 6\n"
     ]
    }
   ],
   "source": [
    "mol_sim_matches_mass = []\n",
    "\n",
    "for ID in range(len(spectra_unknown)):\n",
    "    match_IDs = found_matches[ID][found_matches[ID]['mass_match_10ppm']==1]['spectra_ID'].values.tolist()\n",
    "    if len(match_IDs) > 0:\n",
    "        fingerprint_query, _ = MS_functions.get_mol_fingerprints([spectra_unknown[ID]], \n",
    "                                                                 method = \"daylight\", #morgan3\", \n",
    "                                                                 nBits = 2048,\n",
    "                                                                 print_progress = False)\n",
    "        fingerprint_matches, _ = MS_functions.get_mol_fingerprints([spectra_library[x] for x in match_IDs], \n",
    "                                                                 method = \"daylight\", #morgan3\",  \n",
    "                                                                 nBits = 2048,\n",
    "                                                                 print_progress = False)\n",
    "\n",
    "        # calculate similarities\n",
    "        Mtest = MS_sim_classic.mol_sim_matrix(fingerprint_query,\n",
    "                                               fingerprint_matches,\n",
    "                                               method = 'jaccard',\n",
    "                                               filename = None,\n",
    "                                               max_size = 1000,\n",
    "                                               print_progress = False)\n",
    "\n",
    "        mol_sim_matches_mass.append(Mtest)"
   ]
  },
  {
   "cell_type": "code",
   "execution_count": 102,
   "metadata": {},
   "outputs": [
    {
     "name": "stdout",
     "output_type": "stream",
     "text": [
      "Found matches for 617 spectra out of 994 spectra in total.\n"
     ]
    }
   ],
   "source": [
    "print(\"Found matches for\", len(mol_sim_matches_mass), \"spectra out of\", len(spectra_unknown), \"spectra in total.\")"
   ]
  },
  {
   "cell_type": "code",
   "execution_count": 103,
   "metadata": {},
   "outputs": [
    {
     "data": {
      "text/plain": [
       "array([0.46958705, 0.4591534 , 0.46448891, 0.47239599, 0.45815543,\n",
       "       0.48435784, 0.51347674, 0.48661704, 0.47868342, 0.48633372])"
      ]
     },
     "execution_count": 103,
     "metadata": {},
     "output_type": "execute_result"
    }
   ],
   "source": [
    "mol_sim_matches_mass_mean = np.zeros((10))\n",
    "mol_sim_matches_mass_counts = np.zeros((10))\n",
    "top1_lst = []\n",
    "\n",
    "for matches in mol_sim_matches_mass:\n",
    "    matches = np.nan_to_num(matches[0])\n",
    "    high = min(len(matches),10)\n",
    "    if high > 0:\n",
    "        top1_lst.append(matches[0])\n",
    "        mol_sim_matches_mass_mean[:high] = mol_sim_matches_mass_mean[:high] + np.array(matches[:high])\n",
    "        mol_sim_matches_mass_counts[:high] = mol_sim_matches_mass_counts[:high] + np.ones(high)\n",
    "\n",
    "mol_sim_matches_mass_arr1 = np.array(top1_lst)    \n",
    "    \n",
    "mol_sim_matches_mass_mean/mol_sim_matches_mass_counts"
   ]
  },
  {
   "cell_type": "code",
   "execution_count": 164,
   "metadata": {},
   "outputs": [
    {
     "data": {
      "text/plain": [
       "Text(0, 0.5, 'number of matches')"
      ]
     },
     "execution_count": 164,
     "metadata": {},
     "output_type": "execute_result"
    },
    {
     "data": {
      "image/png": "[encoded data removed]",
      "text/plain": [
       "<Figure size 648x432 with 1 Axes>"
      ]
     },
     "metadata": {},
     "output_type": "display_data"
    }
   ],
   "source": [
    "plt.style.use('ggplot')\n",
    "plt.figure(figsize=(9,6))\n",
    "plt.hist(mol_sim_matches_mass_arr1, 25)\n",
    "plt.xlabel('molecular similarity (rdkit-2048 fingerprint --> jaccard score)')\n",
    "plt.ylabel('number of matches')"
   ]
  },
  {
   "cell_type": "markdown",
   "metadata": {},
   "source": [
    "## Same for morgan3 fingerprints and cosine similarity"
   ]
  },
  {
   "cell_type": "code",
   "execution_count": 32,
   "metadata": {},
   "outputs": [
    {
     "data": {
      "text/plain": [
       "(array([ 44.,  69., 116.,  64.,  63.,  16.,  25.,  10.,  30.,  21.,  29.,\n",
       "          8.,   1.,   9.,   1.,   9.,   6.,  47.,  18.,   0.,   2.,   3.,\n",
       "          1.,   9.,  16.]),\n",
       " array([0.06745406, 0.10432808, 0.1412021 , 0.17807612, 0.21495013,\n",
       "        0.25182415, 0.28869817, 0.32557219, 0.3624462 , 0.39932022,\n",
       "        0.43619424, 0.47306826, 0.50994228, 0.54681629, 0.58369031,\n",
       "        0.62056433, 0.65743835, 0.69431236, 0.73118638, 0.7680604 ,\n",
       "        0.80493442, 0.84180843, 0.87868245, 0.91555647, 0.95243049,\n",
       "        0.98930451]),\n",
       " <a list of 25 Patch objects>)"
      ]
     },
     "execution_count": 32,
     "metadata": {},
     "output_type": "execute_result"
    },
    {
     "data": {
      "image/png": "[encoded data removed]",
      "text/plain": [
       "<Figure size 432x288 with 1 Axes>"
      ]
     },
     "metadata": {
      "needs_background": "light"
     },
     "output_type": "display_data"
    }
   ],
   "source": [
    "plt.hist(mol_sim_matches_mass_arr1, 25)"
   ]
  },
  {
   "cell_type": "markdown",
   "metadata": {},
   "source": [
    "## Search for both mass and S2V score"
   ]
  },
  {
   "cell_type": "code",
   "execution_count": 106,
   "metadata": {},
   "outputs": [
    {
     "name": "stdout",
     "output_type": "stream",
     "text": [
      "No proper molecule generated for spectrum 0\n",
      "No proper molecule generated for spectrum 1\n",
      "No proper molecule generated for spectrum 2\n",
      "Problem with molecule from spectrum 0\n",
      "Problem with molecule from spectrum 1\n",
      "Problem with molecule from spectrum 2\n"
     ]
    }
   ],
   "source": [
    "mol_sim_matches_mass_s2vmodcos = []\n",
    "\n",
    "for ID in range(len(spectra_unknown)):\n",
    "    match_IDs = found_matches[ID][((found_matches[ID]['mass_match_10ppm']==1)\n",
    "                                 & (found_matches[ID]['modcosine_score'] > 0.5))\n",
    "                                 | ((found_matches[ID]['S2V_top_n']==1)\n",
    "                                  & (found_matches[ID]['S2V_similarity'] > 0.6))]['spectra_ID'].values.tolist()\n",
    "    if len(match_IDs) > 0:\n",
    "        fingerprint_query, _ = MS_functions.get_mol_fingerprints([spectra_unknown[ID]], \n",
    "                                                                 method = \"daylight\", #morgan3\", \n",
    "                                                                 nBits = 2048,\n",
    "                                                                 print_progress = False)\n",
    "        fingerprint_matches, _ = MS_functions.get_mol_fingerprints([spectra_library[x] for x in match_IDs], \n",
    "                                                                 method = \"daylight\", #morgan3\",  \n",
    "                                                                 nBits = 2048,\n",
    "                                                                 print_progress = False)\n",
    "\n",
    "        # calculate similarities\n",
    "        Mtest = MS_sim_classic.mol_sim_matrix(fingerprint_query,\n",
    "                                               fingerprint_matches,\n",
    "                                               method = 'jaccard',\n",
    "                                               filename = None,\n",
    "                                               max_size = 1000,\n",
    "                                               print_progress = False)\n",
    "\n",
    "        mol_sim_matches_mass_s2vmodcos.append(Mtest)"
   ]
  },
  {
   "cell_type": "code",
   "execution_count": 110,
   "metadata": {},
   "outputs": [
    {
     "data": {
      "text/plain": [
       "array([0.55602125, 0.54701678, 0.51963064, 0.50768641, 0.50288268,\n",
       "       0.50292098, 0.49342038, 0.47766954, 0.46776428, 0.48075081])"
      ]
     },
     "execution_count": 110,
     "metadata": {},
     "output_type": "execute_result"
    }
   ],
   "source": [
    "mol_sim_matches_mass_s2vmodcos_mean = np.zeros((10))\n",
    "mol_sim_matches_mass_s2vmodcos_counts = np.zeros((10))\n",
    "top1_lst = []\n",
    "\n",
    "for matches in mol_sim_matches_mass_s2vmodcos:\n",
    "    matches = np.nan_to_num(matches[0])\n",
    "    high = min(len(matches),10)\n",
    "    if high > 0:\n",
    "        top1_lst.append(matches[0])\n",
    "        mol_sim_matches_mass_s2vmodcos_mean[:high] = mol_sim_matches_mass_s2vmodcos_mean[:high] + np.array(matches[:high])\n",
    "        mol_sim_matches_mass_s2vmodcos_counts[:high] = mol_sim_matches_mass_s2vmodcos_counts[:high] + np.ones(high)\n",
    "\n",
    "mol_sim_matches_mass_s2vmodcos_arr1 = np.array(top1_lst)    \n",
    "    \n",
    "mol_sim_matches_mass_s2vmodcos_mean/mol_sim_matches_mass_s2vmodcos_counts"
   ]
  },
  {
   "cell_type": "code",
   "execution_count": 111,
   "metadata": {},
   "outputs": [
    {
     "data": {
      "text/plain": [
       "(array([ 10.,  22.,  36.,  53.,  31.,  24.,  29.,  18.,  41.,  29.,  15.,\n",
       "         16.,  29.,  16.,  15.,  12.,  21.,  24.,  15.,  39.,  10.,  10.,\n",
       "         37.,  62., 107.]),\n",
       " array([0.  , 0.04, 0.08, 0.12, 0.16, 0.2 , 0.24, 0.28, 0.32, 0.36, 0.4 ,\n",
       "        0.44, 0.48, 0.52, 0.56, 0.6 , 0.64, 0.68, 0.72, 0.76, 0.8 , 0.84,\n",
       "        0.88, 0.92, 0.96, 1.  ]),\n",
       " <a list of 25 Patch objects>)"
      ]
     },
     "execution_count": 111,
     "metadata": {},
     "output_type": "execute_result"
    },
    {
     "data": {
      "image/png": "[encoded data removed]",
      "text/plain": [
       "<Figure size 432x288 with 1 Axes>"
      ]
     },
     "metadata": {
      "needs_background": "light"
     },
     "output_type": "display_data"
    }
   ],
   "source": [
    "plt.hist(mol_sim_matches_mass_s2vmodcos_arr1, 25)"
   ]
  },
  {
   "cell_type": "markdown",
   "metadata": {},
   "source": [
    "## Same search but compared to morgan3 fingerprints + cosine similarity"
   ]
  },
  {
   "cell_type": "code",
   "execution_count": 38,
   "metadata": {},
   "outputs": [
    {
     "data": {
      "text/plain": [
       "(array([ 8., 20., 32., 55., 50., 46., 30., 37., 51., 27., 19., 18., 19.,\n",
       "        22., 19., 18., 18., 34., 54., 17., 20., 47.,  7., 12., 24.]),\n",
       " array([0.  , 0.04, 0.08, 0.12, 0.16, 0.2 , 0.24, 0.28, 0.32, 0.36, 0.4 ,\n",
       "        0.44, 0.48, 0.52, 0.56, 0.6 , 0.64, 0.68, 0.72, 0.76, 0.8 , 0.84,\n",
       "        0.88, 0.92, 0.96, 1.  ]),\n",
       " <a list of 25 Patch objects>)"
      ]
     },
     "execution_count": 38,
     "metadata": {},
     "output_type": "execute_result"
    },
    {
     "data": {
      "image/png": "[encoded data removed]",
      "text/plain": [
       "<Figure size 432x288 with 1 Axes>"
      ]
     },
     "metadata": {
      "needs_background": "light"
     },
     "output_type": "display_data"
    }
   ],
   "source": [
    "plt.hist(np.array([x[0][0] for x in mol_sim_matches_s2v_thres]), 25)"
   ]
  },
  {
   "cell_type": "code",
   "execution_count": 39,
   "metadata": {},
   "outputs": [
    {
     "data": {
      "text/plain": [
       "[29762]"
      ]
     },
     "execution_count": 39,
     "metadata": {},
     "output_type": "execute_result"
    }
   ],
   "source": [
    "ID = 80\n",
    "match_IDs = found_matches[ID][(found_matches[ID]['S2V_top_n']==1)\n",
    "                                  & (found_matches[ID]['S2V_similarity'] > 0.5)\n",
    "                                  & (found_matches[ID]['modcosine_score'] > 0.5)]['spectra_ID'].values.tolist()\n",
    "match_IDs"
   ]
  },
  {
   "cell_type": "code",
   "execution_count": 41,
   "metadata": {},
   "outputs": [
    {
     "name": "stdout",
     "output_type": "stream",
     "text": [
      "Query spectra ---------------- \n",
      " SMILES: [H][C@]1(CC(/C=C/C)=CN21)C(O)NC3=C(O)C(C)=C(O[C@@H]4O[C@@H](C)[C@H](NC)[C@@](C)(O)[C@H]4O)C=C3C2=O \n",
      " INCHIKEY: RAGFPHFDFVNLCG-OKNUHWCXSA-N \n",
      " TITLE: Sibiromycin hemiaminal\n",
      "Proposed similar spectra ---------------- \n",
      " SMILES: [H][C@]1(CC(CCCC)CN21)C(O)NC3=C(O)C(C)=C(O[C@@H]4O[C@@H](C)[C@H](NC)[C@@](C)(O)[C@H]4O)C=C3C2=O \n",
      " INCHIKEY: YWAXVDLXUXRDHL-NLUDKXEPSA-N \n",
      " TITLE: Sibiromycin-494 hemiaminal\n"
     ]
    }
   ],
   "source": [
    "ID = 100\n",
    "\n",
    "match_IDs = found_matches[ID][(found_matches[ID]['S2V_top_n']==1)\n",
    "                                  & (found_matches[ID]['S2V_similarity'] > 0.5)\n",
    "                                  & (found_matches[ID]['modcosine_score'] > 0.5)]['spectra_ID'].values.tolist()\n",
    "if len(match_IDs) > 0:\n",
    "    print(\"Query spectra ----------------\", '\\n',\n",
    "          \"SMILES:\", spectra_unknown[ID].smiles, '\\n',\n",
    "          \"INCHIKEY:\", spectra_unknown[ID].inchikey, '\\n',\n",
    "          \"TITLE:\", spectra_unknown[ID].metadata['title'])\n",
    "    print(\"Proposed similar spectra ----------------\", '\\n',\n",
    "          \"SMILES:\", spectra[library_spectra_metadata.iloc[match_IDs].index[0]].smiles, '\\n',\n",
    "          \"INCHIKEY:\", spectra[library_spectra_metadata.iloc[match_IDs].index[0]].inchikey, '\\n',\n",
    "         \"TITLE:\", spectra[library_spectra_metadata.iloc[match_IDs].index[0]].metadata['title'])"
   ]
  },
  {
   "cell_type": "code",
   "execution_count": 42,
   "metadata": {},
   "outputs": [
    {
     "name": "stdout",
     "output_type": "stream",
     "text": [
      "Query spectra ---------------- \n",
      " SMILES: CC(=CCCC(C)([C@H]1CC[C@]2(C)[C@@H]1[C@@H](CC1[C@@]3(C)CC[C@@H](C(C)(C)[C@@H]3CC[C@@]21C)O[C@H]1[C@@H]([C@H]([C@@H]([C@@H](CO)O1)O)O)O[C@H]1[C@@H]([C@H]([C@@H]([C@@H](CO)O1)O)O)O)O)O)C \n",
      " INCHIKEY: RWXIFXNRCLMQCD-XXYKJBRESA-N \n",
      " TITLE: (2S,3R,4S,5S,6R)-2-[(2R,3R,4S,5S,6R)-4,5-dihydroxy-2-[[(3S,5R,8R,10R,12R,13R,14R,17S)-12-hydroxy-17-(2-hydroxy-6-methylhept-5-en-2-yl)-4,4,8,10,14-pentamethyl-2,3,5,6,7,9,11,12,13,15,16,17-dodecahydro-1H-cyclopenta[a]phenanthren-3-yl]oxy]-6-(hydroxymethyl)oxan-3-yl]oxy-6-(hydroxymethyl)oxane-3,4,5-triol\n",
      "Proposed similar spectra ---------------- \n",
      " SMILES: CC(=CCC[C@@](C)([C@H]1CC[C@]2(C)[C@@H]1[C@@H](CC1[C@@]3(C)CC[C@@H](C(C)(C)[C@@H]3[C@H](C[C@@]21C)O[C@H]1[C@@H]([C@H]([C@@H]([C@@H](CO)O1)O)O)O[C@H]1[C@@H]([C@H]([C@@H]([C@@H](CO)O1)O)O)O)O)O)O)C \n",
      " INCHIKEY: UZIOUZHBUYLDHW-KIOKIGKZSA-N \n",
      " TITLE: (2S,3R,4S,5S,6R)-2-[(2R,3R,4S,5S,6R)-2-[[(3S,5R,6S,8R,10R,12R,13R,14R,17S)-3,12-dihydroxy-17-[(2S)-2-hydroxy-6-methylhept-5-en-2-yl]-4,4,8,10,14-pentamethyl-2,3,5,6,7,9,11,12,13,15,16,17-dodecahydro-1H-cyclopenta[a]phenanthren-6-yl]oxy]-4,5-dihydroxy-6-(hydroxymethyl)oxan-3-yl]oxy-6-(hydroxymethyl)oxane-3,4,5-triol\n"
     ]
    }
   ],
   "source": [
    "ID = 140\n",
    "\n",
    "match_IDs = found_matches[ID][(found_matches[ID]['S2V_top_n']==1)\n",
    "                                  & (found_matches[ID]['S2V_similarity'] > 0.5)\n",
    "                                  & (found_matches[ID]['modcosine_score'] > 0.5)]['spectra_ID'].values.tolist()\n",
    "if len(match_IDs) > 0:\n",
    "    print(\"Query spectra ----------------\", '\\n',\n",
    "          \"SMILES:\", spectra_unknown[ID].smiles, '\\n',\n",
    "          \"INCHIKEY:\", spectra_unknown[ID].inchikey, '\\n',\n",
    "          \"TITLE:\", spectra_unknown[ID].metadata['title'])\n",
    "    print(\"Proposed similar spectra ----------------\", '\\n',\n",
    "          \"SMILES:\", spectra[library_spectra_metadata.iloc[match_IDs].index[0]].smiles, '\\n',\n",
    "          \"INCHIKEY:\", spectra[library_spectra_metadata.iloc[match_IDs].index[0]].inchikey, '\\n',\n",
    "         \"TITLE:\", spectra[library_spectra_metadata.iloc[match_IDs].index[0]].metadata['title'])\n"
   ]
  },
  {
   "cell_type": "markdown",
   "metadata": {},
   "source": [
    "## Inspect results"
   ]
  },
  {
   "cell_type": "code",
   "execution_count": 309,
   "metadata": {},
   "outputs": [],
   "source": [
    "from rdkit import Chem\n",
    "from rdkit.Chem import Draw"
   ]
  },
  {
   "cell_type": "code",
   "execution_count": 42,
   "metadata": {},
   "outputs": [
    {
     "name": "stdout",
     "output_type": "stream",
     "text": [
      "Scour processed file \"draw_mols2.svg\" in 31 ms: 6530/9757 bytes new/orig -> 66.9%\n"
     ]
    }
   ],
   "source": [
    "#!scour -i draw_mols2.svg -o draw_mols2corr.svg"
   ]
  },
  {
   "cell_type": "code",
   "execution_count": 310,
   "metadata": {},
   "outputs": [],
   "source": [
    "from IPython.display import SVG, display\n",
    "\n",
    "def plot_molecule(smiles_lst):\n",
    "    if not isinstance(smiles_lst, list):\n",
    "        smiles_lst = [smiles_lst]\n",
    "    for smiles in smiles_lst:\n",
    "        filename = \"draw_mols_temp.svg\"\n",
    "        mol = Chem.MolFromSmiles(smiles)\n",
    "        Draw.MolToFile(mol, filename)\n",
    "        !scour -i draw_mols_temp.svg -o draw_mols_temp_corr.svg\n",
    "\n",
    "        display(SVG(filename='draw_mols_temp_corr.svg'))"
   ]
  },
  {
   "cell_type": "code",
   "execution_count": 311,
   "metadata": {},
   "outputs": [
    {
     "name": "stderr",
     "output_type": "stream",
     "text": [
      "Traceback (most recent call last):\n",
      "  File \"c:\\users\\florianhuber\\anaconda3\\envs\\sesime\\lib\\runpy.py\", line 193, in _run_module_as_main\n",
      "    \"__main__\", mod_spec)\n",
      "  File \"c:\\users\\florianhuber\\anaconda3\\envs\\sesime\\lib\\runpy.py\", line 85, in _run_code\n",
      "    exec(code, run_globals)\n",
      "  File \"C:\\Users\\FlorianHuber\\Anaconda3\\envs\\SeSiMe\\Scripts\\scour.exe\\__main__.py\", line 9, in <module>\n",
      "  File \"c:\\users\\florianhuber\\anaconda3\\envs\\sesime\\lib\\site-packages\\scour\\scour.py\", line 3979, in run\n",
      "    start(options, input, output)\n",
      "  File \"c:\\users\\florianhuber\\anaconda3\\envs\\sesime\\lib\\site-packages\\scour\\scour.py\", line 3947, in start\n",
      "    out_string = scourString(in_string, options).encode(\"UTF-8\")\n",
      "  File \"c:\\users\\florianhuber\\anaconda3\\envs\\sesime\\lib\\site-packages\\scour\\scour.py\", line 3439, in scourString\n",
      "    doc = xml.dom.minidom.parseString(in_string)\n",
      "  File \"c:\\users\\florianhuber\\anaconda3\\envs\\sesime\\lib\\xml\\dom\\minidom.py\", line 1968, in parseString\n",
      "    return expatbuilder.parseString(string)\n",
      "  File \"c:\\users\\florianhuber\\anaconda3\\envs\\sesime\\lib\\xml\\dom\\expatbuilder.py\", line 925, in parseString\n",
      "    return builder.parseString(string)\n",
      "  File \"c:\\users\\florianhuber\\anaconda3\\envs\\sesime\\lib\\xml\\dom\\expatbuilder.py\", line 223, in parseString\n",
      "    parser.Parse(string, True)\n",
      "xml.parsers.expat.ExpatError: no element found: line 1, column 0\n"
     ]
    },
    {
     "ename": "ExpatError",
     "evalue": "no element found: line 1, column 0",
     "output_type": "error",
     "traceback": [
      "\u001b[1;31m---------------------------------------------------------------------------\u001b[0m",
      "\u001b[1;31mExpatError\u001b[0m                                Traceback (most recent call last)",
      "\u001b[1;32m<ipython-input-311-b95cf571c16e>\u001b[0m in \u001b[0;36m<module>\u001b[1;34m\u001b[0m\n\u001b[1;32m----> 1\u001b[1;33m \u001b[0mplot_molecule\u001b[0m\u001b[1;33m(\u001b[0m\u001b[1;34m\"[H][C@]1(CC(/C=C/C)=CN21)C(O)NC3=C(O)C(C)=C(O[C@@H]4O[C@@H](C)[C@H](NC)[C@@](C)(O)[C@H]4O)C=C3C2=O\"\u001b[0m\u001b[1;33m)\u001b[0m\u001b[1;33m\u001b[0m\u001b[1;33m\u001b[0m\u001b[0m\n\u001b[0m",
      "\u001b[1;32m<ipython-input-310-43e850d8b0b6>\u001b[0m in \u001b[0;36mplot_molecule\u001b[1;34m(smiles_lst)\u001b[0m\n\u001b[0;32m     10\u001b[0m         \u001b[0mget_ipython\u001b[0m\u001b[1;33m(\u001b[0m\u001b[1;33m)\u001b[0m\u001b[1;33m.\u001b[0m\u001b[0msystem\u001b[0m\u001b[1;33m(\u001b[0m\u001b[1;34m'scour -i draw_mols_temp.svg -o draw_mols_temp_corr.svg'\u001b[0m\u001b[1;33m)\u001b[0m\u001b[1;33m\u001b[0m\u001b[1;33m\u001b[0m\u001b[0m\n\u001b[0;32m     11\u001b[0m \u001b[1;33m\u001b[0m\u001b[0m\n\u001b[1;32m---> 12\u001b[1;33m         \u001b[0mdisplay\u001b[0m\u001b[1;33m(\u001b[0m\u001b[0mSVG\u001b[0m\u001b[1;33m(\u001b[0m\u001b[0mfilename\u001b[0m\u001b[1;33m=\u001b[0m\u001b[1;34m'draw_mols_temp_corr.svg'\u001b[0m\u001b[1;33m)\u001b[0m\u001b[1;33m)\u001b[0m\u001b[1;33m\u001b[0m\u001b[1;33m\u001b[0m\u001b[0m\n\u001b[0m",
      "\u001b[1;32m~\\Anaconda3\\envs\\SeSiMe\\lib\\site-packages\\IPython\\core\\display.py\u001b[0m in \u001b[0;36m__init__\u001b[1;34m(self, data, url, filename, metadata)\u001b[0m\n\u001b[0;32m    625\u001b[0m             \u001b[0mself\u001b[0m\u001b[1;33m.\u001b[0m\u001b[0mmetadata\u001b[0m \u001b[1;33m=\u001b[0m \u001b[1;33m{\u001b[0m\u001b[1;33m}\u001b[0m\u001b[1;33m\u001b[0m\u001b[1;33m\u001b[0m\u001b[0m\n\u001b[0;32m    626\u001b[0m \u001b[1;33m\u001b[0m\u001b[0m\n\u001b[1;32m--> 627\u001b[1;33m         \u001b[0mself\u001b[0m\u001b[1;33m.\u001b[0m\u001b[0mreload\u001b[0m\u001b[1;33m(\u001b[0m\u001b[1;33m)\u001b[0m\u001b[1;33m\u001b[0m\u001b[1;33m\u001b[0m\u001b[0m\n\u001b[0m\u001b[0;32m    628\u001b[0m         \u001b[0mself\u001b[0m\u001b[1;33m.\u001b[0m\u001b[0m_check_data\u001b[0m\u001b[1;33m(\u001b[0m\u001b[1;33m)\u001b[0m\u001b[1;33m\u001b[0m\u001b[1;33m\u001b[0m\u001b[0m\n\u001b[0;32m    629\u001b[0m \u001b[1;33m\u001b[0m\u001b[0m\n",
      "\u001b[1;32m~\\Anaconda3\\envs\\SeSiMe\\lib\\site-packages\\IPython\\core\\display.py\u001b[0m in \u001b[0;36mreload\u001b[1;34m(self)\u001b[0m\n\u001b[0;32m    651\u001b[0m         \u001b[1;32mif\u001b[0m \u001b[0mself\u001b[0m\u001b[1;33m.\u001b[0m\u001b[0mfilename\u001b[0m \u001b[1;32mis\u001b[0m \u001b[1;32mnot\u001b[0m \u001b[1;32mNone\u001b[0m\u001b[1;33m:\u001b[0m\u001b[1;33m\u001b[0m\u001b[1;33m\u001b[0m\u001b[0m\n\u001b[0;32m    652\u001b[0m             \u001b[1;32mwith\u001b[0m \u001b[0mopen\u001b[0m\u001b[1;33m(\u001b[0m\u001b[0mself\u001b[0m\u001b[1;33m.\u001b[0m\u001b[0mfilename\u001b[0m\u001b[1;33m,\u001b[0m \u001b[0mself\u001b[0m\u001b[1;33m.\u001b[0m\u001b[0m_read_flags\u001b[0m\u001b[1;33m)\u001b[0m \u001b[1;32mas\u001b[0m \u001b[0mf\u001b[0m\u001b[1;33m:\u001b[0m\u001b[1;33m\u001b[0m\u001b[1;33m\u001b[0m\u001b[0m\n\u001b[1;32m--> 653\u001b[1;33m                 \u001b[0mself\u001b[0m\u001b[1;33m.\u001b[0m\u001b[0mdata\u001b[0m \u001b[1;33m=\u001b[0m \u001b[0mf\u001b[0m\u001b[1;33m.\u001b[0m\u001b[0mread\u001b[0m\u001b[1;33m(\u001b[0m\u001b[1;33m)\u001b[0m\u001b[1;33m\u001b[0m\u001b[1;33m\u001b[0m\u001b[0m\n\u001b[0m\u001b[0;32m    654\u001b[0m         \u001b[1;32melif\u001b[0m \u001b[0mself\u001b[0m\u001b[1;33m.\u001b[0m\u001b[0murl\u001b[0m \u001b[1;32mis\u001b[0m \u001b[1;32mnot\u001b[0m \u001b[1;32mNone\u001b[0m\u001b[1;33m:\u001b[0m\u001b[1;33m\u001b[0m\u001b[1;33m\u001b[0m\u001b[0m\n\u001b[0;32m    655\u001b[0m             \u001b[1;32mtry\u001b[0m\u001b[1;33m:\u001b[0m\u001b[1;33m\u001b[0m\u001b[1;33m\u001b[0m\u001b[0m\n",
      "\u001b[1;32m~\\Anaconda3\\envs\\SeSiMe\\lib\\site-packages\\IPython\\core\\display.py\u001b[0m in \u001b[0;36mdata\u001b[1;34m(self, svg)\u001b[0m\n\u001b[0;32m    754\u001b[0m         \u001b[1;31m# parse into dom object\u001b[0m\u001b[1;33m\u001b[0m\u001b[1;33m\u001b[0m\u001b[1;33m\u001b[0m\u001b[0m\n\u001b[0;32m    755\u001b[0m         \u001b[1;32mfrom\u001b[0m \u001b[0mxml\u001b[0m\u001b[1;33m.\u001b[0m\u001b[0mdom\u001b[0m \u001b[1;32mimport\u001b[0m \u001b[0mminidom\u001b[0m\u001b[1;33m\u001b[0m\u001b[1;33m\u001b[0m\u001b[0m\n\u001b[1;32m--> 756\u001b[1;33m         \u001b[0mx\u001b[0m \u001b[1;33m=\u001b[0m \u001b[0mminidom\u001b[0m\u001b[1;33m.\u001b[0m\u001b[0mparseString\u001b[0m\u001b[1;33m(\u001b[0m\u001b[0msvg\u001b[0m\u001b[1;33m)\u001b[0m\u001b[1;33m\u001b[0m\u001b[1;33m\u001b[0m\u001b[0m\n\u001b[0m\u001b[0;32m    757\u001b[0m         \u001b[1;31m# get svg tag (should be 1)\u001b[0m\u001b[1;33m\u001b[0m\u001b[1;33m\u001b[0m\u001b[1;33m\u001b[0m\u001b[0m\n\u001b[0;32m    758\u001b[0m         \u001b[0mfound_svg\u001b[0m \u001b[1;33m=\u001b[0m \u001b[0mx\u001b[0m\u001b[1;33m.\u001b[0m\u001b[0mgetElementsByTagName\u001b[0m\u001b[1;33m(\u001b[0m\u001b[1;34m'svg'\u001b[0m\u001b[1;33m)\u001b[0m\u001b[1;33m\u001b[0m\u001b[1;33m\u001b[0m\u001b[0m\n",
      "\u001b[1;32m~\\Anaconda3\\envs\\SeSiMe\\lib\\xml\\dom\\minidom.py\u001b[0m in \u001b[0;36mparseString\u001b[1;34m(string, parser)\u001b[0m\n\u001b[0;32m   1966\u001b[0m     \u001b[1;32mif\u001b[0m \u001b[0mparser\u001b[0m \u001b[1;32mis\u001b[0m \u001b[1;32mNone\u001b[0m\u001b[1;33m:\u001b[0m\u001b[1;33m\u001b[0m\u001b[1;33m\u001b[0m\u001b[0m\n\u001b[0;32m   1967\u001b[0m         \u001b[1;32mfrom\u001b[0m \u001b[0mxml\u001b[0m\u001b[1;33m.\u001b[0m\u001b[0mdom\u001b[0m \u001b[1;32mimport\u001b[0m \u001b[0mexpatbuilder\u001b[0m\u001b[1;33m\u001b[0m\u001b[1;33m\u001b[0m\u001b[0m\n\u001b[1;32m-> 1968\u001b[1;33m         \u001b[1;32mreturn\u001b[0m \u001b[0mexpatbuilder\u001b[0m\u001b[1;33m.\u001b[0m\u001b[0mparseString\u001b[0m\u001b[1;33m(\u001b[0m\u001b[0mstring\u001b[0m\u001b[1;33m)\u001b[0m\u001b[1;33m\u001b[0m\u001b[1;33m\u001b[0m\u001b[0m\n\u001b[0m\u001b[0;32m   1969\u001b[0m     \u001b[1;32melse\u001b[0m\u001b[1;33m:\u001b[0m\u001b[1;33m\u001b[0m\u001b[1;33m\u001b[0m\u001b[0m\n\u001b[0;32m   1970\u001b[0m         \u001b[1;32mfrom\u001b[0m \u001b[0mxml\u001b[0m\u001b[1;33m.\u001b[0m\u001b[0mdom\u001b[0m \u001b[1;32mimport\u001b[0m \u001b[0mpulldom\u001b[0m\u001b[1;33m\u001b[0m\u001b[1;33m\u001b[0m\u001b[0m\n",
      "\u001b[1;32m~\\Anaconda3\\envs\\SeSiMe\\lib\\xml\\dom\\expatbuilder.py\u001b[0m in \u001b[0;36mparseString\u001b[1;34m(string, namespaces)\u001b[0m\n\u001b[0;32m    923\u001b[0m     \u001b[1;32melse\u001b[0m\u001b[1;33m:\u001b[0m\u001b[1;33m\u001b[0m\u001b[1;33m\u001b[0m\u001b[0m\n\u001b[0;32m    924\u001b[0m         \u001b[0mbuilder\u001b[0m \u001b[1;33m=\u001b[0m \u001b[0mExpatBuilder\u001b[0m\u001b[1;33m(\u001b[0m\u001b[1;33m)\u001b[0m\u001b[1;33m\u001b[0m\u001b[1;33m\u001b[0m\u001b[0m\n\u001b[1;32m--> 925\u001b[1;33m     \u001b[1;32mreturn\u001b[0m \u001b[0mbuilder\u001b[0m\u001b[1;33m.\u001b[0m\u001b[0mparseString\u001b[0m\u001b[1;33m(\u001b[0m\u001b[0mstring\u001b[0m\u001b[1;33m)\u001b[0m\u001b[1;33m\u001b[0m\u001b[1;33m\u001b[0m\u001b[0m\n\u001b[0m\u001b[0;32m    926\u001b[0m \u001b[1;33m\u001b[0m\u001b[0m\n\u001b[0;32m    927\u001b[0m \u001b[1;33m\u001b[0m\u001b[0m\n",
      "\u001b[1;32m~\\Anaconda3\\envs\\SeSiMe\\lib\\xml\\dom\\expatbuilder.py\u001b[0m in \u001b[0;36mparseString\u001b[1;34m(self, string)\u001b[0m\n\u001b[0;32m    221\u001b[0m         \u001b[0mparser\u001b[0m \u001b[1;33m=\u001b[0m \u001b[0mself\u001b[0m\u001b[1;33m.\u001b[0m\u001b[0mgetParser\u001b[0m\u001b[1;33m(\u001b[0m\u001b[1;33m)\u001b[0m\u001b[1;33m\u001b[0m\u001b[1;33m\u001b[0m\u001b[0m\n\u001b[0;32m    222\u001b[0m         \u001b[1;32mtry\u001b[0m\u001b[1;33m:\u001b[0m\u001b[1;33m\u001b[0m\u001b[1;33m\u001b[0m\u001b[0m\n\u001b[1;32m--> 223\u001b[1;33m             \u001b[0mparser\u001b[0m\u001b[1;33m.\u001b[0m\u001b[0mParse\u001b[0m\u001b[1;33m(\u001b[0m\u001b[0mstring\u001b[0m\u001b[1;33m,\u001b[0m \u001b[1;32mTrue\u001b[0m\u001b[1;33m)\u001b[0m\u001b[1;33m\u001b[0m\u001b[1;33m\u001b[0m\u001b[0m\n\u001b[0m\u001b[0;32m    224\u001b[0m             \u001b[0mself\u001b[0m\u001b[1;33m.\u001b[0m\u001b[0m_setup_subset\u001b[0m\u001b[1;33m(\u001b[0m\u001b[0mstring\u001b[0m\u001b[1;33m)\u001b[0m\u001b[1;33m\u001b[0m\u001b[1;33m\u001b[0m\u001b[0m\n\u001b[0;32m    225\u001b[0m         \u001b[1;32mexcept\u001b[0m \u001b[0mParseEscape\u001b[0m\u001b[1;33m:\u001b[0m\u001b[1;33m\u001b[0m\u001b[1;33m\u001b[0m\u001b[0m\n",
      "\u001b[1;31mExpatError\u001b[0m: no element found: line 1, column 0"
     ]
    }
   ],
   "source": [
    "plot_molecule(\"[H][C@]1(CC(/C=C/C)=CN21)C(O)NC3=C(O)C(C)=C(O[C@@H]4O[C@@H](C)[C@H](NC)[C@@](C)(O)[C@H]4O)C=C3C2=O\")"
   ]
  },
  {
   "cell_type": "code",
   "execution_count": 35,
   "metadata": {},
   "outputs": [
    {
     "data": {
      "text/plain": [
       "46865"
      ]
     },
     "execution_count": 35,
     "metadata": {},
     "output_type": "execute_result"
    }
   ],
   "source": [
    "library_spectra_metadata.iloc[matchID][0]"
   ]
  },
  {
   "cell_type": "code",
   "execution_count": 56,
   "metadata": {},
   "outputs": [
    {
     "data": {
      "text/plain": [
       "[5157]"
      ]
     },
     "execution_count": 56,
     "metadata": {},
     "output_type": "execute_result"
    }
   ],
   "source": [
    "match_IDs"
   ]
  },
  {
   "cell_type": "markdown",
   "metadata": {},
   "source": [
    "# Display potentially similar compounds to unknown spectra"
   ]
  },
  {
   "cell_type": "code",
   "execution_count": 377,
   "metadata": {},
   "outputs": [
    {
     "data": {
      "text/plain": [
       "([36413, 54323, 35549, 36275, 45937, 45835, 54322, 45259, 35389, 35390],\n",
       " [0.9089951381969441,\n",
       "  0.6409550352683732,\n",
       "  0.8355579570918416,\n",
       "  0.8160765817956264,\n",
       "  0.8817854625373825,\n",
       "  0.8484451582330182,\n",
       "  0.5879912816429695,\n",
       "  0.8353498785473069,\n",
       "  0.5804268411562696,\n",
       "  0.6363048813185538])"
      ]
     },
     "execution_count": 377,
     "metadata": {},
     "output_type": "execute_result"
    }
   ],
   "source": [
    "match_IDs, match_modcos_scores"
   ]
  },
  {
   "cell_type": "code",
   "execution_count": 379,
   "metadata": {},
   "outputs": [
    {
     "data": {
      "text/plain": [
       "array([8, 6, 9, 1, 3, 7, 2, 5, 4, 0], dtype=int64)"
      ]
     },
     "execution_count": 379,
     "metadata": {},
     "output_type": "execute_result"
    }
   ],
   "source": [
    "np.array(match_modcos_scores).argsort()"
   ]
  },
  {
   "cell_type": "code",
   "execution_count": 391,
   "metadata": {
    "scrolled": false
   },
   "outputs": [
    {
     "name": "stdout",
     "output_type": "stream",
     "text": [
      "--------------------------------------------------------------------------------\n",
      "QUERY SPECTRUM  ----------------------------------------------------------------\n",
      "SMILES: C[C@H]1[C@@H]([C@H]([C@H]([C@@H](O1)Oc1c(=O)c2c(cc(cc2oc1c1cc(c(c(c1)O)OC)O)O)O)O)O)O\n",
      "INCHIKEY: NAQNISJXKDSYJD-DHWIRCOFSA-N\n",
      "--> MOLECULE:\n",
      "Scour processed file \"draw_mols_temp.svg\" in 38 ms: 9585/16072 bytes new/orig -> 59.6%\n"
     ]
    },
    {
     "data": {
      "image/svg+xml": [
       "<svg height=\"300pt\" version=\"1.1\" viewBox=\"0 0 300 300\" width=\"300pt\" xmlns=\"http://www.w3.org/2000/svg\" xmlns:xlink=\"http://www.w3.org/1999/xlink\">\n",
       " <defs>\n",
       "  <symbol id=\"glyph0-1\" overflow=\"visible\">\n",
       "   <path d=\"m0.41016-2.957c0-1.0039 0.26953-1.793 0.8125-2.3672 0.53906-0.56641 1.2383-0.85156 2.0938-0.85547 0.55859 0.003907 1.0625 0.13672 1.5156 0.40234 0.44922 0.26953 0.79297 0.64453 1.0273 1.1211 0.23438 0.48047 0.35156 1.0234 0.35547 1.6289-0.003906 0.61719-0.12891 1.168-0.375 1.6523-0.25 0.48828-0.60156 0.85547-1.0547 1.1055-0.45703 0.25-0.94922 0.375-1.4727 0.375-0.57422 0-1.082-0.13672-1.5312-0.41406-0.45312-0.27734-0.79688-0.65625-1.0234-1.1328-0.23438-0.47656-0.34766-0.98047-0.34766-1.5156zm0.82812 0.011718c-0.003906 0.73438 0.19531 1.3125 0.58984 1.7305 0.39062 0.42578 0.88281 0.63672 1.4805 0.63281 0.60156 0.003906 1.0977-0.21094 1.4922-0.63672 0.38672-0.42578 0.58203-1.0273 0.58594-1.8125-0.003906-0.49219-0.085938-0.92578-0.25-1.293-0.16797-0.36719-0.41406-0.65234-0.73438-0.85938-0.32422-0.19922-0.68359-0.30078-1.082-0.30469-0.57031 0.003906-1.0586 0.19922-1.4688 0.58594-0.41016 0.39453-0.61719 1.0469-0.61328 1.957z\"/>\n",
       "  </symbol>\n",
       "  <symbol id=\"glyph0-2\" overflow=\"visible\">\n",
       "   <path d=\"m0.67969 0v-6.0703h0.80469v2.4922h3.1523v-2.4922h0.80469v6.0703h-0.80469v-2.8633h-3.1523v2.8633z\"/>\n",
       "  </symbol>\n",
       " </defs>\n",
       " <g id=\"surface577\">\n",
       "  <rect fill=\"#fff\" height=\"300\" width=\"300\"/>\n",
       "  <g fill=\"#f00\">\n",
       "   <use x=\"208.605469\" xlink:href=\"#glyph0-1\" y=\"188.652344\"/>\n",
       "  </g>\n",
       "  <g fill=\"#f00\">\n",
       "   <use x=\"162.855469\" xlink:href=\"#glyph0-1\" y=\"178.667969\"/>\n",
       "  </g>\n",
       "  <g fill=\"#f00\">\n",
       "   <use x=\"214.371094\" xlink:href=\"#glyph0-1\" y=\"162.242188\"/>\n",
       "  </g>\n",
       "  <g fill=\"#f00\">\n",
       "   <use x=\"154.394531\" xlink:href=\"#glyph0-1\" y=\"107.644531\"/>\n",
       "  </g>\n",
       "  <g fill=\"#f00\">\n",
       "   <use x=\"79.746094\" xlink:href=\"#glyph0-2\" y=\"203.3125\"/>\n",
       "   <use x=\"85.87107\" xlink:href=\"#glyph0-1\" y=\"203.3125\"/>\n",
       "  </g>\n",
       "  <g fill=\"#f00\">\n",
       "   <use x=\"45.605469\" xlink:href=\"#glyph0-1\" y=\"166.914063\"/>\n",
       "  </g>\n",
       "  <g fill=\"#f00\">\n",
       "   <use x=\"51.289063\" xlink:href=\"#glyph0-2\" y=\"114.089844\"/>\n",
       "   <use x=\"57.414039\" xlink:href=\"#glyph0-1\" y=\"114.089844\"/>\n",
       "  </g>\n",
       "  <g fill=\"#f00\">\n",
       "   <use x=\"217.429688\" xlink:href=\"#glyph0-1\" y=\"38.390625\"/>\n",
       "   <use x=\"224.026772\" xlink:href=\"#glyph0-2\" y=\"38.390625\"/>\n",
       "  </g>\n",
       "  <g fill=\"#f00\">\n",
       "   <use x=\"245.886719\" xlink:href=\"#glyph0-1\" y=\"127.613281\"/>\n",
       "   <use x=\"252.483803\" xlink:href=\"#glyph0-2\" y=\"127.613281\"/>\n",
       "  </g>\n",
       "  <g fill=\"#f00\">\n",
       "   <use x=\"145.484375\" xlink:href=\"#glyph0-2\" y=\"231.496094\"/>\n",
       "   <use x=\"151.609352\" xlink:href=\"#glyph0-1\" y=\"231.496094\"/>\n",
       "  </g>\n",
       "  <g fill=\"#f00\">\n",
       "   <use x=\"185.46875\" xlink:href=\"#glyph0-2\" y=\"267.890625\"/>\n",
       "   <use x=\"191.593727\" xlink:href=\"#glyph0-1\" y=\"267.890625\"/>\n",
       "  </g>\n",
       "  <g fill=\"#f00\">\n",
       "   <use x=\"242.820313\" xlink:href=\"#glyph0-1\" y=\"251.460938\"/>\n",
       "   <use x=\"249.417397\" xlink:href=\"#glyph0-2\" y=\"251.460938\"/>\n",
       "  </g>\n",
       "  <path d=\"m231.5 203.71 26.965-4.4258-2.418-7.5781z\"/>\n",
       "  <path d=\"m231.5 203.71-5.7656 26.41\" fill=\"none\" stroke=\"#000\" stroke-miterlimit=\"10\" stroke-width=\"1.2\"/>\n",
       "  <path d=\"m225.73 230.12-25.754 8.2148\" fill=\"none\" stroke=\"#000\" stroke-miterlimit=\"10\" stroke-width=\"1.2\"/>\n",
       "  <path d=\"m199.98 238.34-19.992-18.195\" fill=\"none\" stroke=\"#000\" stroke-miterlimit=\"10\" stroke-width=\"1.2\"/>\n",
       "  <path d=\"m179.99 220.14 5.7656-26.414\" fill=\"none\" stroke=\"#000\" stroke-miterlimit=\"10\" stroke-width=\"1.2\"/>\n",
       "  <path d=\"m185.75 193.73 10.797-3.4453\" fill=\"none\" stroke=\"#000\" stroke-miterlimit=\"10\" stroke-width=\"1.2\"/>\n",
       "  <path d=\"m196.55 190.28 10.797-3.4414\" fill=\"none\" stroke=\"#f00\" stroke-miterlimit=\"10\" stroke-width=\"1.2\"/>\n",
       "  <path d=\"m185.75 193.73m-1.8125-2.3906-0.73828 0.80859m-1.0742-3.1992-1.4766 1.6211m-0.33594-4.0117-2.2148 2.4297m0.40234-4.8203-2.9531 3.2422m1.1406-5.6328-3.6875 4.0508m1.875-6.4414-4.4258 4.8594m2.6133-7.25-5.1641 5.6719m4.6953-6.2891-5.3555 5.8789\" fill=\"none\" stroke=\"#000\" stroke-miterlimit=\"10\"/>\n",
       "  <path d=\"m166.72 171.13 2.4023-11.008\" fill=\"none\" stroke=\"#f00\" stroke-miterlimit=\"10\" stroke-width=\"1.2\"/>\n",
       "  <path d=\"m169.12 160.12 2.4023-11.008\" fill=\"none\" stroke=\"#000\" stroke-miterlimit=\"10\" stroke-width=\"1.2\"/>\n",
       "  <path d=\"m171.52 149.11 25.758-8.2109\" fill=\"none\" stroke=\"#000\" stroke-miterlimit=\"10\" stroke-width=\"1.2\"/>\n",
       "  <path d=\"m195.5 142.86 7.918 7.207\" fill=\"none\" stroke=\"#000\" stroke-miterlimit=\"10\" stroke-width=\"1.2\"/>\n",
       "  <path d=\"m203.41 150.07 7.9141 7.207\" fill=\"none\" stroke=\"#f00\" stroke-miterlimit=\"10\" stroke-width=\"1.2\"/>\n",
       "  <path d=\"m199.07 138.94 7.9141 7.207\" fill=\"none\" stroke=\"#000\" stroke-miterlimit=\"10\" stroke-width=\"1.2\"/>\n",
       "  <path d=\"m206.98 146.15 7.918 7.2031\" fill=\"none\" stroke=\"#f00\" stroke-miterlimit=\"10\" stroke-width=\"1.2\"/>\n",
       "  <path d=\"m197.28 140.9 5.7617-26.414\" fill=\"none\" stroke=\"#000\" stroke-miterlimit=\"10\" stroke-width=\"1.2\"/>\n",
       "  <path d=\"m203.04 114.49 25.758-8.2148\" fill=\"none\" stroke=\"#000\" stroke-miterlimit=\"10\" stroke-width=\"1.2\"/>\n",
       "  <path d=\"m204.01 108.62 20.602-6.5703\" fill=\"none\" stroke=\"#000\" stroke-miterlimit=\"10\" stroke-width=\"1.2\"/>\n",
       "  <path d=\"m228.8 106.27 5.7656-26.414\" fill=\"none\" stroke=\"#000\" stroke-miterlimit=\"10\" stroke-width=\"1.2\"/>\n",
       "  <path d=\"m234.57 79.859-19.992-18.195\" fill=\"none\" stroke=\"#000\" stroke-miterlimit=\"10\" stroke-width=\"1.2\"/>\n",
       "  <path d=\"m229 81.961-15.992-14.559\" fill=\"none\" stroke=\"#000\" stroke-miterlimit=\"10\" stroke-width=\"1.2\"/>\n",
       "  <path d=\"m214.57 61.664-25.758 8.2148\" fill=\"none\" stroke=\"#000\" stroke-miterlimit=\"10\" stroke-width=\"1.2\"/>\n",
       "  <path d=\"m188.82 69.879-5.7617 26.41\" fill=\"none\" stroke=\"#000\" stroke-miterlimit=\"10\" stroke-width=\"1.2\"/>\n",
       "  <path d=\"m193.42 73.648-4.6094 21.129\" fill=\"none\" stroke=\"#000\" stroke-miterlimit=\"10\" stroke-width=\"1.2\"/>\n",
       "  <path d=\"m183.05 96.289-10.801 3.4453\" fill=\"none\" stroke=\"#000\" stroke-miterlimit=\"10\" stroke-width=\"1.2\"/>\n",
       "  <path d=\"m172.25 99.734-10.797 3.4414\" fill=\"none\" stroke=\"#f00\" stroke-miterlimit=\"10\" stroke-width=\"1.2\"/>\n",
       "  <path d=\"m156.34 108.9-2.4023 11.008\" fill=\"none\" stroke=\"#f00\" stroke-miterlimit=\"10\" stroke-width=\"1.2\"/>\n",
       "  <path d=\"m153.93 119.91-2.4023 11.008\" fill=\"none\" stroke=\"#000\" stroke-miterlimit=\"10\" stroke-width=\"1.2\"/>\n",
       "  <path d=\"m151.53 130.92-25.754 8.2148\" fill=\"none\" stroke=\"#000\" stroke-miterlimit=\"10\" stroke-width=\"1.2\"/>\n",
       "  <path d=\"m125.78 139.13-19.992-18.199\" fill=\"none\" stroke=\"#000\" stroke-miterlimit=\"10\" stroke-width=\"1.2\"/>\n",
       "  <path d=\"m120.21 141.23-15.992-14.559\" fill=\"none\" stroke=\"#000\" stroke-miterlimit=\"10\" stroke-width=\"1.2\"/>\n",
       "  <path d=\"m105.79 120.93-25.758 8.2148\" fill=\"none\" stroke=\"#000\" stroke-miterlimit=\"10\" stroke-width=\"1.2\"/>\n",
       "  <path d=\"m80.027 129.15-5.7617 26.41\" fill=\"none\" stroke=\"#000\" stroke-miterlimit=\"10\" stroke-width=\"1.2\"/>\n",
       "  <path d=\"m84.629 132.92-4.6094 21.133\" fill=\"none\" stroke=\"#000\" stroke-miterlimit=\"10\" stroke-width=\"1.2\"/>\n",
       "  <path d=\"m74.266 155.56 19.992 18.199\" fill=\"none\" stroke=\"#000\" stroke-miterlimit=\"10\" stroke-width=\"1.2\"/>\n",
       "  <path d=\"m94.258 173.76 25.754-8.2148\" fill=\"none\" stroke=\"#000\" stroke-miterlimit=\"10\" stroke-width=\"1.2\"/>\n",
       "  <path d=\"m95.223 167.89 20.602-6.5703\" fill=\"none\" stroke=\"#000\" stroke-miterlimit=\"10\" stroke-width=\"1.2\"/>\n",
       "  <path d=\"m94.258 173.76-2.4023 11.008\" fill=\"none\" stroke=\"#000\" stroke-miterlimit=\"10\" stroke-width=\"1.2\"/>\n",
       "  <path d=\"m91.855 184.77-2.4023 11.008\" fill=\"none\" stroke=\"#f00\" stroke-miterlimit=\"10\" stroke-width=\"1.2\"/>\n",
       "  <path d=\"m74.266 155.56-10.801 3.4453\" fill=\"none\" stroke=\"#000\" stroke-miterlimit=\"10\" stroke-width=\"1.2\"/>\n",
       "  <path d=\"m63.465 159-10.797 3.4453\" fill=\"none\" stroke=\"#f00\" stroke-miterlimit=\"10\" stroke-width=\"1.2\"/>\n",
       "  <path d=\"m47.547 168.17-2.4023 11.008\" fill=\"none\" stroke=\"#f00\" stroke-miterlimit=\"10\" stroke-width=\"1.2\"/>\n",
       "  <path d=\"m45.145 179.18-2.4023 11.008\" fill=\"none\" stroke=\"#000\" stroke-miterlimit=\"10\" stroke-width=\"1.2\"/>\n",
       "  <path d=\"m80.027 129.15-7.9102-7.2031\" fill=\"none\" stroke=\"#000\" stroke-miterlimit=\"10\" stroke-width=\"1.2\"/>\n",
       "  <path d=\"m72.117 121.95-7.9102-7.1992\" fill=\"none\" stroke=\"#f00\" stroke-miterlimit=\"10\" stroke-width=\"1.2\"/>\n",
       "  <path d=\"m214.57 61.664 2.4023-11.008\" fill=\"none\" stroke=\"#000\" stroke-miterlimit=\"10\" stroke-width=\"1.2\"/>\n",
       "  <path d=\"m216.98 50.656 2.4023-11.008\" fill=\"none\" stroke=\"#f00\" stroke-miterlimit=\"10\" stroke-width=\"1.2\"/>\n",
       "  <path d=\"m228.8 106.27 7.9141 7.2031\" fill=\"none\" stroke=\"#000\" stroke-miterlimit=\"10\" stroke-width=\"1.2\"/>\n",
       "  <path d=\"m236.71 113.48 7.9141 7.207\" fill=\"none\" stroke=\"#f00\" stroke-miterlimit=\"10\" stroke-width=\"1.2\"/>\n",
       "  <path d=\"m179.99 220.14-22.793 3.0938 2.418 7.5742z\"/>\n",
       "  <path d=\"m199.98 238.34-8.6875 21.168 7.7656 1.6953z\"/>\n",
       "  <path d=\"m225.73 230.12m1.8125 2.3906 0.73828-0.80859m1.0742 3.1992 1.4766-1.6172m0.33594 4.0078 2.2148-2.4297m-0.40234 4.8203 2.9531-3.2383m-1.1406 5.6289 3.6875-4.0508m-1.875 6.4453 4.4258-4.8633m-2.6133 7.2539 5.1641-5.6758m-4.6992 6.2891 5.3555-5.8828\" fill=\"none\" stroke=\"#000\" stroke-miterlimit=\"10\"/>\n",
       "  <path d=\"m215.67 189.3 7.918 7.207\" fill=\"none\" stroke=\"#f00\" stroke-miterlimit=\"10\" stroke-width=\"1.2\"/>\n",
       "  <path d=\"m223.59 196.5 7.9141 7.207\" fill=\"none\" stroke=\"#000\" stroke-miterlimit=\"10\" stroke-width=\"1.2\"/>\n",
       "  <path d=\"m151.53 130.92 19.992 18.195\" fill=\"none\" stroke=\"#000\" stroke-miterlimit=\"10\" stroke-width=\"1.2\"/>\n",
       "  <path d=\"m157.1 128.82 15.992 14.559\" fill=\"none\" stroke=\"#000\" stroke-miterlimit=\"10\" stroke-width=\"1.2\"/>\n",
       "  <path d=\"m120.01 165.54 5.7656-26.41\" fill=\"none\" stroke=\"#000\" stroke-miterlimit=\"10\" stroke-width=\"1.2\"/>\n",
       "  <path d=\"m183.05 96.289 19.988 18.199\" fill=\"none\" stroke=\"#000\" stroke-miterlimit=\"10\" stroke-width=\"1.2\"/>\n",
       " </g>\n",
       "</svg>"
      ],
      "text/plain": [
       "<IPython.core.display.SVG object>"
      ]
     },
     "metadata": {},
     "output_type": "display_data"
    },
    {
     "name": "stdout",
     "output_type": "stream",
     "text": [
      "--------------------------------------------------------------------------------\n",
      "SUGGESTED SIMILAR SPECTRA ------------------------------------------------------\n",
      "SMILES: c1cc(c(cc1c1c(c(=O)c2c(cc(cc2o1)O)O)O[C@H]1[C@@H]([C@H]([C@@H]([C@@H](C(=O)O)O1)O)O)O)O)O\n",
      "INCHIKEY: DUBCCGAQYVUYEU-ZUGPOPFOSA-N\n",
      "--> Spec2Vec similarity score: 0.8289720093865028\n",
      "--> Modified cosine score: 0.9847356486550037\n",
      "With ground truth --> actual molecular similarity: 0.9336250911743253\n",
      "--> MOLECULES:\n",
      "Scour processed file \"draw_mols_temp.svg\" in 53 ms: 10245/17062 bytes new/orig -> 60.0%\n"
     ]
    },
    {
     "data": {
      "image/svg+xml": [
       "<svg height=\"300pt\" version=\"1.1\" viewBox=\"0 0 300 300\" width=\"300pt\" xmlns=\"http://www.w3.org/2000/svg\" xmlns:xlink=\"http://www.w3.org/1999/xlink\">\n",
       " <defs>\n",
       "  <symbol id=\"glyph0-1\" overflow=\"visible\">\n",
       "   <path d=\"m0.39453-2.8359c-0.003906-0.96484 0.25781-1.7188 0.77734-2.2695 0.51562-0.54297 1.1836-0.81641 2.0078-0.82031 0.53516 0.003906 1.0195 0.13281 1.4531 0.38672 0.42969 0.25781 0.75781 0.61328 0.98828 1.0742 0.22266 0.46094 0.33594 0.98438 0.33984 1.5625-0.003907 0.59375-0.12109 1.1211-0.35938 1.582-0.23828 0.46875-0.57812 0.82031-1.0117 1.0586-0.4375 0.23828-0.90625 0.35547-1.4141 0.35938-0.54688-0.0039063-1.0391-0.13281-1.4688-0.39453-0.4375-0.26172-0.76172-0.625-0.98047-1.0859-0.22266-0.45703-0.33594-0.94141-0.33203-1.4531zm0.79297 0.011719c-0.003906 0.70312 0.18359 1.2578 0.56641 1.6602 0.375 0.40625 0.84766 0.60938 1.418 0.60547 0.57812 0.003906 1.0586-0.20312 1.4336-0.61328 0.375-0.40625 0.5625-0.98438 0.5625-1.7344 0-0.47266-0.082031-0.88672-0.24219-1.2422-0.16016-0.35156-0.39453-0.625-0.70312-0.82031-0.30859-0.19531-0.65625-0.29297-1.0391-0.29297-0.54688 0-1.0156 0.1875-1.4062 0.5625-0.39844 0.375-0.59375 1-0.58984 1.875z\"/>\n",
       "  </symbol>\n",
       "  <symbol id=\"glyph0-2\" overflow=\"visible\">\n",
       "   <path d=\"m0.65234 0v-5.8242h0.76953v2.3906h3.0273v-2.3906h0.76953v5.8242h-0.76953v-2.7461h-3.0273v2.7461z\"/>\n",
       "  </symbol>\n",
       " </defs>\n",
       " <g id=\"surface581\">\n",
       "  <rect fill=\"#fff\" height=\"300\" width=\"300\"/>\n",
       "  <g fill=\"#f00\">\n",
       "   <use x=\"185.8125\" xlink:href=\"#glyph0-1\" y=\"155.65625\"/>\n",
       "  </g>\n",
       "  <g fill=\"#f00\">\n",
       "   <use x=\"109.660156\" xlink:href=\"#glyph0-1\" y=\"139.792969\"/>\n",
       "  </g>\n",
       "  <g fill=\"#f00\">\n",
       "   <use x=\"122.371094\" xlink:href=\"#glyph0-2\" y=\"51.863281\"/>\n",
       "   <use x=\"128.245572\" xlink:href=\"#glyph0-1\" y=\"51.863281\"/>\n",
       "  </g>\n",
       "  <g fill=\"#f00\">\n",
       "   <use x=\"194.96875\" xlink:href=\"#glyph0-1\" y=\"111.691406\"/>\n",
       "   <use x=\"201.296027\" xlink:href=\"#glyph0-2\" y=\"111.691406\"/>\n",
       "  </g>\n",
       "  <g fill=\"#f00\">\n",
       "   <use x=\"151.273438\" xlink:href=\"#glyph0-1\" y=\"194.335938\"/>\n",
       "  </g>\n",
       "  <g fill=\"#f00\">\n",
       "   <use x=\"228.46875\" xlink:href=\"#glyph0-1\" y=\"141.605469\"/>\n",
       "  </g>\n",
       "  <g fill=\"#f00\">\n",
       "   <use x=\"261.960938\" xlink:href=\"#glyph0-1\" y=\"171.519531\"/>\n",
       "   <use x=\"268.288215\" xlink:href=\"#glyph0-2\" y=\"171.519531\"/>\n",
       "  </g>\n",
       "  <g fill=\"#f00\">\n",
       "   <use x=\"193.925781\" xlink:href=\"#glyph0-1\" y=\"180.28125\"/>\n",
       "  </g>\n",
       "  <g fill=\"#f00\">\n",
       "   <use x=\"252.804688\" xlink:href=\"#glyph0-1\" y=\"215.484375\"/>\n",
       "   <use x=\"259.131965\" xlink:href=\"#glyph0-2\" y=\"215.484375\"/>\n",
       "  </g>\n",
       "  <g fill=\"#f00\">\n",
       "   <use x=\"218.261719\" xlink:href=\"#glyph0-1\" y=\"254.164063\"/>\n",
       "   <use x=\"224.588996\" xlink:href=\"#glyph0-2\" y=\"254.164063\"/>\n",
       "  </g>\n",
       "  <g fill=\"#f00\">\n",
       "   <use x=\"161.894531\" xlink:href=\"#glyph0-2\" y=\"243.589844\"/>\n",
       "   <use x=\"167.769009\" xlink:href=\"#glyph0-1\" y=\"243.589844\"/>\n",
       "  </g>\n",
       "  <g fill=\"#f00\">\n",
       "   <use x=\"26.859375\" xlink:href=\"#glyph0-2\" y=\"192.527344\"/>\n",
       "   <use x=\"32.733853\" xlink:href=\"#glyph0-1\" y=\"192.527344\"/>\n",
       "  </g>\n",
       "  <g fill=\"#f00\">\n",
       "   <use x=\"43.085938\" xlink:href=\"#glyph0-2\" y=\"241.78125\"/>\n",
       "   <use x=\"48.960415\" xlink:href=\"#glyph0-1\" y=\"241.78125\"/>\n",
       "  </g>\n",
       "  <path d=\"m111.4 205.38-17.27 19.34\" fill=\"none\" stroke=\"#000\" stroke-miterlimit=\"10\" stroke-width=\"1.2\"/>\n",
       "  <path d=\"m105.88 203.92-13.816 15.473\" fill=\"none\" stroke=\"#000\" stroke-miterlimit=\"10\" stroke-width=\"1.2\"/>\n",
       "  <path d=\"m94.133 224.71-25.387-5.2891\" fill=\"none\" stroke=\"#000\" stroke-miterlimit=\"10\" stroke-width=\"1.2\"/>\n",
       "  <path d=\"m68.746 219.43-8.1133-24.625\" fill=\"none\" stroke=\"#000\" stroke-miterlimit=\"10\" stroke-width=\"1.2\"/>\n",
       "  <path d=\"m72.766 215.38-6.4922-19.703\" fill=\"none\" stroke=\"#000\" stroke-miterlimit=\"10\" stroke-width=\"1.2\"/>\n",
       "  <path d=\"m60.633 194.8 17.273-19.34\" fill=\"none\" stroke=\"#000\" stroke-miterlimit=\"10\" stroke-width=\"1.2\"/>\n",
       "  <path d=\"m77.906 175.46 25.383 5.2891\" fill=\"none\" stroke=\"#000\" stroke-miterlimit=\"10\" stroke-width=\"1.2\"/>\n",
       "  <path d=\"m79.406 180.97 20.309 4.2266\" fill=\"none\" stroke=\"#000\" stroke-miterlimit=\"10\" stroke-width=\"1.2\"/>\n",
       "  <path d=\"m103.29 180.75 17.27-19.34\" fill=\"none\" stroke=\"#000\" stroke-miterlimit=\"10\" stroke-width=\"1.2\"/>\n",
       "  <path d=\"m120.56 161.41 25.387 5.2852\" fill=\"none\" stroke=\"#000\" stroke-miterlimit=\"10\" stroke-width=\"1.2\"/>\n",
       "  <path d=\"m124.13 156.96 20.309 4.2305\" fill=\"none\" stroke=\"#000\" stroke-miterlimit=\"10\" stroke-width=\"1.2\"/>\n",
       "  <path d=\"m145.95 166.7 17.27-19.34\" fill=\"none\" stroke=\"#000\" stroke-miterlimit=\"10\" stroke-width=\"1.2\"/>\n",
       "  <path d=\"m162.7 149.84 10.699 2.2305\" fill=\"none\" stroke=\"#000\" stroke-miterlimit=\"10\" stroke-width=\"1.2\"/>\n",
       "  <path d=\"m173.39 152.07 10.695 2.2266\" fill=\"none\" stroke=\"#f00\" stroke-miterlimit=\"10\" stroke-width=\"1.2\"/>\n",
       "  <path d=\"m163.73 144.87 10.695 2.2305\" fill=\"none\" stroke=\"#000\" stroke-miterlimit=\"10\" stroke-width=\"1.2\"/>\n",
       "  <path d=\"m174.43 147.1 10.699 2.2266\" fill=\"none\" stroke=\"#f00\" stroke-miterlimit=\"10\" stroke-width=\"1.2\"/>\n",
       "  <path d=\"m163.21 147.36-8.1133-24.625\" fill=\"none\" stroke=\"#000\" stroke-miterlimit=\"10\" stroke-width=\"1.2\"/>\n",
       "  <path d=\"m155.1 122.73 17.27-19.34\" fill=\"none\" stroke=\"#000\" stroke-miterlimit=\"10\" stroke-width=\"1.2\"/>\n",
       "  <path d=\"m153.04 117.41 13.816-15.473\" fill=\"none\" stroke=\"#000\" stroke-miterlimit=\"10\" stroke-width=\"1.2\"/>\n",
       "  <path d=\"m172.37 103.39-8.1133-24.629\" fill=\"none\" stroke=\"#000\" stroke-miterlimit=\"10\" stroke-width=\"1.2\"/>\n",
       "  <path d=\"m164.26 78.762-25.383-5.2852\" fill=\"none\" stroke=\"#000\" stroke-miterlimit=\"10\" stroke-width=\"1.2\"/>\n",
       "  <path d=\"m160.68 83.211-20.309-4.2305\" fill=\"none\" stroke=\"#000\" stroke-miterlimit=\"10\" stroke-width=\"1.2\"/>\n",
       "  <path d=\"m138.88 73.477-17.27 19.34\" fill=\"none\" stroke=\"#000\" stroke-miterlimit=\"10\" stroke-width=\"1.2\"/>\n",
       "  <path d=\"m121.61 92.816 8.1133 24.625\" fill=\"none\" stroke=\"#000\" stroke-miterlimit=\"10\" stroke-width=\"1.2\"/>\n",
       "  <path d=\"m127.24 93.688 6.4922 19.703\" fill=\"none\" stroke=\"#000\" stroke-miterlimit=\"10\" stroke-width=\"1.2\"/>\n",
       "  <path d=\"m129.72 117.44-6.7539 7.5625\" fill=\"none\" stroke=\"#000\" stroke-miterlimit=\"10\" stroke-width=\"1.2\"/>\n",
       "  <path d=\"m122.96 125-6.7539 7.5586\" fill=\"none\" stroke=\"#f00\" stroke-miterlimit=\"10\" stroke-width=\"1.2\"/>\n",
       "  <path d=\"m138.88 73.477-3.3633-10.203\" fill=\"none\" stroke=\"#000\" stroke-miterlimit=\"10\" stroke-width=\"1.2\"/>\n",
       "  <path d=\"m135.51 63.273-3.3594-10.207\" fill=\"none\" stroke=\"#f00\" stroke-miterlimit=\"10\" stroke-width=\"1.2\"/>\n",
       "  <path d=\"m172.37 103.39 10.695 2.2266\" fill=\"none\" stroke=\"#000\" stroke-miterlimit=\"10\" stroke-width=\"1.2\"/>\n",
       "  <path d=\"m183.07 105.62 10.695 2.2266\" fill=\"none\" stroke=\"#f00\" stroke-miterlimit=\"10\" stroke-width=\"1.2\"/>\n",
       "  <path d=\"m145.95 166.7 3.3594 10.207\" fill=\"none\" stroke=\"#000\" stroke-miterlimit=\"10\" stroke-width=\"1.2\"/>\n",
       "  <path d=\"m149.3 176.9 3.3633 10.203\" fill=\"none\" stroke=\"#f00\" stroke-miterlimit=\"10\" stroke-width=\"1.2\"/>\n",
       "  <path d=\"m179.44 196.61m-2.7891-1.1055-0.21094 1.0078m-2.5781-2.1172-0.41797 2.0195m-2.3672-3.125-0.63281 3.0273m-2.1562-4.1367-0.84375 4.0391m-1.9453-5.1445-1.0508 5.0469m-1.7383-6.1562-1.2617 6.0586m-1.5273-7.1641-1.4688 7.0664m0.37109-7.5039-1.5547 7.4648\" fill=\"none\" stroke=\"#000\" stroke-miterlimit=\"10\"/>\n",
       "  <path d=\"m179.44 196.61 8.1133 24.629\" fill=\"none\" stroke=\"#000\" stroke-miterlimit=\"10\" stroke-width=\"1.2\"/>\n",
       "  <path d=\"m187.55 221.24 25.383 5.2852\" fill=\"none\" stroke=\"#000\" stroke-miterlimit=\"10\" stroke-width=\"1.2\"/>\n",
       "  <path d=\"m212.94 226.52 17.27-19.34\" fill=\"none\" stroke=\"#000\" stroke-miterlimit=\"10\" stroke-width=\"1.2\"/>\n",
       "  <path d=\"m230.21 207.18-8.1133-24.625\" fill=\"none\" stroke=\"#000\" stroke-miterlimit=\"10\" stroke-width=\"1.2\"/>\n",
       "  <path d=\"m222.09 182.56m2.3047-1.9258-0.65234-0.57812m2.9531-1.3438-1.3008-1.1641m3.6055-0.75781-1.9531-1.7461m4.2539-0.17969-2.6055-2.3242m4.9102 0.40234-3.2578-2.9062m5.5586 0.98438-3.9062-3.4883m6.2109 1.5664-4.5586-4.0703m6.8594 2.1445-5.207-4.6523m6.9023 3.2383-5.6875-5.0781\" fill=\"none\" stroke=\"#000\" stroke-miterlimit=\"10\"/>\n",
       "  <path d=\"m241.78 162.42-3.3633-10.203\" fill=\"none\" stroke=\"#000\" stroke-miterlimit=\"10\" stroke-width=\"1.2\"/>\n",
       "  <path d=\"m238.42 152.22-3.3594-10.207\" fill=\"none\" stroke=\"#f00\" stroke-miterlimit=\"10\" stroke-width=\"1.2\"/>\n",
       "  <path d=\"m236.95 164.01-3.3633-10.203\" fill=\"none\" stroke=\"#000\" stroke-miterlimit=\"10\" stroke-width=\"1.2\"/>\n",
       "  <path d=\"m233.59 153.81-3.3633-10.203\" fill=\"none\" stroke=\"#f00\" stroke-miterlimit=\"10\" stroke-width=\"1.2\"/>\n",
       "  <path d=\"m239.37 163.22 10.695 2.2266\" fill=\"none\" stroke=\"#000\" stroke-miterlimit=\"10\" stroke-width=\"1.2\"/>\n",
       "  <path d=\"m250.06 165.45 10.695 2.2266\" fill=\"none\" stroke=\"#f00\" stroke-miterlimit=\"10\" stroke-width=\"1.2\"/>\n",
       "  <path d=\"m222.09 182.56-10.695-2.2305\" fill=\"none\" stroke=\"#000\" stroke-miterlimit=\"10\" stroke-width=\"1.2\"/>\n",
       "  <path d=\"m211.4 180.33-10.699-2.2266\" fill=\"none\" stroke=\"#f00\" stroke-miterlimit=\"10\" stroke-width=\"1.2\"/>\n",
       "  <path d=\"m230.21 207.18 20.613 8.1875 1.5547-7.4648z\"/>\n",
       "  <path d=\"m212.94 226.52m0.42578 2.9688 0.99609-0.32812m-0.57031 3.2969 1.9922-0.65234m-1.5625 3.625 2.9844-0.98438m-2.5586 3.9531 3.9805-1.3125m-3.5547 4.2812 4.9766-1.6406m-4.5508 4.6094 5.9727-1.9688m-5.5469 4.9375 6.9688-2.293m-6.8516 3.1094 7.2422-2.3867\" fill=\"none\" stroke=\"#000\" stroke-miterlimit=\"10\"/>\n",
       "  <path d=\"m187.55 221.24-16.348 12.582 5.6875 5.0781z\"/>\n",
       "  <path d=\"m60.633 194.8-10.691-2.2266\" fill=\"none\" stroke=\"#000\" stroke-miterlimit=\"10\" stroke-width=\"1.2\"/>\n",
       "  <path d=\"m49.941 192.57-10.691-2.2266\" fill=\"none\" stroke=\"#f00\" stroke-miterlimit=\"10\" stroke-width=\"1.2\"/>\n",
       "  <path d=\"m68.746 219.43-6.75 7.5625\" fill=\"none\" stroke=\"#000\" stroke-miterlimit=\"10\" stroke-width=\"1.2\"/>\n",
       "  <path d=\"m61.996 226.99-6.7539 7.5625\" fill=\"none\" stroke=\"#f00\" stroke-miterlimit=\"10\" stroke-width=\"1.2\"/>\n",
       "  <path d=\"m103.29 180.75 8.1133 24.625\" fill=\"none\" stroke=\"#000\" stroke-miterlimit=\"10\" stroke-width=\"1.2\"/>\n",
       "  <path d=\"m113.84 141 3.3633 10.203\" fill=\"none\" stroke=\"#f00\" stroke-miterlimit=\"10\" stroke-width=\"1.2\"/>\n",
       "  <path d=\"m117.2 151.2 3.3594 10.207\" fill=\"none\" stroke=\"#000\" stroke-miterlimit=\"10\" stroke-width=\"1.2\"/>\n",
       "  <path d=\"m192.95 181.49-6.7539 7.5625\" fill=\"none\" stroke=\"#f00\" stroke-miterlimit=\"10\" stroke-width=\"1.2\"/>\n",
       "  <path d=\"m186.19 189.05-6.75 7.5586\" fill=\"none\" stroke=\"#000\" stroke-miterlimit=\"10\" stroke-width=\"1.2\"/>\n",
       "  <path d=\"m129.72 117.44 25.383 5.2891\" fill=\"none\" stroke=\"#000\" stroke-miterlimit=\"10\" stroke-width=\"1.2\"/>\n",
       " </g>\n",
       "</svg>"
      ],
      "text/plain": [
       "<IPython.core.display.SVG object>"
      ]
     },
     "metadata": {},
     "output_type": "display_data"
    },
    {
     "name": "stdout",
     "output_type": "stream",
     "text": [
      "--------------------------------------------------------------------------------\n",
      "SUGGESTED SIMILAR SPECTRA ------------------------------------------------------\n",
      "SMILES: c1cc(c(cc1c1c(c(=O)c2c(cc(cc2o1)O)O)O[C@H]1[C@@H]([C@H]([C@@H]([C@@H](C(=O)O)O1)O)O)O)O)O\n",
      "INCHIKEY: DUBCCGAQYVUYEU-ZUGPOPFOSA-N\n",
      "--> Spec2Vec similarity score: 0.8164862267777125\n",
      "--> Modified cosine score: 0.9529573983616093\n",
      "With ground truth --> actual molecular similarity: 0.9336250911743253\n",
      "--> MOLECULES:\n",
      "Scour processed file \"draw_mols_temp.svg\" in 60 ms: 10245/17062 bytes new/orig -> 60.0%\n"
     ]
    },
    {
     "data": {
      "image/svg+xml": [
       "<svg height=\"300pt\" version=\"1.1\" viewBox=\"0 0 300 300\" width=\"300pt\" xmlns=\"http://www.w3.org/2000/svg\" xmlns:xlink=\"http://www.w3.org/1999/xlink\">\n",
       " <defs>\n",
       "  <symbol id=\"glyph0-1\" overflow=\"visible\">\n",
       "   <path d=\"m0.39453-2.8359c-0.003906-0.96484 0.25781-1.7188 0.77734-2.2695 0.51562-0.54297 1.1836-0.81641 2.0078-0.82031 0.53516 0.003906 1.0195 0.13281 1.4531 0.38672 0.42969 0.25781 0.75781 0.61328 0.98828 1.0742 0.22266 0.46094 0.33594 0.98438 0.33984 1.5625-0.003907 0.59375-0.12109 1.1211-0.35938 1.582-0.23828 0.46875-0.57812 0.82031-1.0117 1.0586-0.4375 0.23828-0.90625 0.35547-1.4141 0.35938-0.54688-0.0039063-1.0391-0.13281-1.4688-0.39453-0.4375-0.26172-0.76172-0.625-0.98047-1.0859-0.22266-0.45703-0.33594-0.94141-0.33203-1.4531zm0.79297 0.011719c-0.003906 0.70312 0.18359 1.2578 0.56641 1.6602 0.375 0.40625 0.84766 0.60938 1.418 0.60547 0.57812 0.003906 1.0586-0.20312 1.4336-0.61328 0.375-0.40625 0.5625-0.98438 0.5625-1.7344 0-0.47266-0.082031-0.88672-0.24219-1.2422-0.16016-0.35156-0.39453-0.625-0.70312-0.82031-0.30859-0.19531-0.65625-0.29297-1.0391-0.29297-0.54688 0-1.0156 0.1875-1.4062 0.5625-0.39844 0.375-0.59375 1-0.58984 1.875z\"/>\n",
       "  </symbol>\n",
       "  <symbol id=\"glyph0-2\" overflow=\"visible\">\n",
       "   <path d=\"m0.65234 0v-5.8242h0.76953v2.3906h3.0273v-2.3906h0.76953v5.8242h-0.76953v-2.7461h-3.0273v2.7461z\"/>\n",
       "  </symbol>\n",
       " </defs>\n",
       " <g id=\"surface585\">\n",
       "  <rect fill=\"#fff\" height=\"300\" width=\"300\"/>\n",
       "  <g fill=\"#f00\">\n",
       "   <use x=\"185.8125\" xlink:href=\"#glyph0-1\" y=\"155.65625\"/>\n",
       "  </g>\n",
       "  <g fill=\"#f00\">\n",
       "   <use x=\"109.660156\" xlink:href=\"#glyph0-1\" y=\"139.792969\"/>\n",
       "  </g>\n",
       "  <g fill=\"#f00\">\n",
       "   <use x=\"122.371094\" xlink:href=\"#glyph0-2\" y=\"51.863281\"/>\n",
       "   <use x=\"128.245572\" xlink:href=\"#glyph0-1\" y=\"51.863281\"/>\n",
       "  </g>\n",
       "  <g fill=\"#f00\">\n",
       "   <use x=\"194.96875\" xlink:href=\"#glyph0-1\" y=\"111.691406\"/>\n",
       "   <use x=\"201.296027\" xlink:href=\"#glyph0-2\" y=\"111.691406\"/>\n",
       "  </g>\n",
       "  <g fill=\"#f00\">\n",
       "   <use x=\"151.273438\" xlink:href=\"#glyph0-1\" y=\"194.335938\"/>\n",
       "  </g>\n",
       "  <g fill=\"#f00\">\n",
       "   <use x=\"228.46875\" xlink:href=\"#glyph0-1\" y=\"141.605469\"/>\n",
       "  </g>\n",
       "  <g fill=\"#f00\">\n",
       "   <use x=\"261.960938\" xlink:href=\"#glyph0-1\" y=\"171.519531\"/>\n",
       "   <use x=\"268.288215\" xlink:href=\"#glyph0-2\" y=\"171.519531\"/>\n",
       "  </g>\n",
       "  <g fill=\"#f00\">\n",
       "   <use x=\"193.925781\" xlink:href=\"#glyph0-1\" y=\"180.28125\"/>\n",
       "  </g>\n",
       "  <g fill=\"#f00\">\n",
       "   <use x=\"252.804688\" xlink:href=\"#glyph0-1\" y=\"215.484375\"/>\n",
       "   <use x=\"259.131965\" xlink:href=\"#glyph0-2\" y=\"215.484375\"/>\n",
       "  </g>\n",
       "  <g fill=\"#f00\">\n",
       "   <use x=\"218.261719\" xlink:href=\"#glyph0-1\" y=\"254.164063\"/>\n",
       "   <use x=\"224.588996\" xlink:href=\"#glyph0-2\" y=\"254.164063\"/>\n",
       "  </g>\n",
       "  <g fill=\"#f00\">\n",
       "   <use x=\"161.894531\" xlink:href=\"#glyph0-2\" y=\"243.589844\"/>\n",
       "   <use x=\"167.769009\" xlink:href=\"#glyph0-1\" y=\"243.589844\"/>\n",
       "  </g>\n",
       "  <g fill=\"#f00\">\n",
       "   <use x=\"26.859375\" xlink:href=\"#glyph0-2\" y=\"192.527344\"/>\n",
       "   <use x=\"32.733853\" xlink:href=\"#glyph0-1\" y=\"192.527344\"/>\n",
       "  </g>\n",
       "  <g fill=\"#f00\">\n",
       "   <use x=\"43.085938\" xlink:href=\"#glyph0-2\" y=\"241.78125\"/>\n",
       "   <use x=\"48.960415\" xlink:href=\"#glyph0-1\" y=\"241.78125\"/>\n",
       "  </g>\n",
       "  <path d=\"m111.4 205.38-17.27 19.34\" fill=\"none\" stroke=\"#000\" stroke-miterlimit=\"10\" stroke-width=\"1.2\"/>\n",
       "  <path d=\"m105.88 203.92-13.816 15.473\" fill=\"none\" stroke=\"#000\" stroke-miterlimit=\"10\" stroke-width=\"1.2\"/>\n",
       "  <path d=\"m94.133 224.71-25.387-5.2891\" fill=\"none\" stroke=\"#000\" stroke-miterlimit=\"10\" stroke-width=\"1.2\"/>\n",
       "  <path d=\"m68.746 219.43-8.1133-24.625\" fill=\"none\" stroke=\"#000\" stroke-miterlimit=\"10\" stroke-width=\"1.2\"/>\n",
       "  <path d=\"m72.766 215.38-6.4922-19.703\" fill=\"none\" stroke=\"#000\" stroke-miterlimit=\"10\" stroke-width=\"1.2\"/>\n",
       "  <path d=\"m60.633 194.8 17.273-19.34\" fill=\"none\" stroke=\"#000\" stroke-miterlimit=\"10\" stroke-width=\"1.2\"/>\n",
       "  <path d=\"m77.906 175.46 25.383 5.2891\" fill=\"none\" stroke=\"#000\" stroke-miterlimit=\"10\" stroke-width=\"1.2\"/>\n",
       "  <path d=\"m79.406 180.97 20.309 4.2266\" fill=\"none\" stroke=\"#000\" stroke-miterlimit=\"10\" stroke-width=\"1.2\"/>\n",
       "  <path d=\"m103.29 180.75 17.27-19.34\" fill=\"none\" stroke=\"#000\" stroke-miterlimit=\"10\" stroke-width=\"1.2\"/>\n",
       "  <path d=\"m120.56 161.41 25.387 5.2852\" fill=\"none\" stroke=\"#000\" stroke-miterlimit=\"10\" stroke-width=\"1.2\"/>\n",
       "  <path d=\"m124.13 156.96 20.309 4.2305\" fill=\"none\" stroke=\"#000\" stroke-miterlimit=\"10\" stroke-width=\"1.2\"/>\n",
       "  <path d=\"m145.95 166.7 17.27-19.34\" fill=\"none\" stroke=\"#000\" stroke-miterlimit=\"10\" stroke-width=\"1.2\"/>\n",
       "  <path d=\"m162.7 149.84 10.699 2.2305\" fill=\"none\" stroke=\"#000\" stroke-miterlimit=\"10\" stroke-width=\"1.2\"/>\n",
       "  <path d=\"m173.39 152.07 10.695 2.2266\" fill=\"none\" stroke=\"#f00\" stroke-miterlimit=\"10\" stroke-width=\"1.2\"/>\n",
       "  <path d=\"m163.73 144.87 10.695 2.2305\" fill=\"none\" stroke=\"#000\" stroke-miterlimit=\"10\" stroke-width=\"1.2\"/>\n",
       "  <path d=\"m174.43 147.1 10.699 2.2266\" fill=\"none\" stroke=\"#f00\" stroke-miterlimit=\"10\" stroke-width=\"1.2\"/>\n",
       "  <path d=\"m163.21 147.36-8.1133-24.625\" fill=\"none\" stroke=\"#000\" stroke-miterlimit=\"10\" stroke-width=\"1.2\"/>\n",
       "  <path d=\"m155.1 122.73 17.27-19.34\" fill=\"none\" stroke=\"#000\" stroke-miterlimit=\"10\" stroke-width=\"1.2\"/>\n",
       "  <path d=\"m153.04 117.41 13.816-15.473\" fill=\"none\" stroke=\"#000\" stroke-miterlimit=\"10\" stroke-width=\"1.2\"/>\n",
       "  <path d=\"m172.37 103.39-8.1133-24.629\" fill=\"none\" stroke=\"#000\" stroke-miterlimit=\"10\" stroke-width=\"1.2\"/>\n",
       "  <path d=\"m164.26 78.762-25.383-5.2852\" fill=\"none\" stroke=\"#000\" stroke-miterlimit=\"10\" stroke-width=\"1.2\"/>\n",
       "  <path d=\"m160.68 83.211-20.309-4.2305\" fill=\"none\" stroke=\"#000\" stroke-miterlimit=\"10\" stroke-width=\"1.2\"/>\n",
       "  <path d=\"m138.88 73.477-17.27 19.34\" fill=\"none\" stroke=\"#000\" stroke-miterlimit=\"10\" stroke-width=\"1.2\"/>\n",
       "  <path d=\"m121.61 92.816 8.1133 24.625\" fill=\"none\" stroke=\"#000\" stroke-miterlimit=\"10\" stroke-width=\"1.2\"/>\n",
       "  <path d=\"m127.24 93.688 6.4922 19.703\" fill=\"none\" stroke=\"#000\" stroke-miterlimit=\"10\" stroke-width=\"1.2\"/>\n",
       "  <path d=\"m129.72 117.44-6.7539 7.5625\" fill=\"none\" stroke=\"#000\" stroke-miterlimit=\"10\" stroke-width=\"1.2\"/>\n",
       "  <path d=\"m122.96 125-6.7539 7.5586\" fill=\"none\" stroke=\"#f00\" stroke-miterlimit=\"10\" stroke-width=\"1.2\"/>\n",
       "  <path d=\"m138.88 73.477-3.3633-10.203\" fill=\"none\" stroke=\"#000\" stroke-miterlimit=\"10\" stroke-width=\"1.2\"/>\n",
       "  <path d=\"m135.51 63.273-3.3594-10.207\" fill=\"none\" stroke=\"#f00\" stroke-miterlimit=\"10\" stroke-width=\"1.2\"/>\n",
       "  <path d=\"m172.37 103.39 10.695 2.2266\" fill=\"none\" stroke=\"#000\" stroke-miterlimit=\"10\" stroke-width=\"1.2\"/>\n",
       "  <path d=\"m183.07 105.62 10.695 2.2266\" fill=\"none\" stroke=\"#f00\" stroke-miterlimit=\"10\" stroke-width=\"1.2\"/>\n",
       "  <path d=\"m145.95 166.7 3.3594 10.207\" fill=\"none\" stroke=\"#000\" stroke-miterlimit=\"10\" stroke-width=\"1.2\"/>\n",
       "  <path d=\"m149.3 176.9 3.3633 10.203\" fill=\"none\" stroke=\"#f00\" stroke-miterlimit=\"10\" stroke-width=\"1.2\"/>\n",
       "  <path d=\"m179.44 196.61m-2.7891-1.1055-0.21094 1.0078m-2.5781-2.1172-0.41797 2.0195m-2.3672-3.125-0.63281 3.0273m-2.1562-4.1367-0.84375 4.0391m-1.9453-5.1445-1.0508 5.0469m-1.7383-6.1562-1.2617 6.0586m-1.5273-7.1641-1.4688 7.0664m0.37109-7.5039-1.5547 7.4648\" fill=\"none\" stroke=\"#000\" stroke-miterlimit=\"10\"/>\n",
       "  <path d=\"m179.44 196.61 8.1133 24.629\" fill=\"none\" stroke=\"#000\" stroke-miterlimit=\"10\" stroke-width=\"1.2\"/>\n",
       "  <path d=\"m187.55 221.24 25.383 5.2852\" fill=\"none\" stroke=\"#000\" stroke-miterlimit=\"10\" stroke-width=\"1.2\"/>\n",
       "  <path d=\"m212.94 226.52 17.27-19.34\" fill=\"none\" stroke=\"#000\" stroke-miterlimit=\"10\" stroke-width=\"1.2\"/>\n",
       "  <path d=\"m230.21 207.18-8.1133-24.625\" fill=\"none\" stroke=\"#000\" stroke-miterlimit=\"10\" stroke-width=\"1.2\"/>\n",
       "  <path d=\"m222.09 182.56m2.3047-1.9258-0.65234-0.57812m2.9531-1.3438-1.3008-1.1641m3.6055-0.75781-1.9531-1.7461m4.2539-0.17969-2.6055-2.3242m4.9102 0.40234-3.2578-2.9062m5.5586 0.98438-3.9062-3.4883m6.2109 1.5664-4.5586-4.0703m6.8594 2.1445-5.207-4.6523m6.9023 3.2383-5.6875-5.0781\" fill=\"none\" stroke=\"#000\" stroke-miterlimit=\"10\"/>\n",
       "  <path d=\"m241.78 162.42-3.3633-10.203\" fill=\"none\" stroke=\"#000\" stroke-miterlimit=\"10\" stroke-width=\"1.2\"/>\n",
       "  <path d=\"m238.42 152.22-3.3594-10.207\" fill=\"none\" stroke=\"#f00\" stroke-miterlimit=\"10\" stroke-width=\"1.2\"/>\n",
       "  <path d=\"m236.95 164.01-3.3633-10.203\" fill=\"none\" stroke=\"#000\" stroke-miterlimit=\"10\" stroke-width=\"1.2\"/>\n",
       "  <path d=\"m233.59 153.81-3.3633-10.203\" fill=\"none\" stroke=\"#f00\" stroke-miterlimit=\"10\" stroke-width=\"1.2\"/>\n",
       "  <path d=\"m239.37 163.22 10.695 2.2266\" fill=\"none\" stroke=\"#000\" stroke-miterlimit=\"10\" stroke-width=\"1.2\"/>\n",
       "  <path d=\"m250.06 165.45 10.695 2.2266\" fill=\"none\" stroke=\"#f00\" stroke-miterlimit=\"10\" stroke-width=\"1.2\"/>\n",
       "  <path d=\"m222.09 182.56-10.695-2.2305\" fill=\"none\" stroke=\"#000\" stroke-miterlimit=\"10\" stroke-width=\"1.2\"/>\n",
       "  <path d=\"m211.4 180.33-10.699-2.2266\" fill=\"none\" stroke=\"#f00\" stroke-miterlimit=\"10\" stroke-width=\"1.2\"/>\n",
       "  <path d=\"m230.21 207.18 20.613 8.1875 1.5547-7.4648z\"/>\n",
       "  <path d=\"m212.94 226.52m0.42578 2.9688 0.99609-0.32812m-0.57031 3.2969 1.9922-0.65234m-1.5625 3.625 2.9844-0.98438m-2.5586 3.9531 3.9805-1.3125m-3.5547 4.2812 4.9766-1.6406m-4.5508 4.6094 5.9727-1.9688m-5.5469 4.9375 6.9688-2.293m-6.8516 3.1094 7.2422-2.3867\" fill=\"none\" stroke=\"#000\" stroke-miterlimit=\"10\"/>\n",
       "  <path d=\"m187.55 221.24-16.348 12.582 5.6875 5.0781z\"/>\n",
       "  <path d=\"m60.633 194.8-10.691-2.2266\" fill=\"none\" stroke=\"#000\" stroke-miterlimit=\"10\" stroke-width=\"1.2\"/>\n",
       "  <path d=\"m49.941 192.57-10.691-2.2266\" fill=\"none\" stroke=\"#f00\" stroke-miterlimit=\"10\" stroke-width=\"1.2\"/>\n",
       "  <path d=\"m68.746 219.43-6.75 7.5625\" fill=\"none\" stroke=\"#000\" stroke-miterlimit=\"10\" stroke-width=\"1.2\"/>\n",
       "  <path d=\"m61.996 226.99-6.7539 7.5625\" fill=\"none\" stroke=\"#f00\" stroke-miterlimit=\"10\" stroke-width=\"1.2\"/>\n",
       "  <path d=\"m103.29 180.75 8.1133 24.625\" fill=\"none\" stroke=\"#000\" stroke-miterlimit=\"10\" stroke-width=\"1.2\"/>\n",
       "  <path d=\"m113.84 141 3.3633 10.203\" fill=\"none\" stroke=\"#f00\" stroke-miterlimit=\"10\" stroke-width=\"1.2\"/>\n",
       "  <path d=\"m117.2 151.2 3.3594 10.207\" fill=\"none\" stroke=\"#000\" stroke-miterlimit=\"10\" stroke-width=\"1.2\"/>\n",
       "  <path d=\"m192.95 181.49-6.7539 7.5625\" fill=\"none\" stroke=\"#f00\" stroke-miterlimit=\"10\" stroke-width=\"1.2\"/>\n",
       "  <path d=\"m186.19 189.05-6.75 7.5586\" fill=\"none\" stroke=\"#000\" stroke-miterlimit=\"10\" stroke-width=\"1.2\"/>\n",
       "  <path d=\"m129.72 117.44 25.383 5.2891\" fill=\"none\" stroke=\"#000\" stroke-miterlimit=\"10\" stroke-width=\"1.2\"/>\n",
       " </g>\n",
       "</svg>"
      ],
      "text/plain": [
       "<IPython.core.display.SVG object>"
      ]
     },
     "metadata": {},
     "output_type": "display_data"
    },
    {
     "name": "stdout",
     "output_type": "stream",
     "text": [
      "--------------------------------------------------------------------------------\n",
      "SUGGESTED SIMILAR SPECTRA ------------------------------------------------------\n",
      "SMILES: CCC(C)/C=C(\\C)/C=C/C1=CC2=C(C(=O)C(C)(C(=O)C2=CN1CCCC(=O)O)OC(=O)C)Cl\n",
      "INCHIKEY: SAMXBYLRDCRTCV-HMSDUJDUSA-N\n",
      "--> Spec2Vec similarity score: 0.8059146610318765\n",
      "--> Modified cosine score: 0.8913346672122187\n",
      "With ground truth --> actual molecular similarity: 0.4608347627215552\n",
      "--> MOLECULES:\n",
      "Scour processed file \"draw_mols_temp.svg\" in 31 ms: 9994/16315 bytes new/orig -> 61.3%\n"
     ]
    },
    {
     "data": {
      "image/svg+xml": [
       "<svg height=\"300pt\" version=\"1.1\" viewBox=\"0 0 300 300\" width=\"300pt\" xmlns=\"http://www.w3.org/2000/svg\" xmlns:xlink=\"http://www.w3.org/1999/xlink\">\n",
       " <defs>\n",
       "  <symbol id=\"glyph0-1\" overflow=\"visible\">\n",
       "   <path d=\"m0.33984-2.4414c0-0.82812 0.22266-1.4805 0.66797-1.9531 0.44531-0.46875 1.0195-0.70312 1.7305-0.70703 0.45703 0.003907 0.875 0.11328 1.25 0.33203 0.37109 0.22266 0.65234 0.53125 0.84766 0.92578 0.19141 0.39844 0.28906 0.84766 0.29297 1.3438-0.003906 0.51172-0.10547 0.96875-0.30859 1.3672-0.20703 0.40625-0.49609 0.70703-0.87109 0.91016-0.375 0.20312-0.78125 0.30469-1.2148 0.30859-0.47266-0.0039062-0.89453-0.11328-1.2656-0.33984-0.37109-0.22656-0.65234-0.53906-0.84375-0.93359s-0.28516-0.8125-0.28516-1.2539zm0.68359 0.011718c-0.003907 0.60547 0.15625 1.082 0.48438 1.4297 0.32031 0.34766 0.73047 0.51953 1.2227 0.51953 0.5 0 0.91016-0.17578 1.2305-0.52734 0.32031-0.35156 0.48047-0.84766 0.48438-1.4922-0.003907-0.40625-0.074219-0.76172-0.20703-1.0703-0.14062-0.30078-0.33984-0.53906-0.60547-0.70703-0.26562-0.16406-0.5625-0.24609-0.89062-0.25-0.46875 0.003906-0.875 0.16406-1.2109 0.48438-0.34375 0.32031-0.51172 0.85938-0.50781 1.6133z\"/>\n",
       "  </symbol>\n",
       "  <symbol id=\"glyph0-2\" overflow=\"visible\">\n",
       "   <path d=\"m0.53125 0v-5.0117h0.68359l2.6289 3.9336v-3.9336h0.63672v5.0117h-0.67969l-2.6328-3.9375v3.9375z\"/>\n",
       "  </symbol>\n",
       "  <symbol id=\"glyph0-3\" overflow=\"visible\">\n",
       "   <path d=\"m0.5625 0v-5.0117h0.66016v2.0586h2.6055v-2.0586h0.66406v5.0117h-0.66406v-2.3633h-2.6055v2.3633z\"/>\n",
       "  </symbol>\n",
       "  <symbol id=\"glyph0-4\" overflow=\"visible\">\n",
       "   <path d=\"m4.1172-1.7578 0.66016 0.16797c-0.14062 0.54688-0.39062 0.96094-0.75 1.2461-0.36719 0.28516-0.80859 0.42578-1.3242 0.42969-0.54297-0.0039062-0.98047-0.10938-1.3164-0.32813-0.33984-0.21875-0.59766-0.53906-0.77344-0.95703-0.17969-0.41406-0.26953-0.86328-0.26562-1.3438-0.003906-0.51953 0.097657-0.97266 0.29688-1.3633 0.19922-0.38672 0.48047-0.68359 0.85156-0.88672 0.36719-0.20312 0.77344-0.30469 1.2188-0.30469 0.49609 0 0.91797 0.12891 1.2617 0.38281 0.33984 0.25781 0.57812 0.61719 0.71484 1.0781l-0.65234 0.15234c-0.11719-0.36328-0.28516-0.62891-0.50391-0.79297-0.22656-0.16406-0.50391-0.24609-0.83594-0.25-0.38672 0.003906-0.70703 0.097656-0.96484 0.27734-0.25781 0.1875-0.44141 0.43359-0.54688 0.74219-0.10547 0.3125-0.15625 0.63281-0.15625 0.96094 0 0.42969 0.0625 0.80078 0.1875 1.1172 0.125 0.32031 0.31641 0.55859 0.57812 0.71484s0.54688 0.23438 0.85156 0.23438c0.37109 0 0.68359-0.10547 0.94141-0.32031 0.25391-0.21484 0.42969-0.53516 0.52734-0.95703z\"/>\n",
       "  </symbol>\n",
       "  <symbol id=\"glyph0-5\" overflow=\"visible\">\n",
       "   <path d=\"m0.44922 0v-5.0117h0.61328v5.0117z\"/>\n",
       "  </symbol>\n",
       " </defs>\n",
       " <g id=\"surface589\">\n",
       "  <rect fill=\"#fff\" height=\"300\" width=\"300\"/>\n",
       "  <g fill=\"#f00\">\n",
       "   <use x=\"72.082031\" xlink:href=\"#glyph0-1\" y=\"203.160156\"/>\n",
       "  </g>\n",
       "  <g fill=\"#f00\">\n",
       "   <use x=\"98.019531\" xlink:href=\"#glyph0-1\" y=\"139.90625\"/>\n",
       "  </g>\n",
       "  <g fill=\"#00f\">\n",
       "   <use x=\"153.222656\" xlink:href=\"#glyph0-2\" y=\"162.285156\"/>\n",
       "  </g>\n",
       "  <g fill=\"#f00\">\n",
       "   <use x=\"160.476563\" xlink:href=\"#glyph0-1\" y=\"91.632813\"/>\n",
       "  </g>\n",
       "  <g fill=\"#f00\">\n",
       "   <use x=\"194.347656\" xlink:href=\"#glyph0-1\" y=\"87.050781\"/>\n",
       "   <use x=\"199.79248\" xlink:href=\"#glyph0-3\" y=\"87.050781\"/>\n",
       "  </g>\n",
       "  <g fill=\"#f00\">\n",
       "   <use x=\"66.25\" xlink:href=\"#glyph0-1\" y=\"177.535156\"/>\n",
       "  </g>\n",
       "  <g fill=\"#f00\">\n",
       "   <use x=\"55.859375\" xlink:href=\"#glyph0-1\" y=\"144.972656\"/>\n",
       "  </g>\n",
       "  <g fill=\"#0c0\">\n",
       "   <use x=\"108.113281\" xlink:href=\"#glyph0-4\" y=\"218.132813\"/>\n",
       "   <use x=\"113.168457\" xlink:href=\"#glyph0-5\" y=\"218.132813\"/>\n",
       "  </g>\n",
       "  <path d=\"m264.75 204.7-18.258-7.4844\" fill=\"none\" stroke=\"#000\" stroke-miterlimit=\"10\" stroke-width=\"1.2\"/>\n",
       "  <path d=\"m246.49 197.22-2.6445-19.559\" fill=\"none\" stroke=\"#000\" stroke-miterlimit=\"10\" stroke-width=\"1.2\"/>\n",
       "  <path d=\"m243.85 177.66 15.613-12.07\" fill=\"none\" stroke=\"#000\" stroke-miterlimit=\"10\" stroke-width=\"1.2\"/>\n",
       "  <path d=\"m243.85 177.66-18.262-7.4883\" fill=\"none\" stroke=\"#000\" stroke-miterlimit=\"10\" stroke-width=\"1.2\"/>\n",
       "  <path d=\"m225.59 170.17-15.613 12.07\" fill=\"none\" stroke=\"#000\" stroke-miterlimit=\"10\" stroke-width=\"1.2\"/>\n",
       "  <path d=\"m221.66 168.32-12.492 9.6562\" fill=\"none\" stroke=\"#000\" stroke-miterlimit=\"10\" stroke-width=\"1.2\"/>\n",
       "  <path d=\"m209.97 182.24 2.6445 19.555\" fill=\"none\" stroke=\"#000\" stroke-miterlimit=\"10\" stroke-width=\"1.2\"/>\n",
       "  <path d=\"m209.97 182.24-18.258-7.4883\" fill=\"none\" stroke=\"#000\" stroke-miterlimit=\"10\" stroke-width=\"1.2\"/>\n",
       "  <path d=\"m191.71 174.75-15.617 12.07\" fill=\"none\" stroke=\"#000\" stroke-miterlimit=\"10\" stroke-width=\"1.2\"/>\n",
       "  <path d=\"m187.79 172.9-12.492 9.6562\" fill=\"none\" stroke=\"#000\" stroke-miterlimit=\"10\" stroke-width=\"1.2\"/>\n",
       "  <path d=\"m176.1 186.82-18.258-7.4883\" fill=\"none\" stroke=\"#000\" stroke-miterlimit=\"10\" stroke-width=\"1.2\"/>\n",
       "  <path d=\"m157.84 179.34-15.613 12.066\" fill=\"none\" stroke=\"#000\" stroke-miterlimit=\"10\" stroke-width=\"1.2\"/>\n",
       "  <path d=\"m153.91 177.48-12.488 9.6562\" fill=\"none\" stroke=\"#000\" stroke-miterlimit=\"10\" stroke-width=\"1.2\"/>\n",
       "  <path d=\"m142.23 191.4-18.262-7.4844\" fill=\"none\" stroke=\"#000\" stroke-miterlimit=\"10\" stroke-width=\"1.2\"/>\n",
       "  <path d=\"m123.96 183.92-15.613 12.066\" fill=\"none\" stroke=\"#000\" stroke-miterlimit=\"10\" stroke-width=\"1.2\"/>\n",
       "  <path d=\"m120.04 182.06-12.492 9.6562\" fill=\"none\" stroke=\"#000\" stroke-miterlimit=\"10\" stroke-width=\"1.2\"/>\n",
       "  <path d=\"m108.35 195.98-18.258-7.4883\" fill=\"none\" stroke=\"#000\" stroke-miterlimit=\"10\" stroke-width=\"1.2\"/>\n",
       "  <path d=\"m88.91 186.97-6.0898 4.707\" fill=\"none\" stroke=\"#000\" stroke-miterlimit=\"10\" stroke-width=\"1.2\"/>\n",
       "  <path d=\"m82.82 191.68-6.0938 4.707\" fill=\"none\" stroke=\"#f00\" stroke-miterlimit=\"10\" stroke-width=\"1.2\"/>\n",
       "  <path d=\"m91.277 190.03-6.0898 4.7109\" fill=\"none\" stroke=\"#000\" stroke-miterlimit=\"10\" stroke-width=\"1.2\"/>\n",
       "  <path d=\"m85.188 194.74-6.0938 4.707\" fill=\"none\" stroke=\"#f00\" stroke-miterlimit=\"10\" stroke-width=\"1.2\"/>\n",
       "  <path d=\"m90.094 188.5-2.6445-19.555\" fill=\"none\" stroke=\"#000\" stroke-miterlimit=\"10\" stroke-width=\"1.2\"/>\n",
       "  <path d=\"m87.449 168.94-9.1758-17.473\" fill=\"none\" stroke=\"#000\" stroke-miterlimit=\"10\" stroke-width=\"1.2\"/>\n",
       "  <path d=\"m87.449 168.94 15.613-12.07\" fill=\"none\" stroke=\"#000\" stroke-miterlimit=\"10\" stroke-width=\"1.2\"/>\n",
       "  <path d=\"m104.98 156.61-1.0781-7.9648\" fill=\"none\" stroke=\"#000\" stroke-miterlimit=\"10\" stroke-width=\"1.2\"/>\n",
       "  <path d=\"m103.9 148.65-1.0781-7.9648\" fill=\"none\" stroke=\"#f00\" stroke-miterlimit=\"10\" stroke-width=\"1.2\"/>\n",
       "  <path d=\"m101.14 157.13-1.0781-7.9648\" fill=\"none\" stroke=\"#000\" stroke-miterlimit=\"10\" stroke-width=\"1.2\"/>\n",
       "  <path d=\"m100.07 149.17-1.0742-7.9648\" fill=\"none\" stroke=\"#f00\" stroke-miterlimit=\"10\" stroke-width=\"1.2\"/>\n",
       "  <path d=\"m103.06 156.87 18.258 7.4883\" fill=\"none\" stroke=\"#000\" stroke-miterlimit=\"10\" stroke-width=\"1.2\"/>\n",
       "  <path d=\"m121.32 164.36 15.613-12.07\" fill=\"none\" stroke=\"#000\" stroke-miterlimit=\"10\" stroke-width=\"1.2\"/>\n",
       "  <path d=\"m125.25 166.21 12.492-9.6562\" fill=\"none\" stroke=\"#000\" stroke-miterlimit=\"10\" stroke-width=\"1.2\"/>\n",
       "  <path d=\"m136.93 152.29 7.6445 3.1367\" fill=\"none\" stroke=\"#000\" stroke-miterlimit=\"10\" stroke-width=\"1.2\"/>\n",
       "  <path d=\"m144.58 155.43 7.6406 3.1328\" fill=\"none\" stroke=\"#00f\" stroke-miterlimit=\"10\" stroke-width=\"1.2\"/>\n",
       "  <path d=\"m158.17 157.48 6.3164-4.8828\" fill=\"none\" stroke=\"#00f\" stroke-miterlimit=\"10\" stroke-width=\"1.2\"/>\n",
       "  <path d=\"m164.49 152.59 6.3203-4.8828\" fill=\"none\" stroke=\"#000\" stroke-miterlimit=\"10\" stroke-width=\"1.2\"/>\n",
       "  <path d=\"m170.81 147.71-2.6445-19.559\" fill=\"none\" stroke=\"#000\" stroke-miterlimit=\"10\" stroke-width=\"1.2\"/>\n",
       "  <path d=\"m168.16 128.15 15.613-12.07\" fill=\"none\" stroke=\"#000\" stroke-miterlimit=\"10\" stroke-width=\"1.2\"/>\n",
       "  <path d=\"m183.78 116.08-2.6445-19.555\" fill=\"none\" stroke=\"#000\" stroke-miterlimit=\"10\" stroke-width=\"1.2\"/>\n",
       "  <path d=\"m181.87 94.738-7.4141-3.043\" fill=\"none\" stroke=\"#000\" stroke-miterlimit=\"10\" stroke-width=\"1.2\"/>\n",
       "  <path d=\"m174.45 91.695-7.4141-3.0391\" fill=\"none\" stroke=\"#f00\" stroke-miterlimit=\"10\" stroke-width=\"1.2\"/>\n",
       "  <path d=\"m180.4 98.316-7.4141-3.0391\" fill=\"none\" stroke=\"#000\" stroke-miterlimit=\"10\" stroke-width=\"1.2\"/>\n",
       "  <path d=\"m172.98 95.277-7.4102-3.0391\" fill=\"none\" stroke=\"#f00\" stroke-miterlimit=\"10\" stroke-width=\"1.2\"/>\n",
       "  <path d=\"m181.13 96.527 6.0898-4.707\" fill=\"none\" stroke=\"#000\" stroke-miterlimit=\"10\" stroke-width=\"1.2\"/>\n",
       "  <path d=\"m187.22 91.82 6.0898-4.707\" fill=\"none\" stroke=\"#f00\" stroke-miterlimit=\"10\" stroke-width=\"1.2\"/>\n",
       "  <path d=\"m87.449 168.94-7.6836 2.4531\" fill=\"none\" stroke=\"#000\" stroke-miterlimit=\"10\" stroke-width=\"1.2\"/>\n",
       "  <path d=\"m79.766 171.39-7.6836 2.4531\" fill=\"none\" stroke=\"#f00\" stroke-miterlimit=\"10\" stroke-width=\"1.2\"/>\n",
       "  <path d=\"m65.215 171.82-5.582-5.0781\" fill=\"none\" stroke=\"#f00\" stroke-miterlimit=\"10\" stroke-width=\"1.2\"/>\n",
       "  <path d=\"m59.633 166.74-5.582-5.0781\" fill=\"none\" stroke=\"#000\" stroke-miterlimit=\"10\" stroke-width=\"1.2\"/>\n",
       "  <path d=\"m55.941 162.07 1.707-7.8281\" fill=\"none\" stroke=\"#000\" stroke-miterlimit=\"10\" stroke-width=\"1.2\"/>\n",
       "  <path d=\"m57.648 154.25 1.7031-7.8242\" fill=\"none\" stroke=\"#f00\" stroke-miterlimit=\"10\" stroke-width=\"1.2\"/>\n",
       "  <path d=\"m52.16 161.25 1.707-7.8281\" fill=\"none\" stroke=\"#000\" stroke-miterlimit=\"10\" stroke-width=\"1.2\"/>\n",
       "  <path d=\"m53.867 153.42 1.7031-7.8242\" fill=\"none\" stroke=\"#f00\" stroke-miterlimit=\"10\" stroke-width=\"1.2\"/>\n",
       "  <path d=\"m54.051 161.66-18.801 6\" fill=\"none\" stroke=\"#000\" stroke-miterlimit=\"10\" stroke-width=\"1.2\"/>\n",
       "  <path d=\"m108.35 195.98 1.0781 7.9648\" fill=\"none\" stroke=\"#000\" stroke-miterlimit=\"10\" stroke-width=\"1.2\"/>\n",
       "  <path d=\"m109.43 203.95 1.0781 7.9648\" fill=\"none\" stroke=\"#0c0\" stroke-miterlimit=\"10\" stroke-width=\"1.2\"/>\n",
       "  <path d=\"m155.67 163.29 1.0859 8.0273\" fill=\"none\" stroke=\"#00f\" stroke-miterlimit=\"10\" stroke-width=\"1.2\"/>\n",
       "  <path d=\"m156.75 171.31 1.0859 8.0234\" fill=\"none\" stroke=\"#000\" stroke-miterlimit=\"10\" stroke-width=\"1.2\"/>\n",
       "  <path d=\"m121.32 164.36 2.6445 19.559\" fill=\"none\" stroke=\"#000\" stroke-miterlimit=\"10\" stroke-width=\"1.2\"/>\n",
       " </g>\n",
       "</svg>"
      ],
      "text/plain": [
       "<IPython.core.display.SVG object>"
      ]
     },
     "metadata": {},
     "output_type": "display_data"
    },
    {
     "name": "stdout",
     "output_type": "stream",
     "text": [
      "--------------------------------------------------------------------------------\n",
      "SUGGESTED SIMILAR SPECTRA ------------------------------------------------------\n",
      "SMILES: CC1(C)OC2COC3(COS(=O)(=O)N)C(C2O1)OC(C)(C)O3\n",
      "INCHIKEY: KJADKKWYZYXHBB-UHFFFAOYSA-N\n",
      "--> Spec2Vec similarity score: 0.7025888991831896\n",
      "--> Modified cosine score: 0.7295436334381368\n",
      "With ground truth --> actual molecular similarity: 0.3555404486743712\n",
      "--> MOLECULES:\n",
      "Scour processed file \"draw_mols_temp.svg\" in 31 ms: 9965/15458 bytes new/orig -> 64.5%\n"
     ]
    },
    {
     "data": {
      "image/svg+xml": [
       "<svg height=\"300pt\" version=\"1.1\" viewBox=\"0 0 300 300\" width=\"300pt\" xmlns=\"http://www.w3.org/2000/svg\" xmlns:xlink=\"http://www.w3.org/1999/xlink\">\n",
       " <defs>\n",
       "  <symbol id=\"glyph0-1\" overflow=\"visible\">\n",
       "   <path d=\"m0.48828-3.5156c-0.003906-1.1992 0.32031-2.1367 0.96484-2.8164 0.64062-0.67578 1.4688-1.0156 2.4922-1.0156 0.66406 0 1.2656 0.16016 1.8008 0.47656 0.53516 0.32031 0.94531 0.76562 1.2266 1.332 0.28125 0.57422 0.42188 1.2188 0.42188 1.9375 0 0.73438-0.14844 1.3906-0.44531 1.9648-0.29688 0.58203-0.71484 1.0195-1.2539 1.3164-0.54297 0.29688-1.1289 0.44141-1.7539 0.44531-0.68359-0.003906-1.293-0.16406-1.8242-0.49219-0.53906-0.32812-0.94141-0.77734-1.2148-1.3477-0.27734-0.56641-0.41797-1.168-0.41406-1.8008zm0.98438 0.011719c-0.003906 0.875 0.23047 1.5625 0.69922 2.0586 0.46484 0.50391 1.0508 0.75391 1.7617 0.75 0.71875 0.003907 1.3125-0.25 1.7773-0.75781 0.46094-0.50391 0.69141-1.2188 0.69531-2.1523-0.003906-0.58594-0.10156-1.1016-0.29688-1.5391-0.19922-0.4375-0.48828-0.77734-0.87109-1.0195-0.38281-0.24219-0.8125-0.36328-1.2891-0.36328-0.67578 0-1.2578 0.23438-1.7461 0.69922s-0.73438 1.2383-0.73047 2.3242z\"/>\n",
       "  </symbol>\n",
       "  <symbol id=\"glyph0-2\" overflow=\"visible\">\n",
       "   <path d=\"m0.45312-2.3203 0.90234-0.078125c0.039062 0.36719 0.14062 0.66406 0.29688 0.89062 0.15625 0.23438 0.39844 0.41797 0.72656 0.55859 0.32812 0.14453 0.69531 0.21875 1.1094 0.21484 0.35938 0.003906 0.68359-0.050781 0.96484-0.16016 0.27734-0.10547 0.48438-0.25391 0.62109-0.44531 0.13672-0.1875 0.20312-0.39453 0.20703-0.62109-0.003906-0.22266-0.070312-0.42188-0.19922-0.59375-0.13281-0.16797-0.34766-0.30859-0.64844-0.42578-0.19922-0.074219-0.62891-0.19141-1.2891-0.35156-0.66406-0.15625-1.1289-0.30469-1.3906-0.44922-0.35156-0.17969-0.60938-0.40625-0.77344-0.67188-0.17188-0.26562-0.25391-0.56641-0.25-0.90234-0.003906-0.36328 0.097656-0.70312 0.30859-1.0195 0.20312-0.31641 0.50781-0.55469 0.90625-0.72266 0.39844-0.16016 0.83984-0.24219 1.3242-0.24609 0.53516 0.003906 1.0078 0.089844 1.418 0.25781 0.40625 0.17578 0.71875 0.42969 0.94141 0.76172 0.21875 0.33984 0.33594 0.71875 0.35547 1.1367l-0.91797 0.070312c-0.050781-0.45312-0.21875-0.79688-0.5-1.0312-0.28906-0.23047-0.70703-0.34766-1.2578-0.35156-0.58203 0.003906-1.0039 0.10938-1.2656 0.31641-0.26562 0.21484-0.39844 0.46875-0.39453 0.76562-0.003907 0.26172 0.089843 0.47656 0.28125 0.64062 0.17969 0.17188 0.66016 0.34375 1.4414 0.51562 0.77344 0.17969 1.3086 0.33203 1.5977 0.46094 0.42188 0.19531 0.73047 0.44141 0.92969 0.73438 0.19922 0.30078 0.30078 0.64062 0.30078 1.0273 0 0.38672-0.10938 0.75-0.32812 1.0898s-0.53516 0.60547-0.94922 0.79297c-0.41406 0.1875-0.87891 0.27734-1.3906 0.28125-0.65625-0.003906-1.2031-0.09375-1.6445-0.28516-0.44141-0.1875-0.78906-0.47656-1.0391-0.86328-0.25391-0.37891-0.38672-0.8125-0.39453-1.2969z\"/>\n",
       "  </symbol>\n",
       "  <symbol id=\"glyph0-3\" overflow=\"visible\">\n",
       "   <path d=\"m0.80859 0v-7.2227h0.95312v2.9688h3.7539v-2.9688h0.95703v7.2227h-0.95703v-3.4023h-3.7539v3.4023z\"/>\n",
       "  </symbol>\n",
       "  <symbol id=\"glyph0-4\" overflow=\"visible\">\n",
       "   <path d=\"m5.0781-0.85156v0.85156h-4.7734c-0.007813-0.21094 0.027343-0.41406 0.10547-0.61719 0.11719-0.32031 0.30859-0.64062 0.58203-0.95703 0.26562-0.31641 0.65234-0.67969 1.1602-1.0938 0.78125-0.64062 1.3125-1.1523 1.5898-1.5312 0.27344-0.37109 0.41016-0.72656 0.41406-1.0664-0.003906-0.34766-0.12891-0.64453-0.37891-0.88672-0.25391-0.24219-0.58203-0.36328-0.98047-0.36328-0.42969 0-0.76953 0.12891-1.0234 0.38672-0.25781 0.25781-0.38672 0.61328-0.39062 1.0625l-0.91016-0.09375c0.058594-0.67578 0.29297-1.1953 0.70312-1.5547 0.40625-0.35547 0.95312-0.53125 1.6406-0.53516 0.69141 0.003906 1.2383 0.19531 1.6445 0.57812 0.39844 0.38672 0.60156 0.86328 0.60547 1.4258-0.003906 0.29297-0.0625 0.57422-0.17578 0.85156-0.12109 0.28125-0.31641 0.57812-0.58984 0.88281-0.27344 0.3125-0.73047 0.73438-1.3633 1.2695-0.53906 0.44922-0.87891 0.75391-1.0273 0.91016-0.15234 0.16406-0.27734 0.32422-0.375 0.48047z\"/>\n",
       "  </symbol>\n",
       "  <symbol id=\"glyph0-5\" overflow=\"visible\">\n",
       "   <path d=\"m0.76953 0v-7.2227h0.98047l3.793 5.6719v-5.6719h0.91406v7.2227h-0.98047l-3.793-5.6758v5.6758z\"/>\n",
       "  </symbol>\n",
       " </defs>\n",
       " <g id=\"surface593\">\n",
       "  <rect fill=\"#fff\" height=\"300\" width=\"300\"/>\n",
       "  <g fill=\"#f00\">\n",
       "   <use x=\"81.1875\" xlink:href=\"#glyph0-1\" y=\"209.601563\"/>\n",
       "  </g>\n",
       "  <g fill=\"#f00\">\n",
       "   <use x=\"165.019531\" xlink:href=\"#glyph0-1\" y=\"186.933594\"/>\n",
       "  </g>\n",
       "  <g fill=\"#f00\">\n",
       "   <use x=\"199.3125\" xlink:href=\"#glyph0-1\" y=\"194.816406\"/>\n",
       "  </g>\n",
       "  <g fill=\"#cc0\">\n",
       "   <use x=\"230.882813\" xlink:href=\"#glyph0-2\" y=\"203.375\"/>\n",
       "  </g>\n",
       "  <g fill=\"#f00\">\n",
       "   <use x=\"238.863281\" xlink:href=\"#glyph0-1\" y=\"172.386719\"/>\n",
       "  </g>\n",
       "  <g fill=\"#f00\">\n",
       "   <use x=\"261.296875\" xlink:href=\"#glyph0-1\" y=\"211.9375\"/>\n",
       "  </g>\n",
       "  <g fill=\"#00f\">\n",
       "   <use x=\"209.742188\" xlink:href=\"#glyph0-3\" y=\"234.261719\"/>\n",
       "   <use x=\"217.026961\" xlink:href=\"#glyph0-4\" y=\"234.261719\"/>\n",
       "   <use x=\"222.637075\" xlink:href=\"#glyph0-5\" y=\"234.261719\"/>\n",
       "  </g>\n",
       "  <g fill=\"#f00\">\n",
       "   <use x=\"73.445313\" xlink:href=\"#glyph0-1\" y=\"158.15625\"/>\n",
       "  </g>\n",
       "  <g fill=\"#f00\">\n",
       "   <use x=\"132.234375\" xlink:href=\"#glyph0-1\" y=\"111.289063\"/>\n",
       "  </g>\n",
       "  <g fill=\"#f00\">\n",
       "   <use x=\"180.660156\" xlink:href=\"#glyph0-1\" y=\"130.304688\"/>\n",
       "  </g>\n",
       "  <path d=\"m41.656 207.79 20.426-24.836\" fill=\"none\" stroke=\"#000\" stroke-miterlimit=\"10\" stroke-width=\"1.2\"/>\n",
       "  <path d=\"m62.082 182.95-26.832-17.715\" fill=\"none\" stroke=\"#000\" stroke-miterlimit=\"10\" stroke-width=\"1.2\"/>\n",
       "  <path d=\"m62.082 182.95 8.8047 8.9453\" fill=\"none\" stroke=\"#000\" stroke-miterlimit=\"10\" stroke-width=\"1.2\"/>\n",
       "  <path d=\"m70.887 191.9 8.8086 8.9414\" fill=\"none\" stroke=\"#f00\" stroke-miterlimit=\"10\" stroke-width=\"1.2\"/>\n",
       "  <path d=\"m89.59 203.39 11.906-5.9531\" fill=\"none\" stroke=\"#f00\" stroke-miterlimit=\"10\" stroke-width=\"1.2\"/>\n",
       "  <path d=\"m101.5 197.44 11.906-5.9492\" fill=\"none\" stroke=\"#000\" stroke-miterlimit=\"10\" stroke-width=\"1.2\"/>\n",
       "  <path d=\"m113.4 191.49 29.93 11.75\" fill=\"none\" stroke=\"#000\" stroke-miterlimit=\"10\" stroke-width=\"1.2\"/>\n",
       "  <path d=\"m143.33 203.24 10.098-8.0469\" fill=\"none\" stroke=\"#000\" stroke-miterlimit=\"10\" stroke-width=\"1.2\"/>\n",
       "  <path d=\"m153.43 195.19 10.098-8.0508\" fill=\"none\" stroke=\"#f00\" stroke-miterlimit=\"10\" stroke-width=\"1.2\"/>\n",
       "  <path d=\"m167.69 177.96-2-13.281\" fill=\"none\" stroke=\"#f00\" stroke-miterlimit=\"10\" stroke-width=\"1.2\"/>\n",
       "  <path d=\"m165.69 164.68-2-13.281\" fill=\"none\" stroke=\"#000\" stroke-miterlimit=\"10\" stroke-width=\"1.2\"/>\n",
       "  <path d=\"m163.69 151.4 30.992 8.5586\" fill=\"none\" stroke=\"#000\" stroke-miterlimit=\"10\" stroke-width=\"1.2\"/>\n",
       "  <path d=\"m194.68 159.96 3.3633 12.945\" fill=\"none\" stroke=\"#000\" stroke-miterlimit=\"10\" stroke-width=\"1.2\"/>\n",
       "  <path d=\"m198.04 172.91 3.3633 12.945\" fill=\"none\" stroke=\"#f00\" stroke-miterlimit=\"10\" stroke-width=\"1.2\"/>\n",
       "  <path d=\"m207.71 192.45 10.84 2.9922\" fill=\"none\" stroke=\"#f00\" stroke-miterlimit=\"10\" stroke-width=\"1.2\"/>\n",
       "  <path d=\"m218.55 195.44 10.84 2.9961\" fill=\"none\" stroke=\"#cc0\" stroke-miterlimit=\"10\" stroke-width=\"1.2\"/>\n",
       "  <path d=\"m238.24 195.25 2.8359-10.266\" fill=\"none\" stroke=\"#cc0\" stroke-miterlimit=\"10\" stroke-width=\"1.2\"/>\n",
       "  <path d=\"m241.07 184.99 2.8359-10.27\" fill=\"none\" stroke=\"#f00\" stroke-miterlimit=\"10\" stroke-width=\"1.2\"/>\n",
       "  <path d=\"m232.16 193.57 2.8359-10.266\" fill=\"none\" stroke=\"#cc0\" stroke-miterlimit=\"10\" stroke-width=\"1.2\"/>\n",
       "  <path d=\"m235 183.31 2.8359-10.27\" fill=\"none\" stroke=\"#f00\" stroke-miterlimit=\"10\" stroke-width=\"1.2\"/>\n",
       "  <path d=\"m237.29 203.89 10.84 2.9922\" fill=\"none\" stroke=\"#cc0\" stroke-miterlimit=\"10\" stroke-width=\"1.2\"/>\n",
       "  <path d=\"m248.12 206.88 10.84 2.9961\" fill=\"none\" stroke=\"#f00\" stroke-miterlimit=\"10\" stroke-width=\"1.2\"/>\n",
       "  <path d=\"m238.96 197.81 10.836 2.9961\" fill=\"none\" stroke=\"#cc0\" stroke-miterlimit=\"10\" stroke-width=\"1.2\"/>\n",
       "  <path d=\"m249.8 200.8 10.84 2.9922\" fill=\"none\" stroke=\"#f00\" stroke-miterlimit=\"10\" stroke-width=\"1.2\"/>\n",
       "  <path d=\"m232.31 204.87-2.8555 10.348\" fill=\"none\" stroke=\"#cc0\" stroke-miterlimit=\"10\" stroke-width=\"1.2\"/>\n",
       "  <path d=\"m229.46 215.21-2.8594 10.344\" fill=\"none\" stroke=\"#00f\" stroke-miterlimit=\"10\" stroke-width=\"1.2\"/>\n",
       "  <path d=\"m163.69 151.4-29.93-11.754\" fill=\"none\" stroke=\"#000\" stroke-miterlimit=\"10\" stroke-width=\"1.2\"/>\n",
       "  <path d=\"m133.76 139.65-25.141 20.043\" fill=\"none\" stroke=\"#000\" stroke-miterlimit=\"10\" stroke-width=\"1.2\"/>\n",
       "  <path d=\"m108.62 159.69-13.387-2.2266\" fill=\"none\" stroke=\"#000\" stroke-miterlimit=\"10\" stroke-width=\"1.2\"/>\n",
       "  <path d=\"m95.23 157.46-13.387-2.2227\" fill=\"none\" stroke=\"#f00\" stroke-miterlimit=\"10\" stroke-width=\"1.2\"/>\n",
       "  <path d=\"m133.76 139.65 0.80859-13.434\" fill=\"none\" stroke=\"#000\" stroke-miterlimit=\"10\" stroke-width=\"1.2\"/>\n",
       "  <path d=\"m134.57 126.21 0.80469-13.43\" fill=\"none\" stroke=\"#f00\" stroke-miterlimit=\"10\" stroke-width=\"1.2\"/>\n",
       "  <path d=\"m140.63 106.27 13.09-3.3984\" fill=\"none\" stroke=\"#f00\" stroke-miterlimit=\"10\" stroke-width=\"1.2\"/>\n",
       "  <path d=\"m153.72 102.87 13.086-3.4023\" fill=\"none\" stroke=\"#000\" stroke-miterlimit=\"10\" stroke-width=\"1.2\"/>\n",
       "  <path d=\"m166.81 99.469-11.293-30.105\" fill=\"none\" stroke=\"#000\" stroke-miterlimit=\"10\" stroke-width=\"1.2\"/>\n",
       "  <path d=\"m166.81 99.469 28.758-14.375\" fill=\"none\" stroke=\"#000\" stroke-miterlimit=\"10\" stroke-width=\"1.2\"/>\n",
       "  <path d=\"m166.81 99.469 6.9805 10.938\" fill=\"none\" stroke=\"#000\" stroke-miterlimit=\"10\" stroke-width=\"1.2\"/>\n",
       "  <path d=\"m173.79 110.41 6.9844 10.934\" fill=\"none\" stroke=\"#f00\" stroke-miterlimit=\"10\" stroke-width=\"1.2\"/>\n",
       "  <path d=\"m74.184 159.65-6.0508 11.652\" fill=\"none\" stroke=\"#f00\" stroke-miterlimit=\"10\" stroke-width=\"1.2\"/>\n",
       "  <path d=\"m68.133 171.3-6.0508 11.652\" fill=\"none\" stroke=\"#000\" stroke-miterlimit=\"10\" stroke-width=\"1.2\"/>\n",
       "  <path d=\"m108.62 159.69 4.7852 31.797\" fill=\"none\" stroke=\"#000\" stroke-miterlimit=\"10\" stroke-width=\"1.2\"/>\n",
       "  <path d=\"m179.81 131.8-8.0586 9.8008\" fill=\"none\" stroke=\"#f00\" stroke-miterlimit=\"10\" stroke-width=\"1.2\"/>\n",
       "  <path d=\"m171.75 141.6-8.0625 9.8008\" fill=\"none\" stroke=\"#000\" stroke-miterlimit=\"10\" stroke-width=\"1.2\"/>\n",
       " </g>\n",
       "</svg>"
      ],
      "text/plain": [
       "<IPython.core.display.SVG object>"
      ]
     },
     "metadata": {},
     "output_type": "display_data"
    },
    {
     "name": "stdout",
     "output_type": "stream",
     "text": [
      "--------------------------------------------------------------------------------\n",
      "SUGGESTED SIMILAR SPECTRA ------------------------------------------------------\n",
      "SMILES: CC1(C)OC2COC3(COS(=O)(=O)N)C(C2O1)OC(C)(C)O3\n",
      "INCHIKEY: KJADKKWYZYXHBB-UHFFFAOYSA-N\n",
      "--> Spec2Vec similarity score: 0.7112140374766242\n",
      "--> Modified cosine score: 0.6034312979645122\n",
      "With ground truth --> actual molecular similarity: 0.3555404486743712\n",
      "--> MOLECULES:\n",
      "Scour processed file \"draw_mols_temp.svg\" in 53 ms: 9965/15458 bytes new/orig -> 64.5%\n"
     ]
    },
    {
     "data": {
      "image/svg+xml": [
       "<svg height=\"300pt\" version=\"1.1\" viewBox=\"0 0 300 300\" width=\"300pt\" xmlns=\"http://www.w3.org/2000/svg\" xmlns:xlink=\"http://www.w3.org/1999/xlink\">\n",
       " <defs>\n",
       "  <symbol id=\"glyph0-1\" overflow=\"visible\">\n",
       "   <path d=\"m0.48828-3.5156c-0.003906-1.1992 0.32031-2.1367 0.96484-2.8164 0.64062-0.67578 1.4688-1.0156 2.4922-1.0156 0.66406 0 1.2656 0.16016 1.8008 0.47656 0.53516 0.32031 0.94531 0.76562 1.2266 1.332 0.28125 0.57422 0.42188 1.2188 0.42188 1.9375 0 0.73438-0.14844 1.3906-0.44531 1.9648-0.29688 0.58203-0.71484 1.0195-1.2539 1.3164-0.54297 0.29688-1.1289 0.44141-1.7539 0.44531-0.68359-0.003906-1.293-0.16406-1.8242-0.49219-0.53906-0.32812-0.94141-0.77734-1.2148-1.3477-0.27734-0.56641-0.41797-1.168-0.41406-1.8008zm0.98438 0.011719c-0.003906 0.875 0.23047 1.5625 0.69922 2.0586 0.46484 0.50391 1.0508 0.75391 1.7617 0.75 0.71875 0.003907 1.3125-0.25 1.7773-0.75781 0.46094-0.50391 0.69141-1.2188 0.69531-2.1523-0.003906-0.58594-0.10156-1.1016-0.29688-1.5391-0.19922-0.4375-0.48828-0.77734-0.87109-1.0195-0.38281-0.24219-0.8125-0.36328-1.2891-0.36328-0.67578 0-1.2578 0.23438-1.7461 0.69922s-0.73438 1.2383-0.73047 2.3242z\"/>\n",
       "  </symbol>\n",
       "  <symbol id=\"glyph0-2\" overflow=\"visible\">\n",
       "   <path d=\"m0.45312-2.3203 0.90234-0.078125c0.039062 0.36719 0.14062 0.66406 0.29688 0.89062 0.15625 0.23438 0.39844 0.41797 0.72656 0.55859 0.32812 0.14453 0.69531 0.21875 1.1094 0.21484 0.35938 0.003906 0.68359-0.050781 0.96484-0.16016 0.27734-0.10547 0.48438-0.25391 0.62109-0.44531 0.13672-0.1875 0.20312-0.39453 0.20703-0.62109-0.003906-0.22266-0.070312-0.42188-0.19922-0.59375-0.13281-0.16797-0.34766-0.30859-0.64844-0.42578-0.19922-0.074219-0.62891-0.19141-1.2891-0.35156-0.66406-0.15625-1.1289-0.30469-1.3906-0.44922-0.35156-0.17969-0.60938-0.40625-0.77344-0.67188-0.17188-0.26562-0.25391-0.56641-0.25-0.90234-0.003906-0.36328 0.097656-0.70312 0.30859-1.0195 0.20312-0.31641 0.50781-0.55469 0.90625-0.72266 0.39844-0.16016 0.83984-0.24219 1.3242-0.24609 0.53516 0.003906 1.0078 0.089844 1.418 0.25781 0.40625 0.17578 0.71875 0.42969 0.94141 0.76172 0.21875 0.33984 0.33594 0.71875 0.35547 1.1367l-0.91797 0.070312c-0.050781-0.45312-0.21875-0.79688-0.5-1.0312-0.28906-0.23047-0.70703-0.34766-1.2578-0.35156-0.58203 0.003906-1.0039 0.10938-1.2656 0.31641-0.26562 0.21484-0.39844 0.46875-0.39453 0.76562-0.003907 0.26172 0.089843 0.47656 0.28125 0.64062 0.17969 0.17188 0.66016 0.34375 1.4414 0.51562 0.77344 0.17969 1.3086 0.33203 1.5977 0.46094 0.42188 0.19531 0.73047 0.44141 0.92969 0.73438 0.19922 0.30078 0.30078 0.64062 0.30078 1.0273 0 0.38672-0.10938 0.75-0.32812 1.0898s-0.53516 0.60547-0.94922 0.79297c-0.41406 0.1875-0.87891 0.27734-1.3906 0.28125-0.65625-0.003906-1.2031-0.09375-1.6445-0.28516-0.44141-0.1875-0.78906-0.47656-1.0391-0.86328-0.25391-0.37891-0.38672-0.8125-0.39453-1.2969z\"/>\n",
       "  </symbol>\n",
       "  <symbol id=\"glyph0-3\" overflow=\"visible\">\n",
       "   <path d=\"m0.80859 0v-7.2227h0.95312v2.9688h3.7539v-2.9688h0.95703v7.2227h-0.95703v-3.4023h-3.7539v3.4023z\"/>\n",
       "  </symbol>\n",
       "  <symbol id=\"glyph0-4\" overflow=\"visible\">\n",
       "   <path d=\"m5.0781-0.85156v0.85156h-4.7734c-0.007813-0.21094 0.027343-0.41406 0.10547-0.61719 0.11719-0.32031 0.30859-0.64062 0.58203-0.95703 0.26562-0.31641 0.65234-0.67969 1.1602-1.0938 0.78125-0.64062 1.3125-1.1523 1.5898-1.5312 0.27344-0.37109 0.41016-0.72656 0.41406-1.0664-0.003906-0.34766-0.12891-0.64453-0.37891-0.88672-0.25391-0.24219-0.58203-0.36328-0.98047-0.36328-0.42969 0-0.76953 0.12891-1.0234 0.38672-0.25781 0.25781-0.38672 0.61328-0.39062 1.0625l-0.91016-0.09375c0.058594-0.67578 0.29297-1.1953 0.70312-1.5547 0.40625-0.35547 0.95312-0.53125 1.6406-0.53516 0.69141 0.003906 1.2383 0.19531 1.6445 0.57812 0.39844 0.38672 0.60156 0.86328 0.60547 1.4258-0.003906 0.29297-0.0625 0.57422-0.17578 0.85156-0.12109 0.28125-0.31641 0.57812-0.58984 0.88281-0.27344 0.3125-0.73047 0.73438-1.3633 1.2695-0.53906 0.44922-0.87891 0.75391-1.0273 0.91016-0.15234 0.16406-0.27734 0.32422-0.375 0.48047z\"/>\n",
       "  </symbol>\n",
       "  <symbol id=\"glyph0-5\" overflow=\"visible\">\n",
       "   <path d=\"m0.76953 0v-7.2227h0.98047l3.793 5.6719v-5.6719h0.91406v7.2227h-0.98047l-3.793-5.6758v5.6758z\"/>\n",
       "  </symbol>\n",
       " </defs>\n",
       " <g id=\"surface597\">\n",
       "  <rect fill=\"#fff\" height=\"300\" width=\"300\"/>\n",
       "  <g fill=\"#f00\">\n",
       "   <use x=\"81.1875\" xlink:href=\"#glyph0-1\" y=\"209.601563\"/>\n",
       "  </g>\n",
       "  <g fill=\"#f00\">\n",
       "   <use x=\"165.019531\" xlink:href=\"#glyph0-1\" y=\"186.933594\"/>\n",
       "  </g>\n",
       "  <g fill=\"#f00\">\n",
       "   <use x=\"199.3125\" xlink:href=\"#glyph0-1\" y=\"194.816406\"/>\n",
       "  </g>\n",
       "  <g fill=\"#cc0\">\n",
       "   <use x=\"230.882813\" xlink:href=\"#glyph0-2\" y=\"203.375\"/>\n",
       "  </g>\n",
       "  <g fill=\"#f00\">\n",
       "   <use x=\"238.863281\" xlink:href=\"#glyph0-1\" y=\"172.386719\"/>\n",
       "  </g>\n",
       "  <g fill=\"#f00\">\n",
       "   <use x=\"261.296875\" xlink:href=\"#glyph0-1\" y=\"211.9375\"/>\n",
       "  </g>\n",
       "  <g fill=\"#00f\">\n",
       "   <use x=\"209.742188\" xlink:href=\"#glyph0-3\" y=\"234.261719\"/>\n",
       "   <use x=\"217.026961\" xlink:href=\"#glyph0-4\" y=\"234.261719\"/>\n",
       "   <use x=\"222.637075\" xlink:href=\"#glyph0-5\" y=\"234.261719\"/>\n",
       "  </g>\n",
       "  <g fill=\"#f00\">\n",
       "   <use x=\"73.445313\" xlink:href=\"#glyph0-1\" y=\"158.15625\"/>\n",
       "  </g>\n",
       "  <g fill=\"#f00\">\n",
       "   <use x=\"132.234375\" xlink:href=\"#glyph0-1\" y=\"111.289063\"/>\n",
       "  </g>\n",
       "  <g fill=\"#f00\">\n",
       "   <use x=\"180.660156\" xlink:href=\"#glyph0-1\" y=\"130.304688\"/>\n",
       "  </g>\n",
       "  <path d=\"m41.656 207.79 20.426-24.836\" fill=\"none\" stroke=\"#000\" stroke-miterlimit=\"10\" stroke-width=\"1.2\"/>\n",
       "  <path d=\"m62.082 182.95-26.832-17.715\" fill=\"none\" stroke=\"#000\" stroke-miterlimit=\"10\" stroke-width=\"1.2\"/>\n",
       "  <path d=\"m62.082 182.95 8.8047 8.9453\" fill=\"none\" stroke=\"#000\" stroke-miterlimit=\"10\" stroke-width=\"1.2\"/>\n",
       "  <path d=\"m70.887 191.9 8.8086 8.9414\" fill=\"none\" stroke=\"#f00\" stroke-miterlimit=\"10\" stroke-width=\"1.2\"/>\n",
       "  <path d=\"m89.59 203.39 11.906-5.9531\" fill=\"none\" stroke=\"#f00\" stroke-miterlimit=\"10\" stroke-width=\"1.2\"/>\n",
       "  <path d=\"m101.5 197.44 11.906-5.9492\" fill=\"none\" stroke=\"#000\" stroke-miterlimit=\"10\" stroke-width=\"1.2\"/>\n",
       "  <path d=\"m113.4 191.49 29.93 11.75\" fill=\"none\" stroke=\"#000\" stroke-miterlimit=\"10\" stroke-width=\"1.2\"/>\n",
       "  <path d=\"m143.33 203.24 10.098-8.0469\" fill=\"none\" stroke=\"#000\" stroke-miterlimit=\"10\" stroke-width=\"1.2\"/>\n",
       "  <path d=\"m153.43 195.19 10.098-8.0508\" fill=\"none\" stroke=\"#f00\" stroke-miterlimit=\"10\" stroke-width=\"1.2\"/>\n",
       "  <path d=\"m167.69 177.96-2-13.281\" fill=\"none\" stroke=\"#f00\" stroke-miterlimit=\"10\" stroke-width=\"1.2\"/>\n",
       "  <path d=\"m165.69 164.68-2-13.281\" fill=\"none\" stroke=\"#000\" stroke-miterlimit=\"10\" stroke-width=\"1.2\"/>\n",
       "  <path d=\"m163.69 151.4 30.992 8.5586\" fill=\"none\" stroke=\"#000\" stroke-miterlimit=\"10\" stroke-width=\"1.2\"/>\n",
       "  <path d=\"m194.68 159.96 3.3633 12.945\" fill=\"none\" stroke=\"#000\" stroke-miterlimit=\"10\" stroke-width=\"1.2\"/>\n",
       "  <path d=\"m198.04 172.91 3.3633 12.945\" fill=\"none\" stroke=\"#f00\" stroke-miterlimit=\"10\" stroke-width=\"1.2\"/>\n",
       "  <path d=\"m207.71 192.45 10.84 2.9922\" fill=\"none\" stroke=\"#f00\" stroke-miterlimit=\"10\" stroke-width=\"1.2\"/>\n",
       "  <path d=\"m218.55 195.44 10.84 2.9961\" fill=\"none\" stroke=\"#cc0\" stroke-miterlimit=\"10\" stroke-width=\"1.2\"/>\n",
       "  <path d=\"m238.24 195.25 2.8359-10.266\" fill=\"none\" stroke=\"#cc0\" stroke-miterlimit=\"10\" stroke-width=\"1.2\"/>\n",
       "  <path d=\"m241.07 184.99 2.8359-10.27\" fill=\"none\" stroke=\"#f00\" stroke-miterlimit=\"10\" stroke-width=\"1.2\"/>\n",
       "  <path d=\"m232.16 193.57 2.8359-10.266\" fill=\"none\" stroke=\"#cc0\" stroke-miterlimit=\"10\" stroke-width=\"1.2\"/>\n",
       "  <path d=\"m235 183.31 2.8359-10.27\" fill=\"none\" stroke=\"#f00\" stroke-miterlimit=\"10\" stroke-width=\"1.2\"/>\n",
       "  <path d=\"m237.29 203.89 10.84 2.9922\" fill=\"none\" stroke=\"#cc0\" stroke-miterlimit=\"10\" stroke-width=\"1.2\"/>\n",
       "  <path d=\"m248.12 206.88 10.84 2.9961\" fill=\"none\" stroke=\"#f00\" stroke-miterlimit=\"10\" stroke-width=\"1.2\"/>\n",
       "  <path d=\"m238.96 197.81 10.836 2.9961\" fill=\"none\" stroke=\"#cc0\" stroke-miterlimit=\"10\" stroke-width=\"1.2\"/>\n",
       "  <path d=\"m249.8 200.8 10.84 2.9922\" fill=\"none\" stroke=\"#f00\" stroke-miterlimit=\"10\" stroke-width=\"1.2\"/>\n",
       "  <path d=\"m232.31 204.87-2.8555 10.348\" fill=\"none\" stroke=\"#cc0\" stroke-miterlimit=\"10\" stroke-width=\"1.2\"/>\n",
       "  <path d=\"m229.46 215.21-2.8594 10.344\" fill=\"none\" stroke=\"#00f\" stroke-miterlimit=\"10\" stroke-width=\"1.2\"/>\n",
       "  <path d=\"m163.69 151.4-29.93-11.754\" fill=\"none\" stroke=\"#000\" stroke-miterlimit=\"10\" stroke-width=\"1.2\"/>\n",
       "  <path d=\"m133.76 139.65-25.141 20.043\" fill=\"none\" stroke=\"#000\" stroke-miterlimit=\"10\" stroke-width=\"1.2\"/>\n",
       "  <path d=\"m108.62 159.69-13.387-2.2266\" fill=\"none\" stroke=\"#000\" stroke-miterlimit=\"10\" stroke-width=\"1.2\"/>\n",
       "  <path d=\"m95.23 157.46-13.387-2.2227\" fill=\"none\" stroke=\"#f00\" stroke-miterlimit=\"10\" stroke-width=\"1.2\"/>\n",
       "  <path d=\"m133.76 139.65 0.80859-13.434\" fill=\"none\" stroke=\"#000\" stroke-miterlimit=\"10\" stroke-width=\"1.2\"/>\n",
       "  <path d=\"m134.57 126.21 0.80469-13.43\" fill=\"none\" stroke=\"#f00\" stroke-miterlimit=\"10\" stroke-width=\"1.2\"/>\n",
       "  <path d=\"m140.63 106.27 13.09-3.3984\" fill=\"none\" stroke=\"#f00\" stroke-miterlimit=\"10\" stroke-width=\"1.2\"/>\n",
       "  <path d=\"m153.72 102.87 13.086-3.4023\" fill=\"none\" stroke=\"#000\" stroke-miterlimit=\"10\" stroke-width=\"1.2\"/>\n",
       "  <path d=\"m166.81 99.469-11.293-30.105\" fill=\"none\" stroke=\"#000\" stroke-miterlimit=\"10\" stroke-width=\"1.2\"/>\n",
       "  <path d=\"m166.81 99.469 28.758-14.375\" fill=\"none\" stroke=\"#000\" stroke-miterlimit=\"10\" stroke-width=\"1.2\"/>\n",
       "  <path d=\"m166.81 99.469 6.9805 10.938\" fill=\"none\" stroke=\"#000\" stroke-miterlimit=\"10\" stroke-width=\"1.2\"/>\n",
       "  <path d=\"m173.79 110.41 6.9844 10.934\" fill=\"none\" stroke=\"#f00\" stroke-miterlimit=\"10\" stroke-width=\"1.2\"/>\n",
       "  <path d=\"m74.184 159.65-6.0508 11.652\" fill=\"none\" stroke=\"#f00\" stroke-miterlimit=\"10\" stroke-width=\"1.2\"/>\n",
       "  <path d=\"m68.133 171.3-6.0508 11.652\" fill=\"none\" stroke=\"#000\" stroke-miterlimit=\"10\" stroke-width=\"1.2\"/>\n",
       "  <path d=\"m108.62 159.69 4.7852 31.797\" fill=\"none\" stroke=\"#000\" stroke-miterlimit=\"10\" stroke-width=\"1.2\"/>\n",
       "  <path d=\"m179.81 131.8-8.0586 9.8008\" fill=\"none\" stroke=\"#f00\" stroke-miterlimit=\"10\" stroke-width=\"1.2\"/>\n",
       "  <path d=\"m171.75 141.6-8.0625 9.8008\" fill=\"none\" stroke=\"#000\" stroke-miterlimit=\"10\" stroke-width=\"1.2\"/>\n",
       " </g>\n",
       "</svg>"
      ],
      "text/plain": [
       "<IPython.core.display.SVG object>"
      ]
     },
     "metadata": {},
     "output_type": "display_data"
    },
    {
     "name": "stdout",
     "output_type": "stream",
     "text": [
      "--------------------------------------------------------------------------------\n",
      "SUGGESTED SIMILAR SPECTRA ------------------------------------------------------\n",
      "SMILES: CC[C@H](C)C(=O)O[C@H]1C[C@@H](C)C=C2C=C[C@H](C)[C@H](CC[C@@H]3C[C@H](CC(=O)O3)O)[C@@H]12\n",
      "INCHIKEY: PCZOHLXUXFIOCF-BXMDZJJMSA-N\n",
      "--> Spec2Vec similarity score: 0.7708328087571585\n",
      "--> Modified cosine score: 0.5720006586758507\n",
      "With ground truth --> actual molecular similarity: 0.2617940199335548\n",
      "--> MOLECULES:\n",
      "Scour processed file \"draw_mols_temp.svg\" in 31 ms: 7435/12801 bytes new/orig -> 58.1%\n"
     ]
    },
    {
     "data": {
      "image/svg+xml": [
       "<svg height=\"300pt\" version=\"1.1\" viewBox=\"0 0 300 300\" width=\"300pt\" xmlns=\"http://www.w3.org/2000/svg\" xmlns:xlink=\"http://www.w3.org/1999/xlink\">\n",
       " <defs>\n",
       "  <symbol id=\"glyph0-1\" overflow=\"visible\">\n",
       "   <path d=\"m0.41406-2.9805c-0.003907-1.0117 0.26953-1.8047 0.81641-2.3828 0.54688-0.57031 1.25-0.85938 2.1133-0.86328 0.5625 0.003907 1.0703 0.14062 1.5273 0.40625 0.44922 0.27344 0.79688 0.64844 1.0352 1.1289 0.23828 0.48438 0.35547 1.0312 0.35938 1.6406-0.003906 0.62109-0.12891 1.1758-0.37891 1.6641-0.25391 0.49219-0.60938 0.86328-1.0625 1.1133-0.46094 0.25391-0.95312 0.37891-1.4844 0.37891-0.57812 0-1.0938-0.13672-1.5469-0.41797-0.45312-0.27344-0.79688-0.65625-1.0312-1.1406-0.23438-0.48047-0.35156-0.98828-0.34766-1.5273zm0.83203 0.011719c-0.003906 0.73828 0.19531 1.3203 0.59375 1.7422 0.39844 0.42969 0.89453 0.64062 1.4961 0.63672 0.60547 0.003906 1.1094-0.21094 1.5039-0.64062 0.39062-0.42969 0.58594-1.0352 0.58984-1.8242-0.003907-0.49219-0.089844-0.92969-0.25391-1.3047-0.17188-0.37109-0.41797-0.65625-0.73828-0.86328-0.32812-0.20312-0.69141-0.30859-1.0898-0.30859-0.57812 0-1.0703 0.19922-1.4805 0.59375-0.41797 0.39453-0.625 1.0508-0.62109 1.9688z\"/>\n",
       "  </symbol>\n",
       "  <symbol id=\"glyph0-2\" overflow=\"visible\">\n",
       "   <path d=\"m0.68359 0v-6.1172h0.80859v2.5117h3.1836v-2.5117h0.80859v6.1172h-0.80859v-2.8828h-3.1836v2.8828z\"/>\n",
       "  </symbol>\n",
       " </defs>\n",
       " <g id=\"surface601\">\n",
       "  <rect fill=\"#fff\" height=\"300\" width=\"300\"/>\n",
       "  <g fill=\"#f00\">\n",
       "   <use x=\"106.757813\" xlink:href=\"#glyph0-1\" y=\"212\"/>\n",
       "  </g>\n",
       "  <g fill=\"#f00\">\n",
       "   <use x=\"126.253906\" xlink:href=\"#glyph0-1\" y=\"169.027344\"/>\n",
       "  </g>\n",
       "  <g fill=\"#f00\">\n",
       "   <use x=\"222.839844\" xlink:href=\"#glyph0-1\" y=\"186.925781\"/>\n",
       "  </g>\n",
       "  <g fill=\"#f00\">\n",
       "   <use x=\"195.367188\" xlink:href=\"#glyph0-1\" y=\"148.558594\"/>\n",
       "  </g>\n",
       "  <g fill=\"#f00\">\n",
       "   <use x=\"261.820313\" xlink:href=\"#glyph0-1\" y=\"100.976563\"/>\n",
       "   <use x=\"268.468723\" xlink:href=\"#glyph0-2\" y=\"100.976563\"/>\n",
       "  </g>\n",
       "  <path d=\"m203.61 199.62-24.812-11.254\" fill=\"none\" stroke=\"#000\" stroke-miterlimit=\"10\" stroke-width=\"1.2\"/>\n",
       "  <path d=\"m178.8 188.37-22.152 15.863\" fill=\"none\" stroke=\"#000\" stroke-miterlimit=\"10\" stroke-width=\"1.2\"/>\n",
       "  <path d=\"m156.65 204.23m-0.14453 2.9961 0.87109-0.085938m-1.0156 3.082 1.7383-0.17188m-1.8828 3.168 2.6055-0.25391m-2.75 3.25 3.4766-0.33984m-3.6211 3.3359 4.3438-0.42578m-4.4883 3.4219 5.2109-0.51172m-5.3555 3.5078 6.082-0.59375m-6.2266 3.5938 6.9492-0.68359m-7.0938 3.6797 7.8203-0.76953m-7.8477 1.3047 7.9766-0.78125\" fill=\"none\" stroke=\"#000\" stroke-miterlimit=\"10\"/>\n",
       "  <path d=\"m156.65 204.23-24.812-11.254\" fill=\"none\" stroke=\"#000\" stroke-miterlimit=\"10\" stroke-width=\"1.2\"/>\n",
       "  <path d=\"m130.28 190.8-8.9805 6.4297\" fill=\"none\" stroke=\"#000\" stroke-miterlimit=\"10\" stroke-width=\"1.2\"/>\n",
       "  <path d=\"m121.3 197.23-8.9805 6.4297\" fill=\"none\" stroke=\"#f00\" stroke-miterlimit=\"10\" stroke-width=\"1.2\"/>\n",
       "  <path d=\"m133.39 195.15-8.9805 6.4297\" fill=\"none\" stroke=\"#000\" stroke-miterlimit=\"10\" stroke-width=\"1.2\"/>\n",
       "  <path d=\"m124.41 201.58-8.9766 6.4297\" fill=\"none\" stroke=\"#f00\" stroke-miterlimit=\"10\" stroke-width=\"1.2\"/>\n",
       "  <path d=\"m131.84 192.98-1.1094-11.344\" fill=\"none\" stroke=\"#000\" stroke-miterlimit=\"10\" stroke-width=\"1.2\"/>\n",
       "  <path d=\"m130.73 181.63-1.1133-11.34\" fill=\"none\" stroke=\"#f00\" stroke-miterlimit=\"10\" stroke-width=\"1.2\"/>\n",
       "  <path d=\"m104.37 154.61 18.965 13.004 3.3086-7.3008z\"/>\n",
       "  <path d=\"m104.37 154.61-22.152 15.863\" fill=\"none\" stroke=\"#000\" stroke-miterlimit=\"10\" stroke-width=\"1.2\"/>\n",
       "  <path d=\"m82.215 170.47-24.812-11.254\" fill=\"none\" stroke=\"#000\" stroke-miterlimit=\"10\" stroke-width=\"1.2\"/>\n",
       "  <path d=\"m57.402 159.21-24.484 12.602 4.6641 6.5156z\"/>\n",
       "  <path d=\"m57.402 159.21-2.6602-27.117\" fill=\"none\" stroke=\"#000\" stroke-miterlimit=\"10\" stroke-width=\"1.2\"/>\n",
       "  <path d=\"m54.742 132.1 22.152-15.859\" fill=\"none\" stroke=\"#000\" stroke-miterlimit=\"10\" stroke-width=\"1.2\"/>\n",
       "  <path d=\"m60.066 134.86 17.723-12.688\" fill=\"none\" stroke=\"#000\" stroke-miterlimit=\"10\" stroke-width=\"1.2\"/>\n",
       "  <path d=\"m76.895 116.24-2.6602-27.113\" fill=\"none\" stroke=\"#000\" stroke-miterlimit=\"10\" stroke-width=\"1.2\"/>\n",
       "  <path d=\"m74.234 89.125 22.152-15.863\" fill=\"none\" stroke=\"#000\" stroke-miterlimit=\"10\" stroke-width=\"1.2\"/>\n",
       "  <path d=\"m79.559 91.883 17.723-12.691\" fill=\"none\" stroke=\"#000\" stroke-miterlimit=\"10\" stroke-width=\"1.2\"/>\n",
       "  <path d=\"m96.387 73.262 24.812 11.254\" fill=\"none\" stroke=\"#000\" stroke-miterlimit=\"10\" stroke-width=\"1.2\"/>\n",
       "  <path d=\"m121.2 84.516m2.668-1.3711-0.50781-0.71094m3.1758-0.66406-1.0195-1.418m3.6836 0.046875-1.5234-2.1289m4.1914 0.75391-2.0312-2.8359m4.6992 1.4648-2.5391-3.5508m5.207 2.1758-3.0508-4.2578m5.7188 2.8867-3.5586-4.9688m6.2266 3.5938-4.0664-5.6758m6.7344 4.3047-4.5742-6.3867m5.0508 6.1406-4.6641-6.5156\" fill=\"none\" stroke=\"#000\" stroke-miterlimit=\"10\"/>\n",
       "  <path d=\"m121.2 84.516 2.6602 27.117\" fill=\"none\" stroke=\"#000\" stroke-miterlimit=\"10\" stroke-width=\"1.2\"/>\n",
       "  <path d=\"m123.86 111.63m2.5234 1.6211 0.35938-0.79297m2.1602 2.418 0.72266-1.5898m1.8008 3.2148 1.082-2.3867m1.4414 4.0078 1.4414-3.1797m1.082 4.8047 1.8008-3.9766m0.72266 5.5977 2.1641-4.7695m0.35547 6.3945 2.5273-5.5664m-0.003906 7.1914 2.8867-6.3633m-0.36328 7.9844 3.2461-7.1523m-2.793 7.4453 3.3086-7.2969\" fill=\"none\" stroke=\"#000\" stroke-miterlimit=\"10\"/>\n",
       "  <path d=\"m148.67 122.89 22.152-15.863\" fill=\"none\" stroke=\"#000\" stroke-miterlimit=\"10\" stroke-width=\"1.2\"/>\n",
       "  <path d=\"m195.63 118.28m-2.5234-1.6211-0.35938 0.79297m-2.1602-2.418-0.72266 1.5898m-1.8008-3.2109-1.082 2.3828m-1.4414-4.0078-1.4414 3.1797m-1.082-4.8047-1.8008 3.9766m-0.72266-5.5977-2.1602 4.7695m-0.35938-6.3945-2.5273 5.5664m0.003906-7.1914-2.8867 6.3633m0.36328-7.9844-3.2461 7.1523m2.793-7.4453-3.3086 7.2969\" fill=\"none\" stroke=\"#000\" stroke-miterlimit=\"10\"/>\n",
       "  <path d=\"m195.63 118.28 22.152-15.859\" fill=\"none\" stroke=\"#000\" stroke-miterlimit=\"10\" stroke-width=\"1.2\"/>\n",
       "  <path d=\"m217.79 102.42 24.812 11.254\" fill=\"none\" stroke=\"#000\" stroke-miterlimit=\"10\" stroke-width=\"1.2\"/>\n",
       "  <path d=\"m242.6 113.67 2.6602 27.113\" fill=\"none\" stroke=\"#000\" stroke-miterlimit=\"10\" stroke-width=\"1.2\"/>\n",
       "  <path d=\"m245.26 140.79-22.152 15.863\" fill=\"none\" stroke=\"#000\" stroke-miterlimit=\"10\" stroke-width=\"1.2\"/>\n",
       "  <path d=\"m220.45 156.91 1.1133 11.34\" fill=\"none\" stroke=\"#000\" stroke-miterlimit=\"10\" stroke-width=\"1.2\"/>\n",
       "  <path d=\"m221.56 168.25 1.1133 11.34\" fill=\"none\" stroke=\"#f00\" stroke-miterlimit=\"10\" stroke-width=\"1.2\"/>\n",
       "  <path d=\"m225.76 156.39 1.1133 11.34\" fill=\"none\" stroke=\"#000\" stroke-miterlimit=\"10\" stroke-width=\"1.2\"/>\n",
       "  <path d=\"m226.88 167.73 1.1133 11.344\" fill=\"none\" stroke=\"#f00\" stroke-miterlimit=\"10\" stroke-width=\"1.2\"/>\n",
       "  <path d=\"m223.11 156.65-10.309-4.6758\" fill=\"none\" stroke=\"#000\" stroke-miterlimit=\"10\" stroke-width=\"1.2\"/>\n",
       "  <path d=\"m212.8 151.97-10.312-4.6797\" fill=\"none\" stroke=\"#f00\" stroke-miterlimit=\"10\" stroke-width=\"1.2\"/>\n",
       "  <path d=\"m242.6 113.67 20.289-9.5977-4.6641-6.5156z\"/>\n",
       "  <path d=\"m123.86 111.63-22.152 15.859\" fill=\"none\" stroke=\"#000\" stroke-miterlimit=\"10\" stroke-width=\"1.2\"/>\n",
       "  <path d=\"m101.71 127.49 2.6602 27.113\" fill=\"none\" stroke=\"#000\" stroke-miterlimit=\"10\" stroke-width=\"1.2\"/>\n",
       "  <path d=\"m101.71 127.49-23.156-14.902-3.3125 7.2969z\"/>\n",
       "  <path d=\"m197.86 140.96-1.1133-11.34\" fill=\"none\" stroke=\"#f00\" stroke-miterlimit=\"10\" stroke-width=\"1.2\"/>\n",
       "  <path d=\"m196.75 129.62-1.1133-11.344\" fill=\"none\" stroke=\"#000\" stroke-miterlimit=\"10\" stroke-width=\"1.2\"/>\n",
       " </g>\n",
       "</svg>"
      ],
      "text/plain": [
       "<IPython.core.display.SVG object>"
      ]
     },
     "metadata": {},
     "output_type": "display_data"
    },
    {
     "name": "stdout",
     "output_type": "stream",
     "text": [
      "--------------------------------------------------------------------------------\n",
      "SUGGESTED SIMILAR SPECTRA ------------------------------------------------------\n",
      "SMILES: c1cc(c(cc1c1c(c(=O)c2c(cc(cc2o1)O)O)O[C@H]1[C@@H]([C@H]([C@@H]([C@@H](C(=O)O)O1)O)O)O)O)O\n",
      "INCHIKEY: DUBCCGAQYVUYEU-ZUGPOPFOSA-N\n",
      "--> Spec2Vec similarity score: 0.7285977743116886\n",
      "--> Modified cosine score: 0.531147439222183\n",
      "With ground truth --> actual molecular similarity: 0.9336250911743253\n",
      "--> MOLECULES:\n",
      "Scour processed file \"draw_mols_temp.svg\" in 47 ms: 10245/17062 bytes new/orig -> 60.0%\n"
     ]
    },
    {
     "data": {
      "image/svg+xml": [
       "<svg height=\"300pt\" version=\"1.1\" viewBox=\"0 0 300 300\" width=\"300pt\" xmlns=\"http://www.w3.org/2000/svg\" xmlns:xlink=\"http://www.w3.org/1999/xlink\">\n",
       " <defs>\n",
       "  <symbol id=\"glyph0-1\" overflow=\"visible\">\n",
       "   <path d=\"m0.39453-2.8359c-0.003906-0.96484 0.25781-1.7188 0.77734-2.2695 0.51562-0.54297 1.1836-0.81641 2.0078-0.82031 0.53516 0.003906 1.0195 0.13281 1.4531 0.38672 0.42969 0.25781 0.75781 0.61328 0.98828 1.0742 0.22266 0.46094 0.33594 0.98438 0.33984 1.5625-0.003907 0.59375-0.12109 1.1211-0.35938 1.582-0.23828 0.46875-0.57812 0.82031-1.0117 1.0586-0.4375 0.23828-0.90625 0.35547-1.4141 0.35938-0.54688-0.0039063-1.0391-0.13281-1.4688-0.39453-0.4375-0.26172-0.76172-0.625-0.98047-1.0859-0.22266-0.45703-0.33594-0.94141-0.33203-1.4531zm0.79297 0.011719c-0.003906 0.70312 0.18359 1.2578 0.56641 1.6602 0.375 0.40625 0.84766 0.60938 1.418 0.60547 0.57812 0.003906 1.0586-0.20312 1.4336-0.61328 0.375-0.40625 0.5625-0.98438 0.5625-1.7344 0-0.47266-0.082031-0.88672-0.24219-1.2422-0.16016-0.35156-0.39453-0.625-0.70312-0.82031-0.30859-0.19531-0.65625-0.29297-1.0391-0.29297-0.54688 0-1.0156 0.1875-1.4062 0.5625-0.39844 0.375-0.59375 1-0.58984 1.875z\"/>\n",
       "  </symbol>\n",
       "  <symbol id=\"glyph0-2\" overflow=\"visible\">\n",
       "   <path d=\"m0.65234 0v-5.8242h0.76953v2.3906h3.0273v-2.3906h0.76953v5.8242h-0.76953v-2.7461h-3.0273v2.7461z\"/>\n",
       "  </symbol>\n",
       " </defs>\n",
       " <g id=\"surface605\">\n",
       "  <rect fill=\"#fff\" height=\"300\" width=\"300\"/>\n",
       "  <g fill=\"#f00\">\n",
       "   <use x=\"185.8125\" xlink:href=\"#glyph0-1\" y=\"155.65625\"/>\n",
       "  </g>\n",
       "  <g fill=\"#f00\">\n",
       "   <use x=\"109.660156\" xlink:href=\"#glyph0-1\" y=\"139.792969\"/>\n",
       "  </g>\n",
       "  <g fill=\"#f00\">\n",
       "   <use x=\"122.371094\" xlink:href=\"#glyph0-2\" y=\"51.863281\"/>\n",
       "   <use x=\"128.245572\" xlink:href=\"#glyph0-1\" y=\"51.863281\"/>\n",
       "  </g>\n",
       "  <g fill=\"#f00\">\n",
       "   <use x=\"194.96875\" xlink:href=\"#glyph0-1\" y=\"111.691406\"/>\n",
       "   <use x=\"201.296027\" xlink:href=\"#glyph0-2\" y=\"111.691406\"/>\n",
       "  </g>\n",
       "  <g fill=\"#f00\">\n",
       "   <use x=\"151.273438\" xlink:href=\"#glyph0-1\" y=\"194.335938\"/>\n",
       "  </g>\n",
       "  <g fill=\"#f00\">\n",
       "   <use x=\"228.46875\" xlink:href=\"#glyph0-1\" y=\"141.605469\"/>\n",
       "  </g>\n",
       "  <g fill=\"#f00\">\n",
       "   <use x=\"261.960938\" xlink:href=\"#glyph0-1\" y=\"171.519531\"/>\n",
       "   <use x=\"268.288215\" xlink:href=\"#glyph0-2\" y=\"171.519531\"/>\n",
       "  </g>\n",
       "  <g fill=\"#f00\">\n",
       "   <use x=\"193.925781\" xlink:href=\"#glyph0-1\" y=\"180.28125\"/>\n",
       "  </g>\n",
       "  <g fill=\"#f00\">\n",
       "   <use x=\"252.804688\" xlink:href=\"#glyph0-1\" y=\"215.484375\"/>\n",
       "   <use x=\"259.131965\" xlink:href=\"#glyph0-2\" y=\"215.484375\"/>\n",
       "  </g>\n",
       "  <g fill=\"#f00\">\n",
       "   <use x=\"218.261719\" xlink:href=\"#glyph0-1\" y=\"254.164063\"/>\n",
       "   <use x=\"224.588996\" xlink:href=\"#glyph0-2\" y=\"254.164063\"/>\n",
       "  </g>\n",
       "  <g fill=\"#f00\">\n",
       "   <use x=\"161.894531\" xlink:href=\"#glyph0-2\" y=\"243.589844\"/>\n",
       "   <use x=\"167.769009\" xlink:href=\"#glyph0-1\" y=\"243.589844\"/>\n",
       "  </g>\n",
       "  <g fill=\"#f00\">\n",
       "   <use x=\"26.859375\" xlink:href=\"#glyph0-2\" y=\"192.527344\"/>\n",
       "   <use x=\"32.733853\" xlink:href=\"#glyph0-1\" y=\"192.527344\"/>\n",
       "  </g>\n",
       "  <g fill=\"#f00\">\n",
       "   <use x=\"43.085938\" xlink:href=\"#glyph0-2\" y=\"241.78125\"/>\n",
       "   <use x=\"48.960415\" xlink:href=\"#glyph0-1\" y=\"241.78125\"/>\n",
       "  </g>\n",
       "  <path d=\"m111.4 205.38-17.27 19.34\" fill=\"none\" stroke=\"#000\" stroke-miterlimit=\"10\" stroke-width=\"1.2\"/>\n",
       "  <path d=\"m105.88 203.92-13.816 15.473\" fill=\"none\" stroke=\"#000\" stroke-miterlimit=\"10\" stroke-width=\"1.2\"/>\n",
       "  <path d=\"m94.133 224.71-25.387-5.2891\" fill=\"none\" stroke=\"#000\" stroke-miterlimit=\"10\" stroke-width=\"1.2\"/>\n",
       "  <path d=\"m68.746 219.43-8.1133-24.625\" fill=\"none\" stroke=\"#000\" stroke-miterlimit=\"10\" stroke-width=\"1.2\"/>\n",
       "  <path d=\"m72.766 215.38-6.4922-19.703\" fill=\"none\" stroke=\"#000\" stroke-miterlimit=\"10\" stroke-width=\"1.2\"/>\n",
       "  <path d=\"m60.633 194.8 17.273-19.34\" fill=\"none\" stroke=\"#000\" stroke-miterlimit=\"10\" stroke-width=\"1.2\"/>\n",
       "  <path d=\"m77.906 175.46 25.383 5.2891\" fill=\"none\" stroke=\"#000\" stroke-miterlimit=\"10\" stroke-width=\"1.2\"/>\n",
       "  <path d=\"m79.406 180.97 20.309 4.2266\" fill=\"none\" stroke=\"#000\" stroke-miterlimit=\"10\" stroke-width=\"1.2\"/>\n",
       "  <path d=\"m103.29 180.75 17.27-19.34\" fill=\"none\" stroke=\"#000\" stroke-miterlimit=\"10\" stroke-width=\"1.2\"/>\n",
       "  <path d=\"m120.56 161.41 25.387 5.2852\" fill=\"none\" stroke=\"#000\" stroke-miterlimit=\"10\" stroke-width=\"1.2\"/>\n",
       "  <path d=\"m124.13 156.96 20.309 4.2305\" fill=\"none\" stroke=\"#000\" stroke-miterlimit=\"10\" stroke-width=\"1.2\"/>\n",
       "  <path d=\"m145.95 166.7 17.27-19.34\" fill=\"none\" stroke=\"#000\" stroke-miterlimit=\"10\" stroke-width=\"1.2\"/>\n",
       "  <path d=\"m162.7 149.84 10.699 2.2305\" fill=\"none\" stroke=\"#000\" stroke-miterlimit=\"10\" stroke-width=\"1.2\"/>\n",
       "  <path d=\"m173.39 152.07 10.695 2.2266\" fill=\"none\" stroke=\"#f00\" stroke-miterlimit=\"10\" stroke-width=\"1.2\"/>\n",
       "  <path d=\"m163.73 144.87 10.695 2.2305\" fill=\"none\" stroke=\"#000\" stroke-miterlimit=\"10\" stroke-width=\"1.2\"/>\n",
       "  <path d=\"m174.43 147.1 10.699 2.2266\" fill=\"none\" stroke=\"#f00\" stroke-miterlimit=\"10\" stroke-width=\"1.2\"/>\n",
       "  <path d=\"m163.21 147.36-8.1133-24.625\" fill=\"none\" stroke=\"#000\" stroke-miterlimit=\"10\" stroke-width=\"1.2\"/>\n",
       "  <path d=\"m155.1 122.73 17.27-19.34\" fill=\"none\" stroke=\"#000\" stroke-miterlimit=\"10\" stroke-width=\"1.2\"/>\n",
       "  <path d=\"m153.04 117.41 13.816-15.473\" fill=\"none\" stroke=\"#000\" stroke-miterlimit=\"10\" stroke-width=\"1.2\"/>\n",
       "  <path d=\"m172.37 103.39-8.1133-24.629\" fill=\"none\" stroke=\"#000\" stroke-miterlimit=\"10\" stroke-width=\"1.2\"/>\n",
       "  <path d=\"m164.26 78.762-25.383-5.2852\" fill=\"none\" stroke=\"#000\" stroke-miterlimit=\"10\" stroke-width=\"1.2\"/>\n",
       "  <path d=\"m160.68 83.211-20.309-4.2305\" fill=\"none\" stroke=\"#000\" stroke-miterlimit=\"10\" stroke-width=\"1.2\"/>\n",
       "  <path d=\"m138.88 73.477-17.27 19.34\" fill=\"none\" stroke=\"#000\" stroke-miterlimit=\"10\" stroke-width=\"1.2\"/>\n",
       "  <path d=\"m121.61 92.816 8.1133 24.625\" fill=\"none\" stroke=\"#000\" stroke-miterlimit=\"10\" stroke-width=\"1.2\"/>\n",
       "  <path d=\"m127.24 93.688 6.4922 19.703\" fill=\"none\" stroke=\"#000\" stroke-miterlimit=\"10\" stroke-width=\"1.2\"/>\n",
       "  <path d=\"m129.72 117.44-6.7539 7.5625\" fill=\"none\" stroke=\"#000\" stroke-miterlimit=\"10\" stroke-width=\"1.2\"/>\n",
       "  <path d=\"m122.96 125-6.7539 7.5586\" fill=\"none\" stroke=\"#f00\" stroke-miterlimit=\"10\" stroke-width=\"1.2\"/>\n",
       "  <path d=\"m138.88 73.477-3.3633-10.203\" fill=\"none\" stroke=\"#000\" stroke-miterlimit=\"10\" stroke-width=\"1.2\"/>\n",
       "  <path d=\"m135.51 63.273-3.3594-10.207\" fill=\"none\" stroke=\"#f00\" stroke-miterlimit=\"10\" stroke-width=\"1.2\"/>\n",
       "  <path d=\"m172.37 103.39 10.695 2.2266\" fill=\"none\" stroke=\"#000\" stroke-miterlimit=\"10\" stroke-width=\"1.2\"/>\n",
       "  <path d=\"m183.07 105.62 10.695 2.2266\" fill=\"none\" stroke=\"#f00\" stroke-miterlimit=\"10\" stroke-width=\"1.2\"/>\n",
       "  <path d=\"m145.95 166.7 3.3594 10.207\" fill=\"none\" stroke=\"#000\" stroke-miterlimit=\"10\" stroke-width=\"1.2\"/>\n",
       "  <path d=\"m149.3 176.9 3.3633 10.203\" fill=\"none\" stroke=\"#f00\" stroke-miterlimit=\"10\" stroke-width=\"1.2\"/>\n",
       "  <path d=\"m179.44 196.61m-2.7891-1.1055-0.21094 1.0078m-2.5781-2.1172-0.41797 2.0195m-2.3672-3.125-0.63281 3.0273m-2.1562-4.1367-0.84375 4.0391m-1.9453-5.1445-1.0508 5.0469m-1.7383-6.1562-1.2617 6.0586m-1.5273-7.1641-1.4688 7.0664m0.37109-7.5039-1.5547 7.4648\" fill=\"none\" stroke=\"#000\" stroke-miterlimit=\"10\"/>\n",
       "  <path d=\"m179.44 196.61 8.1133 24.629\" fill=\"none\" stroke=\"#000\" stroke-miterlimit=\"10\" stroke-width=\"1.2\"/>\n",
       "  <path d=\"m187.55 221.24 25.383 5.2852\" fill=\"none\" stroke=\"#000\" stroke-miterlimit=\"10\" stroke-width=\"1.2\"/>\n",
       "  <path d=\"m212.94 226.52 17.27-19.34\" fill=\"none\" stroke=\"#000\" stroke-miterlimit=\"10\" stroke-width=\"1.2\"/>\n",
       "  <path d=\"m230.21 207.18-8.1133-24.625\" fill=\"none\" stroke=\"#000\" stroke-miterlimit=\"10\" stroke-width=\"1.2\"/>\n",
       "  <path d=\"m222.09 182.56m2.3047-1.9258-0.65234-0.57812m2.9531-1.3438-1.3008-1.1641m3.6055-0.75781-1.9531-1.7461m4.2539-0.17969-2.6055-2.3242m4.9102 0.40234-3.2578-2.9062m5.5586 0.98438-3.9062-3.4883m6.2109 1.5664-4.5586-4.0703m6.8594 2.1445-5.207-4.6523m6.9023 3.2383-5.6875-5.0781\" fill=\"none\" stroke=\"#000\" stroke-miterlimit=\"10\"/>\n",
       "  <path d=\"m241.78 162.42-3.3633-10.203\" fill=\"none\" stroke=\"#000\" stroke-miterlimit=\"10\" stroke-width=\"1.2\"/>\n",
       "  <path d=\"m238.42 152.22-3.3594-10.207\" fill=\"none\" stroke=\"#f00\" stroke-miterlimit=\"10\" stroke-width=\"1.2\"/>\n",
       "  <path d=\"m236.95 164.01-3.3633-10.203\" fill=\"none\" stroke=\"#000\" stroke-miterlimit=\"10\" stroke-width=\"1.2\"/>\n",
       "  <path d=\"m233.59 153.81-3.3633-10.203\" fill=\"none\" stroke=\"#f00\" stroke-miterlimit=\"10\" stroke-width=\"1.2\"/>\n",
       "  <path d=\"m239.37 163.22 10.695 2.2266\" fill=\"none\" stroke=\"#000\" stroke-miterlimit=\"10\" stroke-width=\"1.2\"/>\n",
       "  <path d=\"m250.06 165.45 10.695 2.2266\" fill=\"none\" stroke=\"#f00\" stroke-miterlimit=\"10\" stroke-width=\"1.2\"/>\n",
       "  <path d=\"m222.09 182.56-10.695-2.2305\" fill=\"none\" stroke=\"#000\" stroke-miterlimit=\"10\" stroke-width=\"1.2\"/>\n",
       "  <path d=\"m211.4 180.33-10.699-2.2266\" fill=\"none\" stroke=\"#f00\" stroke-miterlimit=\"10\" stroke-width=\"1.2\"/>\n",
       "  <path d=\"m230.21 207.18 20.613 8.1875 1.5547-7.4648z\"/>\n",
       "  <path d=\"m212.94 226.52m0.42578 2.9688 0.99609-0.32812m-0.57031 3.2969 1.9922-0.65234m-1.5625 3.625 2.9844-0.98438m-2.5586 3.9531 3.9805-1.3125m-3.5547 4.2812 4.9766-1.6406m-4.5508 4.6094 5.9727-1.9688m-5.5469 4.9375 6.9688-2.293m-6.8516 3.1094 7.2422-2.3867\" fill=\"none\" stroke=\"#000\" stroke-miterlimit=\"10\"/>\n",
       "  <path d=\"m187.55 221.24-16.348 12.582 5.6875 5.0781z\"/>\n",
       "  <path d=\"m60.633 194.8-10.691-2.2266\" fill=\"none\" stroke=\"#000\" stroke-miterlimit=\"10\" stroke-width=\"1.2\"/>\n",
       "  <path d=\"m49.941 192.57-10.691-2.2266\" fill=\"none\" stroke=\"#f00\" stroke-miterlimit=\"10\" stroke-width=\"1.2\"/>\n",
       "  <path d=\"m68.746 219.43-6.75 7.5625\" fill=\"none\" stroke=\"#000\" stroke-miterlimit=\"10\" stroke-width=\"1.2\"/>\n",
       "  <path d=\"m61.996 226.99-6.7539 7.5625\" fill=\"none\" stroke=\"#f00\" stroke-miterlimit=\"10\" stroke-width=\"1.2\"/>\n",
       "  <path d=\"m103.29 180.75 8.1133 24.625\" fill=\"none\" stroke=\"#000\" stroke-miterlimit=\"10\" stroke-width=\"1.2\"/>\n",
       "  <path d=\"m113.84 141 3.3633 10.203\" fill=\"none\" stroke=\"#f00\" stroke-miterlimit=\"10\" stroke-width=\"1.2\"/>\n",
       "  <path d=\"m117.2 151.2 3.3594 10.207\" fill=\"none\" stroke=\"#000\" stroke-miterlimit=\"10\" stroke-width=\"1.2\"/>\n",
       "  <path d=\"m192.95 181.49-6.7539 7.5625\" fill=\"none\" stroke=\"#f00\" stroke-miterlimit=\"10\" stroke-width=\"1.2\"/>\n",
       "  <path d=\"m186.19 189.05-6.75 7.5586\" fill=\"none\" stroke=\"#000\" stroke-miterlimit=\"10\" stroke-width=\"1.2\"/>\n",
       "  <path d=\"m129.72 117.44 25.383 5.2891\" fill=\"none\" stroke=\"#000\" stroke-miterlimit=\"10\" stroke-width=\"1.2\"/>\n",
       " </g>\n",
       "</svg>"
      ],
      "text/plain": [
       "<IPython.core.display.SVG object>"
      ]
     },
     "metadata": {},
     "output_type": "display_data"
    },
    {
     "name": "stdout",
     "output_type": "stream",
     "text": [
      "--------------------------------------------------------------------------------\n",
      "SUGGESTED SIMILAR SPECTRA ------------------------------------------------------\n",
      "SMILES: C/C(=C\\Cc1c(c2c(COC2=O)c(C)c1OC)O)/C(CC(=O)O)O\n",
      "INCHIKEY: OGJCZLOIKMTMKF-XBXARRHUSA-N\n",
      "--> Spec2Vec similarity score: 0.7710446212934925\n",
      "--> Modified cosine score: 0.4458846747392128\n",
      "With ground truth --> actual molecular similarity: 0.35758706467661694\n",
      "--> MOLECULES:\n",
      "Scour processed file \"draw_mols_temp.svg\" in 31 ms: 6883/11414 bytes new/orig -> 60.3%\n"
     ]
    },
    {
     "data": {
      "image/svg+xml": [
       "<svg height=\"300pt\" version=\"1.1\" viewBox=\"0 0 300 300\" width=\"300pt\" xmlns=\"http://www.w3.org/2000/svg\" xmlns:xlink=\"http://www.w3.org/1999/xlink\">\n",
       " <defs>\n",
       "  <symbol id=\"glyph0-1\" overflow=\"visible\">\n",
       "   <path d=\"m0.41016-2.9609c0-1.0039 0.26953-1.793 0.8125-2.3672 0.53906-0.57031 1.2383-0.85938 2.0977-0.85938 0.55859 0 1.0664 0.13672 1.5195 0.40234 0.44922 0.27344 0.78906 0.64844 1.0273 1.125 0.23438 0.48438 0.35547 1.0273 0.35547 1.6289 0 0.62109-0.125 1.1719-0.375 1.6562-0.25 0.48828-0.60156 0.85547-1.0547 1.1055-0.45703 0.25-0.94922 0.375-1.4766 0.375-0.57422 0-1.0859-0.13672-1.5352-0.41406-0.45312-0.27734-0.79688-0.65625-1.0234-1.1328-0.23438-0.47656-0.34766-0.98047-0.34766-1.5195zm0.82812 0.011719c-0.003906 0.73828 0.19531 1.3164 0.58984 1.7344 0.39453 0.42188 0.88672 0.62891 1.4844 0.62891 0.60156 0 1.1016-0.21094 1.4922-0.63672 0.39062-0.42578 0.58594-1.0312 0.58984-1.8125-0.003906-0.49219-0.089843-0.92188-0.25391-1.293-0.17188-0.36719-0.41406-0.65234-0.73438-0.85938-0.32031-0.19922-0.68359-0.30078-1.082-0.30469-0.57031 0.003907-1.0586 0.19922-1.4688 0.58594-0.41406 0.39453-0.62109 1.0469-0.61719 1.957z\"/>\n",
       "  </symbol>\n",
       "  <symbol id=\"glyph0-2\" overflow=\"visible\">\n",
       "   <path d=\"m0.67969 0v-6.0781h0.80469v2.4961h3.1602v-2.4961h0.80469v6.0781h-0.80469v-2.8633h-3.1602v2.8633z\"/>\n",
       "  </symbol>\n",
       " </defs>\n",
       " <g id=\"surface609\">\n",
       "  <rect fill=\"#fff\" height=\"300\" width=\"300\"/>\n",
       "  <g fill=\"#f00\">\n",
       "   <use x=\"32.34375\" xlink:href=\"#glyph0-1\" y=\"162.117188\"/>\n",
       "  </g>\n",
       "  <g fill=\"#f00\">\n",
       "   <use x=\"36.046875\" xlink:href=\"#glyph0-1\" y=\"114.03125\"/>\n",
       "  </g>\n",
       "  <g fill=\"#f00\">\n",
       "   <use x=\"146.113281\" xlink:href=\"#glyph0-1\" y=\"180.121094\"/>\n",
       "  </g>\n",
       "  <g fill=\"#f00\">\n",
       "   <use x=\"87.03125\" xlink:href=\"#glyph0-2\" y=\"102.945313\"/>\n",
       "   <use x=\"93.16295\" xlink:href=\"#glyph0-1\" y=\"102.945313\"/>\n",
       "  </g>\n",
       "  <g fill=\"#f00\">\n",
       "   <use x=\"261.84375\" xlink:href=\"#glyph0-1\" y=\"157.242188\"/>\n",
       "  </g>\n",
       "  <g fill=\"#f00\">\n",
       "   <use x=\"241.730469\" xlink:href=\"#glyph0-1\" y=\"199.585938\"/>\n",
       "   <use x=\"248.334795\" xlink:href=\"#glyph0-2\" y=\"199.585938\"/>\n",
       "  </g>\n",
       "  <g fill=\"#f00\">\n",
       "   <use x=\"235.222656\" xlink:href=\"#glyph0-1\" y=\"118.65625\"/>\n",
       "   <use x=\"241.826982\" xlink:href=\"#glyph0-2\" y=\"118.65625\"/>\n",
       "  </g>\n",
       "  <path d=\"m189.24 92.289 2.1719 26.977\" fill=\"none\" stroke=\"#000\" stroke-miterlimit=\"10\" stroke-width=\"1.2\"/>\n",
       "  <path d=\"m191.41 119.27-22.281 15.367\" fill=\"none\" stroke=\"#000\" stroke-miterlimit=\"10\" stroke-width=\"1.2\"/>\n",
       "  <path d=\"m186.17 116.43-17.824 12.293\" fill=\"none\" stroke=\"#000\" stroke-miterlimit=\"10\" stroke-width=\"1.2\"/>\n",
       "  <path d=\"m169.13 134.63-24.445-11.609\" fill=\"none\" stroke=\"#000\" stroke-miterlimit=\"10\" stroke-width=\"1.2\"/>\n",
       "  <path d=\"m144.68 123.02-22.277 15.367\" fill=\"none\" stroke=\"#000\" stroke-miterlimit=\"10\" stroke-width=\"1.2\"/>\n",
       "  <path d=\"m122.41 138.39-24.449-11.609\" fill=\"none\" stroke=\"#000\" stroke-miterlimit=\"10\" stroke-width=\"1.2\"/>\n",
       "  <path d=\"m117.68 142.02-19.559-9.2891\" fill=\"none\" stroke=\"#000\" stroke-miterlimit=\"10\" stroke-width=\"1.2\"/>\n",
       "  <path d=\"m97.957 126.78-22.277 15.363\" fill=\"none\" stroke=\"#000\" stroke-miterlimit=\"10\" stroke-width=\"1.2\"/>\n",
       "  <path d=\"m75.68 142.14 2.168 26.98\" fill=\"none\" stroke=\"#000\" stroke-miterlimit=\"10\" stroke-width=\"1.2\"/>\n",
       "  <path d=\"m70.605 145.27 1.7344 21.582\" fill=\"none\" stroke=\"#000\" stroke-miterlimit=\"10\" stroke-width=\"1.2\"/>\n",
       "  <path d=\"m77.848 169.12-24.988 10.398\" fill=\"none\" stroke=\"#000\" stroke-miterlimit=\"10\" stroke-width=\"1.2\"/>\n",
       "  <path d=\"m52.859 179.52-6.918-8.0742\" fill=\"none\" stroke=\"#000\" stroke-miterlimit=\"10\" stroke-width=\"1.2\"/>\n",
       "  <path d=\"m45.941 171.45-6.918-8.0742\" fill=\"none\" stroke=\"#f00\" stroke-miterlimit=\"10\" stroke-width=\"1.2\"/>\n",
       "  <path d=\"m37.938 154.57 5.707-9.3477\" fill=\"none\" stroke=\"#f00\" stroke-miterlimit=\"10\" stroke-width=\"1.2\"/>\n",
       "  <path d=\"m43.645 145.22 5.707-9.3516\" fill=\"none\" stroke=\"#000\" stroke-miterlimit=\"10\" stroke-width=\"1.2\"/>\n",
       "  <path d=\"m51.801 134.85-4.2812-10.289\" fill=\"none\" stroke=\"#000\" stroke-miterlimit=\"10\" stroke-width=\"1.2\"/>\n",
       "  <path d=\"m47.52 124.56-4.2852-10.293\" fill=\"none\" stroke=\"#f00\" stroke-miterlimit=\"10\" stroke-width=\"1.2\"/>\n",
       "  <path d=\"m46.902 136.89-4.2852-10.289\" fill=\"none\" stroke=\"#000\" stroke-miterlimit=\"10\" stroke-width=\"1.2\"/>\n",
       "  <path d=\"m42.617 126.6-4.2812-10.293\" fill=\"none\" stroke=\"#f00\" stroke-miterlimit=\"10\" stroke-width=\"1.2\"/>\n",
       "  <path d=\"m77.848 169.12 24.449 11.609\" fill=\"none\" stroke=\"#000\" stroke-miterlimit=\"10\" stroke-width=\"1.2\"/>\n",
       "  <path d=\"m102.3 180.73 2.168 26.977\" fill=\"none\" stroke=\"#000\" stroke-miterlimit=\"10\" stroke-width=\"1.2\"/>\n",
       "  <path d=\"m102.3 180.73 22.277-15.367\" fill=\"none\" stroke=\"#000\" stroke-miterlimit=\"10\" stroke-width=\"1.2\"/>\n",
       "  <path d=\"m101.51 174.83 17.824-12.293\" fill=\"none\" stroke=\"#000\" stroke-miterlimit=\"10\" stroke-width=\"1.2\"/>\n",
       "  <path d=\"m124.57 165.37 10.141 4.8164\" fill=\"none\" stroke=\"#000\" stroke-miterlimit=\"10\" stroke-width=\"1.2\"/>\n",
       "  <path d=\"m134.71 170.18 10.141 4.8164\" fill=\"none\" stroke=\"#f00\" stroke-miterlimit=\"10\" stroke-width=\"1.2\"/>\n",
       "  <path d=\"m149.38 181.38 0.90625 11.289\" fill=\"none\" stroke=\"#f00\" stroke-miterlimit=\"10\" stroke-width=\"1.2\"/>\n",
       "  <path d=\"m150.28 192.67 0.90625 11.285\" fill=\"none\" stroke=\"#000\" stroke-miterlimit=\"10\" stroke-width=\"1.2\"/>\n",
       "  <path d=\"m97.957 126.78-0.90625-11.289\" fill=\"none\" stroke=\"#000\" stroke-miterlimit=\"10\" stroke-width=\"1.2\"/>\n",
       "  <path d=\"m97.051 115.49-0.91016-11.289\" fill=\"none\" stroke=\"#f00\" stroke-miterlimit=\"10\" stroke-width=\"1.2\"/>\n",
       "  <path d=\"m191.41 119.27 24.445 11.609\" fill=\"none\" stroke=\"#000\" stroke-miterlimit=\"10\" stroke-width=\"1.2\"/>\n",
       "  <path d=\"m215.86 130.88 2.168 26.98\" fill=\"none\" stroke=\"#000\" stroke-miterlimit=\"10\" stroke-width=\"1.2\"/>\n",
       "  <path d=\"m218.02 157.86 24.449 11.609\" fill=\"none\" stroke=\"#000\" stroke-miterlimit=\"10\" stroke-width=\"1.2\"/>\n",
       "  <path d=\"m243.98 171.65 9.0586-6.2461\" fill=\"none\" stroke=\"#000\" stroke-miterlimit=\"10\" stroke-width=\"1.2\"/>\n",
       "  <path d=\"m253.04 165.4 9.0586-6.25\" fill=\"none\" stroke=\"#f00\" stroke-miterlimit=\"10\" stroke-width=\"1.2\"/>\n",
       "  <path d=\"m240.96 167.28 9.0586-6.25\" fill=\"none\" stroke=\"#000\" stroke-miterlimit=\"10\" stroke-width=\"1.2\"/>\n",
       "  <path d=\"m250.02 161.03 9.0547-6.2461\" fill=\"none\" stroke=\"#f00\" stroke-miterlimit=\"10\" stroke-width=\"1.2\"/>\n",
       "  <path d=\"m242.47 169.46 0.90625 11.285\" fill=\"none\" stroke=\"#000\" stroke-miterlimit=\"10\" stroke-width=\"1.2\"/>\n",
       "  <path d=\"m243.38 180.75 0.90625 11.289\" fill=\"none\" stroke=\"#f00\" stroke-miterlimit=\"10\" stroke-width=\"1.2\"/>\n",
       "  <path d=\"m215.86 130.88 9.0547-6.2461\" fill=\"none\" stroke=\"#000\" stroke-miterlimit=\"10\" stroke-width=\"1.2\"/>\n",
       "  <path d=\"m224.91 124.63 9.0547-6.2422\" fill=\"none\" stroke=\"#f00\" stroke-miterlimit=\"10\" stroke-width=\"1.2\"/>\n",
       "  <path d=\"m124.57 165.37-2.168-26.977\" fill=\"none\" stroke=\"#000\" stroke-miterlimit=\"10\" stroke-width=\"1.2\"/>\n",
       "  <path d=\"m49.352 135.87 26.328 6.2734\" fill=\"none\" stroke=\"#000\" stroke-miterlimit=\"10\" stroke-width=\"1.2\"/>\n",
       " </g>\n",
       "</svg>"
      ],
      "text/plain": [
       "<IPython.core.display.SVG object>"
      ]
     },
     "metadata": {},
     "output_type": "display_data"
    },
    {
     "name": "stdout",
     "output_type": "stream",
     "text": [
      "--------------------------------------------------------------------------------\n",
      "SUGGESTED SIMILAR SPECTRA ------------------------------------------------------\n",
      "SMILES: C/C(=C\\Cc1c(c2c(COC2=O)c(C)c1OC)O)/C(CC(=O)O)O\n",
      "INCHIKEY: OGJCZLOIKMTMKF-XBXARRHUSA-N\n",
      "--> Spec2Vec similarity score: 0.7468491429474324\n",
      "--> Modified cosine score: 0.30996020757950266\n",
      "With ground truth --> actual molecular similarity: 0.35758706467661694\n",
      "--> MOLECULES:\n",
      "Scour processed file \"draw_mols_temp.svg\" in 51 ms: 6883/11414 bytes new/orig -> 60.3%\n"
     ]
    },
    {
     "data": {
      "image/svg+xml": [
       "<svg height=\"300pt\" version=\"1.1\" viewBox=\"0 0 300 300\" width=\"300pt\" xmlns=\"http://www.w3.org/2000/svg\" xmlns:xlink=\"http://www.w3.org/1999/xlink\">\n",
       " <defs>\n",
       "  <symbol id=\"glyph0-1\" overflow=\"visible\">\n",
       "   <path d=\"m0.41016-2.9609c0-1.0039 0.26953-1.793 0.8125-2.3672 0.53906-0.57031 1.2383-0.85938 2.0977-0.85938 0.55859 0 1.0664 0.13672 1.5195 0.40234 0.44922 0.27344 0.78906 0.64844 1.0273 1.125 0.23438 0.48438 0.35547 1.0273 0.35547 1.6289 0 0.62109-0.125 1.1719-0.375 1.6562-0.25 0.48828-0.60156 0.85547-1.0547 1.1055-0.45703 0.25-0.94922 0.375-1.4766 0.375-0.57422 0-1.0859-0.13672-1.5352-0.41406-0.45312-0.27734-0.79688-0.65625-1.0234-1.1328-0.23438-0.47656-0.34766-0.98047-0.34766-1.5195zm0.82812 0.011719c-0.003906 0.73828 0.19531 1.3164 0.58984 1.7344 0.39453 0.42188 0.88672 0.62891 1.4844 0.62891 0.60156 0 1.1016-0.21094 1.4922-0.63672 0.39062-0.42578 0.58594-1.0312 0.58984-1.8125-0.003906-0.49219-0.089843-0.92188-0.25391-1.293-0.17188-0.36719-0.41406-0.65234-0.73438-0.85938-0.32031-0.19922-0.68359-0.30078-1.082-0.30469-0.57031 0.003907-1.0586 0.19922-1.4688 0.58594-0.41406 0.39453-0.62109 1.0469-0.61719 1.957z\"/>\n",
       "  </symbol>\n",
       "  <symbol id=\"glyph0-2\" overflow=\"visible\">\n",
       "   <path d=\"m0.67969 0v-6.0781h0.80469v2.4961h3.1602v-2.4961h0.80469v6.0781h-0.80469v-2.8633h-3.1602v2.8633z\"/>\n",
       "  </symbol>\n",
       " </defs>\n",
       " <g id=\"surface613\">\n",
       "  <rect fill=\"#fff\" height=\"300\" width=\"300\"/>\n",
       "  <g fill=\"#f00\">\n",
       "   <use x=\"32.34375\" xlink:href=\"#glyph0-1\" y=\"162.117188\"/>\n",
       "  </g>\n",
       "  <g fill=\"#f00\">\n",
       "   <use x=\"36.046875\" xlink:href=\"#glyph0-1\" y=\"114.03125\"/>\n",
       "  </g>\n",
       "  <g fill=\"#f00\">\n",
       "   <use x=\"146.113281\" xlink:href=\"#glyph0-1\" y=\"180.121094\"/>\n",
       "  </g>\n",
       "  <g fill=\"#f00\">\n",
       "   <use x=\"87.03125\" xlink:href=\"#glyph0-2\" y=\"102.945313\"/>\n",
       "   <use x=\"93.16295\" xlink:href=\"#glyph0-1\" y=\"102.945313\"/>\n",
       "  </g>\n",
       "  <g fill=\"#f00\">\n",
       "   <use x=\"261.84375\" xlink:href=\"#glyph0-1\" y=\"157.242188\"/>\n",
       "  </g>\n",
       "  <g fill=\"#f00\">\n",
       "   <use x=\"241.730469\" xlink:href=\"#glyph0-1\" y=\"199.585938\"/>\n",
       "   <use x=\"248.334795\" xlink:href=\"#glyph0-2\" y=\"199.585938\"/>\n",
       "  </g>\n",
       "  <g fill=\"#f00\">\n",
       "   <use x=\"235.222656\" xlink:href=\"#glyph0-1\" y=\"118.65625\"/>\n",
       "   <use x=\"241.826982\" xlink:href=\"#glyph0-2\" y=\"118.65625\"/>\n",
       "  </g>\n",
       "  <path d=\"m189.24 92.289 2.1719 26.977\" fill=\"none\" stroke=\"#000\" stroke-miterlimit=\"10\" stroke-width=\"1.2\"/>\n",
       "  <path d=\"m191.41 119.27-22.281 15.367\" fill=\"none\" stroke=\"#000\" stroke-miterlimit=\"10\" stroke-width=\"1.2\"/>\n",
       "  <path d=\"m186.17 116.43-17.824 12.293\" fill=\"none\" stroke=\"#000\" stroke-miterlimit=\"10\" stroke-width=\"1.2\"/>\n",
       "  <path d=\"m169.13 134.63-24.445-11.609\" fill=\"none\" stroke=\"#000\" stroke-miterlimit=\"10\" stroke-width=\"1.2\"/>\n",
       "  <path d=\"m144.68 123.02-22.277 15.367\" fill=\"none\" stroke=\"#000\" stroke-miterlimit=\"10\" stroke-width=\"1.2\"/>\n",
       "  <path d=\"m122.41 138.39-24.449-11.609\" fill=\"none\" stroke=\"#000\" stroke-miterlimit=\"10\" stroke-width=\"1.2\"/>\n",
       "  <path d=\"m117.68 142.02-19.559-9.2891\" fill=\"none\" stroke=\"#000\" stroke-miterlimit=\"10\" stroke-width=\"1.2\"/>\n",
       "  <path d=\"m97.957 126.78-22.277 15.363\" fill=\"none\" stroke=\"#000\" stroke-miterlimit=\"10\" stroke-width=\"1.2\"/>\n",
       "  <path d=\"m75.68 142.14 2.168 26.98\" fill=\"none\" stroke=\"#000\" stroke-miterlimit=\"10\" stroke-width=\"1.2\"/>\n",
       "  <path d=\"m70.605 145.27 1.7344 21.582\" fill=\"none\" stroke=\"#000\" stroke-miterlimit=\"10\" stroke-width=\"1.2\"/>\n",
       "  <path d=\"m77.848 169.12-24.988 10.398\" fill=\"none\" stroke=\"#000\" stroke-miterlimit=\"10\" stroke-width=\"1.2\"/>\n",
       "  <path d=\"m52.859 179.52-6.918-8.0742\" fill=\"none\" stroke=\"#000\" stroke-miterlimit=\"10\" stroke-width=\"1.2\"/>\n",
       "  <path d=\"m45.941 171.45-6.918-8.0742\" fill=\"none\" stroke=\"#f00\" stroke-miterlimit=\"10\" stroke-width=\"1.2\"/>\n",
       "  <path d=\"m37.938 154.57 5.707-9.3477\" fill=\"none\" stroke=\"#f00\" stroke-miterlimit=\"10\" stroke-width=\"1.2\"/>\n",
       "  <path d=\"m43.645 145.22 5.707-9.3516\" fill=\"none\" stroke=\"#000\" stroke-miterlimit=\"10\" stroke-width=\"1.2\"/>\n",
       "  <path d=\"m51.801 134.85-4.2812-10.289\" fill=\"none\" stroke=\"#000\" stroke-miterlimit=\"10\" stroke-width=\"1.2\"/>\n",
       "  <path d=\"m47.52 124.56-4.2852-10.293\" fill=\"none\" stroke=\"#f00\" stroke-miterlimit=\"10\" stroke-width=\"1.2\"/>\n",
       "  <path d=\"m46.902 136.89-4.2852-10.289\" fill=\"none\" stroke=\"#000\" stroke-miterlimit=\"10\" stroke-width=\"1.2\"/>\n",
       "  <path d=\"m42.617 126.6-4.2812-10.293\" fill=\"none\" stroke=\"#f00\" stroke-miterlimit=\"10\" stroke-width=\"1.2\"/>\n",
       "  <path d=\"m77.848 169.12 24.449 11.609\" fill=\"none\" stroke=\"#000\" stroke-miterlimit=\"10\" stroke-width=\"1.2\"/>\n",
       "  <path d=\"m102.3 180.73 2.168 26.977\" fill=\"none\" stroke=\"#000\" stroke-miterlimit=\"10\" stroke-width=\"1.2\"/>\n",
       "  <path d=\"m102.3 180.73 22.277-15.367\" fill=\"none\" stroke=\"#000\" stroke-miterlimit=\"10\" stroke-width=\"1.2\"/>\n",
       "  <path d=\"m101.51 174.83 17.824-12.293\" fill=\"none\" stroke=\"#000\" stroke-miterlimit=\"10\" stroke-width=\"1.2\"/>\n",
       "  <path d=\"m124.57 165.37 10.141 4.8164\" fill=\"none\" stroke=\"#000\" stroke-miterlimit=\"10\" stroke-width=\"1.2\"/>\n",
       "  <path d=\"m134.71 170.18 10.141 4.8164\" fill=\"none\" stroke=\"#f00\" stroke-miterlimit=\"10\" stroke-width=\"1.2\"/>\n",
       "  <path d=\"m149.38 181.38 0.90625 11.289\" fill=\"none\" stroke=\"#f00\" stroke-miterlimit=\"10\" stroke-width=\"1.2\"/>\n",
       "  <path d=\"m150.28 192.67 0.90625 11.285\" fill=\"none\" stroke=\"#000\" stroke-miterlimit=\"10\" stroke-width=\"1.2\"/>\n",
       "  <path d=\"m97.957 126.78-0.90625-11.289\" fill=\"none\" stroke=\"#000\" stroke-miterlimit=\"10\" stroke-width=\"1.2\"/>\n",
       "  <path d=\"m97.051 115.49-0.91016-11.289\" fill=\"none\" stroke=\"#f00\" stroke-miterlimit=\"10\" stroke-width=\"1.2\"/>\n",
       "  <path d=\"m191.41 119.27 24.445 11.609\" fill=\"none\" stroke=\"#000\" stroke-miterlimit=\"10\" stroke-width=\"1.2\"/>\n",
       "  <path d=\"m215.86 130.88 2.168 26.98\" fill=\"none\" stroke=\"#000\" stroke-miterlimit=\"10\" stroke-width=\"1.2\"/>\n",
       "  <path d=\"m218.02 157.86 24.449 11.609\" fill=\"none\" stroke=\"#000\" stroke-miterlimit=\"10\" stroke-width=\"1.2\"/>\n",
       "  <path d=\"m243.98 171.65 9.0586-6.2461\" fill=\"none\" stroke=\"#000\" stroke-miterlimit=\"10\" stroke-width=\"1.2\"/>\n",
       "  <path d=\"m253.04 165.4 9.0586-6.25\" fill=\"none\" stroke=\"#f00\" stroke-miterlimit=\"10\" stroke-width=\"1.2\"/>\n",
       "  <path d=\"m240.96 167.28 9.0586-6.25\" fill=\"none\" stroke=\"#000\" stroke-miterlimit=\"10\" stroke-width=\"1.2\"/>\n",
       "  <path d=\"m250.02 161.03 9.0547-6.2461\" fill=\"none\" stroke=\"#f00\" stroke-miterlimit=\"10\" stroke-width=\"1.2\"/>\n",
       "  <path d=\"m242.47 169.46 0.90625 11.285\" fill=\"none\" stroke=\"#000\" stroke-miterlimit=\"10\" stroke-width=\"1.2\"/>\n",
       "  <path d=\"m243.38 180.75 0.90625 11.289\" fill=\"none\" stroke=\"#f00\" stroke-miterlimit=\"10\" stroke-width=\"1.2\"/>\n",
       "  <path d=\"m215.86 130.88 9.0547-6.2461\" fill=\"none\" stroke=\"#000\" stroke-miterlimit=\"10\" stroke-width=\"1.2\"/>\n",
       "  <path d=\"m224.91 124.63 9.0547-6.2422\" fill=\"none\" stroke=\"#f00\" stroke-miterlimit=\"10\" stroke-width=\"1.2\"/>\n",
       "  <path d=\"m124.57 165.37-2.168-26.977\" fill=\"none\" stroke=\"#000\" stroke-miterlimit=\"10\" stroke-width=\"1.2\"/>\n",
       "  <path d=\"m49.352 135.87 26.328 6.2734\" fill=\"none\" stroke=\"#000\" stroke-miterlimit=\"10\" stroke-width=\"1.2\"/>\n",
       " </g>\n",
       "</svg>"
      ],
      "text/plain": [
       "<IPython.core.display.SVG object>"
      ]
     },
     "metadata": {},
     "output_type": "display_data"
    },
    {
     "name": "stdout",
     "output_type": "stream",
     "text": [
      "--------------------------------------------------------------------------------\n",
      "SUGGESTED SIMILAR SPECTRA ------------------------------------------------------\n",
      "SMILES: C1CN(CC[C@@]12C(N(Cc1cccc3ccccc13)C(N2)=O)=O)Cc1cc2c(cc1[Cl])OCO2\n",
      "INCHIKEY: JTLODDSXLLEHRW-UHFFFAOYSA-N\n",
      "--> Spec2Vec similarity score: 0.793652657593629\n",
      "--> Modified cosine score: 0.02535369667667443\n",
      "With ground truth --> actual molecular similarity: 0.42985611510791366\n",
      "--> MOLECULES:\n",
      "Scour processed file \"draw_mols_temp.svg\" in 70 ms: 10890/17885 bytes new/orig -> 60.9%\n"
     ]
    },
    {
     "data": {
      "image/svg+xml": [
       "<svg height=\"300pt\" version=\"1.1\" viewBox=\"0 0 300 300\" width=\"300pt\" xmlns=\"http://www.w3.org/2000/svg\" xmlns:xlink=\"http://www.w3.org/1999/xlink\">\n",
       " <defs>\n",
       "  <symbol id=\"glyph0-1\" overflow=\"visible\">\n",
       "   <path d=\"m0.53125 0v-5.0117h0.68359l2.6289 3.9336v-3.9336h0.63672v5.0117h-0.67969l-2.6328-3.9375v3.9375z\"/>\n",
       "  </symbol>\n",
       "  <symbol id=\"glyph0-2\" overflow=\"visible\">\n",
       "   <path d=\"m0.5625 0v-5.0117h0.66016v2.0586h2.6055v-2.0586h0.66406v5.0117h-0.66406v-2.3633h-2.6055v2.3633z\"/>\n",
       "  </symbol>\n",
       "  <symbol id=\"glyph0-3\" overflow=\"visible\">\n",
       "   <path d=\"m0.33984-2.4414c0-0.82812 0.22266-1.4805 0.66797-1.9531 0.44531-0.46875 1.0195-0.70312 1.7305-0.70703 0.45703 0.003907 0.875 0.11328 1.25 0.33203 0.37109 0.22266 0.65234 0.53125 0.84766 0.92578 0.19141 0.39844 0.28906 0.84766 0.29297 1.3438-0.003906 0.51172-0.10547 0.96875-0.30859 1.3672-0.20703 0.40625-0.49609 0.70703-0.87109 0.91016-0.375 0.20312-0.78125 0.30469-1.2148 0.30859-0.47266-0.0039062-0.89453-0.11328-1.2656-0.33984-0.37109-0.22656-0.65234-0.53906-0.84375-0.93359s-0.28516-0.8125-0.28516-1.2539zm0.68359 0.011718c-0.003907 0.60547 0.15625 1.082 0.48438 1.4297 0.32031 0.34766 0.73047 0.51953 1.2227 0.51953 0.5 0 0.91016-0.17578 1.2305-0.52734 0.32031-0.35156 0.48047-0.84766 0.48438-1.4922-0.003907-0.40625-0.074219-0.76172-0.20703-1.0703-0.14062-0.30078-0.33984-0.53906-0.60547-0.70703-0.26562-0.16406-0.5625-0.24609-0.89062-0.25-0.46875 0.003906-0.875 0.16406-1.2109 0.48438-0.34375 0.32031-0.51172 0.85938-0.50781 1.6133z\"/>\n",
       "  </symbol>\n",
       "  <symbol id=\"glyph0-4\" overflow=\"visible\">\n",
       "   <path d=\"m4.1172-1.7578 0.66016 0.16797c-0.14062 0.54688-0.39062 0.96094-0.75 1.2461-0.36719 0.28516-0.80859 0.42578-1.3242 0.42969-0.54297-0.0039062-0.98047-0.10938-1.3164-0.32813-0.33984-0.21875-0.59766-0.53906-0.77344-0.95703-0.17969-0.41406-0.26953-0.86328-0.26562-1.3438-0.003906-0.51953 0.097657-0.97266 0.29688-1.3633 0.19922-0.38672 0.48047-0.68359 0.85156-0.88672 0.36719-0.20312 0.77344-0.30469 1.2188-0.30469 0.49609 0 0.91797 0.12891 1.2617 0.38281 0.33984 0.25781 0.57812 0.61719 0.71484 1.0781l-0.65234 0.15234c-0.11719-0.36328-0.28516-0.62891-0.50391-0.79297-0.22656-0.16406-0.50391-0.24609-0.83594-0.25-0.38672 0.003906-0.70703 0.097656-0.96484 0.27734-0.25781 0.1875-0.44141 0.43359-0.54688 0.74219-0.10547 0.3125-0.15625 0.63281-0.15625 0.96094 0 0.42969 0.0625 0.80078 0.1875 1.1172 0.125 0.32031 0.31641 0.55859 0.57812 0.71484s0.54688 0.23438 0.85156 0.23438c0.37109 0 0.68359-0.10547 0.94141-0.32031 0.25391-0.21484 0.42969-0.53516 0.52734-0.95703z\"/>\n",
       "  </symbol>\n",
       "  <symbol id=\"glyph0-5\" overflow=\"visible\">\n",
       "   <path d=\"m0.44922 0v-5.0117h0.61328v5.0117z\"/>\n",
       "  </symbol>\n",
       " </defs>\n",
       " <g id=\"surface617\">\n",
       "  <rect fill=\"#fff\" height=\"300\" width=\"300\"/>\n",
       "  <g fill=\"#00f\">\n",
       "   <use x=\"116.96875\" xlink:href=\"#glyph0-1\" y=\"178.632813\"/>\n",
       "  </g>\n",
       "  <g fill=\"#00f\">\n",
       "   <use x=\"183.492188\" xlink:href=\"#glyph0-1\" y=\"162.097656\"/>\n",
       "  </g>\n",
       "  <g fill=\"#00f\">\n",
       "   <use x=\"167.660156\" xlink:href=\"#glyph0-1\" y=\"188.953125\"/>\n",
       "   <use x=\"172.715332\" xlink:href=\"#glyph0-2\" y=\"188.953125\"/>\n",
       "  </g>\n",
       "  <g fill=\"#f00\">\n",
       "   <use x=\"201.644531\" xlink:href=\"#glyph0-3\" y=\"190.875\"/>\n",
       "  </g>\n",
       "  <g fill=\"#f00\">\n",
       "   <use x=\"156.539063\" xlink:href=\"#glyph0-3\" y=\"140.636719\"/>\n",
       "  </g>\n",
       "  <g fill=\"#0c0\">\n",
       "   <use x=\"112.632813\" xlink:href=\"#glyph0-4\" y=\"145.675781\"/>\n",
       "   <use x=\"117.687988\" xlink:href=\"#glyph0-5\" y=\"145.675781\"/>\n",
       "  </g>\n",
       "  <g fill=\"#f00\">\n",
       "   <use x=\"49.476563\" xlink:href=\"#glyph0-3\" y=\"121.242188\"/>\n",
       "  </g>\n",
       "  <g fill=\"#f00\">\n",
       "   <use x=\"36.816406\" xlink:href=\"#glyph0-3\" y=\"149.578125\"/>\n",
       "  </g>\n",
       "  <path d=\"m149.27 189.68-19.078 1.9805\" fill=\"none\" stroke=\"#000\" stroke-miterlimit=\"10\" stroke-width=\"1.2\"/>\n",
       "  <path d=\"m130.2 191.66-4.3555-6.0156\" fill=\"none\" stroke=\"#000\" stroke-miterlimit=\"10\" stroke-width=\"1.2\"/>\n",
       "  <path d=\"m125.84 185.65-4.3555-6.0117\" fill=\"none\" stroke=\"#00f\" stroke-miterlimit=\"10\" stroke-width=\"1.2\"/>\n",
       "  <path d=\"m120.51 172.62 3.1289-7\" fill=\"none\" stroke=\"#00f\" stroke-miterlimit=\"10\" stroke-width=\"1.2\"/>\n",
       "  <path d=\"m123.64 165.62 3.1289-7.0039\" fill=\"none\" stroke=\"#000\" stroke-miterlimit=\"10\" stroke-width=\"1.2\"/>\n",
       "  <path d=\"m126.77 158.62 19.078-1.9766\" fill=\"none\" stroke=\"#000\" stroke-miterlimit=\"10\" stroke-width=\"1.2\"/>\n",
       "  <path d=\"m145.85 156.64 11.25 15.535\" fill=\"none\" stroke=\"#000\" stroke-miterlimit=\"10\" stroke-width=\"1.2\"/>\n",
       "  <path d=\"m157.1 172.18 9.6133-16.598\" fill=\"none\" stroke=\"#000\" stroke-miterlimit=\"10\" stroke-width=\"1.2\"/>\n",
       "  <path d=\"m166.71 155.58 7.8906 1.6875\" fill=\"none\" stroke=\"#000\" stroke-miterlimit=\"10\" stroke-width=\"1.2\"/>\n",
       "  <path d=\"m174.6 157.27 7.8906 1.6875\" fill=\"none\" stroke=\"#00f\" stroke-miterlimit=\"10\" stroke-width=\"1.2\"/>\n",
       "  <path d=\"m188.45 156.92 5.6445-5.0742\" fill=\"none\" stroke=\"#00f\" stroke-miterlimit=\"10\" stroke-width=\"1.2\"/>\n",
       "  <path d=\"m194.09 151.85 5.6484-5.0703\" fill=\"none\" stroke=\"#000\" stroke-miterlimit=\"10\" stroke-width=\"1.2\"/>\n",
       "  <path d=\"m199.74 146.78 18.234 5.9531\" fill=\"none\" stroke=\"#000\" stroke-miterlimit=\"10\" stroke-width=\"1.2\"/>\n",
       "  <path d=\"m217.97 152.73 3.9609 18.77\" fill=\"none\" stroke=\"#000\" stroke-miterlimit=\"10\" stroke-width=\"1.2\"/>\n",
       "  <path d=\"m222.05 153.83 3.1719 15.012\" fill=\"none\" stroke=\"#000\" stroke-miterlimit=\"10\" stroke-width=\"1.2\"/>\n",
       "  <path d=\"m221.93 171.5 18.234 5.9531\" fill=\"none\" stroke=\"#000\" stroke-miterlimit=\"10\" stroke-width=\"1.2\"/>\n",
       "  <path d=\"m240.17 177.45 14.27-12.816\" fill=\"none\" stroke=\"#000\" stroke-miterlimit=\"10\" stroke-width=\"1.2\"/>\n",
       "  <path d=\"m239.08 173.37 11.418-10.25\" fill=\"none\" stroke=\"#000\" stroke-miterlimit=\"10\" stroke-width=\"1.2\"/>\n",
       "  <path d=\"m254.44 164.64-3.9609-18.766\" fill=\"none\" stroke=\"#000\" stroke-miterlimit=\"10\" stroke-width=\"1.2\"/>\n",
       "  <path d=\"m250.48 145.87 14.273-12.812\" fill=\"none\" stroke=\"#000\" stroke-miterlimit=\"10\" stroke-width=\"1.2\"/>\n",
       "  <path d=\"m249.39 141.79 11.414-10.254\" fill=\"none\" stroke=\"#000\" stroke-miterlimit=\"10\" stroke-width=\"1.2\"/>\n",
       "  <path d=\"m264.75 133.06-3.9609-18.766\" fill=\"none\" stroke=\"#000\" stroke-miterlimit=\"10\" stroke-width=\"1.2\"/>\n",
       "  <path d=\"m260.79 114.29-18.234-5.957\" fill=\"none\" stroke=\"#000\" stroke-miterlimit=\"10\" stroke-width=\"1.2\"/>\n",
       "  <path d=\"m257.8 117.27-14.586-4.7617\" fill=\"none\" stroke=\"#000\" stroke-miterlimit=\"10\" stroke-width=\"1.2\"/>\n",
       "  <path d=\"m242.55 108.34-14.27 12.816\" fill=\"none\" stroke=\"#000\" stroke-miterlimit=\"10\" stroke-width=\"1.2\"/>\n",
       "  <path d=\"m228.29 121.15 3.9609 18.766\" fill=\"none\" stroke=\"#000\" stroke-miterlimit=\"10\" stroke-width=\"1.2\"/>\n",
       "  <path d=\"m232.36 122.25 3.168 15.016\" fill=\"none\" stroke=\"#000\" stroke-miterlimit=\"10\" stroke-width=\"1.2\"/>\n",
       "  <path d=\"m185.83 163.1 0.80469 7.7891\" fill=\"none\" stroke=\"#00f\" stroke-miterlimit=\"10\" stroke-width=\"1.2\"/>\n",
       "  <path d=\"m186.64 170.89 0.80859 7.7852\" fill=\"none\" stroke=\"#000\" stroke-miterlimit=\"10\" stroke-width=\"1.2\"/>\n",
       "  <path d=\"m187.45 178.67-4.8867 2.1641\" fill=\"none\" stroke=\"#000\" stroke-miterlimit=\"10\" stroke-width=\"1.2\"/>\n",
       "  <path d=\"m182.56 180.84-4.8867 2.168\" fill=\"none\" stroke=\"#00f\" stroke-miterlimit=\"10\" stroke-width=\"1.2\"/>\n",
       "  <path d=\"m186.5 180.3 6.582 3.8125\" fill=\"none\" stroke=\"#000\" stroke-miterlimit=\"10\" stroke-width=\"1.2\"/>\n",
       "  <path d=\"m193.09 184.11 6.582 3.8125\" fill=\"none\" stroke=\"#f00\" stroke-miterlimit=\"10\" stroke-width=\"1.2\"/>\n",
       "  <path d=\"m188.39 177.04 6.582 3.8125\" fill=\"none\" stroke=\"#000\" stroke-miterlimit=\"10\" stroke-width=\"1.2\"/>\n",
       "  <path d=\"m194.97 180.86 6.582 3.8125\" fill=\"none\" stroke=\"#f00\" stroke-miterlimit=\"10\" stroke-width=\"1.2\"/>\n",
       "  <path d=\"m168.43 154.82-3.082-6.9531\" fill=\"none\" stroke=\"#000\" stroke-miterlimit=\"10\" stroke-width=\"1.2\"/>\n",
       "  <path d=\"m165.35 147.86-3.082-6.9531\" fill=\"none\" stroke=\"#f00\" stroke-miterlimit=\"10\" stroke-width=\"1.2\"/>\n",
       "  <path d=\"m164.99 156.34-3.082-6.9531\" fill=\"none\" stroke=\"#000\" stroke-miterlimit=\"10\" stroke-width=\"1.2\"/>\n",
       "  <path d=\"m161.91 149.39-3.082-6.9492\" fill=\"none\" stroke=\"#f00\" stroke-miterlimit=\"10\" stroke-width=\"1.2\"/>\n",
       "  <path d=\"m115.96 176.44-8.0508 0.83594\" fill=\"none\" stroke=\"#00f\" stroke-miterlimit=\"10\" stroke-width=\"1.2\"/>\n",
       "  <path d=\"m107.91 177.27-8.0508 0.83203\" fill=\"none\" stroke=\"#000\" stroke-miterlimit=\"10\" stroke-width=\"1.2\"/>\n",
       "  <path d=\"m99.863 178.11-11.25-15.531\" fill=\"none\" stroke=\"#000\" stroke-miterlimit=\"10\" stroke-width=\"1.2\"/>\n",
       "  <path d=\"m88.613 162.57-19.078 1.9766\" fill=\"none\" stroke=\"#000\" stroke-miterlimit=\"10\" stroke-width=\"1.2\"/>\n",
       "  <path d=\"m86.316 159.03-15.262 1.582\" fill=\"none\" stroke=\"#000\" stroke-miterlimit=\"10\" stroke-width=\"1.2\"/>\n",
       "  <path d=\"m69.535 164.55-11.254-15.535\" fill=\"none\" stroke=\"#000\" stroke-miterlimit=\"10\" stroke-width=\"1.2\"/>\n",
       "  <path d=\"m58.281 149.02 7.8281-17.508\" fill=\"none\" stroke=\"#000\" stroke-miterlimit=\"10\" stroke-width=\"1.2\"/>\n",
       "  <path d=\"m55.633 145.73 6.2617-14.008\" fill=\"none\" stroke=\"#000\" stroke-miterlimit=\"10\" stroke-width=\"1.2\"/>\n",
       "  <path d=\"m66.109 131.51 19.078-1.9805\" fill=\"none\" stroke=\"#000\" stroke-miterlimit=\"10\" stroke-width=\"1.2\"/>\n",
       "  <path d=\"m85.188 129.53 11.25 15.535\" fill=\"none\" stroke=\"#000\" stroke-miterlimit=\"10\" stroke-width=\"1.2\"/>\n",
       "  <path d=\"m83.266 133.29 9.0039 12.426\" fill=\"none\" stroke=\"#000\" stroke-miterlimit=\"10\" stroke-width=\"1.2\"/>\n",
       "  <path d=\"m96.438 145.06 7.582-0.78516\" fill=\"none\" stroke=\"#000\" stroke-miterlimit=\"10\" stroke-width=\"1.2\"/>\n",
       "  <path d=\"m104.02 144.28 7.5781-0.78516\" fill=\"none\" stroke=\"#0c0\" stroke-miterlimit=\"10\" stroke-width=\"1.2\"/>\n",
       "  <path d=\"m66.109 131.51-5.4023-4.8789\" fill=\"none\" stroke=\"#000\" stroke-miterlimit=\"10\" stroke-width=\"1.2\"/>\n",
       "  <path d=\"m60.707 126.63-5.3984-4.8789\" fill=\"none\" stroke=\"#f00\" stroke-miterlimit=\"10\" stroke-width=\"1.2\"/>\n",
       "  <path d=\"m48.441 120.63-6.5977 3.793\" fill=\"none\" stroke=\"#f00\" stroke-miterlimit=\"10\" stroke-width=\"1.2\"/>\n",
       "  <path d=\"m41.844 124.42-6.5938 3.7969\" fill=\"none\" stroke=\"#000\" stroke-miterlimit=\"10\" stroke-width=\"1.2\"/>\n",
       "  <path d=\"m35.25 128.22 1.5977 7.5664\" fill=\"none\" stroke=\"#000\" stroke-miterlimit=\"10\" stroke-width=\"1.2\"/>\n",
       "  <path d=\"m36.848 135.79 1.5977 7.5703\" fill=\"none\" stroke=\"#f00\" stroke-miterlimit=\"10\" stroke-width=\"1.2\"/>\n",
       "  <path d=\"m157.1 172.18-7.8242 17.508\" fill=\"none\" stroke=\"#000\" stroke-miterlimit=\"10\" stroke-width=\"1.2\"/>\n",
       "  <path d=\"m232.25 139.92-14.273 12.812\" fill=\"none\" stroke=\"#000\" stroke-miterlimit=\"10\" stroke-width=\"1.2\"/>\n",
       "  <path d=\"m96.438 145.06-7.8242 17.512\" fill=\"none\" stroke=\"#000\" stroke-miterlimit=\"10\" stroke-width=\"1.2\"/>\n",
       "  <path d=\"m166.76 182.94-4.832-5.3828\" fill=\"none\" stroke=\"#00f\" stroke-miterlimit=\"10\" stroke-width=\"1.2\"/>\n",
       "  <path d=\"m161.93 177.55-4.832-5.3789\" fill=\"none\" stroke=\"#000\" stroke-miterlimit=\"10\" stroke-width=\"1.2\"/>\n",
       "  <path d=\"m42.645 147.35 7.8203 0.83203\" fill=\"none\" stroke=\"#f00\" stroke-miterlimit=\"10\" stroke-width=\"1.2\"/>\n",
       "  <path d=\"m50.465 148.18 7.8164 0.83203\" fill=\"none\" stroke=\"#000\" stroke-miterlimit=\"10\" stroke-width=\"1.2\"/>\n",
       "  <path d=\"m232.25 139.92 18.23 5.9531\" fill=\"none\" stroke=\"#000\" stroke-miterlimit=\"10\" stroke-width=\"1.2\"/>\n",
       " </g>\n",
       "</svg>"
      ],
      "text/plain": [
       "<IPython.core.display.SVG object>"
      ]
     },
     "metadata": {},
     "output_type": "display_data"
    }
   ],
   "source": [
    "ID = 230\n",
    "#positive: 70, 90\n",
    "#somewhat revealing: 60, 130\n",
    "#negative: 120, 210\n",
    "\n",
    "#positive 100, 140, 500, 800, 40, 90, 175/180, 225, 350\n",
    "#'negative' 20, 80, 160  (small molecules: 190)\n",
    "#somewhat revealing: 170, 200\n",
    "\n",
    "\"\"\"selected_matches = found_matches[ID][(found_matches[ID]['S2V_top_n']==1)\n",
    "                                  & (found_matches[ID]['S2V_similarity'] > 0.5)\n",
    "                                  & (found_matches[ID]['modcosine_score'] > 0.5)]\"\"\"\n",
    "\"\"\"selected_matches = found_matches[ID][((found_matches[ID]['mass_match_10ppm']==1)\n",
    "                                 & (found_matches[ID]['modcosine_score'] > 0.5))\n",
    "                                 | ((found_matches[ID]['S2V_top_n']==1)\n",
    "                                  & (found_matches[ID]['S2V_similarity'] > 0.6))]\"\"\"\n",
    "#selected_matches = found_matches[ID][(found_matches[ID]['S2V_top_n']==1)\n",
    "#                                  & ((found_matches[ID]['S2V_similarity']+found_matches[ID]['modcosine_score']) > 1.2)]\n",
    "selected_matches = found_matches[ID][(found_matches[ID]['S2V_top_n']==1)\n",
    "                                  & ((found_matches[ID]['S2V_similarity'] > 0.6)\n",
    "                                   | (found_matches[ID]['modcosine_score'] > 0.8))]\n",
    "\n",
    "\n",
    "match_IDs = selected_matches['spectra_ID'].values.tolist()\n",
    "match_S2V_scores = selected_matches['S2V_similarity'].values.tolist()\n",
    "match_modcos_scores = selected_matches['modcosine_score'].values.tolist()\n",
    "\n",
    "if len(match_IDs) > 0:\n",
    "    smiles = spectra_unknown[ID].smiles\n",
    "    \n",
    "    print(40 * '--')\n",
    "    print('QUERY SPECTRUM  ' + 32 * '--')\n",
    "    print(\"SMILES:\", smiles)\n",
    "    print(\"INCHIKEY:\", spectra_unknown[ID].inchikey)\n",
    "    print('--> MOLECULE:')\n",
    "    plot_molecule(smiles)\n",
    "    \n",
    "        \n",
    "    fingerprint_query, _ = MS_functions.get_mol_fingerprints([spectra_unknown[ID]], \n",
    "                                                                 method = \"daylight\", #morgan3\", \n",
    "                                                                 nBits = 2048,\n",
    "                                                                 print_progress = False)\n",
    "    fingerprint_matches, _ = MS_functions.get_mol_fingerprints([spectra_library[x] for x in match_IDs], \n",
    "                                                                 method = \"daylight\", #morgan3\",\n",
    "                                                                 nBits = 2048,\n",
    "                                                                 print_progress = False)\n",
    "    \n",
    "    # Calculate molecular similarities\n",
    "    Mtest = MS_sim_classic.mol_sim_matrix(fingerprint_query,\n",
    "                                           fingerprint_matches,\n",
    "                                           method = 'jaccard',\n",
    "                                           filename = None,\n",
    "                                           max_size = 1000,\n",
    "                                           print_progress = False)\n",
    "    \n",
    "    for i in np.array(match_modcos_scores).argsort()[::-1]:\n",
    "        matchID = match_IDs[i]\n",
    "        library_ID = library_spectra_metadata.iloc[matchID][0]\n",
    "        smiles = spectra[library_ID].smiles\n",
    "\n",
    "        print(40 * '--')\n",
    "        print('SUGGESTED SIMILAR SPECTRA ' + 27 * '--')\n",
    "        print(\"SMILES:\", smiles)\n",
    "        print(\"INCHIKEY:\", spectra[library_ID].inchikey)\n",
    "        print(\"--> Spec2Vec similarity score:\", match_S2V_scores[i])\n",
    "        print(\"--> Modified cosine score:\", match_modcos_scores[i])\n",
    "        print(\"With ground truth --> actual molecular similarity:\", Mtest[0][i])\n",
    "        print('--> MOLECULES:')\n",
    "        plot_molecule(smiles)\n",
    "else:\n",
    "    print('No matches found with given search criteria!')"
   ]
  },
  {
   "cell_type": "code",
   "execution_count": null,
   "metadata": {},
   "outputs": [],
   "source": []
  },
  {
   "cell_type": "code",
   "execution_count": null,
   "metadata": {},
   "outputs": [],
   "source": []
  },
  {
   "cell_type": "code",
   "execution_count": 38,
   "metadata": {},
   "outputs": [],
   "source": [
    "filename = \"draw_mols_temp.svg\"\n",
    "\n",
    "mol = Chem.MolFromSmiles(\"[H][C@]1(CC(/C=C/C)=CN21)C(O)NC3=C(O)C(C)=C(O[C@@H]4O[C@@H](C)[C@H](NC)[C@@](C)(O)[C@H]4O)C=C3C2=O\")\n",
    "\n",
    "#Draw.MolToMPL(mol, size=(100, 100), kekulize=True, wedgeBonds=True, imageType=None, fitImage=True)\n",
    "Draw.MolToFile(mol, filename)\n",
    "!scour -i draw_mols_temp.svg -o draw_mols_temp_corr.svg\n",
    "\n",
    "SVG(filename='draw_mols_temp_corr.svg')"
   ]
  },
  {
   "cell_type": "code",
   "execution_count": 29,
   "metadata": {},
   "outputs": [
    {
     "data": {
      "image/svg+xml": [
       "<?xml version=\"1.0\" encoding=\"iso-8859-1\"?>\r\n",
       "<svg:svg version=\"1.1\" baseProfile=\"full\"\r\n",
       "        xmlns:svg=\"http://www.w3.org/2000/svg\"\r\n",
       "        xmlns:xlink=\"http://www.w3.org/1999/xlink\"\r\n",
       "        xml:space=\"preserve\" width=\"300px\" height=\"300px\" >\r\n",
       "<svg:polygon fill=\"rgb(255,255,255)\" stroke=\"none\" stroke-width=\"0\" points=\"0.00,0.00 300.00,0.00 300.00,300.00 0.00,300.00 0.00,0.00\"></svg:polygon>\r\n",
       "<svg:g>  <svg:text font-family=\"helvetica\"   font-size=\"7.00\" fill=\"rgb(0,0,255)\" x=\"111.19\" y=\"140.68\">N</svg:text>\r\n",
       "</svg:g><svg:g>  <svg:text font-family=\"helvetica\"   font-size=\"7.00\" fill=\"rgb(255,0,0)\" x=\"67.89\" y=\"185.56\">HO</svg:text>\r\n",
       "</svg:g><svg:g>  <svg:text font-family=\"helvetica\"   font-size=\"7.00\" fill=\"rgb(0,0,255)\" x=\"110.38\" y=\"190.36\">NH</svg:text>\r\n",
       "</svg:g><svg:g>  <svg:text font-family=\"helvetica\"   font-size=\"7.00\" fill=\"rgb(255,0,0)\" x=\"128.91\" y=\"224.02\">HO</svg:text>\r\n",
       "</svg:g><svg:g>  <svg:text font-family=\"helvetica\"   font-size=\"7.00\" fill=\"rgb(255,0,0)\" x=\"198.04\" y=\"181.91\">O</svg:text>\r\n",
       "</svg:g><svg:g>  <svg:text font-family=\"helvetica\"   font-size=\"7.00\" fill=\"rgb(255,0,0)\" x=\"230.04\" y=\"160.85\">O</svg:text>\r\n",
       "</svg:g><svg:g>  <svg:text font-family=\"helvetica\"   font-size=\"7.00\" fill=\"rgb(0,0,255)\" x=\"237.91\" y=\"102.85\">NH</svg:text>\r\n",
       "</svg:g><svg:g>  <svg:text font-family=\"helvetica\"   font-size=\"7.00\" fill=\"rgb(255,0,0)\" x=\"208.38\" y=\"101.94\">OH</svg:text>\r\n",
       "</svg:g><svg:g>  <svg:text font-family=\"helvetica\"   font-size=\"7.00\" fill=\"rgb(255,0,0)\" x=\"168.57\" y=\"144.96\">HO</svg:text>\r\n",
       "</svg:g><svg:g>  <svg:text font-family=\"helvetica\"   font-size=\"7.00\" fill=\"rgb(255,0,0)\" x=\"146.53\" y=\"128.89\">O</svg:text>\r\n",
       "</svg:g><svg:line x1=\"96.20\" y1=\"149.98\" x2=\"96.20\" y2=\"149.98\" stroke=\"rgb(0,0,0)\" stroke-width=\"1\"></svg:line>\r\n",
       "<svg:line x1=\"93.26\" y1=\"147.27\" x2=\"92.61\" y2=\"148.23\" stroke=\"rgb(0,0,0)\" stroke-width=\"1\"></svg:line>\r\n",
       "<svg:line x1=\"90.33\" y1=\"144.55\" x2=\"89.01\" y2=\"146.48\" stroke=\"rgb(0,0,0)\" stroke-width=\"1\"></svg:line>\r\n",
       "<svg:line x1=\"87.39\" y1=\"141.84\" x2=\"85.42\" y2=\"144.72\" stroke=\"rgb(0,0,0)\" stroke-width=\"1\"></svg:line>\r\n",
       "<svg:line x1=\"84.45\" y1=\"139.13\" x2=\"81.82\" y2=\"142.97\" stroke=\"rgb(0,0,0)\" stroke-width=\"1\"></svg:line>\r\n",
       "<svg:line x1=\"81.51\" y1=\"136.41\" x2=\"78.23\" y2=\"141.22\" stroke=\"rgb(0,0,0)\" stroke-width=\"1\"></svg:line>\r\n",
       "<svg:line x1=\"79.78\" y1=\"134.82\" x2=\"76.11\" y2=\"140.19\" stroke=\"rgb(0,0,0)\" stroke-width=\"1\"></svg:line>\r\n",
       "<svg:line x1=\"77.95\" y1=\"137.50\" x2=\"84.18\" y2=\"116.28\" stroke=\"rgb(0,0,0)\" stroke-width=\"1\"></svg:line>\r\n",
       "<svg:line x1=\"84.18\" y1=\"116.28\" x2=\"70.67\" y2=\"98.77\" stroke=\"rgb(0,0,0)\" stroke-width=\"1\"></svg:line>\r\n",
       "<svg:line x1=\"70.67\" y1=\"98.77\" x2=\"48.75\" y2=\"101.71\" stroke=\"rgb(0,0,0)\" stroke-width=\"1\"></svg:line>\r\n",
       "<svg:line x1=\"67.90\" y1=\"94.77\" x2=\"50.37\" y2=\"97.12\" stroke=\"rgb(0,0,0)\" stroke-width=\"1\"></svg:line>\r\n",
       "<svg:line x1=\"48.75\" y1=\"101.71\" x2=\"35.25\" y2=\"84.20\" stroke=\"rgb(0,0,0)\" stroke-width=\"1\"></svg:line>\r\n",
       "<svg:line x1=\"84.18\" y1=\"116.28\" x2=\"106.28\" y2=\"115.65\" stroke=\"rgb(0,0,0)\" stroke-width=\"1\"></svg:line>\r\n",
       "<svg:line x1=\"86.51\" y1=\"120.56\" x2=\"104.19\" y2=\"120.05\" stroke=\"rgb(0,0,0)\" stroke-width=\"1\"></svg:line>\r\n",
       "<svg:line x1=\"106.28\" y1=\"115.65\" x2=\"108.95\" y2=\"123.12\" stroke=\"rgb(0,0,0)\" stroke-width=\"1\"></svg:line>\r\n",
       "<svg:line x1=\"108.95\" y1=\"123.12\" x2=\"111.61\" y2=\"130.60\" stroke=\"rgb(0,0,255)\" stroke-width=\"1\"></svg:line>\r\n",
       "<svg:line x1=\"96.20\" y1=\"149.98\" x2=\"95.84\" y2=\"172.09\" stroke=\"rgb(0,0,0)\" stroke-width=\"1\"></svg:line>\r\n",
       "<svg:line x1=\"95.84\" y1=\"172.09\" x2=\"87.96\" y2=\"175.73\" stroke=\"rgb(0,0,0)\" stroke-width=\"1\"></svg:line>\r\n",
       "<svg:line x1=\"87.96\" y1=\"175.73\" x2=\"80.07\" y2=\"179.37\" stroke=\"rgb(255,0,0)\" stroke-width=\"1\"></svg:line>\r\n",
       "<svg:line x1=\"95.84\" y1=\"172.09\" x2=\"102.27\" y2=\"177.39\" stroke=\"rgb(0,0,0)\" stroke-width=\"1\"></svg:line>\r\n",
       "<svg:line x1=\"102.27\" y1=\"177.39\" x2=\"108.70\" y2=\"182.69\" stroke=\"rgb(0,0,255)\" stroke-width=\"1\"></svg:line>\r\n",
       "<svg:line x1=\"122.17\" y1=\"184.20\" x2=\"128.35\" y2=\"182.90\" stroke=\"rgb(0,0,255)\" stroke-width=\"1\"></svg:line>\r\n",
       "<svg:line x1=\"128.35\" y1=\"182.90\" x2=\"134.54\" y2=\"181.59\" stroke=\"rgb(0,0,0)\" stroke-width=\"1\"></svg:line>\r\n",
       "<svg:line x1=\"134.54\" y1=\"181.59\" x2=\"146.70\" y2=\"200.06\" stroke=\"rgb(0,0,0)\" stroke-width=\"1\"></svg:line>\r\n",
       "<svg:line x1=\"139.38\" y1=\"181.05\" x2=\"149.11\" y2=\"195.83\" stroke=\"rgb(0,0,0)\" stroke-width=\"1\"></svg:line>\r\n",
       "<svg:line x1=\"146.70\" y1=\"200.06\" x2=\"143.22\" y2=\"207.00\" stroke=\"rgb(0,0,0)\" stroke-width=\"1\"></svg:line>\r\n",
       "<svg:line x1=\"143.22\" y1=\"207.00\" x2=\"139.73\" y2=\"213.94\" stroke=\"rgb(255,0,0)\" stroke-width=\"1\"></svg:line>\r\n",
       "<svg:line x1=\"146.70\" y1=\"200.06\" x2=\"168.77\" y2=\"198.76\" stroke=\"rgb(0,0,0)\" stroke-width=\"1\"></svg:line>\r\n",
       "<svg:line x1=\"168.77\" y1=\"198.76\" x2=\"180.93\" y2=\"217.23\" stroke=\"rgb(0,0,0)\" stroke-width=\"1\"></svg:line>\r\n",
       "<svg:line x1=\"168.77\" y1=\"198.76\" x2=\"178.69\" y2=\"179.00\" stroke=\"rgb(0,0,0)\" stroke-width=\"1\"></svg:line>\r\n",
       "<svg:line x1=\"165.89\" y1=\"194.84\" x2=\"173.82\" y2=\"179.03\" stroke=\"rgb(0,0,0)\" stroke-width=\"1\"></svg:line>\r\n",
       "<svg:line x1=\"178.69\" y1=\"179.00\" x2=\"187.53\" y2=\"178.48\" stroke=\"rgb(0,0,0)\" stroke-width=\"1\"></svg:line>\r\n",
       "<svg:line x1=\"187.53\" y1=\"178.48\" x2=\"196.36\" y2=\"177.96\" stroke=\"rgb(255,0,0)\" stroke-width=\"1\"></svg:line>\r\n",
       "<svg:polygon fill=\"rgb(0,0,0)\" stroke=\"none\" stroke-width=\"0\" points=\"210.68,157.94 200.81,170.37 206.62,173.28 210.68,157.94\"></svg:polygon>\r\n",
       "<svg:line x1=\"210.68\" y1=\"157.94\" x2=\"219.52\" y2=\"157.42\" stroke=\"rgb(0,0,0)\" stroke-width=\"1\"></svg:line>\r\n",
       "<svg:line x1=\"219.52\" y1=\"157.42\" x2=\"228.36\" y2=\"156.90\" stroke=\"rgb(255,0,0)\" stroke-width=\"1\"></svg:line>\r\n",
       "<svg:line x1=\"235.71\" y1=\"150.77\" x2=\"239.19\" y2=\"143.82\" stroke=\"rgb(255,0,0)\" stroke-width=\"1\"></svg:line>\r\n",
       "<svg:line x1=\"239.19\" y1=\"143.82\" x2=\"242.67\" y2=\"136.88\" stroke=\"rgb(0,0,0)\" stroke-width=\"1\"></svg:line>\r\n",
       "<svg:line x1=\"242.67\" y1=\"136.88\" x2=\"242.67\" y2=\"136.88\" stroke=\"rgb(0,0,0)\" stroke-width=\"1\"></svg:line>\r\n",
       "<svg:line x1=\"246.66\" y1=\"137.23\" x2=\"246.59\" y2=\"136.07\" stroke=\"rgb(0,0,0)\" stroke-width=\"1\"></svg:line>\r\n",
       "<svg:line x1=\"250.64\" y1=\"137.58\" x2=\"250.51\" y2=\"135.26\" stroke=\"rgb(0,0,0)\" stroke-width=\"1\"></svg:line>\r\n",
       "<svg:line x1=\"254.63\" y1=\"137.93\" x2=\"254.42\" y2=\"134.44\" stroke=\"rgb(0,0,0)\" stroke-width=\"1\"></svg:line>\r\n",
       "<svg:line x1=\"258.61\" y1=\"138.28\" x2=\"258.34\" y2=\"133.63\" stroke=\"rgb(0,0,0)\" stroke-width=\"1\"></svg:line>\r\n",
       "<svg:line x1=\"262.60\" y1=\"138.63\" x2=\"262.26\" y2=\"132.82\" stroke=\"rgb(0,0,0)\" stroke-width=\"1\"></svg:line>\r\n",
       "<svg:line x1=\"264.94\" y1=\"138.83\" x2=\"264.56\" y2=\"132.34\" stroke=\"rgb(0,0,0)\" stroke-width=\"1\"></svg:line>\r\n",
       "<svg:line x1=\"242.67\" y1=\"136.88\" x2=\"230.52\" y2=\"118.41\" stroke=\"rgb(0,0,0)\" stroke-width=\"1\"></svg:line>\r\n",
       "<svg:polygon fill=\"rgb(0,0,0)\" stroke=\"none\" stroke-width=\"0\" points=\"230.52,118.41 240.39,105.99 234.58,103.07 230.52,118.41\"></svg:polygon>\r\n",
       "<svg:line x1=\"236.56\" y1=\"92.77\" x2=\"232.42\" y2=\"86.47\" stroke=\"rgb(0,0,255)\" stroke-width=\"1\"></svg:line>\r\n",
       "<svg:line x1=\"232.42\" y1=\"86.47\" x2=\"228.27\" y2=\"80.18\" stroke=\"rgb(0,0,0)\" stroke-width=\"1\"></svg:line>\r\n",
       "<svg:line x1=\"230.52\" y1=\"118.41\" x2=\"208.44\" y2=\"119.71\" stroke=\"rgb(0,0,0)\" stroke-width=\"1\"></svg:line>\r\n",
       "<svg:polygon fill=\"rgb(0,0,0)\" stroke=\"none\" stroke-width=\"0\" points=\"208.44,119.71 188.19,110.26 186.32,116.49 208.44,119.71\"></svg:polygon>\r\n",
       "<svg:line x1=\"208.44\" y1=\"119.71\" x2=\"209.38\" y2=\"111.66\" stroke=\"rgb(0,0,0)\" stroke-width=\"1\"></svg:line>\r\n",
       "<svg:line x1=\"209.38\" y1=\"111.66\" x2=\"210.32\" y2=\"103.62\" stroke=\"rgb(255,0,0)\" stroke-width=\"1\"></svg:line>\r\n",
       "<svg:line x1=\"208.44\" y1=\"119.71\" x2=\"198.52\" y2=\"139.47\" stroke=\"rgb(0,0,0)\" stroke-width=\"1\"></svg:line>\r\n",
       "<svg:line x1=\"198.52\" y1=\"139.47\" x2=\"198.52\" y2=\"139.47\" stroke=\"rgb(0,0,0)\" stroke-width=\"1\"></svg:line>\r\n",
       "<svg:line x1=\"194.55\" y1=\"138.98\" x2=\"194.64\" y2=\"140.42\" stroke=\"rgb(0,0,0)\" stroke-width=\"1\"></svg:line>\r\n",
       "<svg:line x1=\"190.58\" y1=\"138.50\" x2=\"190.75\" y2=\"141.37\" stroke=\"rgb(0,0,0)\" stroke-width=\"1\"></svg:line>\r\n",
       "<svg:line x1=\"186.61\" y1=\"138.01\" x2=\"186.87\" y2=\"142.31\" stroke=\"rgb(0,0,0)\" stroke-width=\"1\"></svg:line>\r\n",
       "<svg:line x1=\"182.64\" y1=\"137.52\" x2=\"182.98\" y2=\"143.26\" stroke=\"rgb(0,0,0)\" stroke-width=\"1\"></svg:line>\r\n",
       "<svg:line x1=\"180.56\" y1=\"137.27\" x2=\"180.95\" y2=\"143.76\" stroke=\"rgb(0,0,0)\" stroke-width=\"1\"></svg:line>\r\n",
       "<svg:line x1=\"178.69\" y1=\"179.00\" x2=\"166.53\" y2=\"160.53\" stroke=\"rgb(0,0,0)\" stroke-width=\"1\"></svg:line>\r\n",
       "<svg:line x1=\"166.53\" y1=\"160.53\" x2=\"144.46\" y2=\"161.82\" stroke=\"rgb(0,0,0)\" stroke-width=\"1\"></svg:line>\r\n",
       "<svg:line x1=\"164.58\" y1=\"164.99\" x2=\"146.92\" y2=\"166.02\" stroke=\"rgb(0,0,0)\" stroke-width=\"1\"></svg:line>\r\n",
       "<svg:line x1=\"144.46\" y1=\"161.82\" x2=\"135.19\" y2=\"141.75\" stroke=\"rgb(0,0,0)\" stroke-width=\"1\"></svg:line>\r\n",
       "<svg:line x1=\"136.86\" y1=\"143.13\" x2=\"141.69\" y2=\"137.27\" stroke=\"rgb(0,0,0)\" stroke-width=\"1\"></svg:line>\r\n",
       "<svg:line x1=\"141.69\" y1=\"137.27\" x2=\"146.52\" y2=\"131.41\" stroke=\"rgb(255,0,0)\" stroke-width=\"1\"></svg:line>\r\n",
       "<svg:line x1=\"133.52\" y1=\"140.37\" x2=\"138.35\" y2=\"134.51\" stroke=\"rgb(0,0,0)\" stroke-width=\"1\"></svg:line>\r\n",
       "<svg:line x1=\"138.35\" y1=\"134.51\" x2=\"143.18\" y2=\"128.65\" stroke=\"rgb(255,0,0)\" stroke-width=\"1\"></svg:line>\r\n",
       "<svg:line x1=\"109.51\" y1=\"139.72\" x2=\"102.85\" y2=\"144.85\" stroke=\"rgb(0,0,255)\" stroke-width=\"1\"></svg:line>\r\n",
       "<svg:line x1=\"102.85\" y1=\"144.85\" x2=\"96.20\" y2=\"149.98\" stroke=\"rgb(0,0,0)\" stroke-width=\"1\"></svg:line>\r\n",
       "<svg:line x1=\"135.19\" y1=\"141.75\" x2=\"126.55\" y2=\"139.63\" stroke=\"rgb(0,0,0)\" stroke-width=\"1\"></svg:line>\r\n",
       "<svg:line x1=\"126.55\" y1=\"139.63\" x2=\"117.92\" y2=\"137.51\" stroke=\"rgb(0,0,255)\" stroke-width=\"1\"></svg:line>\r\n",
       "<svg:line x1=\"144.46\" y1=\"161.82\" x2=\"134.54\" y2=\"181.59\" stroke=\"rgb(0,0,0)\" stroke-width=\"1\"></svg:line>\r\n",
       "<svg:line x1=\"198.52\" y1=\"139.47\" x2=\"210.68\" y2=\"157.94\" stroke=\"rgb(0,0,0)\" stroke-width=\"1\"></svg:line>\r\n",
       "</svg:svg>"
      ],
      "text/plain": [
       "<IPython.core.display.SVG object>"
      ]
     },
     "execution_count": 29,
     "metadata": {},
     "output_type": "execute_result"
    }
   ],
   "source": [
    "from IPython.core.display import SVG\n",
    "SVG(filename=PATH_OUTPUT + \"draw_mols.svg\")"
   ]
  },
  {
   "cell_type": "code",
   "execution_count": 19,
   "metadata": {
    "scrolled": true
   },
   "outputs": [
    {
     "data": {
      "image/svg+xml": [
       "<?xml version=\"1.0\" encoding=\"iso-8859-1\"?>\r\n",
       "<svg:svg version=\"1.1\" baseProfile=\"full\"\r\n",
       "        xmlns:svg=\"http://www.w3.org/2000/svg\"\r\n",
       "        xmlns:xlink=\"http://www.w3.org/1999/xlink\"\r\n",
       "        xml:space=\"preserve\" width=\"300px\" height=\"300px\" >\r\n",
       "<svg:polygon fill=\"rgb(255,255,255)\" stroke=\"none\" stroke-width=\"0\" points=\"0.00,0.00 300.00,0.00 300.00,300.00 0.00,300.00 0.00,0.00\"></svg:polygon>\r\n",
       "<svg:g>  <svg:text font-family=\"helvetica\"   font-size=\"7.00\" fill=\"rgb(0,0,255)\" x=\"111.19\" y=\"140.68\">N</svg:text>\r\n",
       "</svg:g><svg:g>  <svg:text font-family=\"helvetica\"   font-size=\"7.00\" fill=\"rgb(255,0,0)\" x=\"67.89\" y=\"185.56\">HO</svg:text>\r\n",
       "</svg:g><svg:g>  <svg:text font-family=\"helvetica\"   font-size=\"7.00\" fill=\"rgb(0,0,255)\" x=\"110.38\" y=\"190.36\">NH</svg:text>\r\n",
       "</svg:g><svg:g>  <svg:text font-family=\"helvetica\"   font-size=\"7.00\" fill=\"rgb(255,0,0)\" x=\"128.91\" y=\"224.02\">HO</svg:text>\r\n",
       "</svg:g><svg:g>  <svg:text font-family=\"helvetica\"   font-size=\"7.00\" fill=\"rgb(255,0,0)\" x=\"198.04\" y=\"181.91\">O</svg:text>\r\n",
       "</svg:g><svg:g>  <svg:text font-family=\"helvetica\"   font-size=\"7.00\" fill=\"rgb(255,0,0)\" x=\"230.04\" y=\"160.85\">O</svg:text>\r\n",
       "</svg:g><svg:g>  <svg:text font-family=\"helvetica\"   font-size=\"7.00\" fill=\"rgb(0,0,255)\" x=\"237.91\" y=\"102.85\">NH</svg:text>\r\n",
       "</svg:g><svg:g>  <svg:text font-family=\"helvetica\"   font-size=\"7.00\" fill=\"rgb(255,0,0)\" x=\"208.38\" y=\"101.94\">OH</svg:text>\r\n",
       "</svg:g><svg:g>  <svg:text font-family=\"helvetica\"   font-size=\"7.00\" fill=\"rgb(255,0,0)\" x=\"168.57\" y=\"144.96\">HO</svg:text>\r\n",
       "</svg:g><svg:g>  <svg:text font-family=\"helvetica\"   font-size=\"7.00\" fill=\"rgb(255,0,0)\" x=\"146.53\" y=\"128.89\">O</svg:text>\r\n",
       "</svg:g><svg:line x1=\"96.20\" y1=\"149.98\" x2=\"96.20\" y2=\"149.98\" stroke=\"rgb(0,0,0)\" stroke-width=\"1\"></svg:line>\r\n",
       "<svg:line x1=\"93.26\" y1=\"147.27\" x2=\"92.61\" y2=\"148.23\" stroke=\"rgb(0,0,0)\" stroke-width=\"1\"></svg:line>\r\n",
       "<svg:line x1=\"90.33\" y1=\"144.55\" x2=\"89.01\" y2=\"146.48\" stroke=\"rgb(0,0,0)\" stroke-width=\"1\"></svg:line>\r\n",
       "<svg:line x1=\"87.39\" y1=\"141.84\" x2=\"85.42\" y2=\"144.72\" stroke=\"rgb(0,0,0)\" stroke-width=\"1\"></svg:line>\r\n",
       "<svg:line x1=\"84.45\" y1=\"139.13\" x2=\"81.82\" y2=\"142.97\" stroke=\"rgb(0,0,0)\" stroke-width=\"1\"></svg:line>\r\n",
       "<svg:line x1=\"81.51\" y1=\"136.41\" x2=\"78.23\" y2=\"141.22\" stroke=\"rgb(0,0,0)\" stroke-width=\"1\"></svg:line>\r\n",
       "<svg:line x1=\"79.78\" y1=\"134.82\" x2=\"76.11\" y2=\"140.19\" stroke=\"rgb(0,0,0)\" stroke-width=\"1\"></svg:line>\r\n",
       "<svg:line x1=\"77.95\" y1=\"137.50\" x2=\"84.18\" y2=\"116.28\" stroke=\"rgb(0,0,0)\" stroke-width=\"1\"></svg:line>\r\n",
       "<svg:line x1=\"84.18\" y1=\"116.28\" x2=\"70.67\" y2=\"98.77\" stroke=\"rgb(0,0,0)\" stroke-width=\"1\"></svg:line>\r\n",
       "<svg:line x1=\"70.67\" y1=\"98.77\" x2=\"48.75\" y2=\"101.71\" stroke=\"rgb(0,0,0)\" stroke-width=\"1\"></svg:line>\r\n",
       "<svg:line x1=\"67.90\" y1=\"94.77\" x2=\"50.37\" y2=\"97.12\" stroke=\"rgb(0,0,0)\" stroke-width=\"1\"></svg:line>\r\n",
       "<svg:line x1=\"48.75\" y1=\"101.71\" x2=\"35.25\" y2=\"84.20\" stroke=\"rgb(0,0,0)\" stroke-width=\"1\"></svg:line>\r\n",
       "<svg:line x1=\"84.18\" y1=\"116.28\" x2=\"106.28\" y2=\"115.65\" stroke=\"rgb(0,0,0)\" stroke-width=\"1\"></svg:line>\r\n",
       "<svg:line x1=\"86.51\" y1=\"120.56\" x2=\"104.19\" y2=\"120.05\" stroke=\"rgb(0,0,0)\" stroke-width=\"1\"></svg:line>\r\n",
       "<svg:line x1=\"106.28\" y1=\"115.65\" x2=\"108.95\" y2=\"123.12\" stroke=\"rgb(0,0,0)\" stroke-width=\"1\"></svg:line>\r\n",
       "<svg:line x1=\"108.95\" y1=\"123.12\" x2=\"111.61\" y2=\"130.60\" stroke=\"rgb(0,0,255)\" stroke-width=\"1\"></svg:line>\r\n",
       "<svg:line x1=\"96.20\" y1=\"149.98\" x2=\"95.84\" y2=\"172.09\" stroke=\"rgb(0,0,0)\" stroke-width=\"1\"></svg:line>\r\n",
       "<svg:line x1=\"95.84\" y1=\"172.09\" x2=\"87.96\" y2=\"175.73\" stroke=\"rgb(0,0,0)\" stroke-width=\"1\"></svg:line>\r\n",
       "<svg:line x1=\"87.96\" y1=\"175.73\" x2=\"80.07\" y2=\"179.37\" stroke=\"rgb(255,0,0)\" stroke-width=\"1\"></svg:line>\r\n",
       "<svg:line x1=\"95.84\" y1=\"172.09\" x2=\"102.27\" y2=\"177.39\" stroke=\"rgb(0,0,0)\" stroke-width=\"1\"></svg:line>\r\n",
       "<svg:line x1=\"102.27\" y1=\"177.39\" x2=\"108.70\" y2=\"182.69\" stroke=\"rgb(0,0,255)\" stroke-width=\"1\"></svg:line>\r\n",
       "<svg:line x1=\"122.17\" y1=\"184.20\" x2=\"128.35\" y2=\"182.90\" stroke=\"rgb(0,0,255)\" stroke-width=\"1\"></svg:line>\r\n",
       "<svg:line x1=\"128.35\" y1=\"182.90\" x2=\"134.54\" y2=\"181.59\" stroke=\"rgb(0,0,0)\" stroke-width=\"1\"></svg:line>\r\n",
       "<svg:line x1=\"134.54\" y1=\"181.59\" x2=\"146.70\" y2=\"200.06\" stroke=\"rgb(0,0,0)\" stroke-width=\"1\"></svg:line>\r\n",
       "<svg:line x1=\"139.38\" y1=\"181.05\" x2=\"149.11\" y2=\"195.83\" stroke=\"rgb(0,0,0)\" stroke-width=\"1\"></svg:line>\r\n",
       "<svg:line x1=\"146.70\" y1=\"200.06\" x2=\"143.22\" y2=\"207.00\" stroke=\"rgb(0,0,0)\" stroke-width=\"1\"></svg:line>\r\n",
       "<svg:line x1=\"143.22\" y1=\"207.00\" x2=\"139.73\" y2=\"213.94\" stroke=\"rgb(255,0,0)\" stroke-width=\"1\"></svg:line>\r\n",
       "<svg:line x1=\"146.70\" y1=\"200.06\" x2=\"168.77\" y2=\"198.76\" stroke=\"rgb(0,0,0)\" stroke-width=\"1\"></svg:line>\r\n",
       "<svg:line x1=\"168.77\" y1=\"198.76\" x2=\"180.93\" y2=\"217.23\" stroke=\"rgb(0,0,0)\" stroke-width=\"1\"></svg:line>\r\n",
       "<svg:line x1=\"168.77\" y1=\"198.76\" x2=\"178.69\" y2=\"179.00\" stroke=\"rgb(0,0,0)\" stroke-width=\"1\"></svg:line>\r\n",
       "<svg:line x1=\"165.89\" y1=\"194.84\" x2=\"173.82\" y2=\"179.03\" stroke=\"rgb(0,0,0)\" stroke-width=\"1\"></svg:line>\r\n",
       "<svg:line x1=\"178.69\" y1=\"179.00\" x2=\"187.53\" y2=\"178.48\" stroke=\"rgb(0,0,0)\" stroke-width=\"1\"></svg:line>\r\n",
       "<svg:line x1=\"187.53\" y1=\"178.48\" x2=\"196.36\" y2=\"177.96\" stroke=\"rgb(255,0,0)\" stroke-width=\"1\"></svg:line>\r\n",
       "<svg:polygon fill=\"rgb(0,0,0)\" stroke=\"none\" stroke-width=\"0\" points=\"210.68,157.94 200.81,170.37 206.62,173.28 210.68,157.94\"></svg:polygon>\r\n",
       "<svg:line x1=\"210.68\" y1=\"157.94\" x2=\"219.52\" y2=\"157.42\" stroke=\"rgb(0,0,0)\" stroke-width=\"1\"></svg:line>\r\n",
       "<svg:line x1=\"219.52\" y1=\"157.42\" x2=\"228.36\" y2=\"156.90\" stroke=\"rgb(255,0,0)\" stroke-width=\"1\"></svg:line>\r\n",
       "<svg:line x1=\"235.71\" y1=\"150.77\" x2=\"239.19\" y2=\"143.82\" stroke=\"rgb(255,0,0)\" stroke-width=\"1\"></svg:line>\r\n",
       "<svg:line x1=\"239.19\" y1=\"143.82\" x2=\"242.67\" y2=\"136.88\" stroke=\"rgb(0,0,0)\" stroke-width=\"1\"></svg:line>\r\n",
       "<svg:line x1=\"242.67\" y1=\"136.88\" x2=\"242.67\" y2=\"136.88\" stroke=\"rgb(0,0,0)\" stroke-width=\"1\"></svg:line>\r\n",
       "<svg:line x1=\"246.66\" y1=\"137.23\" x2=\"246.59\" y2=\"136.07\" stroke=\"rgb(0,0,0)\" stroke-width=\"1\"></svg:line>\r\n",
       "<svg:line x1=\"250.64\" y1=\"137.58\" x2=\"250.51\" y2=\"135.26\" stroke=\"rgb(0,0,0)\" stroke-width=\"1\"></svg:line>\r\n",
       "<svg:line x1=\"254.63\" y1=\"137.93\" x2=\"254.42\" y2=\"134.44\" stroke=\"rgb(0,0,0)\" stroke-width=\"1\"></svg:line>\r\n",
       "<svg:line x1=\"258.61\" y1=\"138.28\" x2=\"258.34\" y2=\"133.63\" stroke=\"rgb(0,0,0)\" stroke-width=\"1\"></svg:line>\r\n",
       "<svg:line x1=\"262.60\" y1=\"138.63\" x2=\"262.26\" y2=\"132.82\" stroke=\"rgb(0,0,0)\" stroke-width=\"1\"></svg:line>\r\n",
       "<svg:line x1=\"264.94\" y1=\"138.83\" x2=\"264.56\" y2=\"132.34\" stroke=\"rgb(0,0,0)\" stroke-width=\"1\"></svg:line>\r\n",
       "<svg:line x1=\"242.67\" y1=\"136.88\" x2=\"230.52\" y2=\"118.41\" stroke=\"rgb(0,0,0)\" stroke-width=\"1\"></svg:line>\r\n",
       "<svg:polygon fill=\"rgb(0,0,0)\" stroke=\"none\" stroke-width=\"0\" points=\"230.52,118.41 240.39,105.99 234.58,103.07 230.52,118.41\"></svg:polygon>\r\n",
       "<svg:line x1=\"236.56\" y1=\"92.77\" x2=\"232.42\" y2=\"86.47\" stroke=\"rgb(0,0,255)\" stroke-width=\"1\"></svg:line>\r\n",
       "<svg:line x1=\"232.42\" y1=\"86.47\" x2=\"228.27\" y2=\"80.18\" stroke=\"rgb(0,0,0)\" stroke-width=\"1\"></svg:line>\r\n",
       "<svg:line x1=\"230.52\" y1=\"118.41\" x2=\"208.44\" y2=\"119.71\" stroke=\"rgb(0,0,0)\" stroke-width=\"1\"></svg:line>\r\n",
       "<svg:polygon fill=\"rgb(0,0,0)\" stroke=\"none\" stroke-width=\"0\" points=\"208.44,119.71 188.19,110.26 186.32,116.49 208.44,119.71\"></svg:polygon>\r\n",
       "<svg:line x1=\"208.44\" y1=\"119.71\" x2=\"209.38\" y2=\"111.66\" stroke=\"rgb(0,0,0)\" stroke-width=\"1\"></svg:line>\r\n",
       "<svg:line x1=\"209.38\" y1=\"111.66\" x2=\"210.32\" y2=\"103.62\" stroke=\"rgb(255,0,0)\" stroke-width=\"1\"></svg:line>\r\n",
       "<svg:line x1=\"208.44\" y1=\"119.71\" x2=\"198.52\" y2=\"139.47\" stroke=\"rgb(0,0,0)\" stroke-width=\"1\"></svg:line>\r\n",
       "<svg:line x1=\"198.52\" y1=\"139.47\" x2=\"198.52\" y2=\"139.47\" stroke=\"rgb(0,0,0)\" stroke-width=\"1\"></svg:line>\r\n",
       "<svg:line x1=\"194.55\" y1=\"138.98\" x2=\"194.64\" y2=\"140.42\" stroke=\"rgb(0,0,0)\" stroke-width=\"1\"></svg:line>\r\n",
       "<svg:line x1=\"190.58\" y1=\"138.50\" x2=\"190.75\" y2=\"141.37\" stroke=\"rgb(0,0,0)\" stroke-width=\"1\"></svg:line>\r\n",
       "<svg:line x1=\"186.61\" y1=\"138.01\" x2=\"186.87\" y2=\"142.31\" stroke=\"rgb(0,0,0)\" stroke-width=\"1\"></svg:line>\r\n",
       "<svg:line x1=\"182.64\" y1=\"137.52\" x2=\"182.98\" y2=\"143.26\" stroke=\"rgb(0,0,0)\" stroke-width=\"1\"></svg:line>\r\n",
       "<svg:line x1=\"180.56\" y1=\"137.27\" x2=\"180.95\" y2=\"143.76\" stroke=\"rgb(0,0,0)\" stroke-width=\"1\"></svg:line>\r\n",
       "<svg:line x1=\"178.69\" y1=\"179.00\" x2=\"166.53\" y2=\"160.53\" stroke=\"rgb(0,0,0)\" stroke-width=\"1\"></svg:line>\r\n",
       "<svg:line x1=\"166.53\" y1=\"160.53\" x2=\"144.46\" y2=\"161.82\" stroke=\"rgb(0,0,0)\" stroke-width=\"1\"></svg:line>\r\n",
       "<svg:line x1=\"164.58\" y1=\"164.99\" x2=\"146.92\" y2=\"166.02\" stroke=\"rgb(0,0,0)\" stroke-width=\"1\"></svg:line>\r\n",
       "<svg:line x1=\"144.46\" y1=\"161.82\" x2=\"135.19\" y2=\"141.75\" stroke=\"rgb(0,0,0)\" stroke-width=\"1\"></svg:line>\r\n",
       "<svg:line x1=\"136.86\" y1=\"143.13\" x2=\"141.69\" y2=\"137.27\" stroke=\"rgb(0,0,0)\" stroke-width=\"1\"></svg:line>\r\n",
       "<svg:line x1=\"141.69\" y1=\"137.27\" x2=\"146.52\" y2=\"131.41\" stroke=\"rgb(255,0,0)\" stroke-width=\"1\"></svg:line>\r\n",
       "<svg:line x1=\"133.52\" y1=\"140.37\" x2=\"138.35\" y2=\"134.51\" stroke=\"rgb(0,0,0)\" stroke-width=\"1\"></svg:line>\r\n",
       "<svg:line x1=\"138.35\" y1=\"134.51\" x2=\"143.18\" y2=\"128.65\" stroke=\"rgb(255,0,0)\" stroke-width=\"1\"></svg:line>\r\n",
       "<svg:line x1=\"109.51\" y1=\"139.72\" x2=\"102.85\" y2=\"144.85\" stroke=\"rgb(0,0,255)\" stroke-width=\"1\"></svg:line>\r\n",
       "<svg:line x1=\"102.85\" y1=\"144.85\" x2=\"96.20\" y2=\"149.98\" stroke=\"rgb(0,0,0)\" stroke-width=\"1\"></svg:line>\r\n",
       "<svg:line x1=\"135.19\" y1=\"141.75\" x2=\"126.55\" y2=\"139.63\" stroke=\"rgb(0,0,0)\" stroke-width=\"1\"></svg:line>\r\n",
       "<svg:line x1=\"126.55\" y1=\"139.63\" x2=\"117.92\" y2=\"137.51\" stroke=\"rgb(0,0,255)\" stroke-width=\"1\"></svg:line>\r\n",
       "<svg:line x1=\"144.46\" y1=\"161.82\" x2=\"134.54\" y2=\"181.59\" stroke=\"rgb(0,0,0)\" stroke-width=\"1\"></svg:line>\r\n",
       "<svg:line x1=\"198.52\" y1=\"139.47\" x2=\"210.68\" y2=\"157.94\" stroke=\"rgb(0,0,0)\" stroke-width=\"1\"></svg:line>\r\n",
       "</svg:svg>"
      ],
      "text/plain": [
       "<IPython.core.display.SVG object>"
      ]
     },
     "metadata": {},
     "output_type": "display_data"
    }
   ],
   "source": [
    "from IPython.display import SVG, display\n",
    "def show_svg(file):\n",
    "    display(SVG(filename = file))\n",
    "    \n",
    "show_svg(filename)"
   ]
  },
  {
   "cell_type": "code",
   "execution_count": null,
   "metadata": {},
   "outputs": [],
   "source": []
  },
  {
   "cell_type": "markdown",
   "metadata": {},
   "source": [
    "## Quick test about merging fingerprints... probably won't work"
   ]
  },
  {
   "cell_type": "code",
   "execution_count": 126,
   "metadata": {},
   "outputs": [
    {
     "data": {
      "text/plain": [
       "[377, 85, 85, 85, 255, 255, 169, 169]"
      ]
     },
     "execution_count": 126,
     "metadata": {},
     "output_type": "execute_result"
    }
   ],
   "source": [
    "[np.sum(x) for x in fingerprint_matches]"
   ]
  },
  {
   "cell_type": "code",
   "execution_count": 141,
   "metadata": {},
   "outputs": [
    {
     "data": {
      "text/plain": [
       "array([0.3, 0.4, 0.2, 0.3, 0. , 0.6, 0.1, 0.3, 0.4, 0.3, 0.2, 0.3, 0.6,\n",
       "       0. , 0. , 0.2, 0.2, 0.1, 0.1, 0.2, 0.1, 0. , 0.1, 0.2, 0.8, 0.3,\n",
       "       0.1, 0.3, 0.3, 0.2, 0.2, 0. , 0.3, 0. , 0. , 0.4, 0. , 0.1, 0.2,\n",
       "       0.2, 0.2, 0.5, 0.1, 0.1, 0.2, 0. , 0.2, 0.5, 0.2, 0.3, 0.4, 0. ,\n",
       "       0.2, 0.1, 0.1, 0. , 0.4, 0. , 0.6, 0.4, 0. , 0.2, 0.2, 0.2, 0.3,\n",
       "       0.2, 0.5, 0.2, 0.5, 0.4, 0.2, 0.4, 0.3, 0. , 0. , 0.3, 0.1, 0.2,\n",
       "       0. , 0.4])"
      ]
     },
     "execution_count": 141,
     "metadata": {},
     "output_type": "execute_result"
    }
   ],
   "source": [
    "fingerprint_merged = np.mean(fingerprint_matches, axis =0)\n",
    "fingerprint_merged[:80]"
   ]
  },
  {
   "cell_type": "code",
   "execution_count": 142,
   "metadata": {},
   "outputs": [
    {
     "data": {
      "text/plain": [
       "[1380, 803, 503, 251]"
      ]
     },
     "execution_count": 142,
     "metadata": {},
     "output_type": "execute_result"
    }
   ],
   "source": [
    "[np.sum(fingerprint_merged>x) for x in [0.1, 0.2, 0.3, 0.4]]"
   ]
  },
  {
   "cell_type": "code",
   "execution_count": 143,
   "metadata": {},
   "outputs": [
    {
     "data": {
      "text/plain": [
       "0.2946666666666667"
      ]
     },
     "execution_count": 143,
     "metadata": {},
     "output_type": "execute_result"
    }
   ],
   "source": [
    "np.mean(fingerprint_merged[fingerprint_merged>0])"
   ]
  },
  {
   "cell_type": "code",
   "execution_count": 148,
   "metadata": {},
   "outputs": [
    {
     "data": {
      "text/plain": [
       "array([1, 1, 0, 1, 0, 1, 0, 1, 1, 1, 0, 1, 1, 0, 0, 0, 0, 0, 0, 0, 0, 0,\n",
       "       0, 0, 1, 1, 0, 1, 1, 0, 0, 0, 1, 0, 0, 1, 0, 0, 0, 0, 0, 1, 0, 0,\n",
       "       0, 0, 0, 1, 0, 1, 1, 0, 0, 0, 0, 0, 1, 0, 1, 1, 0, 0, 0, 0, 1, 0,\n",
       "       1, 0, 1, 1, 0, 1, 1, 0, 0, 1, 0, 0, 0, 1])"
      ]
     },
     "execution_count": 148,
     "metadata": {},
     "output_type": "execute_result"
    }
   ],
   "source": [
    "fingerprint_merged_bit = 1*(fingerprint_merged > 0.2)\n",
    "fingerprint_merged_bit[:80]"
   ]
  },
  {
   "cell_type": "code",
   "execution_count": 149,
   "metadata": {},
   "outputs": [
    {
     "data": {
      "text/plain": [
       "array([[0.15462869, 0.15432649]])"
      ]
     },
     "execution_count": 149,
     "metadata": {},
     "output_type": "execute_result"
    }
   ],
   "source": [
    "MS_sim_classic.mol_sim_matrix(fingerprint_query,\n",
    "                                           [fingerprint_merged_bit, fingerprint_matches[0]],\n",
    "                                           method = 'jaccard',\n",
    "                                           filename = None,\n",
    "                                           max_size = 1000,\n",
    "                                           print_progress = False)"
   ]
  }
 ],
 "metadata": {
  "kernelspec": {
   "display_name": "Python 3",
   "language": "python",
   "name": "python3"
  },
  "language_info": {
   "codemirror_mode": {
    "name": "ipython",
    "version": 3
   },
   "file_extension": ".py",
   "mimetype": "text/x-python",
   "name": "python",
   "nbconvert_exporter": "python",
   "pygments_lexer": "ipython3",
   "version": "3.6.10"
  }
 },
 "nbformat": 4,
 "nbformat_minor": 2
}
